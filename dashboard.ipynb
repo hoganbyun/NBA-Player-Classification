{
 "cells": [
  {
   "cell_type": "code",
   "execution_count": 1,
   "metadata": {},
   "outputs": [],
   "source": [
    "import dash\n",
    "import dash_core_components as dcc\n",
    "import dash_html_components as html\n",
    "import pandas as pd\n",
    "import plotly.graph_objs as go\n",
    "from dash.dependencies import Input, Output\n",
    "from xgboost import XGBClassifier\n",
    "import pickle"
   ]
  },
  {
   "cell_type": "code",
   "execution_count": 3,
   "metadata": {},
   "outputs": [],
   "source": [
    "app = dash.Dash()\n",
    "server = app.server"
   ]
  },
  {
   "cell_type": "code",
   "execution_count": 4,
   "metadata": {},
   "outputs": [],
   "source": [
    "kmeans_df = pd.read_csv('results/kmeans_results.csv')\n",
    "ss_df = pd.read_csv('results/ss_results.csv')"
   ]
  },
  {
   "cell_type": "code",
   "execution_count": 5,
   "metadata": {},
   "outputs": [],
   "source": [
    "kmeans_model = pickle.load(open(\"models/kmeans_model.pkl\", \"rb\"))\n",
    "ss_model = XGBClassifier()\n",
    "ss_model.load_model('models/final_model.model')"
   ]
  },
  {
   "cell_type": "code",
   "execution_count": 6,
   "metadata": {},
   "outputs": [],
   "source": [
    "input_types_stats = ['MIN', 'PTS', 'FGA', 'FG%', '3PA', '3P%', 'REB', 'AST',\n",
    "       'TO', 'STL', 'BLK', 'Close FGA', 'Close FG%', 'Mid FGA', 'Mid FG%',\n",
    "       'Post_Ups', 'Drives', 'CS_3PA', 'CS_3P%', 'PP100Pos', 'AST %', 'REB %',\n",
    "       'USG %', 'Height', 'Pos']"
   ]
  },
  {
   "cell_type": "code",
   "execution_count": 7,
   "metadata": {},
   "outputs": [
    {
     "ename": "NameError",
     "evalue": "name 'x' is not defined",
     "output_type": "error",
     "traceback": [
      "\u001b[0;31m---------------------------------------------------------------------------\u001b[0m",
      "\u001b[0;31mNameError\u001b[0m                                 Traceback (most recent call last)",
      "\u001b[0;32m<ipython-input-7-1bb0a0fbfda8>\u001b[0m in \u001b[0;36m<module>\u001b[0;34m\u001b[0m\n\u001b[1;32m      3\u001b[0m     html.H1(\"NBA Player Classification\", style={\"textAlign\":\"center\"}) , html.Div([\n\u001b[1;32m      4\u001b[0m         html.H1(\"Player Classifier 1\", style={\"textAling\":\"center\"}), dcc.Input(\n\u001b[0;32m----> 5\u001b[0;31m             \u001b[0mid\u001b[0m\u001b[0;34m=\u001b[0m\u001b[0;34m'my_{}'\u001b[0m\u001b[0;34m.\u001b[0m\u001b[0mformat\u001b[0m\u001b[0;34m(\u001b[0m\u001b[0mx\u001b[0m\u001b[0;34m)\u001b[0m\u001b[0;34m,\u001b[0m\u001b[0;34m\u001b[0m\u001b[0;34m\u001b[0m\u001b[0m\n\u001b[0m\u001b[1;32m      6\u001b[0m             \u001b[0mtype\u001b[0m\u001b[0;34m=\u001b[0m\u001b[0mx\u001b[0m\u001b[0;34m,\u001b[0m\u001b[0;34m\u001b[0m\u001b[0;34m\u001b[0m\u001b[0m\n\u001b[1;32m      7\u001b[0m             \u001b[0mplaceholder\u001b[0m\u001b[0;34m=\u001b[0m\u001b[0;34m\"Enter {}\"\u001b[0m\u001b[0;34m.\u001b[0m\u001b[0mformat\u001b[0m\u001b[0;34m(\u001b[0m\u001b[0mx\u001b[0m\u001b[0;34m)\u001b[0m\u001b[0;34m,\u001b[0m\u001b[0;34m\u001b[0m\u001b[0;34m\u001b[0m\u001b[0m\n",
      "\u001b[0;31mNameError\u001b[0m: name 'x' is not defined"
     ]
    }
   ],
   "source": [
    "app.layout = html.Div([\n",
    "    # Setting main title of the dashboard\n",
    "    html.H1(\"NBA Player Classification\", style={\"textAlign\":\"center\"}) , html.Div([\n",
    "        html.H1(\"Player Classifier 1\", style={\"textAling\":\"center\"}), dcc.Input(\n",
    "            id='my_{}'.format(x),\n",
    "            type=x,\n",
    "            placeholder=\"Enter {}\".format(x),\n",
    "            debounce=True,\n",
    "            disabled=False,\n",
    "            readOnly=False,\n",
    "            required=False,\n",
    "            \n",
    "        )\n",
    "        \n",
    "    ])\n",
    "])"
   ]
  },
  {
   "cell_type": "code",
   "execution_count": null,
   "metadata": {},
   "outputs": [],
   "source": []
  }
 ],
 "metadata": {
  "kernelspec": {
   "display_name": "Python 3",
   "language": "python",
   "name": "python3"
  },
  "language_info": {
   "codemirror_mode": {
    "name": "ipython",
    "version": 3
   },
   "file_extension": ".py",
   "mimetype": "text/x-python",
   "name": "python",
   "nbconvert_exporter": "python",
   "pygments_lexer": "ipython3",
   "version": "3.8.5"
  },
  "toc": {
   "base_numbering": 1,
   "nav_menu": {},
   "number_sections": true,
   "sideBar": true,
   "skip_h1_title": false,
   "title_cell": "Table of Contents",
   "title_sidebar": "Contents",
   "toc_cell": false,
   "toc_position": {},
   "toc_section_display": true,
   "toc_window_display": false
  }
 },
 "nbformat": 4,
 "nbformat_minor": 4
}
