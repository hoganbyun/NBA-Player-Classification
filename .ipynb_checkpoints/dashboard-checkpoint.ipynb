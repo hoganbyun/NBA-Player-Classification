{
 "cells": [
  {
   "cell_type": "code",
   "execution_count": 10,
   "metadata": {
    "scrolled": true
   },
   "outputs": [],
   "source": [
    "import dash\n",
    "import dash_core_components as dcc\n",
    "import dash_html_components as html\n",
    "import pandas as pd\n",
    "import plotly.graph_objs as go\n",
    "from dash.dependencies import Input, Output\n",
    "from xgboost import XGBClassifier\n",
    "import pickle"
   ]
  },
  {
   "cell_type": "code",
   "execution_count": 3,
   "metadata": {},
   "outputs": [],
   "source": [
    "app = dash.Dash()"
   ]
  },
  {
   "cell_type": "code",
   "execution_count": 5,
   "metadata": {},
   "outputs": [],
   "source": [
    "server = app.server"
   ]
  },
  {
   "cell_type": "code",
   "execution_count": 7,
   "metadata": {},
   "outputs": [],
   "source": [
    "kmeans_df = pd.read_csv('results/kmeans_results.csv')\n",
    "ss_df = pd.read_csv('results/ss_results.csv')"
   ]
  },
  {
   "cell_type": "code",
   "execution_count": 11,
   "metadata": {},
   "outputs": [],
   "source": [
    "kmeans_model = pickle.load(open(\"models/kmeans_model.pkl\", \"rb\"))\n",
    "ss_model = XGBClassifier()\n",
    "ss_model.load_model('models/final_model.model')"
   ]
  },
  {
   "cell_type": "code",
   "execution_count": null,
   "metadata": {},
   "outputs": [],
   "source": [
    "input_types_stats = ['MIN', 'PTS', 'FGA', 'FG%', '3PA', '3P%', 'REB', 'AST',\n",
    "       'TO', 'STL', 'BLK', 'Close FGA', 'Close FG%', 'Mid FGA', 'Mid FG%',\n",
    "       'Post_Ups', 'Drives', 'CS_3PA', 'CS_3P%', 'PP100Pos', 'AST %', 'REB %',\n",
    "       'USG %', 'Height', 'Pos']"
   ]
  },
  {
   "cell_type": "code",
   "execution_count": null,
   "metadata": {},
   "outputs": [],
   "source": [
    "app.layout = html.Div([\n",
    "    # Setting main title of the dashboard\n",
    "    html.H1(\"NBA Player Classification\", style={\"textAlign\":\"center\"}) , html.Div([\n",
    "        html.H1(\"Player Classifier 1\", style={\"textAling\":\"center\"}), dcc.Input(\n",
    "            id='my_{}'.format(x),\n",
    "            type=x,\n",
    "            placeholder=\"Enter {}\".format(x),\n",
    "            debounce=True,\n",
    "            disabled=False,\n",
    "            readOnly=False,\n",
    "            required=False,\n",
    "            \n",
    "        )\n",
    "        \n",
    "    ])\n",
    "])"
   ]
  }
 ],
 "metadata": {
  "kernelspec": {
   "display_name": "Python 3",
   "language": "python",
   "name": "python3"
  },
  "language_info": {
   "codemirror_mode": {
    "name": "ipython",
    "version": 3
   },
   "file_extension": ".py",
   "mimetype": "text/x-python",
   "name": "python",
   "nbconvert_exporter": "python",
   "pygments_lexer": "ipython3",
   "version": "3.8.5"
  },
  "toc": {
   "base_numbering": 1,
   "nav_menu": {},
   "number_sections": true,
   "sideBar": true,
   "skip_h1_title": false,
   "title_cell": "Table of Contents",
   "title_sidebar": "Contents",
   "toc_cell": false,
   "toc_position": {},
   "toc_section_display": true,
   "toc_window_display": false
  }
 },
 "nbformat": 4,
 "nbformat_minor": 4
}
