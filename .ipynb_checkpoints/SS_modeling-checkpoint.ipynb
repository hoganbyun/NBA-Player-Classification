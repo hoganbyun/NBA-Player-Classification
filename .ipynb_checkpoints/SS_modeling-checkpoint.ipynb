{
 "cells": [
  {
   "cell_type": "markdown",
   "metadata": {},
   "source": [
    "# Semi-Supervised Learning Models"
   ]
  },
  {
   "cell_type": "code",
   "execution_count": 1,
   "metadata": {},
   "outputs": [],
   "source": [
    "import matplotlib\n",
    "import matplotlib.pyplot as plt\n",
    "matplotlib.style.use('fivethirtyeight')\n",
    "import seaborn as sns\n",
    "import numpy as np\n",
    "import pandas as pd\n",
    "pd.set_option('display.max_columns',35)\n",
    "\n",
    "import warnings\n",
    "warnings.filterwarnings('ignore')\n",
    "\n",
    "import itertools, math, time, re, pickle\n",
    "\n",
    "from sklearn.model_selection import train_test_split, GridSearchCV, cross_val_score, StratifiedKFold, ShuffleSplit\n",
    "from sklearn.ensemble import GradientBoostingClassifier, AdaBoostClassifier, RandomForestClassifier\n",
    "from sklearn.linear_model import LogisticRegression\n",
    "from sklearn.metrics import accuracy_score, roc_auc_score, auc, confusion_matrix, precision_score, recall_score, roc_curve, f1_score\n",
    "from sklearn.preprocessing import MinMaxScaler, StandardScaler, Normalizer\n",
    "from sklearn.multiclass import OneVsRestClassifier\n",
    "from sklearn.preprocessing import label_binarize\n",
    "from xgboost import XGBClassifier"
   ]
  },
  {
   "cell_type": "markdown",
   "metadata": {},
   "source": [
    "# Modeling Prep"
   ]
  },
  {
   "cell_type": "markdown",
   "metadata": {},
   "source": [
    "## Load Data"
   ]
  },
  {
   "cell_type": "code",
   "execution_count": 2,
   "metadata": {},
   "outputs": [],
   "source": [
    "# prelabeled set used for initial training\n",
    "prelabeled_df = pd.read_csv('data/finalized_data/training')\n",
    "\n",
    "# unlabeled set used for predictions after initial training\n",
    "unlabeled_df = pd.read_csv('data/finalized_data/unlabeled')"
   ]
  },
  {
   "cell_type": "code",
   "execution_count": 14,
   "metadata": {},
   "outputs": [
    {
     "data": {
      "text/html": [
       "<div>\n",
       "<style scoped>\n",
       "    .dataframe tbody tr th:only-of-type {\n",
       "        vertical-align: middle;\n",
       "    }\n",
       "\n",
       "    .dataframe tbody tr th {\n",
       "        vertical-align: top;\n",
       "    }\n",
       "\n",
       "    .dataframe thead th {\n",
       "        text-align: right;\n",
       "    }\n",
       "</style>\n",
       "<table border=\"1\" class=\"dataframe\">\n",
       "  <thead>\n",
       "    <tr style=\"text-align: right;\">\n",
       "      <th></th>\n",
       "      <th>Player</th>\n",
       "      <th>GP</th>\n",
       "      <th>MIN</th>\n",
       "      <th>PTS</th>\n",
       "      <th>FGA</th>\n",
       "      <th>FG%</th>\n",
       "      <th>3PA</th>\n",
       "      <th>3P%</th>\n",
       "      <th>REB</th>\n",
       "      <th>AST</th>\n",
       "      <th>TO</th>\n",
       "      <th>STL</th>\n",
       "      <th>BLK</th>\n",
       "      <th>Close FGA</th>\n",
       "      <th>Close FG%</th>\n",
       "      <th>Mid FGA</th>\n",
       "      <th>Mid FG%</th>\n",
       "      <th>Post_Ups</th>\n",
       "      <th>Drives</th>\n",
       "      <th>CS_3PA</th>\n",
       "      <th>CS_3P%</th>\n",
       "      <th>PP100Pos</th>\n",
       "      <th>AST %</th>\n",
       "      <th>REB %</th>\n",
       "      <th>USG %</th>\n",
       "      <th>Height</th>\n",
       "      <th>Pos</th>\n",
       "      <th>Class</th>\n",
       "      <th>TEAM</th>\n",
       "    </tr>\n",
       "  </thead>\n",
       "  <tbody>\n",
       "    <tr>\n",
       "      <th>0</th>\n",
       "      <td>Aaron Gordon: 2015</td>\n",
       "      <td>78.0</td>\n",
       "      <td>23.9</td>\n",
       "      <td>9.2</td>\n",
       "      <td>7.4</td>\n",
       "      <td>47.3</td>\n",
       "      <td>1.8</td>\n",
       "      <td>29.6</td>\n",
       "      <td>6.5</td>\n",
       "      <td>1.6</td>\n",
       "      <td>0.8</td>\n",
       "      <td>0.8</td>\n",
       "      <td>0.7</td>\n",
       "      <td>4.3</td>\n",
       "      <td>60.5</td>\n",
       "      <td>1.3</td>\n",
       "      <td>31.7</td>\n",
       "      <td>0.6</td>\n",
       "      <td>2.2</td>\n",
       "      <td>1.7</td>\n",
       "      <td>30.5</td>\n",
       "      <td>18.9</td>\n",
       "      <td>10.3</td>\n",
       "      <td>13.3</td>\n",
       "      <td>16.9</td>\n",
       "      <td>81</td>\n",
       "      <td>PF</td>\n",
       "      <td>7.0</td>\n",
       "      <td>ORL</td>\n",
       "    </tr>\n",
       "    <tr>\n",
       "      <th>1</th>\n",
       "      <td>Al Horford: 2015</td>\n",
       "      <td>82.0</td>\n",
       "      <td>32.1</td>\n",
       "      <td>15.2</td>\n",
       "      <td>12.8</td>\n",
       "      <td>50.5</td>\n",
       "      <td>3.1</td>\n",
       "      <td>34.4</td>\n",
       "      <td>7.3</td>\n",
       "      <td>3.2</td>\n",
       "      <td>1.3</td>\n",
       "      <td>0.8</td>\n",
       "      <td>1.5</td>\n",
       "      <td>5.6</td>\n",
       "      <td>64.3</td>\n",
       "      <td>4.1</td>\n",
       "      <td>44.4</td>\n",
       "      <td>3.8</td>\n",
       "      <td>2.1</td>\n",
       "      <td>3.0</td>\n",
       "      <td>35.1</td>\n",
       "      <td>22.9</td>\n",
       "      <td>16.5</td>\n",
       "      <td>10.9</td>\n",
       "      <td>20.2</td>\n",
       "      <td>82</td>\n",
       "      <td>C</td>\n",
       "      <td>3.0</td>\n",
       "      <td>ATL</td>\n",
       "    </tr>\n",
       "    <tr>\n",
       "      <th>2</th>\n",
       "      <td>Al Jefferson: 2015</td>\n",
       "      <td>47.0</td>\n",
       "      <td>23.3</td>\n",
       "      <td>12.0</td>\n",
       "      <td>10.7</td>\n",
       "      <td>48.5</td>\n",
       "      <td>0.0</td>\n",
       "      <td>0.0</td>\n",
       "      <td>6.4</td>\n",
       "      <td>1.5</td>\n",
       "      <td>0.7</td>\n",
       "      <td>0.6</td>\n",
       "      <td>0.9</td>\n",
       "      <td>6.8</td>\n",
       "      <td>51.5</td>\n",
       "      <td>4.0</td>\n",
       "      <td>43.9</td>\n",
       "      <td>11.3</td>\n",
       "      <td>0.0</td>\n",
       "      <td>0.0</td>\n",
       "      <td>0.0</td>\n",
       "      <td>25.3</td>\n",
       "      <td>11.4</td>\n",
       "      <td>13.3</td>\n",
       "      <td>24.0</td>\n",
       "      <td>82</td>\n",
       "      <td>C</td>\n",
       "      <td>2.0</td>\n",
       "      <td>CHA</td>\n",
       "    </tr>\n",
       "    <tr>\n",
       "      <th>3</th>\n",
       "      <td>Allen Crabbe: 2015</td>\n",
       "      <td>81.0</td>\n",
       "      <td>26.0</td>\n",
       "      <td>10.3</td>\n",
       "      <td>8.4</td>\n",
       "      <td>45.9</td>\n",
       "      <td>3.5</td>\n",
       "      <td>39.3</td>\n",
       "      <td>2.7</td>\n",
       "      <td>1.2</td>\n",
       "      <td>0.8</td>\n",
       "      <td>0.8</td>\n",
       "      <td>0.2</td>\n",
       "      <td>1.7</td>\n",
       "      <td>58.8</td>\n",
       "      <td>3.1</td>\n",
       "      <td>44.8</td>\n",
       "      <td>0.1</td>\n",
       "      <td>1.8</td>\n",
       "      <td>3.2</td>\n",
       "      <td>41.1</td>\n",
       "      <td>19.2</td>\n",
       "      <td>7.2</td>\n",
       "      <td>4.9</td>\n",
       "      <td>15.9</td>\n",
       "      <td>78</td>\n",
       "      <td>SG</td>\n",
       "      <td>1.0</td>\n",
       "      <td>POR</td>\n",
       "    </tr>\n",
       "    <tr>\n",
       "      <th>4</th>\n",
       "      <td>Andre Drummond: 2015</td>\n",
       "      <td>81.0</td>\n",
       "      <td>32.9</td>\n",
       "      <td>16.2</td>\n",
       "      <td>13.1</td>\n",
       "      <td>52.1</td>\n",
       "      <td>0.1</td>\n",
       "      <td>33.3</td>\n",
       "      <td>14.8</td>\n",
       "      <td>0.8</td>\n",
       "      <td>1.9</td>\n",
       "      <td>1.5</td>\n",
       "      <td>1.4</td>\n",
       "      <td>12.2</td>\n",
       "      <td>54.1</td>\n",
       "      <td>0.8</td>\n",
       "      <td>25.0</td>\n",
       "      <td>6.0</td>\n",
       "      <td>0.9</td>\n",
       "      <td>0.0</td>\n",
       "      <td>0.0</td>\n",
       "      <td>24.6</td>\n",
       "      <td>4.2</td>\n",
       "      <td>21.7</td>\n",
       "      <td>23.9</td>\n",
       "      <td>83</td>\n",
       "      <td>C</td>\n",
       "      <td>2.0</td>\n",
       "      <td>DET</td>\n",
       "    </tr>\n",
       "  </tbody>\n",
       "</table>\n",
       "</div>"
      ],
      "text/plain": [
       "                 Player    GP   MIN   PTS   FGA   FG%  3PA   3P%   REB  AST  \\\n",
       "0    Aaron Gordon: 2015  78.0  23.9   9.2   7.4  47.3  1.8  29.6   6.5  1.6   \n",
       "1      Al Horford: 2015  82.0  32.1  15.2  12.8  50.5  3.1  34.4   7.3  3.2   \n",
       "2    Al Jefferson: 2015  47.0  23.3  12.0  10.7  48.5  0.0   0.0   6.4  1.5   \n",
       "3    Allen Crabbe: 2015  81.0  26.0  10.3   8.4  45.9  3.5  39.3   2.7  1.2   \n",
       "4  Andre Drummond: 2015  81.0  32.9  16.2  13.1  52.1  0.1  33.3  14.8  0.8   \n",
       "\n",
       "    TO  STL  BLK  Close FGA  Close FG%  Mid FGA  Mid FG%  Post_Ups  Drives  \\\n",
       "0  0.8  0.8  0.7        4.3       60.5      1.3     31.7       0.6     2.2   \n",
       "1  1.3  0.8  1.5        5.6       64.3      4.1     44.4       3.8     2.1   \n",
       "2  0.7  0.6  0.9        6.8       51.5      4.0     43.9      11.3     0.0   \n",
       "3  0.8  0.8  0.2        1.7       58.8      3.1     44.8       0.1     1.8   \n",
       "4  1.9  1.5  1.4       12.2       54.1      0.8     25.0       6.0     0.9   \n",
       "\n",
       "   CS_3PA  CS_3P%  PP100Pos  AST %  REB %  USG %  Height Pos  Class TEAM  \n",
       "0     1.7    30.5      18.9   10.3   13.3   16.9      81  PF    7.0  ORL  \n",
       "1     3.0    35.1      22.9   16.5   10.9   20.2      82   C    3.0  ATL  \n",
       "2     0.0     0.0      25.3   11.4   13.3   24.0      82   C    2.0  CHA  \n",
       "3     3.2    41.1      19.2    7.2    4.9   15.9      78  SG    1.0  POR  \n",
       "4     0.0     0.0      24.6    4.2   21.7   23.9      83   C    2.0  DET  "
      ]
     },
     "execution_count": 14,
     "metadata": {},
     "output_type": "execute_result"
    }
   ],
   "source": [
    "prelabeled_df.head()"
   ]
  },
  {
   "cell_type": "code",
   "execution_count": 4,
   "metadata": {},
   "outputs": [
    {
     "data": {
      "text/html": [
       "<div>\n",
       "<style scoped>\n",
       "    .dataframe tbody tr th:only-of-type {\n",
       "        vertical-align: middle;\n",
       "    }\n",
       "\n",
       "    .dataframe tbody tr th {\n",
       "        vertical-align: top;\n",
       "    }\n",
       "\n",
       "    .dataframe thead th {\n",
       "        text-align: right;\n",
       "    }\n",
       "</style>\n",
       "<table border=\"1\" class=\"dataframe\">\n",
       "  <thead>\n",
       "    <tr style=\"text-align: right;\">\n",
       "      <th></th>\n",
       "      <th>Player</th>\n",
       "      <th>GP</th>\n",
       "      <th>MIN</th>\n",
       "      <th>PTS</th>\n",
       "      <th>FGA</th>\n",
       "      <th>FG%</th>\n",
       "      <th>3PA</th>\n",
       "      <th>3P%</th>\n",
       "      <th>REB</th>\n",
       "      <th>AST</th>\n",
       "      <th>TO</th>\n",
       "      <th>STL</th>\n",
       "      <th>BLK</th>\n",
       "      <th>Close FGA</th>\n",
       "      <th>Close FG%</th>\n",
       "      <th>Mid FGA</th>\n",
       "      <th>Mid FG%</th>\n",
       "      <th>Post_Ups</th>\n",
       "      <th>Drives</th>\n",
       "      <th>CS_3PA</th>\n",
       "      <th>CS_3P%</th>\n",
       "      <th>PP100Pos</th>\n",
       "      <th>AST %</th>\n",
       "      <th>REB %</th>\n",
       "      <th>USG %</th>\n",
       "      <th>Height</th>\n",
       "      <th>Pos</th>\n",
       "      <th>Class</th>\n",
       "      <th>TEAM</th>\n",
       "    </tr>\n",
       "  </thead>\n",
       "  <tbody>\n",
       "    <tr>\n",
       "      <th>0</th>\n",
       "      <td>Al-Farouq Aminu: 2015</td>\n",
       "      <td>82.0</td>\n",
       "      <td>28.5</td>\n",
       "      <td>10.2</td>\n",
       "      <td>8.8</td>\n",
       "      <td>41.6</td>\n",
       "      <td>4.3</td>\n",
       "      <td>36.1</td>\n",
       "      <td>6.1</td>\n",
       "      <td>1.7</td>\n",
       "      <td>1.5</td>\n",
       "      <td>0.9</td>\n",
       "      <td>0.6</td>\n",
       "      <td>3.4</td>\n",
       "      <td>50.0</td>\n",
       "      <td>1.1</td>\n",
       "      <td>37.6</td>\n",
       "      <td>0.4</td>\n",
       "      <td>3.5</td>\n",
       "      <td>4.0</td>\n",
       "      <td>36.3</td>\n",
       "      <td>17.5</td>\n",
       "      <td>8.7</td>\n",
       "      <td>10.4</td>\n",
       "      <td>16.6</td>\n",
       "      <td>81</td>\n",
       "      <td>SF</td>\n",
       "      <td>NaN</td>\n",
       "      <td>POR</td>\n",
       "    </tr>\n",
       "    <tr>\n",
       "      <th>1</th>\n",
       "      <td>Alec Burks: 2015</td>\n",
       "      <td>31.0</td>\n",
       "      <td>25.7</td>\n",
       "      <td>13.3</td>\n",
       "      <td>10.8</td>\n",
       "      <td>41.0</td>\n",
       "      <td>2.5</td>\n",
       "      <td>40.5</td>\n",
       "      <td>3.5</td>\n",
       "      <td>2.0</td>\n",
       "      <td>1.6</td>\n",
       "      <td>0.6</td>\n",
       "      <td>0.1</td>\n",
       "      <td>5.1</td>\n",
       "      <td>47.1</td>\n",
       "      <td>3.1</td>\n",
       "      <td>32.3</td>\n",
       "      <td>0.0</td>\n",
       "      <td>8.0</td>\n",
       "      <td>1.5</td>\n",
       "      <td>40.4</td>\n",
       "      <td>26.1</td>\n",
       "      <td>14.0</td>\n",
       "      <td>6.9</td>\n",
       "      <td>24.6</td>\n",
       "      <td>78</td>\n",
       "      <td>SG</td>\n",
       "      <td>NaN</td>\n",
       "      <td>UTA</td>\n",
       "    </tr>\n",
       "    <tr>\n",
       "      <th>2</th>\n",
       "      <td>Alex Len: 2015</td>\n",
       "      <td>78.0</td>\n",
       "      <td>23.3</td>\n",
       "      <td>9.0</td>\n",
       "      <td>8.0</td>\n",
       "      <td>42.3</td>\n",
       "      <td>0.1</td>\n",
       "      <td>14.3</td>\n",
       "      <td>7.6</td>\n",
       "      <td>1.2</td>\n",
       "      <td>1.9</td>\n",
       "      <td>0.5</td>\n",
       "      <td>0.8</td>\n",
       "      <td>5.4</td>\n",
       "      <td>46.3</td>\n",
       "      <td>2.5</td>\n",
       "      <td>32.6</td>\n",
       "      <td>5.0</td>\n",
       "      <td>0.6</td>\n",
       "      <td>0.1</td>\n",
       "      <td>16.7</td>\n",
       "      <td>18.6</td>\n",
       "      <td>8.7</td>\n",
       "      <td>15.6</td>\n",
       "      <td>20.2</td>\n",
       "      <td>85</td>\n",
       "      <td>C</td>\n",
       "      <td>NaN</td>\n",
       "      <td>PHX</td>\n",
       "    </tr>\n",
       "    <tr>\n",
       "      <th>3</th>\n",
       "      <td>Alonzo Gee: 2015</td>\n",
       "      <td>73.0</td>\n",
       "      <td>22.4</td>\n",
       "      <td>4.5</td>\n",
       "      <td>3.5</td>\n",
       "      <td>51.8</td>\n",
       "      <td>0.8</td>\n",
       "      <td>28.3</td>\n",
       "      <td>3.4</td>\n",
       "      <td>1.0</td>\n",
       "      <td>0.8</td>\n",
       "      <td>0.9</td>\n",
       "      <td>0.2</td>\n",
       "      <td>2.3</td>\n",
       "      <td>65.2</td>\n",
       "      <td>0.4</td>\n",
       "      <td>25.0</td>\n",
       "      <td>0.1</td>\n",
       "      <td>1.5</td>\n",
       "      <td>0.7</td>\n",
       "      <td>30.2</td>\n",
       "      <td>9.7</td>\n",
       "      <td>6.3</td>\n",
       "      <td>7.3</td>\n",
       "      <td>9.1</td>\n",
       "      <td>78</td>\n",
       "      <td>SF</td>\n",
       "      <td>NaN</td>\n",
       "      <td>NOP</td>\n",
       "    </tr>\n",
       "    <tr>\n",
       "      <th>4</th>\n",
       "      <td>Amir Johnson: 2015</td>\n",
       "      <td>79.0</td>\n",
       "      <td>22.8</td>\n",
       "      <td>7.3</td>\n",
       "      <td>5.4</td>\n",
       "      <td>58.5</td>\n",
       "      <td>0.5</td>\n",
       "      <td>23.3</td>\n",
       "      <td>6.4</td>\n",
       "      <td>1.7</td>\n",
       "      <td>1.2</td>\n",
       "      <td>0.7</td>\n",
       "      <td>1.1</td>\n",
       "      <td>4.7</td>\n",
       "      <td>63.8</td>\n",
       "      <td>0.2</td>\n",
       "      <td>37.5</td>\n",
       "      <td>1.2</td>\n",
       "      <td>0.7</td>\n",
       "      <td>0.5</td>\n",
       "      <td>24.3</td>\n",
       "      <td>15.6</td>\n",
       "      <td>11.0</td>\n",
       "      <td>13.2</td>\n",
       "      <td>13.6</td>\n",
       "      <td>81</td>\n",
       "      <td>PF</td>\n",
       "      <td>NaN</td>\n",
       "      <td>BOS</td>\n",
       "    </tr>\n",
       "  </tbody>\n",
       "</table>\n",
       "</div>"
      ],
      "text/plain": [
       "                  Player    GP   MIN   PTS   FGA   FG%  3PA   3P%  REB  AST  \\\n",
       "0  Al-Farouq Aminu: 2015  82.0  28.5  10.2   8.8  41.6  4.3  36.1  6.1  1.7   \n",
       "1       Alec Burks: 2015  31.0  25.7  13.3  10.8  41.0  2.5  40.5  3.5  2.0   \n",
       "2         Alex Len: 2015  78.0  23.3   9.0   8.0  42.3  0.1  14.3  7.6  1.2   \n",
       "3       Alonzo Gee: 2015  73.0  22.4   4.5   3.5  51.8  0.8  28.3  3.4  1.0   \n",
       "4     Amir Johnson: 2015  79.0  22.8   7.3   5.4  58.5  0.5  23.3  6.4  1.7   \n",
       "\n",
       "    TO  STL  BLK  Close FGA  Close FG%  Mid FGA  Mid FG%  Post_Ups  Drives  \\\n",
       "0  1.5  0.9  0.6        3.4       50.0      1.1     37.6       0.4     3.5   \n",
       "1  1.6  0.6  0.1        5.1       47.1      3.1     32.3       0.0     8.0   \n",
       "2  1.9  0.5  0.8        5.4       46.3      2.5     32.6       5.0     0.6   \n",
       "3  0.8  0.9  0.2        2.3       65.2      0.4     25.0       0.1     1.5   \n",
       "4  1.2  0.7  1.1        4.7       63.8      0.2     37.5       1.2     0.7   \n",
       "\n",
       "   CS_3PA  CS_3P%  PP100Pos  AST %  REB %  USG %  Height Pos  Class TEAM  \n",
       "0     4.0    36.3      17.5    8.7   10.4   16.6      81  SF    NaN  POR  \n",
       "1     1.5    40.4      26.1   14.0    6.9   24.6      78  SG    NaN  UTA  \n",
       "2     0.1    16.7      18.6    8.7   15.6   20.2      85   C    NaN  PHX  \n",
       "3     0.7    30.2       9.7    6.3    7.3    9.1      78  SF    NaN  NOP  \n",
       "4     0.5    24.3      15.6   11.0   13.2   13.6      81  PF    NaN  BOS  "
      ]
     },
     "execution_count": 4,
     "metadata": {},
     "output_type": "execute_result"
    }
   ],
   "source": [
    "unlabeled_df.head()"
   ]
  },
  {
   "cell_type": "markdown",
   "metadata": {},
   "source": [
    "## Model Functions & Metrics"
   ]
  },
  {
   "cell_type": "markdown",
   "metadata": {},
   "source": [
    "**Build Model Function**"
   ]
  },
  {
   "cell_type": "code",
   "execution_count": 3,
   "metadata": {},
   "outputs": [],
   "source": [
    "def build_model(model, X_train, X_test, y_train, y_test, decision_function=True, n_classes=11):\n",
    "    start = time.time()\n",
    "    \n",
    "    # make sure to uncomment the next line for logistic regression\n",
    "    #clf = OneVsRestClassifier(model)\n",
    "    \n",
    "    # comment this next line for logistic regression\n",
    "    clf = model\n",
    "    clf.fit(X_train,y_train)  \n",
    "    y_hat_test = clf.predict(X_test)\n",
    "      \n",
    "    if decision_function==True:\n",
    "        y_score = clf.decision_function(X_test)\n",
    "    else:\n",
    "        y_score = clf.predict_proba(X_test)[:, 1]\n",
    "        \n",
    "    print('Total Runtime: {} seconds'.format(time.time()-start))\n",
    "    \n",
    "    return clf, y_hat_test, y_score"
   ]
  },
  {
   "cell_type": "markdown",
   "metadata": {},
   "source": [
    "**Plot Feature Importances** "
   ]
  },
  {
   "cell_type": "code",
   "execution_count": 4,
   "metadata": {},
   "outputs": [],
   "source": [
    "def plot_feature_importances(model):\n",
    "    n_features = len(X.columns)\n",
    "    plt.figure(figsize=(14,10))\n",
    "    plt.barh(range(n_features), model.feature_importances_, align='center') \n",
    "    plt.yticks(np.arange(n_features), X.columns.values) \n",
    "    plt.xlabel(\"Feature importance\")\n",
    "    plt.ylabel(\"Features\")"
   ]
  },
  {
   "cell_type": "markdown",
   "metadata": {},
   "source": [
    "**Plot Confusion Matrix**"
   ]
  },
  {
   "cell_type": "code",
   "execution_count": 5,
   "metadata": {},
   "outputs": [],
   "source": [
    "def plot_confusion_matrix(cm, title='Confusion matrix', cmap=plt.cm.Blues):\n",
    "    #Create the basic matrix.\n",
    "    plt.figure(figsize=(10,10))\n",
    "    plt.imshow(cm, cmap)\n",
    "    \n",
    "    #Add title and Axis Labels\n",
    "    plt.title(title)\n",
    "    plt.xlabel('Predicted')\n",
    "    plt.ylabel('Actual')\n",
    "\n",
    "    #Add appropriate Axis Scales\n",
    "    class_names = ['Miss','Make']\n",
    "    tick_marks = np.arange(len(class_names))\n",
    "    plt.xticks(tick_marks, class_names)\n",
    "    plt.yticks(tick_marks, class_names)\n",
    "    \n",
    "    #Add Labels to Each Cell\n",
    "    thresh = cm.max()*.75\n",
    "    \n",
    "    #Add a Side Bar Legend Showing Colors\n",
    "    plt.colorbar()\n",
    "    for i, j in itertools.product(range(cm.shape[0]), range(cm.shape[1])):\n",
    "        plt.text(j, i, cm[i, j],\n",
    "                 horizontalalignment=\"center\",\n",
    "                 color=\"white\" if cm[i, j] > thresh else \"black\")"
   ]
  },
  {
   "cell_type": "markdown",
   "metadata": {},
   "source": [
    "**Plot Metrics**"
   ]
  },
  {
   "cell_type": "code",
   "execution_count": 6,
   "metadata": {},
   "outputs": [],
   "source": [
    "def print_model_metrics(y_pred,y_score):\n",
    "    cm = confusion_matrix(y_test, y_pred)\n",
    "    #print(cm)\n",
    "\n",
    "    plot_confusion_matrix(cm, title='Confusion matrix', cmap=plt.cm.Blues)\n",
    "\n",
    "    accuracy = accuracy_score(y_test,y_pred)\n",
    "    precision = precision_score(y_test,y_pred, average='micro')\n",
    "    recall = recall_score(y_test,y_pred, average='micro')\n",
    "    f1 = f1_score(y_test,y_pred, average='micro')\n",
    "    \n",
    "    #print('Training Set Metrics:')\n",
    "    print('Accuracy: {}\\n'.format(round(accuracy,4)))\n",
    "    print('Micro Precision: {}'.format(round(precision,4)))\n",
    "    print('Micro Recall: {}'.format(round(recall,4)))\n",
    "    print('Micro F1: {}\\n'.format(round(f1,4)))\n",
    "\n",
    "    print('Macro Precision: {:.4f}'.format(precision_score(y_test, y_pred, average='macro')))\n",
    "    print('Macro Recall: {:.4f}'.format(recall_score(y_test, y_pred, average='macro')))\n",
    "    print('Macro F1-score: {:.4f}\\n'.format(f1_score(y_test, y_pred, average='macro')))\n",
    "\n",
    "    print('Weighted Precision: {:.4f}'.format(precision_score(y_test, y_pred, average='weighted')))\n",
    "    print('Weighted Recall: {:.4f}'.format(recall_score(y_test, y_pred, average='weighted')))\n",
    "    print('Weighted F1-score: {:.4f}'.format(f1_score(y_test, y_pred, average='weighted')))"
   ]
  },
  {
   "cell_type": "markdown",
   "metadata": {},
   "source": [
    "## Categorical Variables"
   ]
  },
  {
   "cell_type": "code",
   "execution_count": 7,
   "metadata": {},
   "outputs": [],
   "source": [
    "X = prelabeled_df.drop(['Player', 'GP', 'Class', 'TEAM'], axis=1)\n",
    "y = prelabeled_df['Class']"
   ]
  },
  {
   "cell_type": "code",
   "execution_count": 8,
   "metadata": {},
   "outputs": [
    {
     "data": {
      "text/html": [
       "<div>\n",
       "<style scoped>\n",
       "    .dataframe tbody tr th:only-of-type {\n",
       "        vertical-align: middle;\n",
       "    }\n",
       "\n",
       "    .dataframe tbody tr th {\n",
       "        vertical-align: top;\n",
       "    }\n",
       "\n",
       "    .dataframe thead th {\n",
       "        text-align: right;\n",
       "    }\n",
       "</style>\n",
       "<table border=\"1\" class=\"dataframe\">\n",
       "  <thead>\n",
       "    <tr style=\"text-align: right;\">\n",
       "      <th></th>\n",
       "      <th>MIN</th>\n",
       "      <th>PTS</th>\n",
       "      <th>FGA</th>\n",
       "      <th>FG%</th>\n",
       "      <th>3PA</th>\n",
       "      <th>3P%</th>\n",
       "      <th>REB</th>\n",
       "      <th>AST</th>\n",
       "      <th>TO</th>\n",
       "      <th>STL</th>\n",
       "      <th>BLK</th>\n",
       "      <th>Close FGA</th>\n",
       "      <th>Close FG%</th>\n",
       "      <th>Mid FGA</th>\n",
       "      <th>Mid FG%</th>\n",
       "      <th>Post_Ups</th>\n",
       "      <th>Drives</th>\n",
       "      <th>CS_3PA</th>\n",
       "      <th>CS_3P%</th>\n",
       "      <th>PP100Pos</th>\n",
       "      <th>AST %</th>\n",
       "      <th>REB %</th>\n",
       "      <th>USG %</th>\n",
       "      <th>Height</th>\n",
       "      <th>Pos_C</th>\n",
       "      <th>Pos_PF</th>\n",
       "      <th>Pos_PG</th>\n",
       "      <th>Pos_SF</th>\n",
       "      <th>Pos_SG</th>\n",
       "    </tr>\n",
       "  </thead>\n",
       "  <tbody>\n",
       "    <tr>\n",
       "      <th>0</th>\n",
       "      <td>23.9</td>\n",
       "      <td>9.2</td>\n",
       "      <td>7.4</td>\n",
       "      <td>47.3</td>\n",
       "      <td>1.8</td>\n",
       "      <td>29.6</td>\n",
       "      <td>6.5</td>\n",
       "      <td>1.6</td>\n",
       "      <td>0.8</td>\n",
       "      <td>0.8</td>\n",
       "      <td>0.7</td>\n",
       "      <td>4.3</td>\n",
       "      <td>60.5</td>\n",
       "      <td>1.3</td>\n",
       "      <td>31.7</td>\n",
       "      <td>0.6</td>\n",
       "      <td>2.2</td>\n",
       "      <td>1.7</td>\n",
       "      <td>30.5</td>\n",
       "      <td>18.9</td>\n",
       "      <td>10.3</td>\n",
       "      <td>13.3</td>\n",
       "      <td>16.9</td>\n",
       "      <td>81</td>\n",
       "      <td>0</td>\n",
       "      <td>1</td>\n",
       "      <td>0</td>\n",
       "      <td>0</td>\n",
       "      <td>0</td>\n",
       "    </tr>\n",
       "    <tr>\n",
       "      <th>1</th>\n",
       "      <td>32.1</td>\n",
       "      <td>15.2</td>\n",
       "      <td>12.8</td>\n",
       "      <td>50.5</td>\n",
       "      <td>3.1</td>\n",
       "      <td>34.4</td>\n",
       "      <td>7.3</td>\n",
       "      <td>3.2</td>\n",
       "      <td>1.3</td>\n",
       "      <td>0.8</td>\n",
       "      <td>1.5</td>\n",
       "      <td>5.6</td>\n",
       "      <td>64.3</td>\n",
       "      <td>4.1</td>\n",
       "      <td>44.4</td>\n",
       "      <td>3.8</td>\n",
       "      <td>2.1</td>\n",
       "      <td>3.0</td>\n",
       "      <td>35.1</td>\n",
       "      <td>22.9</td>\n",
       "      <td>16.5</td>\n",
       "      <td>10.9</td>\n",
       "      <td>20.2</td>\n",
       "      <td>82</td>\n",
       "      <td>1</td>\n",
       "      <td>0</td>\n",
       "      <td>0</td>\n",
       "      <td>0</td>\n",
       "      <td>0</td>\n",
       "    </tr>\n",
       "    <tr>\n",
       "      <th>2</th>\n",
       "      <td>23.3</td>\n",
       "      <td>12.0</td>\n",
       "      <td>10.7</td>\n",
       "      <td>48.5</td>\n",
       "      <td>0.0</td>\n",
       "      <td>0.0</td>\n",
       "      <td>6.4</td>\n",
       "      <td>1.5</td>\n",
       "      <td>0.7</td>\n",
       "      <td>0.6</td>\n",
       "      <td>0.9</td>\n",
       "      <td>6.8</td>\n",
       "      <td>51.5</td>\n",
       "      <td>4.0</td>\n",
       "      <td>43.9</td>\n",
       "      <td>11.3</td>\n",
       "      <td>0.0</td>\n",
       "      <td>0.0</td>\n",
       "      <td>0.0</td>\n",
       "      <td>25.3</td>\n",
       "      <td>11.4</td>\n",
       "      <td>13.3</td>\n",
       "      <td>24.0</td>\n",
       "      <td>82</td>\n",
       "      <td>1</td>\n",
       "      <td>0</td>\n",
       "      <td>0</td>\n",
       "      <td>0</td>\n",
       "      <td>0</td>\n",
       "    </tr>\n",
       "    <tr>\n",
       "      <th>3</th>\n",
       "      <td>26.0</td>\n",
       "      <td>10.3</td>\n",
       "      <td>8.4</td>\n",
       "      <td>45.9</td>\n",
       "      <td>3.5</td>\n",
       "      <td>39.3</td>\n",
       "      <td>2.7</td>\n",
       "      <td>1.2</td>\n",
       "      <td>0.8</td>\n",
       "      <td>0.8</td>\n",
       "      <td>0.2</td>\n",
       "      <td>1.7</td>\n",
       "      <td>58.8</td>\n",
       "      <td>3.1</td>\n",
       "      <td>44.8</td>\n",
       "      <td>0.1</td>\n",
       "      <td>1.8</td>\n",
       "      <td>3.2</td>\n",
       "      <td>41.1</td>\n",
       "      <td>19.2</td>\n",
       "      <td>7.2</td>\n",
       "      <td>4.9</td>\n",
       "      <td>15.9</td>\n",
       "      <td>78</td>\n",
       "      <td>0</td>\n",
       "      <td>0</td>\n",
       "      <td>0</td>\n",
       "      <td>0</td>\n",
       "      <td>1</td>\n",
       "    </tr>\n",
       "    <tr>\n",
       "      <th>4</th>\n",
       "      <td>32.9</td>\n",
       "      <td>16.2</td>\n",
       "      <td>13.1</td>\n",
       "      <td>52.1</td>\n",
       "      <td>0.1</td>\n",
       "      <td>33.3</td>\n",
       "      <td>14.8</td>\n",
       "      <td>0.8</td>\n",
       "      <td>1.9</td>\n",
       "      <td>1.5</td>\n",
       "      <td>1.4</td>\n",
       "      <td>12.2</td>\n",
       "      <td>54.1</td>\n",
       "      <td>0.8</td>\n",
       "      <td>25.0</td>\n",
       "      <td>6.0</td>\n",
       "      <td>0.9</td>\n",
       "      <td>0.0</td>\n",
       "      <td>0.0</td>\n",
       "      <td>24.6</td>\n",
       "      <td>4.2</td>\n",
       "      <td>21.7</td>\n",
       "      <td>23.9</td>\n",
       "      <td>83</td>\n",
       "      <td>1</td>\n",
       "      <td>0</td>\n",
       "      <td>0</td>\n",
       "      <td>0</td>\n",
       "      <td>0</td>\n",
       "    </tr>\n",
       "  </tbody>\n",
       "</table>\n",
       "</div>"
      ],
      "text/plain": [
       "    MIN   PTS   FGA   FG%  3PA   3P%   REB  AST   TO  STL  BLK  Close FGA  \\\n",
       "0  23.9   9.2   7.4  47.3  1.8  29.6   6.5  1.6  0.8  0.8  0.7        4.3   \n",
       "1  32.1  15.2  12.8  50.5  3.1  34.4   7.3  3.2  1.3  0.8  1.5        5.6   \n",
       "2  23.3  12.0  10.7  48.5  0.0   0.0   6.4  1.5  0.7  0.6  0.9        6.8   \n",
       "3  26.0  10.3   8.4  45.9  3.5  39.3   2.7  1.2  0.8  0.8  0.2        1.7   \n",
       "4  32.9  16.2  13.1  52.1  0.1  33.3  14.8  0.8  1.9  1.5  1.4       12.2   \n",
       "\n",
       "   Close FG%  Mid FGA  Mid FG%  Post_Ups  Drives  CS_3PA  CS_3P%  PP100Pos  \\\n",
       "0       60.5      1.3     31.7       0.6     2.2     1.7    30.5      18.9   \n",
       "1       64.3      4.1     44.4       3.8     2.1     3.0    35.1      22.9   \n",
       "2       51.5      4.0     43.9      11.3     0.0     0.0     0.0      25.3   \n",
       "3       58.8      3.1     44.8       0.1     1.8     3.2    41.1      19.2   \n",
       "4       54.1      0.8     25.0       6.0     0.9     0.0     0.0      24.6   \n",
       "\n",
       "   AST %  REB %  USG %  Height  Pos_C  Pos_PF  Pos_PG  Pos_SF  Pos_SG  \n",
       "0   10.3   13.3   16.9      81      0       1       0       0       0  \n",
       "1   16.5   10.9   20.2      82      1       0       0       0       0  \n",
       "2   11.4   13.3   24.0      82      1       0       0       0       0  \n",
       "3    7.2    4.9   15.9      78      0       0       0       0       1  \n",
       "4    4.2   21.7   23.9      83      1       0       0       0       0  "
      ]
     },
     "execution_count": 8,
     "metadata": {},
     "output_type": "execute_result"
    }
   ],
   "source": [
    "# get dummy variables for position\n",
    "X = pd.get_dummies(X)\n",
    "X.head()"
   ]
  },
  {
   "cell_type": "markdown",
   "metadata": {},
   "source": [
    "## Train Test Split"
   ]
  },
  {
   "cell_type": "code",
   "execution_count": 9,
   "metadata": {},
   "outputs": [],
   "source": [
    "X_train, X_test, y_train, y_test = train_test_split(X, y, random_state=17)"
   ]
  },
  {
   "cell_type": "code",
   "execution_count": 10,
   "metadata": {},
   "outputs": [
    {
     "data": {
      "text/plain": [
       "125    2.0\n",
       "147    1.0\n",
       "9      9.0\n",
       "70     4.0\n",
       "217    5.0\n",
       "      ... \n",
       "31     2.0\n",
       "240    3.0\n",
       "143    4.0\n",
       "241    5.0\n",
       "111    2.0\n",
       "Name: Class, Length: 207, dtype: float64"
      ]
     },
     "execution_count": 10,
     "metadata": {},
     "output_type": "execute_result"
    }
   ],
   "source": [
    "y_train"
   ]
  },
  {
   "cell_type": "code",
   "execution_count": 11,
   "metadata": {},
   "outputs": [],
   "source": [
    "y_train = y_train.astype(int)\n",
    "y_test = y_test.astype(int)"
   ]
  },
  {
   "cell_type": "markdown",
   "metadata": {},
   "source": [
    "## Scale Data\n",
    "Scaling is done after the train test split in order to ensure that the training set is not influenced at all by the test set."
   ]
  },
  {
   "cell_type": "code",
   "execution_count": 12,
   "metadata": {},
   "outputs": [],
   "source": [
    "# scale using MinMaxScaler\n",
    "mm = MinMaxScaler()\n",
    "X_train_scaled = mm.fit_transform(X_train)\n",
    "X_test_scaled = mm.fit_transform(X_test)\n",
    "\n",
    "# convert back into DataFrame to preserve column names\n",
    "X_train_scaled = pd.DataFrame(X_train_scaled, columns=X.columns)\n",
    "X_test_scaled = pd.DataFrame(X_test_scaled, columns=X.columns)"
   ]
  },
  {
   "cell_type": "code",
   "execution_count": 13,
   "metadata": {},
   "outputs": [
    {
     "data": {
      "text/html": [
       "<div>\n",
       "<style scoped>\n",
       "    .dataframe tbody tr th:only-of-type {\n",
       "        vertical-align: middle;\n",
       "    }\n",
       "\n",
       "    .dataframe tbody tr th {\n",
       "        vertical-align: top;\n",
       "    }\n",
       "\n",
       "    .dataframe thead th {\n",
       "        text-align: right;\n",
       "    }\n",
       "</style>\n",
       "<table border=\"1\" class=\"dataframe\">\n",
       "  <thead>\n",
       "    <tr style=\"text-align: right;\">\n",
       "      <th></th>\n",
       "      <th>MIN</th>\n",
       "      <th>PTS</th>\n",
       "      <th>FGA</th>\n",
       "      <th>FG%</th>\n",
       "      <th>3PA</th>\n",
       "      <th>3P%</th>\n",
       "      <th>REB</th>\n",
       "      <th>AST</th>\n",
       "      <th>TO</th>\n",
       "      <th>STL</th>\n",
       "      <th>BLK</th>\n",
       "      <th>Close FGA</th>\n",
       "      <th>Close FG%</th>\n",
       "      <th>Mid FGA</th>\n",
       "      <th>Mid FG%</th>\n",
       "      <th>Post_Ups</th>\n",
       "      <th>Drives</th>\n",
       "      <th>CS_3PA</th>\n",
       "      <th>CS_3P%</th>\n",
       "      <th>PP100Pos</th>\n",
       "      <th>AST %</th>\n",
       "      <th>REB %</th>\n",
       "      <th>USG %</th>\n",
       "      <th>Height</th>\n",
       "      <th>Pos_C</th>\n",
       "      <th>Pos_PF</th>\n",
       "      <th>Pos_PG</th>\n",
       "      <th>Pos_SF</th>\n",
       "      <th>Pos_SG</th>\n",
       "    </tr>\n",
       "  </thead>\n",
       "  <tbody>\n",
       "    <tr>\n",
       "      <th>0</th>\n",
       "      <td>0.738889</td>\n",
       "      <td>0.731884</td>\n",
       "      <td>0.753769</td>\n",
       "      <td>0.436464</td>\n",
       "      <td>0.102564</td>\n",
       "      <td>0.293</td>\n",
       "      <td>0.468085</td>\n",
       "      <td>0.138614</td>\n",
       "      <td>0.232558</td>\n",
       "      <td>0.166667</td>\n",
       "      <td>0.461538</td>\n",
       "      <td>0.605442</td>\n",
       "      <td>0.683117</td>\n",
       "      <td>0.732673</td>\n",
       "      <td>0.637181</td>\n",
       "      <td>1.000000</td>\n",
       "      <td>0.067308</td>\n",
       "      <td>0.148649</td>\n",
       "      <td>0.296</td>\n",
       "      <td>0.802292</td>\n",
       "      <td>0.162471</td>\n",
       "      <td>0.470297</td>\n",
       "      <td>0.740310</td>\n",
       "      <td>0.7500</td>\n",
       "      <td>1.0</td>\n",
       "      <td>0.0</td>\n",
       "      <td>0.0</td>\n",
       "      <td>0.0</td>\n",
       "      <td>0.0</td>\n",
       "    </tr>\n",
       "    <tr>\n",
       "      <th>1</th>\n",
       "      <td>0.644444</td>\n",
       "      <td>0.481884</td>\n",
       "      <td>0.542714</td>\n",
       "      <td>0.157459</td>\n",
       "      <td>0.752137</td>\n",
       "      <td>0.360</td>\n",
       "      <td>0.021277</td>\n",
       "      <td>0.128713</td>\n",
       "      <td>0.186047</td>\n",
       "      <td>0.166667</td>\n",
       "      <td>0.153846</td>\n",
       "      <td>0.278912</td>\n",
       "      <td>0.433766</td>\n",
       "      <td>0.029703</td>\n",
       "      <td>0.599700</td>\n",
       "      <td>0.007194</td>\n",
       "      <td>0.355769</td>\n",
       "      <td>0.891892</td>\n",
       "      <td>0.383</td>\n",
       "      <td>0.504298</td>\n",
       "      <td>0.114416</td>\n",
       "      <td>0.004950</td>\n",
       "      <td>0.457364</td>\n",
       "      <td>0.3125</td>\n",
       "      <td>0.0</td>\n",
       "      <td>0.0</td>\n",
       "      <td>0.0</td>\n",
       "      <td>0.0</td>\n",
       "      <td>1.0</td>\n",
       "    </tr>\n",
       "    <tr>\n",
       "      <th>2</th>\n",
       "      <td>0.611111</td>\n",
       "      <td>0.525362</td>\n",
       "      <td>0.577889</td>\n",
       "      <td>0.267956</td>\n",
       "      <td>0.418803</td>\n",
       "      <td>0.387</td>\n",
       "      <td>0.106383</td>\n",
       "      <td>0.227723</td>\n",
       "      <td>0.348837</td>\n",
       "      <td>0.388889</td>\n",
       "      <td>0.076923</td>\n",
       "      <td>0.346939</td>\n",
       "      <td>0.574026</td>\n",
       "      <td>0.405941</td>\n",
       "      <td>0.544228</td>\n",
       "      <td>0.035971</td>\n",
       "      <td>0.355769</td>\n",
       "      <td>0.445946</td>\n",
       "      <td>0.387</td>\n",
       "      <td>0.567335</td>\n",
       "      <td>0.258581</td>\n",
       "      <td>0.113861</td>\n",
       "      <td>0.573643</td>\n",
       "      <td>0.3750</td>\n",
       "      <td>0.0</td>\n",
       "      <td>0.0</td>\n",
       "      <td>0.0</td>\n",
       "      <td>0.0</td>\n",
       "      <td>1.0</td>\n",
       "    </tr>\n",
       "    <tr>\n",
       "      <th>3</th>\n",
       "      <td>0.905556</td>\n",
       "      <td>0.731884</td>\n",
       "      <td>0.773869</td>\n",
       "      <td>0.273481</td>\n",
       "      <td>0.299145</td>\n",
       "      <td>0.327</td>\n",
       "      <td>0.163121</td>\n",
       "      <td>1.000000</td>\n",
       "      <td>0.837209</td>\n",
       "      <td>0.944444</td>\n",
       "      <td>0.230769</td>\n",
       "      <td>0.591837</td>\n",
       "      <td>0.545455</td>\n",
       "      <td>0.564356</td>\n",
       "      <td>0.580210</td>\n",
       "      <td>0.014388</td>\n",
       "      <td>0.812500</td>\n",
       "      <td>0.229730</td>\n",
       "      <td>0.359</td>\n",
       "      <td>0.679083</td>\n",
       "      <td>0.938215</td>\n",
       "      <td>0.128713</td>\n",
       "      <td>0.782946</td>\n",
       "      <td>0.3125</td>\n",
       "      <td>0.0</td>\n",
       "      <td>0.0</td>\n",
       "      <td>1.0</td>\n",
       "      <td>0.0</td>\n",
       "      <td>0.0</td>\n",
       "    </tr>\n",
       "    <tr>\n",
       "      <th>4</th>\n",
       "      <td>0.877778</td>\n",
       "      <td>0.858696</td>\n",
       "      <td>0.768844</td>\n",
       "      <td>0.378453</td>\n",
       "      <td>0.487179</td>\n",
       "      <td>0.354</td>\n",
       "      <td>0.163121</td>\n",
       "      <td>0.584158</td>\n",
       "      <td>0.767442</td>\n",
       "      <td>0.222222</td>\n",
       "      <td>0.115385</td>\n",
       "      <td>0.503401</td>\n",
       "      <td>0.714286</td>\n",
       "      <td>0.465347</td>\n",
       "      <td>0.691154</td>\n",
       "      <td>0.129496</td>\n",
       "      <td>0.687500</td>\n",
       "      <td>0.310811</td>\n",
       "      <td>0.393</td>\n",
       "      <td>0.796562</td>\n",
       "      <td>0.567506</td>\n",
       "      <td>0.133663</td>\n",
       "      <td>0.763566</td>\n",
       "      <td>0.3750</td>\n",
       "      <td>0.0</td>\n",
       "      <td>0.0</td>\n",
       "      <td>0.0</td>\n",
       "      <td>0.0</td>\n",
       "      <td>1.0</td>\n",
       "    </tr>\n",
       "  </tbody>\n",
       "</table>\n",
       "</div>"
      ],
      "text/plain": [
       "        MIN       PTS       FGA       FG%       3PA    3P%       REB  \\\n",
       "0  0.738889  0.731884  0.753769  0.436464  0.102564  0.293  0.468085   \n",
       "1  0.644444  0.481884  0.542714  0.157459  0.752137  0.360  0.021277   \n",
       "2  0.611111  0.525362  0.577889  0.267956  0.418803  0.387  0.106383   \n",
       "3  0.905556  0.731884  0.773869  0.273481  0.299145  0.327  0.163121   \n",
       "4  0.877778  0.858696  0.768844  0.378453  0.487179  0.354  0.163121   \n",
       "\n",
       "        AST        TO       STL       BLK  Close FGA  Close FG%   Mid FGA  \\\n",
       "0  0.138614  0.232558  0.166667  0.461538   0.605442   0.683117  0.732673   \n",
       "1  0.128713  0.186047  0.166667  0.153846   0.278912   0.433766  0.029703   \n",
       "2  0.227723  0.348837  0.388889  0.076923   0.346939   0.574026  0.405941   \n",
       "3  1.000000  0.837209  0.944444  0.230769   0.591837   0.545455  0.564356   \n",
       "4  0.584158  0.767442  0.222222  0.115385   0.503401   0.714286  0.465347   \n",
       "\n",
       "    Mid FG%  Post_Ups    Drives    CS_3PA  CS_3P%  PP100Pos     AST %  \\\n",
       "0  0.637181  1.000000  0.067308  0.148649   0.296  0.802292  0.162471   \n",
       "1  0.599700  0.007194  0.355769  0.891892   0.383  0.504298  0.114416   \n",
       "2  0.544228  0.035971  0.355769  0.445946   0.387  0.567335  0.258581   \n",
       "3  0.580210  0.014388  0.812500  0.229730   0.359  0.679083  0.938215   \n",
       "4  0.691154  0.129496  0.687500  0.310811   0.393  0.796562  0.567506   \n",
       "\n",
       "      REB %     USG %  Height  Pos_C  Pos_PF  Pos_PG  Pos_SF  Pos_SG  \n",
       "0  0.470297  0.740310  0.7500    1.0     0.0     0.0     0.0     0.0  \n",
       "1  0.004950  0.457364  0.3125    0.0     0.0     0.0     0.0     1.0  \n",
       "2  0.113861  0.573643  0.3750    0.0     0.0     0.0     0.0     1.0  \n",
       "3  0.128713  0.782946  0.3125    0.0     0.0     1.0     0.0     0.0  \n",
       "4  0.133663  0.763566  0.3750    0.0     0.0     0.0     0.0     1.0  "
      ]
     },
     "execution_count": 13,
     "metadata": {},
     "output_type": "execute_result"
    }
   ],
   "source": [
    "X_train_scaled.head()"
   ]
  },
  {
   "cell_type": "markdown",
   "metadata": {},
   "source": [
    "# Stage 1 Modeling"
   ]
  },
  {
   "cell_type": "markdown",
   "metadata": {},
   "source": [
    "## Logistic Regression"
   ]
  },
  {
   "cell_type": "code",
   "execution_count": 49,
   "metadata": {},
   "outputs": [],
   "source": [
    "y_train_lb = label_binarize(y_train, classes=[1,2,3,4,5,6,7,8,9,10,11])\n",
    "y_test_lb = label_binarize(y_test, classes=[1,2,3,4,5,6,7,8,9,10,11])"
   ]
  },
  {
   "cell_type": "code",
   "execution_count": 62,
   "metadata": {},
   "outputs": [
    {
     "name": "stdout",
     "output_type": "stream",
     "text": [
      "Total Runtime: 0.1763288974761963 seconds\n"
     ]
    }
   ],
   "source": [
    "log_reg, log_y_preds, log_y_score, log_fpr, log_tpr = build_model(LogisticRegression(),\n",
    "                                                                                X_train_scaled, X_test_scaled,\n",
    "                                                                                y_train_lb, y_test_lb)"
   ]
  },
  {
   "cell_type": "code",
   "execution_count": null,
   "metadata": {},
   "outputs": [],
   "source": [
    "log_y_preds = np.argmax(log_y_preds, axis=1)"
   ]
  },
  {
   "cell_type": "code",
   "execution_count": 81,
   "metadata": {},
   "outputs": [
    {
     "name": "stdout",
     "output_type": "stream",
     "text": [
      "Accuracy: 0.0286\n",
      "\n",
      "Micro Precision: 0.0286\n",
      "Micro Recall: 0.0286\n",
      "Micro F1: 0.0286\n",
      "\n",
      "Macro Precision: 0.0556\n",
      "Macro Recall: 0.0213\n",
      "Macro F1-score: 0.0288\n",
      "\n",
      "Weighted Precision: 0.1095\n",
      "Weighted Recall: 0.0286\n",
      "Weighted F1-score: 0.0423\n"
     ]
    },
    {
     "data": {
      "image/png": "[encoded data removed]",
      "text/plain": [
       "<Figure size 720x720 with 2 Axes>"
      ]
     },
     "metadata": {},
     "output_type": "display_data"
    }
   ],
   "source": [
    "print_model_metrics(log_y_preds, log_y_score)"
   ]
  },
  {
   "cell_type": "markdown",
   "metadata": {},
   "source": [
    "## Random Forest"
   ]
  },
  {
   "cell_type": "code",
   "execution_count": 32,
   "metadata": {},
   "outputs": [
    {
     "name": "stdout",
     "output_type": "stream",
     "text": [
      "Total Runtime: 0.18057870864868164 seconds\n"
     ]
    }
   ],
   "source": [
    "# tried scaled data as well, but better results achieved with non-scaled data\n",
    "rf, rf_y_preds, rf_y_score = build_model(RandomForestClassifier(),\n",
    "                                                         X_train, X_test,\n",
    "                                                         y_train, y_test,\n",
    "                                                        decision_function=False)"
   ]
  },
  {
   "cell_type": "code",
   "execution_count": 33,
   "metadata": {},
   "outputs": [
    {
     "name": "stdout",
     "output_type": "stream",
     "text": [
      "Accuracy: 0.6857\n",
      "\n",
      "Micro Precision: 0.6857\n",
      "Micro Recall: 0.6857\n",
      "Micro F1: 0.6857\n",
      "\n",
      "Macro Precision: 0.5212\n",
      "Macro Recall: 0.6399\n",
      "Macro F1-score: 0.5638\n",
      "\n",
      "Weighted Precision: 0.6424\n",
      "Weighted Recall: 0.6857\n",
      "Weighted F1-score: 0.6544\n"
     ]
    },
    {
     "data": {
      "image/png": "[encoded data removed]",
      "text/plain": [
       "<Figure size 720x720 with 2 Axes>"
      ]
     },
     "metadata": {},
     "output_type": "display_data"
    }
   ],
   "source": [
    "print_model_metrics(rf_y_preds, rf_y_score)"
   ]
  },
  {
   "cell_type": "code",
   "execution_count": 34,
   "metadata": {},
   "outputs": [
    {
     "data": {
      "image/png": "[encoded data removed]",
      "text/plain": [
       "<Figure size 1008x720 with 1 Axes>"
      ]
     },
     "metadata": {},
     "output_type": "display_data"
    }
   ],
   "source": [
    "plot_feature_importances(rf)"
   ]
  },
  {
   "cell_type": "markdown",
   "metadata": {},
   "source": [
    "**Gridsearch**"
   ]
  },
  {
   "cell_type": "code",
   "execution_count": 19,
   "metadata": {},
   "outputs": [
    {
     "data": {
      "text/plain": [
       "GridSearchCV(estimator=RandomForestClassifier(),\n",
       "             param_grid={'criterion': ['gini', 'entropy'],\n",
       "                         'min_samples_leaf': [3, 5, 10],\n",
       "                         'min_samples_split': [5, 10, 15],\n",
       "                         'n_estimators': [100, 200, 300, 400]})"
      ]
     },
     "execution_count": 19,
     "metadata": {},
     "output_type": "execute_result"
    }
   ],
   "source": [
    "rf_param_grid = {\"n_estimators\": [100,200,300,400],\n",
    "                  \"min_samples_leaf\": [3, 5, 10],\n",
    "                  \"min_samples_split\": [5,10,15],\n",
    "                  \"criterion\": [\"gini\", \"entropy\"]\n",
    "                }\n",
    "\n",
    "rf_grid_search = GridSearchCV(rf, rf_param_grid)\n",
    "\n",
    "rf_grid_search.fit(X_train_scaled, y_train)"
   ]
  },
  {
   "cell_type": "code",
   "execution_count": 20,
   "metadata": {},
   "outputs": [
    {
     "name": "stdout",
     "output_type": "stream",
     "text": [
      "Training Accuracy: 72.51%\n",
      "\n",
      "Optimal Parameters: {'criterion': 'gini', 'min_samples_leaf': 3, 'min_samples_split': 10, 'n_estimators': 300}\n"
     ]
    }
   ],
   "source": [
    "print(f\"Training Accuracy: {rf_grid_search.best_score_ :.2%}\")\n",
    "print(\"\")\n",
    "print(f\"Optimal Parameters: {rf_grid_search.best_params_}\")"
   ]
  },
  {
   "cell_type": "code",
   "execution_count": 35,
   "metadata": {},
   "outputs": [
    {
     "name": "stdout",
     "output_type": "stream",
     "text": [
      "Total Runtime: 117.2848129272461 seconds\n"
     ]
    }
   ],
   "source": [
    "rf_gs, rf_gs_y_preds, rf_gs_y_score = build_model(GridSearchCV(rf, param_grid=rf_param_grid),\n",
    "                                                         X_train, X_test,\n",
    "                                                         y_train, y_test,\n",
    "                                                        decision_function=False)"
   ]
  },
  {
   "cell_type": "code",
   "execution_count": 36,
   "metadata": {},
   "outputs": [
    {
     "name": "stdout",
     "output_type": "stream",
     "text": [
      "Accuracy: 0.6857\n",
      "\n",
      "Micro Precision: 0.6857\n",
      "Micro Recall: 0.6857\n",
      "Micro F1: 0.6857\n",
      "\n",
      "Macro Precision: 0.5233\n",
      "Macro Recall: 0.6530\n",
      "Macro F1-score: 0.5668\n",
      "\n",
      "Weighted Precision: 0.6349\n",
      "Weighted Recall: 0.6857\n",
      "Weighted F1-score: 0.6461\n"
     ]
    },
    {
     "data": {
      "image/png": "[encoded data removed]",
      "text/plain": [
       "<Figure size 720x720 with 2 Axes>"
      ]
     },
     "metadata": {},
     "output_type": "display_data"
    }
   ],
   "source": [
    "print_model_metrics(rf_gs_y_preds, rf_gs_y_score)"
   ]
  },
  {
   "cell_type": "code",
   "execution_count": 37,
   "metadata": {},
   "outputs": [
    {
     "data": {
      "text/plain": [
       "{'criterion': 'entropy',\n",
       " 'min_samples_leaf': 3,\n",
       " 'min_samples_split': 5,\n",
       " 'n_estimators': 300}"
      ]
     },
     "execution_count": 37,
     "metadata": {},
     "output_type": "execute_result"
    }
   ],
   "source": [
    "rf_gs.best_params_"
   ]
  },
  {
   "cell_type": "code",
   "execution_count": 38,
   "metadata": {},
   "outputs": [
    {
     "data": {
      "text/plain": [
       "0.7346109175377468"
      ]
     },
     "execution_count": 38,
     "metadata": {},
     "output_type": "execute_result"
    }
   ],
   "source": [
    "rf_gs.best_score_"
   ]
  },
  {
   "cell_type": "code",
   "execution_count": 41,
   "metadata": {},
   "outputs": [
    {
     "name": "stdout",
     "output_type": "stream",
     "text": [
      "Training Accuracy: 0.9516908212560387\n",
      "Test Accuracy: 0.6857142857142857\n"
     ]
    }
   ],
   "source": [
    "print(f'Training Accuracy: {rf_gs.score(X_train, y_train)}')\n",
    "print(f'Test Accuracy: {rf_gs.score(X_test, y_test)}')"
   ]
  },
  {
   "cell_type": "markdown",
   "metadata": {},
   "source": [
    "## Gradient Boost"
   ]
  },
  {
   "cell_type": "code",
   "execution_count": null,
   "metadata": {},
   "outputs": [],
   "source": []
  },
  {
   "cell_type": "code",
   "execution_count": 48,
   "metadata": {},
   "outputs": [
    {
     "name": "stdout",
     "output_type": "stream",
     "text": [
      "Total Runtime: 1.4865288734436035 seconds\n"
     ]
    }
   ],
   "source": [
    "gb, gb_y_preds, gb_y_score = build_model(GradientBoostingClassifier(),\n",
    "                                         X_train, X_test, y_train, y_test)"
   ]
  },
  {
   "cell_type": "code",
   "execution_count": 49,
   "metadata": {},
   "outputs": [
    {
     "name": "stdout",
     "output_type": "stream",
     "text": [
      "Accuracy: 0.6286\n",
      "\n",
      "Micro Precision: 0.6286\n",
      "Micro Recall: 0.6286\n",
      "Micro F1: 0.6286\n",
      "\n",
      "Macro Precision: 0.5202\n",
      "Macro Recall: 0.5969\n",
      "Macro F1-score: 0.5326\n",
      "\n",
      "Weighted Precision: 0.6540\n",
      "Weighted Recall: 0.6286\n",
      "Weighted F1-score: 0.6257\n"
     ]
    },
    {
     "data": {
      "image/png": "[encoded data removed]",
      "text/plain": [
       "<Figure size 720x720 with 2 Axes>"
      ]
     },
     "metadata": {},
     "output_type": "display_data"
    }
   ],
   "source": [
    "print_model_metrics(gb_y_preds, gb_y_score)"
   ]
  },
  {
   "cell_type": "code",
   "execution_count": 50,
   "metadata": {},
   "outputs": [
    {
     "data": {
      "image/png": "[encoded data removed]",
      "text/plain": [
       "<Figure size 1008x720 with 1 Axes>"
      ]
     },
     "metadata": {},
     "output_type": "display_data"
    }
   ],
   "source": [
    "plot_feature_importances(gb)"
   ]
  },
  {
   "cell_type": "markdown",
   "metadata": {},
   "source": [
    "**Gridsearch**"
   ]
  },
  {
   "cell_type": "code",
   "execution_count": 52,
   "metadata": {},
   "outputs": [
    {
     "name": "stdout",
     "output_type": "stream",
     "text": [
      "Total Runtime: 68.50307726860046 seconds\n"
     ]
    }
   ],
   "source": [
    "gb_param_grid = {\"n_estimators\": [50, 100, 250],\n",
    "                  \"learning_rate\": [.005, .01, .1]\n",
    "                }\n",
    "\n",
    "gb_gs, gb_gs_y_preds, gb_gs_y_score = build_model(GridSearchCV(gb, param_grid=gb_param_grid),\n",
    "                                                         X_train, X_test,\n",
    "                                                         y_train, y_test,\n",
    "                                                        decision_function=False)"
   ]
  },
  {
   "cell_type": "code",
   "execution_count": 53,
   "metadata": {},
   "outputs": [
    {
     "name": "stdout",
     "output_type": "stream",
     "text": [
      "Accuracy: 0.6286\n",
      "\n",
      "Micro Precision: 0.6286\n",
      "Micro Recall: 0.6286\n",
      "Micro F1: 0.6286\n",
      "\n",
      "Macro Precision: 0.5133\n",
      "Macro Recall: 0.5793\n",
      "Macro F1-score: 0.5206\n",
      "\n",
      "Weighted Precision: 0.6452\n",
      "Weighted Recall: 0.6286\n",
      "Weighted F1-score: 0.6233\n"
     ]
    },
    {
     "data": {
      "image/png": "[encoded data removed]",
      "text/plain": [
       "<Figure size 720x720 with 2 Axes>"
      ]
     },
     "metadata": {},
     "output_type": "display_data"
    }
   ],
   "source": [
    "print_model_metrics(gb_gs_y_preds, gb_gs_y_score)"
   ]
  },
  {
   "cell_type": "code",
   "execution_count": 55,
   "metadata": {},
   "outputs": [
    {
     "name": "stdout",
     "output_type": "stream",
     "text": [
      "{'learning_rate': 0.1, 'n_estimators': 50}\n",
      "Training Accuracy: 1.0\n",
      "Test Accuracy: 0.6285714285714286\n"
     ]
    }
   ],
   "source": [
    "print(gb_gs.best_params_)\n",
    "\n",
    "print(f'Training Accuracy: {gb_gs.score(X_train, y_train)}')\n",
    "print(f'Test Accuracy: {gb_gs.score(X_test, y_test)}')"
   ]
  },
  {
   "cell_type": "markdown",
   "metadata": {},
   "source": [
    "## AdaBoost"
   ]
  },
  {
   "cell_type": "code",
   "execution_count": 89,
   "metadata": {},
   "outputs": [
    {
     "name": "stdout",
     "output_type": "stream",
     "text": [
      "Total Runtime: 0.14054489135742188 seconds\n"
     ]
    }
   ],
   "source": [
    "ada, ada_y_preds, ada_y_score = build_model(AdaBoostClassifier(algorithm=\"SAMME\",\n",
    "                                                              learning_rate=.05),\n",
    "                                            X_train, X_test, y_train, y_test)"
   ]
  },
  {
   "cell_type": "code",
   "execution_count": 90,
   "metadata": {},
   "outputs": [
    {
     "name": "stdout",
     "output_type": "stream",
     "text": [
      "Accuracy: 0.5429\n",
      "\n",
      "Micro Precision: 0.5429\n",
      "Micro Recall: 0.5429\n",
      "Micro F1: 0.5429\n",
      "\n",
      "Macro Precision: 0.1915\n",
      "Macro Recall: 0.2597\n",
      "Macro F1-score: 0.2120\n",
      "\n",
      "Weighted Precision: 0.3745\n",
      "Weighted Recall: 0.5429\n",
      "Weighted F1-score: 0.4218\n"
     ]
    },
    {
     "data": {
      "image/png": "[encoded data removed]",
      "text/plain": [
       "<Figure size 720x720 with 2 Axes>"
      ]
     },
     "metadata": {},
     "output_type": "display_data"
    }
   ],
   "source": [
    "print_model_metrics(ada_y_preds, ada_y_score)"
   ]
  },
  {
   "cell_type": "code",
   "execution_count": null,
   "metadata": {},
   "outputs": [],
   "source": []
  }
 ],
 "metadata": {
  "kernelspec": {
   "display_name": "Python 3",
   "language": "python",
   "name": "python3"
  },
  "language_info": {
   "codemirror_mode": {
    "name": "ipython",
    "version": 3
   },
   "file_extension": ".py",
   "mimetype": "text/x-python",
   "name": "python",
   "nbconvert_exporter": "python",
   "pygments_lexer": "ipython3",
   "version": "3.8.5"
  },
  "toc": {
   "base_numbering": 1,
   "nav_menu": {},
   "number_sections": true,
   "sideBar": true,
   "skip_h1_title": false,
   "title_cell": "Table of Contents",
   "title_sidebar": "Contents",
   "toc_cell": false,
   "toc_position": {},
   "toc_section_display": true,
   "toc_window_display": false
  }
 },
 "nbformat": 4,
 "nbformat_minor": 4
}
