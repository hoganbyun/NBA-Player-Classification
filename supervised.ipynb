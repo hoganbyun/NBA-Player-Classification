{
 "cells": [
  {
   "cell_type": "markdown",
   "metadata": {},
   "source": [
    "# Supervised Learning Models"
   ]
  },
  {
   "cell_type": "code",
   "execution_count": 1,
   "metadata": {},
   "outputs": [],
   "source": [
    "import matplotlib\n",
    "import matplotlib.pyplot as plt\n",
    "matplotlib.style.use('fivethirtyeight')\n",
    "import seaborn as sns\n",
    "import numpy as np\n",
    "import pandas as pd\n",
    "pd.set_option('display.max_columns',35)\n",
    "\n",
    "import warnings\n",
    "warnings.filterwarnings('ignore')\n",
    "\n",
    "import itertools, math, time, re, pickle\n",
    "\n",
    "from sklearn.model_selection import train_test_split, GridSearchCV, cross_val_score, StratifiedKFold, ShuffleSplit\n",
    "from sklearn.ensemble import GradientBoostingClassifier, AdaBoostClassifier, RandomForestClassifier\n",
    "from sklearn.linear_model import LogisticRegression\n",
    "from sklearn.metrics import accuracy_score, roc_auc_score, auc, confusion_matrix, precision_score, recall_score, roc_curve, f1_score\n",
    "from sklearn.preprocessing import MinMaxScaler, StandardScaler, Normalizer\n",
    "from sklearn.multiclass import OneVsRestClassifier\n",
    "from sklearn.preprocessing import label_binarize, LabelBinarizer\n",
    "from sklearn.svm import SVC\n",
    "from xgboost import XGBClassifier\n",
    "\n",
    "\n",
    "import keras\n",
    "from keras.models import Sequential\n",
    "from keras.layers import Dense, Dropout\n",
    "from keras.callbacks import ModelCheckpoint\n",
    "from radar_plotting import plot_radar\n",
    "\n",
    "from sklearn.model_selection import cross_val_score\n",
    "from sklearn.model_selection import KFold"
   ]
  },
  {
   "cell_type": "markdown",
   "metadata": {},
   "source": [
    "This notebook uses the data/labels created from the unsupervised learning notebook."
   ]
  },
  {
   "cell_type": "markdown",
   "metadata": {},
   "source": [
    "## Pre-Modeling Prep"
   ]
  },
  {
   "cell_type": "code",
   "execution_count": 2,
   "metadata": {},
   "outputs": [],
   "source": [
    "df = pd.read_csv('results2/kmeans_results.csv')"
   ]
  },
  {
   "cell_type": "code",
   "execution_count": 3,
   "metadata": {
    "scrolled": true
   },
   "outputs": [
    {
     "data": {
      "text/html": [
       "<div>\n",
       "<style scoped>\n",
       "    .dataframe tbody tr th:only-of-type {\n",
       "        vertical-align: middle;\n",
       "    }\n",
       "\n",
       "    .dataframe tbody tr th {\n",
       "        vertical-align: top;\n",
       "    }\n",
       "\n",
       "    .dataframe thead th {\n",
       "        text-align: right;\n",
       "    }\n",
       "</style>\n",
       "<table border=\"1\" class=\"dataframe\">\n",
       "  <thead>\n",
       "    <tr style=\"text-align: right;\">\n",
       "      <th></th>\n",
       "      <th>Player</th>\n",
       "      <th>GP</th>\n",
       "      <th>MIN</th>\n",
       "      <th>PTS</th>\n",
       "      <th>FG%</th>\n",
       "      <th>3PA</th>\n",
       "      <th>3P%</th>\n",
       "      <th>REB</th>\n",
       "      <th>AST</th>\n",
       "      <th>TO</th>\n",
       "      <th>STL</th>\n",
       "      <th>BLK</th>\n",
       "      <th>Close FGA</th>\n",
       "      <th>Close FG%</th>\n",
       "      <th>Mid FGA</th>\n",
       "      <th>Mid FG%</th>\n",
       "      <th>Post_Ups</th>\n",
       "      <th>Drives</th>\n",
       "      <th>Height</th>\n",
       "      <th>Pos</th>\n",
       "      <th>TEAM</th>\n",
       "      <th>Class</th>\n",
       "    </tr>\n",
       "  </thead>\n",
       "  <tbody>\n",
       "    <tr>\n",
       "      <th>0</th>\n",
       "      <td>Aaron Gordon: 2015</td>\n",
       "      <td>78.0</td>\n",
       "      <td>23.9</td>\n",
       "      <td>9.2</td>\n",
       "      <td>47.3</td>\n",
       "      <td>1.8</td>\n",
       "      <td>29.6</td>\n",
       "      <td>6.5</td>\n",
       "      <td>1.6</td>\n",
       "      <td>0.8</td>\n",
       "      <td>0.8</td>\n",
       "      <td>0.7</td>\n",
       "      <td>4.3</td>\n",
       "      <td>60.5</td>\n",
       "      <td>1.3</td>\n",
       "      <td>31.7</td>\n",
       "      <td>0.6</td>\n",
       "      <td>2.2</td>\n",
       "      <td>81.0</td>\n",
       "      <td>PF</td>\n",
       "      <td>ORL</td>\n",
       "      <td>2</td>\n",
       "    </tr>\n",
       "    <tr>\n",
       "      <th>1</th>\n",
       "      <td>Al Horford: 2015</td>\n",
       "      <td>82.0</td>\n",
       "      <td>32.1</td>\n",
       "      <td>15.2</td>\n",
       "      <td>50.5</td>\n",
       "      <td>3.1</td>\n",
       "      <td>34.4</td>\n",
       "      <td>7.3</td>\n",
       "      <td>3.2</td>\n",
       "      <td>1.3</td>\n",
       "      <td>0.8</td>\n",
       "      <td>1.5</td>\n",
       "      <td>5.6</td>\n",
       "      <td>64.3</td>\n",
       "      <td>4.1</td>\n",
       "      <td>44.4</td>\n",
       "      <td>3.8</td>\n",
       "      <td>2.1</td>\n",
       "      <td>82.0</td>\n",
       "      <td>C</td>\n",
       "      <td>ATL</td>\n",
       "      <td>2</td>\n",
       "    </tr>\n",
       "    <tr>\n",
       "      <th>2</th>\n",
       "      <td>Al Jefferson: 2015</td>\n",
       "      <td>47.0</td>\n",
       "      <td>23.3</td>\n",
       "      <td>12.0</td>\n",
       "      <td>48.5</td>\n",
       "      <td>0.0</td>\n",
       "      <td>0.0</td>\n",
       "      <td>6.4</td>\n",
       "      <td>1.5</td>\n",
       "      <td>0.7</td>\n",
       "      <td>0.6</td>\n",
       "      <td>0.9</td>\n",
       "      <td>6.8</td>\n",
       "      <td>51.5</td>\n",
       "      <td>4.0</td>\n",
       "      <td>43.9</td>\n",
       "      <td>11.3</td>\n",
       "      <td>0.0</td>\n",
       "      <td>82.0</td>\n",
       "      <td>C</td>\n",
       "      <td>CHA</td>\n",
       "      <td>3</td>\n",
       "    </tr>\n",
       "    <tr>\n",
       "      <th>3</th>\n",
       "      <td>Andre Drummond: 2015</td>\n",
       "      <td>81.0</td>\n",
       "      <td>32.9</td>\n",
       "      <td>16.2</td>\n",
       "      <td>52.1</td>\n",
       "      <td>0.1</td>\n",
       "      <td>33.3</td>\n",
       "      <td>14.8</td>\n",
       "      <td>0.8</td>\n",
       "      <td>1.9</td>\n",
       "      <td>1.5</td>\n",
       "      <td>1.4</td>\n",
       "      <td>12.2</td>\n",
       "      <td>54.1</td>\n",
       "      <td>0.8</td>\n",
       "      <td>25.0</td>\n",
       "      <td>6.0</td>\n",
       "      <td>0.9</td>\n",
       "      <td>83.0</td>\n",
       "      <td>C</td>\n",
       "      <td>DET</td>\n",
       "      <td>5</td>\n",
       "    </tr>\n",
       "    <tr>\n",
       "      <th>4</th>\n",
       "      <td>Andrew Bogut: 2015</td>\n",
       "      <td>70.0</td>\n",
       "      <td>20.7</td>\n",
       "      <td>5.4</td>\n",
       "      <td>62.7</td>\n",
       "      <td>0.0</td>\n",
       "      <td>100.0</td>\n",
       "      <td>7.0</td>\n",
       "      <td>2.3</td>\n",
       "      <td>1.2</td>\n",
       "      <td>0.5</td>\n",
       "      <td>1.6</td>\n",
       "      <td>3.8</td>\n",
       "      <td>65.8</td>\n",
       "      <td>0.1</td>\n",
       "      <td>30.0</td>\n",
       "      <td>2.5</td>\n",
       "      <td>0.1</td>\n",
       "      <td>84.0</td>\n",
       "      <td>C</td>\n",
       "      <td>GSW</td>\n",
       "      <td>2</td>\n",
       "    </tr>\n",
       "  </tbody>\n",
       "</table>\n",
       "</div>"
      ],
      "text/plain": [
       "                 Player    GP   MIN   PTS   FG%  3PA    3P%   REB  AST   TO  \\\n",
       "0    Aaron Gordon: 2015  78.0  23.9   9.2  47.3  1.8   29.6   6.5  1.6  0.8   \n",
       "1      Al Horford: 2015  82.0  32.1  15.2  50.5  3.1   34.4   7.3  3.2  1.3   \n",
       "2    Al Jefferson: 2015  47.0  23.3  12.0  48.5  0.0    0.0   6.4  1.5  0.7   \n",
       "3  Andre Drummond: 2015  81.0  32.9  16.2  52.1  0.1   33.3  14.8  0.8  1.9   \n",
       "4    Andrew Bogut: 2015  70.0  20.7   5.4  62.7  0.0  100.0   7.0  2.3  1.2   \n",
       "\n",
       "   STL  BLK  Close FGA  Close FG%  Mid FGA  Mid FG%  Post_Ups  Drives  Height  \\\n",
       "0  0.8  0.7        4.3       60.5      1.3     31.7       0.6     2.2    81.0   \n",
       "1  0.8  1.5        5.6       64.3      4.1     44.4       3.8     2.1    82.0   \n",
       "2  0.6  0.9        6.8       51.5      4.0     43.9      11.3     0.0    82.0   \n",
       "3  1.5  1.4       12.2       54.1      0.8     25.0       6.0     0.9    83.0   \n",
       "4  0.5  1.6        3.8       65.8      0.1     30.0       2.5     0.1    84.0   \n",
       "\n",
       "  Pos TEAM  Class  \n",
       "0  PF  ORL      2  \n",
       "1   C  ATL      2  \n",
       "2   C  CHA      3  \n",
       "3   C  DET      5  \n",
       "4   C  GSW      2  "
      ]
     },
     "execution_count": 3,
     "metadata": {},
     "output_type": "execute_result"
    }
   ],
   "source": [
    "df.head()"
   ]
  },
  {
   "cell_type": "markdown",
   "metadata": {},
   "source": [
    "**Classes:**\n",
    "\n",
    "- 0: Ball-Dominant Scorer - \"Best\" player on a team, main contributor in anything offensive related\n",
    "- 1: Role Player - Contributes but does not excel in any area\n",
    "- 2: Stretch Big - Shoots more 3PT and drives in more than a traditional big in exchange for less rebounds\n",
    "- 3: Traditional Big - Rebounds and blocks shots well, rarely shoots and almost exclusively takes shots inside\n",
    "- 4: Secondary Guard - Drives and assists with above average 3PT shooting, shortest average height\n",
    "- 5: High-Usage Big - Scores a lot, rebounds well, takes a lot of shots inside the paint at a high percentage"
   ]
  },
  {
   "cell_type": "code",
   "execution_count": 4,
   "metadata": {
    "scrolled": false
   },
   "outputs": [
    {
     "data": {
      "text/plain": [
       "1    408\n",
       "4    334\n",
       "2    232\n",
       "0    178\n",
       "3    128\n",
       "5    103\n",
       "Name: Class, dtype: int64"
      ]
     },
     "execution_count": 4,
     "metadata": {},
     "output_type": "execute_result"
    }
   ],
   "source": [
    "df['Class'].value_counts()"
   ]
  },
  {
   "cell_type": "code",
   "execution_count": 5,
   "metadata": {},
   "outputs": [
    {
     "data": {
      "text/plain": [
       "1    0.295011\n",
       "4    0.241504\n",
       "2    0.167751\n",
       "0    0.128706\n",
       "3    0.092552\n",
       "5    0.074476\n",
       "Name: Class, dtype: float64"
      ]
     },
     "execution_count": 5,
     "metadata": {},
     "output_type": "execute_result"
    }
   ],
   "source": [
    "df['Class'].value_counts() / df['Class'].shape[0]"
   ]
  },
  {
   "cell_type": "markdown",
   "metadata": {},
   "source": [
    "**Takeaways:**\n",
    "\n",
    "- Around 30% of the players are classified as *Role Players*.\n",
    "- *High-Usage Bigs* and *Traditional Bigs* each make up less than 10%, which makes sense because big men, themselves, are broken up into 3 different categories. \n",
    "- The most common non-Role Player is the *Secondary Guard* at almost 25%\n",
    "- *Stretch Bigs* are the highest out of the big men categorizations at 16.8%, which makes sense considering the current era where more players are asked to shoot from distance."
   ]
  },
  {
   "cell_type": "markdown",
   "metadata": {},
   "source": [
    "## Model Functions & Metrics"
   ]
  },
  {
   "cell_type": "markdown",
   "metadata": {},
   "source": [
    "**Build Model Function**"
   ]
  },
  {
   "cell_type": "code",
   "execution_count": 6,
   "metadata": {},
   "outputs": [],
   "source": [
    "def build_model(model, X_train, X_test, y_train, y_test, decision_function=True, n_classes=11):\n",
    "    start = time.time()\n",
    "    \n",
    "    # make sure to uncomment the next line for logistic regression\n",
    "    #clf = OneVsRestClassifier(model)\n",
    "    \n",
    "    # comment this next line for logistic regression\n",
    "    clf = model\n",
    "    clf.fit(X_train,y_train)  \n",
    "    y_hat_test = clf.predict(X_test)\n",
    "      \n",
    "    if decision_function==True:\n",
    "        y_score = clf.decision_function(X_test)\n",
    "    else:\n",
    "        y_score = clf.predict_proba(X_test)[:, 1]\n",
    "        \n",
    "    print('Total Runtime: {} seconds'.format(time.time()-start))\n",
    "    \n",
    "    return clf, y_hat_test, y_score"
   ]
  },
  {
   "cell_type": "markdown",
   "metadata": {},
   "source": [
    "**Plot Feature Importances** "
   ]
  },
  {
   "cell_type": "code",
   "execution_count": 7,
   "metadata": {},
   "outputs": [],
   "source": [
    "def plot_feature_importances(model):\n",
    "    n_features = len(X.columns)\n",
    "    plt.figure(figsize=(14,10))\n",
    "    plt.barh(range(n_features), model.feature_importances_, align='center') \n",
    "    plt.yticks(np.arange(n_features), X.columns.values) \n",
    "    plt.xlabel(\"Feature importance\")\n",
    "    plt.ylabel(\"Features\")\n",
    "    plt.tight_layout()\n",
    "    #plt.savefig('figures/semisupervised/phase_1_features')"
   ]
  },
  {
   "cell_type": "markdown",
   "metadata": {},
   "source": [
    "**Plot Confusion Matrix**"
   ]
  },
  {
   "cell_type": "code",
   "execution_count": 8,
   "metadata": {},
   "outputs": [],
   "source": [
    "def plot_confusion_matrix(cm, title='Confusion matrix', cmap=plt.cm.Blues):\n",
    "    #Create the basic matrix.\n",
    "    plt.figure(figsize=(10,10))\n",
    "    plt.imshow(cm, cmap)\n",
    "    \n",
    "    #Add title and Axis Labels\n",
    "    plt.title(title)\n",
    "    plt.xlabel('Predicted')\n",
    "    plt.ylabel('Actual')\n",
    "\n",
    "    #Add appropriate Axis Scales\n",
    "    class_names = ['1','2', '3', '4', '5', '6']\n",
    "    tick_marks = np.arange(len(class_names))\n",
    "    plt.xticks(tick_marks, class_names)\n",
    "    plt.yticks(tick_marks, class_names)\n",
    "    \n",
    "    #Add Labels to Each Cell\n",
    "    thresh = cm.max()*.75\n",
    "    \n",
    "    #Add a Side Bar Legend Showing Colors\n",
    "    plt.colorbar()\n",
    "    for i, j in itertools.product(range(cm.shape[0]), range(cm.shape[1])):\n",
    "        plt.text(j, i, cm[i, j],\n",
    "                 horizontalalignment=\"center\",\n",
    "                 color=\"white\" if cm[i, j] > thresh else \"black\")\n",
    "    plt.tight_layout()\n",
    "    #plt.savefig('figures/semisupervised/phase2_confusion')"
   ]
  },
  {
   "cell_type": "markdown",
   "metadata": {},
   "source": [
    "**Plot Metrics**"
   ]
  },
  {
   "cell_type": "code",
   "execution_count": 9,
   "metadata": {},
   "outputs": [],
   "source": [
    "def print_model_metrics(y_pred,y_score,y_test):\n",
    "    cm = confusion_matrix(y_test, y_pred)\n",
    "    #print(cm)\n",
    "\n",
    "    plot_confusion_matrix(cm, title='Confusion matrix', cmap=plt.cm.Blues)\n",
    "\n",
    "    accuracy = accuracy_score(y_test,y_pred)\n",
    "    precision = precision_score(y_test,y_pred, average='micro')\n",
    "    recall = recall_score(y_test,y_pred, average='micro')\n",
    "    f1 = f1_score(y_test,y_pred, average='micro')\n",
    "    \n",
    "    #print('Training Set Metrics:')\n",
    "    print('Accuracy: {}\\n'.format(round(accuracy,4)))\n",
    "    print('Micro Precision: {}'.format(round(precision,4)))\n",
    "    print('Micro Recall: {}'.format(round(recall,4)))\n",
    "    print('Micro F1: {}\\n'.format(round(f1,4)))\n",
    "\n",
    "    print('Macro Precision: {:.4f}'.format(precision_score(y_test, y_pred, average='macro')))\n",
    "    print('Macro Recall: {:.4f}'.format(recall_score(y_test, y_pred, average='macro')))\n",
    "    print('Macro F1-score: {:.4f}\\n'.format(f1_score(y_test, y_pred, average='macro')))\n",
    "\n",
    "    print('Weighted Precision: {:.4f}'.format(precision_score(y_test, y_pred, average='weighted')))\n",
    "    print('Weighted Recall: {:.4f}'.format(recall_score(y_test, y_pred, average='weighted')))\n",
    "    print('Weighted F1-score: {:.4f}'.format(f1_score(y_test, y_pred, average='weighted')))"
   ]
  },
  {
   "cell_type": "markdown",
   "metadata": {},
   "source": [
    "## Categorical Variables"
   ]
  },
  {
   "cell_type": "code",
   "execution_count": 15,
   "metadata": {},
   "outputs": [],
   "source": [
    "X = df.drop(['Player', 'GP', 'Class', 'TEAM'], axis=1)\n",
    "y = df['Class']"
   ]
  },
  {
   "cell_type": "code",
   "execution_count": 16,
   "metadata": {},
   "outputs": [
    {
     "data": {
      "text/html": [
       "<div>\n",
       "<style scoped>\n",
       "    .dataframe tbody tr th:only-of-type {\n",
       "        vertical-align: middle;\n",
       "    }\n",
       "\n",
       "    .dataframe tbody tr th {\n",
       "        vertical-align: top;\n",
       "    }\n",
       "\n",
       "    .dataframe thead th {\n",
       "        text-align: right;\n",
       "    }\n",
       "</style>\n",
       "<table border=\"1\" class=\"dataframe\">\n",
       "  <thead>\n",
       "    <tr style=\"text-align: right;\">\n",
       "      <th></th>\n",
       "      <th>MIN</th>\n",
       "      <th>PTS</th>\n",
       "      <th>FG%</th>\n",
       "      <th>3PA</th>\n",
       "      <th>3P%</th>\n",
       "      <th>REB</th>\n",
       "      <th>AST</th>\n",
       "      <th>TO</th>\n",
       "      <th>STL</th>\n",
       "      <th>BLK</th>\n",
       "      <th>Close FGA</th>\n",
       "      <th>Close FG%</th>\n",
       "      <th>Mid FGA</th>\n",
       "      <th>Mid FG%</th>\n",
       "      <th>Post_Ups</th>\n",
       "      <th>Drives</th>\n",
       "      <th>Height</th>\n",
       "      <th>Pos_PF</th>\n",
       "      <th>Pos_PG</th>\n",
       "      <th>Pos_SF</th>\n",
       "      <th>Pos_SG</th>\n",
       "    </tr>\n",
       "  </thead>\n",
       "  <tbody>\n",
       "    <tr>\n",
       "      <th>0</th>\n",
       "      <td>23.9</td>\n",
       "      <td>9.2</td>\n",
       "      <td>47.3</td>\n",
       "      <td>1.8</td>\n",
       "      <td>29.6</td>\n",
       "      <td>6.5</td>\n",
       "      <td>1.6</td>\n",
       "      <td>0.8</td>\n",
       "      <td>0.8</td>\n",
       "      <td>0.7</td>\n",
       "      <td>4.3</td>\n",
       "      <td>60.5</td>\n",
       "      <td>1.3</td>\n",
       "      <td>31.7</td>\n",
       "      <td>0.6</td>\n",
       "      <td>2.2</td>\n",
       "      <td>81.0</td>\n",
       "      <td>1</td>\n",
       "      <td>0</td>\n",
       "      <td>0</td>\n",
       "      <td>0</td>\n",
       "    </tr>\n",
       "    <tr>\n",
       "      <th>1</th>\n",
       "      <td>32.1</td>\n",
       "      <td>15.2</td>\n",
       "      <td>50.5</td>\n",
       "      <td>3.1</td>\n",
       "      <td>34.4</td>\n",
       "      <td>7.3</td>\n",
       "      <td>3.2</td>\n",
       "      <td>1.3</td>\n",
       "      <td>0.8</td>\n",
       "      <td>1.5</td>\n",
       "      <td>5.6</td>\n",
       "      <td>64.3</td>\n",
       "      <td>4.1</td>\n",
       "      <td>44.4</td>\n",
       "      <td>3.8</td>\n",
       "      <td>2.1</td>\n",
       "      <td>82.0</td>\n",
       "      <td>0</td>\n",
       "      <td>0</td>\n",
       "      <td>0</td>\n",
       "      <td>0</td>\n",
       "    </tr>\n",
       "    <tr>\n",
       "      <th>2</th>\n",
       "      <td>23.3</td>\n",
       "      <td>12.0</td>\n",
       "      <td>48.5</td>\n",
       "      <td>0.0</td>\n",
       "      <td>0.0</td>\n",
       "      <td>6.4</td>\n",
       "      <td>1.5</td>\n",
       "      <td>0.7</td>\n",
       "      <td>0.6</td>\n",
       "      <td>0.9</td>\n",
       "      <td>6.8</td>\n",
       "      <td>51.5</td>\n",
       "      <td>4.0</td>\n",
       "      <td>43.9</td>\n",
       "      <td>11.3</td>\n",
       "      <td>0.0</td>\n",
       "      <td>82.0</td>\n",
       "      <td>0</td>\n",
       "      <td>0</td>\n",
       "      <td>0</td>\n",
       "      <td>0</td>\n",
       "    </tr>\n",
       "    <tr>\n",
       "      <th>3</th>\n",
       "      <td>32.9</td>\n",
       "      <td>16.2</td>\n",
       "      <td>52.1</td>\n",
       "      <td>0.1</td>\n",
       "      <td>33.3</td>\n",
       "      <td>14.8</td>\n",
       "      <td>0.8</td>\n",
       "      <td>1.9</td>\n",
       "      <td>1.5</td>\n",
       "      <td>1.4</td>\n",
       "      <td>12.2</td>\n",
       "      <td>54.1</td>\n",
       "      <td>0.8</td>\n",
       "      <td>25.0</td>\n",
       "      <td>6.0</td>\n",
       "      <td>0.9</td>\n",
       "      <td>83.0</td>\n",
       "      <td>0</td>\n",
       "      <td>0</td>\n",
       "      <td>0</td>\n",
       "      <td>0</td>\n",
       "    </tr>\n",
       "    <tr>\n",
       "      <th>4</th>\n",
       "      <td>20.7</td>\n",
       "      <td>5.4</td>\n",
       "      <td>62.7</td>\n",
       "      <td>0.0</td>\n",
       "      <td>100.0</td>\n",
       "      <td>7.0</td>\n",
       "      <td>2.3</td>\n",
       "      <td>1.2</td>\n",
       "      <td>0.5</td>\n",
       "      <td>1.6</td>\n",
       "      <td>3.8</td>\n",
       "      <td>65.8</td>\n",
       "      <td>0.1</td>\n",
       "      <td>30.0</td>\n",
       "      <td>2.5</td>\n",
       "      <td>0.1</td>\n",
       "      <td>84.0</td>\n",
       "      <td>0</td>\n",
       "      <td>0</td>\n",
       "      <td>0</td>\n",
       "      <td>0</td>\n",
       "    </tr>\n",
       "  </tbody>\n",
       "</table>\n",
       "</div>"
      ],
      "text/plain": [
       "    MIN   PTS   FG%  3PA    3P%   REB  AST   TO  STL  BLK  Close FGA  \\\n",
       "0  23.9   9.2  47.3  1.8   29.6   6.5  1.6  0.8  0.8  0.7        4.3   \n",
       "1  32.1  15.2  50.5  3.1   34.4   7.3  3.2  1.3  0.8  1.5        5.6   \n",
       "2  23.3  12.0  48.5  0.0    0.0   6.4  1.5  0.7  0.6  0.9        6.8   \n",
       "3  32.9  16.2  52.1  0.1   33.3  14.8  0.8  1.9  1.5  1.4       12.2   \n",
       "4  20.7   5.4  62.7  0.0  100.0   7.0  2.3  1.2  0.5  1.6        3.8   \n",
       "\n",
       "   Close FG%  Mid FGA  Mid FG%  Post_Ups  Drives  Height  Pos_PF  Pos_PG  \\\n",
       "0       60.5      1.3     31.7       0.6     2.2    81.0       1       0   \n",
       "1       64.3      4.1     44.4       3.8     2.1    82.0       0       0   \n",
       "2       51.5      4.0     43.9      11.3     0.0    82.0       0       0   \n",
       "3       54.1      0.8     25.0       6.0     0.9    83.0       0       0   \n",
       "4       65.8      0.1     30.0       2.5     0.1    84.0       0       0   \n",
       "\n",
       "   Pos_SF  Pos_SG  \n",
       "0       0       0  \n",
       "1       0       0  \n",
       "2       0       0  \n",
       "3       0       0  \n",
       "4       0       0  "
      ]
     },
     "execution_count": 16,
     "metadata": {},
     "output_type": "execute_result"
    }
   ],
   "source": [
    "# get dummy variables for position\n",
    "X = pd.get_dummies(X, drop_first=True)\n",
    "X.head()"
   ]
  },
  {
   "cell_type": "markdown",
   "metadata": {},
   "source": [
    "## Train Test Split"
   ]
  },
  {
   "cell_type": "code",
   "execution_count": 17,
   "metadata": {},
   "outputs": [],
   "source": [
    "X_train, X_test, y_train, y_test = train_test_split(X, y, random_state=17)"
   ]
  },
  {
   "cell_type": "code",
   "execution_count": 18,
   "metadata": {},
   "outputs": [
    {
     "data": {
      "text/plain": [
       "654     4\n",
       "318     4\n",
       "1088    4\n",
       "153     5\n",
       "808     0\n",
       "       ..\n",
       "1337    5\n",
       "406     1\n",
       "143     2\n",
       "1265    1\n",
       "623     1\n",
       "Name: Class, Length: 1037, dtype: int64"
      ]
     },
     "execution_count": 18,
     "metadata": {},
     "output_type": "execute_result"
    }
   ],
   "source": [
    "y_train"
   ]
  },
  {
   "cell_type": "code",
   "execution_count": 19,
   "metadata": {},
   "outputs": [],
   "source": [
    "y_train = y_train.astype(int)\n",
    "y_test = y_test.astype(int)"
   ]
  },
  {
   "cell_type": "markdown",
   "metadata": {},
   "source": [
    "## Scale Data\n",
    "Scaling is done after the train test split in order to ensure that the training set is not influenced at all by the test set."
   ]
  },
  {
   "cell_type": "code",
   "execution_count": 20,
   "metadata": {},
   "outputs": [],
   "source": [
    "# scale using MinMaxScaler\n",
    "mm = MinMaxScaler()\n",
    "X_train_scaled = mm.fit_transform(X_train)\n",
    "X_test_scaled = mm.fit_transform(X_test)\n",
    "\n",
    "# convert back into DataFrame to preserve column names\n",
    "X_train_scaled = pd.DataFrame(X_train_scaled, columns=X.columns)\n",
    "X_test_scaled = pd.DataFrame(X_test_scaled, columns=X.columns)"
   ]
  },
  {
   "cell_type": "code",
   "execution_count": 21,
   "metadata": {},
   "outputs": [
    {
     "data": {
      "text/html": [
       "<div>\n",
       "<style scoped>\n",
       "    .dataframe tbody tr th:only-of-type {\n",
       "        vertical-align: middle;\n",
       "    }\n",
       "\n",
       "    .dataframe tbody tr th {\n",
       "        vertical-align: top;\n",
       "    }\n",
       "\n",
       "    .dataframe thead th {\n",
       "        text-align: right;\n",
       "    }\n",
       "</style>\n",
       "<table border=\"1\" class=\"dataframe\">\n",
       "  <thead>\n",
       "    <tr style=\"text-align: right;\">\n",
       "      <th></th>\n",
       "      <th>MIN</th>\n",
       "      <th>PTS</th>\n",
       "      <th>FG%</th>\n",
       "      <th>3PA</th>\n",
       "      <th>3P%</th>\n",
       "      <th>REB</th>\n",
       "      <th>AST</th>\n",
       "      <th>TO</th>\n",
       "      <th>STL</th>\n",
       "      <th>BLK</th>\n",
       "      <th>Close FGA</th>\n",
       "      <th>Close FG%</th>\n",
       "      <th>Mid FGA</th>\n",
       "      <th>Mid FG%</th>\n",
       "      <th>Post_Ups</th>\n",
       "      <th>Drives</th>\n",
       "      <th>Height</th>\n",
       "      <th>Pos_PF</th>\n",
       "      <th>Pos_PG</th>\n",
       "      <th>Pos_SF</th>\n",
       "      <th>Pos_SG</th>\n",
       "    </tr>\n",
       "  </thead>\n",
       "  <tbody>\n",
       "    <tr>\n",
       "      <th>0</th>\n",
       "      <td>0.368715</td>\n",
       "      <td>0.156051</td>\n",
       "      <td>0.243750</td>\n",
       "      <td>0.153226</td>\n",
       "      <td>0.376</td>\n",
       "      <td>0.253425</td>\n",
       "      <td>0.557522</td>\n",
       "      <td>0.388889</td>\n",
       "      <td>0.565217</td>\n",
       "      <td>0.054054</td>\n",
       "      <td>0.251799</td>\n",
       "      <td>0.352720</td>\n",
       "      <td>0.233333</td>\n",
       "      <td>0.299</td>\n",
       "      <td>0.014388</td>\n",
       "      <td>0.333333</td>\n",
       "      <td>0.222222</td>\n",
       "      <td>0.0</td>\n",
       "      <td>1.0</td>\n",
       "      <td>0.0</td>\n",
       "      <td>0.0</td>\n",
       "    </tr>\n",
       "    <tr>\n",
       "      <th>1</th>\n",
       "      <td>0.664804</td>\n",
       "      <td>0.665605</td>\n",
       "      <td>0.308333</td>\n",
       "      <td>0.830645</td>\n",
       "      <td>0.425</td>\n",
       "      <td>0.164384</td>\n",
       "      <td>0.345133</td>\n",
       "      <td>0.148148</td>\n",
       "      <td>0.434783</td>\n",
       "      <td>0.081081</td>\n",
       "      <td>0.338129</td>\n",
       "      <td>0.287054</td>\n",
       "      <td>0.388889</td>\n",
       "      <td>0.460</td>\n",
       "      <td>0.000000</td>\n",
       "      <td>0.289683</td>\n",
       "      <td>0.333333</td>\n",
       "      <td>0.0</td>\n",
       "      <td>0.0</td>\n",
       "      <td>0.0</td>\n",
       "      <td>1.0</td>\n",
       "    </tr>\n",
       "    <tr>\n",
       "      <th>2</th>\n",
       "      <td>0.452514</td>\n",
       "      <td>0.423567</td>\n",
       "      <td>0.312500</td>\n",
       "      <td>0.459677</td>\n",
       "      <td>0.367</td>\n",
       "      <td>0.123288</td>\n",
       "      <td>0.415929</td>\n",
       "      <td>0.388889</td>\n",
       "      <td>0.260870</td>\n",
       "      <td>0.054054</td>\n",
       "      <td>0.302158</td>\n",
       "      <td>0.454034</td>\n",
       "      <td>0.188889</td>\n",
       "      <td>0.420</td>\n",
       "      <td>0.021583</td>\n",
       "      <td>0.428571</td>\n",
       "      <td>0.333333</td>\n",
       "      <td>0.0</td>\n",
       "      <td>1.0</td>\n",
       "      <td>0.0</td>\n",
       "      <td>0.0</td>\n",
       "    </tr>\n",
       "    <tr>\n",
       "      <th>3</th>\n",
       "      <td>0.525140</td>\n",
       "      <td>0.433121</td>\n",
       "      <td>0.383333</td>\n",
       "      <td>0.290323</td>\n",
       "      <td>0.314</td>\n",
       "      <td>0.534247</td>\n",
       "      <td>0.265487</td>\n",
       "      <td>0.296296</td>\n",
       "      <td>0.391304</td>\n",
       "      <td>0.297297</td>\n",
       "      <td>0.496403</td>\n",
       "      <td>0.512195</td>\n",
       "      <td>0.411111</td>\n",
       "      <td>0.431</td>\n",
       "      <td>0.438849</td>\n",
       "      <td>0.099206</td>\n",
       "      <td>0.833333</td>\n",
       "      <td>0.0</td>\n",
       "      <td>0.0</td>\n",
       "      <td>0.0</td>\n",
       "      <td>0.0</td>\n",
       "    </tr>\n",
       "    <tr>\n",
       "      <th>4</th>\n",
       "      <td>0.709497</td>\n",
       "      <td>0.627389</td>\n",
       "      <td>0.300000</td>\n",
       "      <td>0.532258</td>\n",
       "      <td>0.359</td>\n",
       "      <td>0.075342</td>\n",
       "      <td>0.433628</td>\n",
       "      <td>0.500000</td>\n",
       "      <td>0.434783</td>\n",
       "      <td>0.054054</td>\n",
       "      <td>0.460432</td>\n",
       "      <td>0.375235</td>\n",
       "      <td>0.377778</td>\n",
       "      <td>0.442</td>\n",
       "      <td>0.000000</td>\n",
       "      <td>0.456349</td>\n",
       "      <td>0.222222</td>\n",
       "      <td>0.0</td>\n",
       "      <td>0.0</td>\n",
       "      <td>0.0</td>\n",
       "      <td>1.0</td>\n",
       "    </tr>\n",
       "  </tbody>\n",
       "</table>\n",
       "</div>"
      ],
      "text/plain": [
       "        MIN       PTS       FG%       3PA    3P%       REB       AST  \\\n",
       "0  0.368715  0.156051  0.243750  0.153226  0.376  0.253425  0.557522   \n",
       "1  0.664804  0.665605  0.308333  0.830645  0.425  0.164384  0.345133   \n",
       "2  0.452514  0.423567  0.312500  0.459677  0.367  0.123288  0.415929   \n",
       "3  0.525140  0.433121  0.383333  0.290323  0.314  0.534247  0.265487   \n",
       "4  0.709497  0.627389  0.300000  0.532258  0.359  0.075342  0.433628   \n",
       "\n",
       "         TO       STL       BLK  Close FGA  Close FG%   Mid FGA  Mid FG%  \\\n",
       "0  0.388889  0.565217  0.054054   0.251799   0.352720  0.233333    0.299   \n",
       "1  0.148148  0.434783  0.081081   0.338129   0.287054  0.388889    0.460   \n",
       "2  0.388889  0.260870  0.054054   0.302158   0.454034  0.188889    0.420   \n",
       "3  0.296296  0.391304  0.297297   0.496403   0.512195  0.411111    0.431   \n",
       "4  0.500000  0.434783  0.054054   0.460432   0.375235  0.377778    0.442   \n",
       "\n",
       "   Post_Ups    Drives    Height  Pos_PF  Pos_PG  Pos_SF  Pos_SG  \n",
       "0  0.014388  0.333333  0.222222     0.0     1.0     0.0     0.0  \n",
       "1  0.000000  0.289683  0.333333     0.0     0.0     0.0     1.0  \n",
       "2  0.021583  0.428571  0.333333     0.0     1.0     0.0     0.0  \n",
       "3  0.438849  0.099206  0.833333     0.0     0.0     0.0     0.0  \n",
       "4  0.000000  0.456349  0.222222     0.0     0.0     0.0     1.0  "
      ]
     },
     "execution_count": 21,
     "metadata": {},
     "output_type": "execute_result"
    }
   ],
   "source": [
    "X_train_scaled.head()"
   ]
  },
  {
   "cell_type": "markdown",
   "metadata": {},
   "source": [
    "# Modeling"
   ]
  },
  {
   "cell_type": "markdown",
   "metadata": {},
   "source": [
    "## Random Forest"
   ]
  },
  {
   "cell_type": "code",
   "execution_count": 17,
   "metadata": {},
   "outputs": [
    {
     "name": "stdout",
     "output_type": "stream",
     "text": [
      "Total Runtime: 0.2958650588989258 seconds\n"
     ]
    }
   ],
   "source": [
    "# tried scaled data as well, but better results achieved with non-scaled data\n",
    "rf, rf_y_preds, rf_y_score = build_model(RandomForestClassifier(),\n",
    "                                                         X_train, X_test,\n",
    "                                                         y_train, y_test,\n",
    "                                                        decision_function=False)"
   ]
  },
  {
   "cell_type": "code",
   "execution_count": 18,
   "metadata": {},
   "outputs": [
    {
     "name": "stdout",
     "output_type": "stream",
     "text": [
      "Accuracy: 0.9104\n",
      "\n",
      "Micro Precision: 0.9104\n",
      "Micro Recall: 0.9104\n",
      "Micro F1: 0.9104\n",
      "\n",
      "Macro Precision: 0.9062\n",
      "Macro Recall: 0.9094\n",
      "Macro F1-score: 0.9076\n",
      "\n",
      "Weighted Precision: 0.9111\n",
      "Weighted Recall: 0.9104\n",
      "Weighted F1-score: 0.9104\n"
     ]
    },
    {
     "data": {
      "image/png": "[encoded data removed]",
      "text/plain": [
       "<Figure size 720x720 with 2 Axes>"
      ]
     },
     "metadata": {},
     "output_type": "display_data"
    }
   ],
   "source": [
    "print_model_metrics(rf_y_preds, rf_y_score, y_test)"
   ]
  },
  {
   "cell_type": "code",
   "execution_count": 19,
   "metadata": {},
   "outputs": [
    {
     "data": {
      "image/png": "[encoded data removed]",
      "text/plain": [
       "<Figure size 1008x720 with 1 Axes>"
      ]
     },
     "metadata": {},
     "output_type": "display_data"
    }
   ],
   "source": [
    "plot_feature_importances(rf)"
   ]
  },
  {
   "cell_type": "markdown",
   "metadata": {},
   "source": [
    "**Gridsearch**"
   ]
  },
  {
   "cell_type": "code",
   "execution_count": 20,
   "metadata": {},
   "outputs": [],
   "source": [
    "rf_param_grid = {\"n_estimators\": [100, 200, 300],\n",
    "                  \"min_samples_leaf\": [3, 5],\n",
    "                  \"min_samples_split\": [5,10,15],\n",
    "                  \"criterion\": [\"gini\", \"entropy\"]\n",
    "                }"
   ]
  },
  {
   "cell_type": "code",
   "execution_count": 21,
   "metadata": {},
   "outputs": [
    {
     "name": "stdout",
     "output_type": "stream",
     "text": [
      "Total Runtime: 70.18057656288147 seconds\n"
     ]
    }
   ],
   "source": [
    "rf_gs, rf_gs_y_preds, rf_gs_y_score = build_model(GridSearchCV(rf, param_grid=rf_param_grid),\n",
    "                                                         X_train, X_test,\n",
    "                                                         y_train, y_test,\n",
    "                                                        decision_function=False)"
   ]
  },
  {
   "cell_type": "code",
   "execution_count": 22,
   "metadata": {},
   "outputs": [
    {
     "name": "stdout",
     "output_type": "stream",
     "text": [
      "Accuracy: 0.9133\n",
      "\n",
      "Micro Precision: 0.9133\n",
      "Micro Recall: 0.9133\n",
      "Micro F1: 0.9133\n",
      "\n",
      "Macro Precision: 0.9146\n",
      "Macro Recall: 0.9072\n",
      "Macro F1-score: 0.9096\n",
      "\n",
      "Weighted Precision: 0.9140\n",
      "Weighted Recall: 0.9133\n",
      "Weighted F1-score: 0.9130\n"
     ]
    },
    {
     "data": {
      "image/png": "[encoded data removed]",
      "text/plain": [
       "<Figure size 720x720 with 2 Axes>"
      ]
     },
     "metadata": {},
     "output_type": "display_data"
    }
   ],
   "source": [
    "print_model_metrics(rf_gs_y_preds, rf_gs_y_score, y_test)"
   ]
  },
  {
   "cell_type": "code",
   "execution_count": 23,
   "metadata": {},
   "outputs": [
    {
     "data": {
      "text/plain": [
       "{'criterion': 'entropy',\n",
       " 'min_samples_leaf': 3,\n",
       " 'min_samples_split': 5,\n",
       " 'n_estimators': 200}"
      ]
     },
     "execution_count": 23,
     "metadata": {},
     "output_type": "execute_result"
    }
   ],
   "source": [
    "rf_gs.best_params_"
   ]
  },
  {
   "cell_type": "code",
   "execution_count": 24,
   "metadata": {},
   "outputs": [
    {
     "data": {
      "text/plain": [
       "0.8948764399851357"
      ]
     },
     "execution_count": 24,
     "metadata": {},
     "output_type": "execute_result"
    }
   ],
   "source": [
    "rf_gs.best_score_"
   ]
  },
  {
   "cell_type": "code",
   "execution_count": 25,
   "metadata": {},
   "outputs": [
    {
     "name": "stdout",
     "output_type": "stream",
     "text": [
      "Training Accuracy: 1.0\n",
      "Test Accuracy: 0.9132947976878613\n"
     ]
    }
   ],
   "source": [
    "print(f'Training Accuracy: {rf_gs.score(X_train, y_train)}')\n",
    "print(f'Test Accuracy: {rf_gs.score(X_test, y_test)}')"
   ]
  },
  {
   "cell_type": "markdown",
   "metadata": {},
   "source": [
    "## Gradient Boost"
   ]
  },
  {
   "cell_type": "code",
   "execution_count": 26,
   "metadata": {},
   "outputs": [
    {
     "name": "stdout",
     "output_type": "stream",
     "text": [
      "Total Runtime: 1.9094922542572021 seconds\n"
     ]
    }
   ],
   "source": [
    "gb, gb_y_preds, gb_y_score = build_model(GradientBoostingClassifier(),\n",
    "                                         X_train, X_test, y_train, y_test)"
   ]
  },
  {
   "cell_type": "code",
   "execution_count": 27,
   "metadata": {},
   "outputs": [
    {
     "name": "stdout",
     "output_type": "stream",
     "text": [
      "Accuracy: 0.896\n",
      "\n",
      "Micro Precision: 0.896\n",
      "Micro Recall: 0.896\n",
      "Micro F1: 0.896\n",
      "\n",
      "Macro Precision: 0.8887\n",
      "Macro Recall: 0.8853\n",
      "Macro F1-score: 0.8861\n",
      "\n",
      "Weighted Precision: 0.8957\n",
      "Weighted Recall: 0.8960\n",
      "Weighted F1-score: 0.8954\n"
     ]
    },
    {
     "data": {
      "image/png": "[encoded data removed]",
      "text/plain": [
       "<Figure size 720x720 with 2 Axes>"
      ]
     },
     "metadata": {},
     "output_type": "display_data"
    }
   ],
   "source": [
    "print_model_metrics(gb_y_preds, gb_y_score, y_test)"
   ]
  },
  {
   "cell_type": "code",
   "execution_count": 28,
   "metadata": {},
   "outputs": [
    {
     "data": {
      "image/png": "[encoded data removed]",
      "text/plain": [
       "<Figure size 1008x720 with 1 Axes>"
      ]
     },
     "metadata": {},
     "output_type": "display_data"
    }
   ],
   "source": [
    "plot_feature_importances(gb)"
   ]
  },
  {
   "cell_type": "markdown",
   "metadata": {},
   "source": [
    "**Gridsearch**"
   ]
  },
  {
   "cell_type": "code",
   "execution_count": 29,
   "metadata": {},
   "outputs": [
    {
     "name": "stdout",
     "output_type": "stream",
     "text": [
      "Total Runtime: 88.21212100982666 seconds\n"
     ]
    }
   ],
   "source": [
    "gb_param_grid = {\"n_estimators\": [50, 100, 250],\n",
    "                  \"learning_rate\": [.005, .01, .1]\n",
    "                }\n",
    "\n",
    "gb_gs, gb_gs_y_preds, gb_gs_y_score = build_model(GridSearchCV(gb, param_grid=gb_param_grid),\n",
    "                                                         X_train, X_test,\n",
    "                                                         y_train, y_test,\n",
    "                                                        decision_function=False)"
   ]
  },
  {
   "cell_type": "code",
   "execution_count": 30,
   "metadata": {},
   "outputs": [
    {
     "name": "stdout",
     "output_type": "stream",
     "text": [
      "Accuracy: 0.896\n",
      "\n",
      "Micro Precision: 0.896\n",
      "Micro Recall: 0.896\n",
      "Micro F1: 0.896\n",
      "\n",
      "Macro Precision: 0.8913\n",
      "Macro Recall: 0.8933\n",
      "Macro F1-score: 0.8919\n",
      "\n",
      "Weighted Precision: 0.8964\n",
      "Weighted Recall: 0.8960\n",
      "Weighted F1-score: 0.8959\n"
     ]
    },
    {
     "data": {
      "image/png": "[encoded data removed]",
      "text/plain": [
       "<Figure size 720x720 with 2 Axes>"
      ]
     },
     "metadata": {},
     "output_type": "display_data"
    }
   ],
   "source": [
    "print_model_metrics(gb_gs_y_preds, gb_gs_y_score, y_test)"
   ]
  },
  {
   "cell_type": "code",
   "execution_count": 31,
   "metadata": {},
   "outputs": [
    {
     "name": "stdout",
     "output_type": "stream",
     "text": [
      "{'learning_rate': 0.1, 'n_estimators': 250}\n",
      "Training Accuracy: 1.0\n",
      "Test Accuracy: 0.8959537572254336\n"
     ]
    }
   ],
   "source": [
    "print(gb_gs.best_params_)\n",
    "\n",
    "print(f'Training Accuracy: {gb_gs.score(X_train, y_train)}')\n",
    "print(f'Test Accuracy: {gb_gs.score(X_test, y_test)}')"
   ]
  },
  {
   "cell_type": "markdown",
   "metadata": {},
   "source": [
    "## AdaBoost"
   ]
  },
  {
   "cell_type": "code",
   "execution_count": 26,
   "metadata": {},
   "outputs": [
    {
     "name": "stdout",
     "output_type": "stream",
     "text": [
      "Total Runtime: 0.12432599067687988 seconds\n"
     ]
    }
   ],
   "source": [
    "ada, ada_y_preds, ada_y_score = build_model(AdaBoostClassifier(algorithm=\"SAMME\",\n",
    "                                                              learning_rate=.05),\n",
    "                                            X_train, X_test, y_train, y_test)"
   ]
  },
  {
   "cell_type": "code",
   "execution_count": 27,
   "metadata": {},
   "outputs": [
    {
     "name": "stdout",
     "output_type": "stream",
     "text": [
      "Accuracy: 0.448\n",
      "\n",
      "Micro Precision: 0.448\n",
      "Micro Recall: 0.448\n",
      "Micro F1: 0.448\n",
      "\n",
      "Macro Precision: 0.2959\n",
      "Macro Recall: 0.2810\n",
      "Macro F1-score: 0.2241\n",
      "\n",
      "Weighted Precision: 0.3949\n",
      "Weighted Recall: 0.4480\n",
      "Weighted F1-score: 0.3437\n"
     ]
    },
    {
     "data": {
      "image/png": "[encoded data removed]",
      "text/plain": [
       "<Figure size 720x720 with 2 Axes>"
      ]
     },
     "metadata": {},
     "output_type": "display_data"
    }
   ],
   "source": [
    "print_model_metrics(ada_y_preds, ada_y_score, y_test)"
   ]
  },
  {
   "cell_type": "markdown",
   "metadata": {},
   "source": [
    "## XGBoost"
   ]
  },
  {
   "cell_type": "code",
   "execution_count": 17,
   "metadata": {
    "scrolled": false
   },
   "outputs": [
    {
     "name": "stdout",
     "output_type": "stream",
     "text": [
      "Total Runtime: 0.43471384048461914 seconds\n"
     ]
    }
   ],
   "source": [
    "xgb, xgb_y_preds, xgb_y_score = build_model(XGBClassifier(objective='multi:softmax'), \n",
    "                                            X_train, X_test, y_train, y_test, decision_function=False)"
   ]
  },
  {
   "cell_type": "code",
   "execution_count": 18,
   "metadata": {},
   "outputs": [
    {
     "name": "stdout",
     "output_type": "stream",
     "text": [
      "Accuracy: 0.8873\n",
      "\n",
      "Micro Precision: 0.8873\n",
      "Micro Recall: 0.8873\n",
      "Micro F1: 0.8873\n",
      "\n",
      "Macro Precision: 0.8814\n",
      "Macro Recall: 0.8895\n",
      "Macro F1-score: 0.8845\n",
      "\n",
      "Weighted Precision: 0.8881\n",
      "Weighted Recall: 0.8873\n",
      "Weighted F1-score: 0.8871\n"
     ]
    },
    {
     "data": {
      "image/png": "[encoded data removed]",
      "text/plain": [
       "<Figure size 720x720 with 2 Axes>"
      ]
     },
     "metadata": {},
     "output_type": "display_data"
    }
   ],
   "source": [
    "print_model_metrics(xgb_y_preds, xgb_y_score, y_test)"
   ]
  },
  {
   "cell_type": "code",
   "execution_count": 19,
   "metadata": {},
   "outputs": [
    {
     "data": {
      "image/png": "[encoded data removed]",
      "text/plain": [
       "<Figure size 1008x720 with 1 Axes>"
      ]
     },
     "metadata": {},
     "output_type": "display_data"
    }
   ],
   "source": [
    "plot_feature_importances(xgb)"
   ]
  },
  {
   "cell_type": "code",
   "execution_count": 20,
   "metadata": {},
   "outputs": [],
   "source": [
    "%reset_selective -f xgb_gs"
   ]
  },
  {
   "cell_type": "code",
   "execution_count": 21,
   "metadata": {},
   "outputs": [
    {
     "name": "stdout",
     "output_type": "stream",
     "text": [
      "Total Runtime: 27.010681867599487 seconds\n"
     ]
    }
   ],
   "source": [
    "xgb_param_grid = {\"min_child_weight\": [1, 2],\n",
    "                  \"max_depth\": [4, 6, 7],\n",
    "                  \"learning_rate\": [.001, .01, .1]\n",
    "                }\n",
    "\n",
    "xgb_gs, xgb_gs_y_preds, xgb_gs_y_score = build_model(GridSearchCV(xgb, param_grid=xgb_param_grid),\n",
    "                                                         X_train, X_test,\n",
    "                                                         y_train, y_test,\n",
    "                                                        decision_function=False)"
   ]
  },
  {
   "cell_type": "code",
   "execution_count": 22,
   "metadata": {},
   "outputs": [
    {
     "name": "stdout",
     "output_type": "stream",
     "text": [
      "Accuracy: 0.8757\n",
      "\n",
      "Micro Precision: 0.8757\n",
      "Micro Recall: 0.8757\n",
      "Micro F1: 0.8757\n",
      "\n",
      "Macro Precision: 0.8626\n",
      "Macro Recall: 0.8727\n",
      "Macro F1-score: 0.8670\n",
      "\n",
      "Weighted Precision: 0.8766\n",
      "Weighted Recall: 0.8757\n",
      "Weighted F1-score: 0.8757\n"
     ]
    },
    {
     "data": {
      "image/png": "[encoded data removed]",
      "text/plain": [
       "<Figure size 720x720 with 2 Axes>"
      ]
     },
     "metadata": {},
     "output_type": "display_data"
    }
   ],
   "source": [
    "print_model_metrics(xgb_gs_y_preds, xgb_gs_y_score, y_test)"
   ]
  },
  {
   "cell_type": "code",
   "execution_count": 23,
   "metadata": {
    "scrolled": true
   },
   "outputs": [
    {
     "data": {
      "text/plain": [
       "{'learning_rate': 0.1, 'max_depth': 6, 'min_child_weight': 1}"
      ]
     },
     "execution_count": 23,
     "metadata": {},
     "output_type": "execute_result"
    }
   ],
   "source": [
    "xgb_gs.best_params_"
   ]
  },
  {
   "cell_type": "markdown",
   "metadata": {},
   "source": [
    "Try manually tuning as well."
   ]
  },
  {
   "cell_type": "code",
   "execution_count": 17,
   "metadata": {},
   "outputs": [],
   "source": [
    "%reset_selective -f xgb_man"
   ]
  },
  {
   "cell_type": "code",
   "execution_count": 18,
   "metadata": {},
   "outputs": [
    {
     "name": "stdout",
     "output_type": "stream",
     "text": [
      "Total Runtime: 1.6201691627502441 seconds\n"
     ]
    }
   ],
   "source": [
    "xgb_man, xgb_man_y_preds, xgb_man_y_score = build_model(XGBClassifier(objective='multi:softmax',\n",
    "                                                                     learning_rate=.2,\n",
    "                                                                     n_estimators=1000,\n",
    "                                                                     max_depth=3,\n",
    "                                                                     colsample_bytree=.2,\n",
    "                                                                     gamma=3,\n",
    "                                                                     min_child_weight=2), \n",
    "                                            X_train, X_test, y_train, y_test, decision_function=False)"
   ]
  },
  {
   "cell_type": "code",
   "execution_count": 19,
   "metadata": {},
   "outputs": [
    {
     "name": "stdout",
     "output_type": "stream",
     "text": [
      "Accuracy: 0.922\n",
      "\n",
      "Micro Precision: 0.922\n",
      "Micro Recall: 0.922\n",
      "Micro F1: 0.922\n",
      "\n",
      "Macro Precision: 0.9176\n",
      "Macro Recall: 0.9281\n",
      "Macro F1-score: 0.9222\n",
      "\n",
      "Weighted Precision: 0.9226\n",
      "Weighted Recall: 0.9220\n",
      "Weighted F1-score: 0.9218\n"
     ]
    },
    {
     "data": {
      "image/png": "[encoded data removed]",
      "text/plain": [
       "<Figure size 720x720 with 2 Axes>"
      ]
     },
     "metadata": {},
     "output_type": "display_data"
    }
   ],
   "source": [
    "print_model_metrics(xgb_man_y_preds, xgb_man_y_score, y_test)"
   ]
  },
  {
   "cell_type": "code",
   "execution_count": 20,
   "metadata": {},
   "outputs": [
    {
     "data": {
      "image/png": "[encoded data removed]",
      "text/plain": [
       "<Figure size 1008x720 with 1 Axes>"
      ]
     },
     "metadata": {},
     "output_type": "display_data"
    }
   ],
   "source": [
    "plot_feature_importances(xgb_man)"
   ]
  },
  {
   "cell_type": "code",
   "execution_count": 21,
   "metadata": {},
   "outputs": [
    {
     "name": "stdout",
     "output_type": "stream",
     "text": [
      "Training Accuracy: 0.9749276759884281\n",
      "Test Accuracy: 0.9219653179190751\n"
     ]
    }
   ],
   "source": [
    "print(f'Training Accuracy: {xgb_man.score(X_train, y_train)}')\n",
    "print(f'Test Accuracy: {xgb_man.score(X_test, y_test)}')"
   ]
  },
  {
   "cell_type": "markdown",
   "metadata": {},
   "source": [
    "## SVM: Support Vector Machine"
   ]
  },
  {
   "cell_type": "code",
   "execution_count": 27,
   "metadata": {},
   "outputs": [],
   "source": [
    "%reset_selective -f svm"
   ]
  },
  {
   "cell_type": "code",
   "execution_count": 30,
   "metadata": {},
   "outputs": [
    {
     "name": "stdout",
     "output_type": "stream",
     "text": [
      "Total Runtime: 0.01358485221862793 seconds\n"
     ]
    }
   ],
   "source": [
    "svm, svm_y_preds, svm_y_score = build_model(SVC(kernel='poly', degree=11,decision_function_shape='ovo'), \n",
    "                                            X_train, X_test, y_train, y_test)"
   ]
  },
  {
   "cell_type": "code",
   "execution_count": 31,
   "metadata": {},
   "outputs": [
    {
     "name": "stdout",
     "output_type": "stream",
     "text": [
      "Accuracy: 0.5909\n",
      "\n",
      "Micro Precision: 0.5909\n",
      "Micro Recall: 0.5909\n",
      "Micro F1: 0.5909\n",
      "\n",
      "Macro Precision: 0.5480\n",
      "Macro Recall: 0.5508\n",
      "Macro F1-score: 0.5404\n",
      "\n",
      "Weighted Precision: 0.5993\n",
      "Weighted Recall: 0.5909\n",
      "Weighted F1-score: 0.5873\n"
     ]
    },
    {
     "data": {
      "image/png": "[encoded data removed]",
      "text/plain": [
       "<Figure size 720x720 with 2 Axes>"
      ]
     },
     "metadata": {},
     "output_type": "display_data"
    }
   ],
   "source": [
    "print_model_metrics(svm_y_preds, svm_y_score, y_test)"
   ]
  },
  {
   "cell_type": "markdown",
   "metadata": {},
   "source": [
    "## Neural Network"
   ]
  },
  {
   "cell_type": "code",
   "execution_count": 22,
   "metadata": {},
   "outputs": [],
   "source": [
    "# binarize target column\n",
    "\n",
    "binarizer = LabelBinarizer()\n",
    "labels = binarizer.fit_transform(y_train)"
   ]
  },
  {
   "cell_type": "code",
   "execution_count": 34,
   "metadata": {},
   "outputs": [],
   "source": [
    "%reset_selective -f model_1"
   ]
  },
  {
   "cell_type": "code",
   "execution_count": 25,
   "metadata": {},
   "outputs": [],
   "source": [
    "model_1 = Sequential()\n",
    "model_1.add(Dense(64, activation='tanh', input_shape=(21,)))\n",
    "model_1.add(Dense(32, activation='tanh'))\n",
    "model_1.add(Dense(6, activation='softmax'))\n",
    "\n",
    "model_1.compile(loss='categorical_crossentropy', optimizer='adam', metrics=['acc'])"
   ]
  },
  {
   "cell_type": "code",
   "execution_count": 26,
   "metadata": {},
   "outputs": [
    {
     "name": "stdout",
     "output_type": "stream",
     "text": [
      "Epoch 1/150\n",
      "26/26 [==============================] - 0s 6ms/step - loss: 1.5866 - acc: 0.3655 - val_loss: 1.4765 - val_acc: 0.3990\n",
      "Epoch 2/150\n",
      "26/26 [==============================] - 0s 1ms/step - loss: 1.2976 - acc: 0.5259 - val_loss: 1.2081 - val_acc: 0.6154\n",
      "Epoch 3/150\n",
      "26/26 [==============================] - 0s 1ms/step - loss: 1.0609 - acc: 0.6562 - val_loss: 0.9975 - val_acc: 0.6779\n",
      "Epoch 4/150\n",
      "26/26 [==============================] - 0s 1ms/step - loss: 0.8582 - acc: 0.7793 - val_loss: 0.8512 - val_acc: 0.7260\n",
      "Epoch 5/150\n",
      "26/26 [==============================] - 0s 1ms/step - loss: 0.7156 - acc: 0.8118 - val_loss: 0.7268 - val_acc: 0.7837\n",
      "Epoch 6/150\n",
      "26/26 [==============================] - 0s 1ms/step - loss: 0.6121 - acc: 0.8468 - val_loss: 0.6666 - val_acc: 0.7981\n",
      "Epoch 7/150\n",
      "26/26 [==============================] - 0s 1ms/step - loss: 0.5373 - acc: 0.8721 - val_loss: 0.6054 - val_acc: 0.8029\n",
      "Epoch 8/150\n",
      "26/26 [==============================] - 0s 1ms/step - loss: 0.4826 - acc: 0.8721 - val_loss: 0.5600 - val_acc: 0.8269\n",
      "Epoch 9/150\n",
      "26/26 [==============================] - 0s 1ms/step - loss: 0.4384 - acc: 0.8806 - val_loss: 0.5286 - val_acc: 0.8317\n",
      "Epoch 10/150\n",
      "26/26 [==============================] - 0s 1ms/step - loss: 0.4079 - acc: 0.8782 - val_loss: 0.5000 - val_acc: 0.8462\n",
      "Epoch 11/150\n",
      "26/26 [==============================] - 0s 1ms/step - loss: 0.3791 - acc: 0.8938 - val_loss: 0.4794 - val_acc: 0.8462\n",
      "Epoch 12/150\n",
      "26/26 [==============================] - 0s 1ms/step - loss: 0.3574 - acc: 0.8902 - val_loss: 0.4603 - val_acc: 0.8413\n",
      "Epoch 13/150\n",
      "26/26 [==============================] - 0s 1ms/step - loss: 0.3353 - acc: 0.9023 - val_loss: 0.4508 - val_acc: 0.8462\n",
      "Epoch 14/150\n",
      "26/26 [==============================] - 0s 1ms/step - loss: 0.3175 - acc: 0.9059 - val_loss: 0.4265 - val_acc: 0.8510\n",
      "Epoch 15/150\n",
      "26/26 [==============================] - 0s 1ms/step - loss: 0.3023 - acc: 0.9095 - val_loss: 0.4127 - val_acc: 0.8606\n",
      "Epoch 16/150\n",
      "26/26 [==============================] - 0s 2ms/step - loss: 0.2904 - acc: 0.9035 - val_loss: 0.3948 - val_acc: 0.8654\n",
      "Epoch 17/150\n",
      "26/26 [==============================] - 0s 2ms/step - loss: 0.2764 - acc: 0.9276 - val_loss: 0.3914 - val_acc: 0.8558\n",
      "Epoch 18/150\n",
      "26/26 [==============================] - 0s 2ms/step - loss: 0.2696 - acc: 0.9131 - val_loss: 0.3765 - val_acc: 0.8702\n",
      "Epoch 19/150\n",
      "26/26 [==============================] - 0s 2ms/step - loss: 0.2514 - acc: 0.9252 - val_loss: 0.3651 - val_acc: 0.8606\n",
      "Epoch 20/150\n",
      "26/26 [==============================] - 0s 2ms/step - loss: 0.2493 - acc: 0.9192 - val_loss: 0.3631 - val_acc: 0.8654\n",
      "Epoch 21/150\n",
      "26/26 [==============================] - 0s 2ms/step - loss: 0.2391 - acc: 0.9252 - val_loss: 0.3426 - val_acc: 0.8798\n",
      "Epoch 22/150\n",
      "26/26 [==============================] - 0s 2ms/step - loss: 0.2317 - acc: 0.9252 - val_loss: 0.3471 - val_acc: 0.8702\n",
      "Epoch 23/150\n",
      "26/26 [==============================] - 0s 2ms/step - loss: 0.2257 - acc: 0.9312 - val_loss: 0.3420 - val_acc: 0.8654\n",
      "Epoch 24/150\n",
      "26/26 [==============================] - 0s 2ms/step - loss: 0.2267 - acc: 0.9240 - val_loss: 0.3348 - val_acc: 0.8606\n",
      "Epoch 25/150\n",
      "26/26 [==============================] - 0s 1ms/step - loss: 0.2175 - acc: 0.9264 - val_loss: 0.3134 - val_acc: 0.8798\n",
      "Epoch 26/150\n",
      "26/26 [==============================] - 0s 1ms/step - loss: 0.2054 - acc: 0.9385 - val_loss: 0.3326 - val_acc: 0.8750\n",
      "Epoch 27/150\n",
      "26/26 [==============================] - 0s 1ms/step - loss: 0.2012 - acc: 0.9373 - val_loss: 0.3059 - val_acc: 0.8750\n",
      "Epoch 28/150\n",
      "26/26 [==============================] - 0s 1ms/step - loss: 0.1963 - acc: 0.9373 - val_loss: 0.3217 - val_acc: 0.8702\n",
      "Epoch 29/150\n",
      "26/26 [==============================] - 0s 1ms/step - loss: 0.2005 - acc: 0.9373 - val_loss: 0.2977 - val_acc: 0.8702\n",
      "Epoch 30/150\n",
      "26/26 [==============================] - 0s 1ms/step - loss: 0.1854 - acc: 0.9457 - val_loss: 0.3007 - val_acc: 0.8798\n",
      "Epoch 31/150\n",
      "26/26 [==============================] - 0s 1ms/step - loss: 0.1811 - acc: 0.9373 - val_loss: 0.2811 - val_acc: 0.8990\n",
      "Epoch 32/150\n",
      "26/26 [==============================] - 0s 1ms/step - loss: 0.1784 - acc: 0.9445 - val_loss: 0.2809 - val_acc: 0.8942\n",
      "Epoch 33/150\n",
      "26/26 [==============================] - 0s 1ms/step - loss: 0.1685 - acc: 0.9530 - val_loss: 0.2824 - val_acc: 0.8750\n",
      "Epoch 34/150\n",
      "26/26 [==============================] - 0s 1ms/step - loss: 0.1696 - acc: 0.9457 - val_loss: 0.2746 - val_acc: 0.8846\n",
      "Epoch 35/150\n",
      "26/26 [==============================] - 0s 1ms/step - loss: 0.1612 - acc: 0.9517 - val_loss: 0.2768 - val_acc: 0.8846\n",
      "Epoch 36/150\n",
      "26/26 [==============================] - 0s 1ms/step - loss: 0.1606 - acc: 0.9445 - val_loss: 0.2791 - val_acc: 0.8846\n",
      "Epoch 37/150\n",
      "26/26 [==============================] - 0s 1ms/step - loss: 0.1570 - acc: 0.9566 - val_loss: 0.2625 - val_acc: 0.8846\n",
      "Epoch 38/150\n",
      "26/26 [==============================] - 0s 1ms/step - loss: 0.1515 - acc: 0.9626 - val_loss: 0.2656 - val_acc: 0.8942\n",
      "Epoch 39/150\n",
      "26/26 [==============================] - 0s 1ms/step - loss: 0.1504 - acc: 0.9554 - val_loss: 0.2509 - val_acc: 0.9135\n",
      "Epoch 40/150\n",
      "26/26 [==============================] - 0s 2ms/step - loss: 0.1497 - acc: 0.9554 - val_loss: 0.2773 - val_acc: 0.8846\n",
      "Epoch 41/150\n",
      "26/26 [==============================] - 0s 2ms/step - loss: 0.1474 - acc: 0.9542 - val_loss: 0.2491 - val_acc: 0.8894\n",
      "Epoch 42/150\n",
      "26/26 [==============================] - ETA: 0s - loss: 0.1916 - acc: 0.906 - 0s 1ms/step - loss: 0.1389 - acc: 0.9662 - val_loss: 0.2566 - val_acc: 0.8990\n",
      "Epoch 43/150\n",
      "26/26 [==============================] - 0s 2ms/step - loss: 0.1394 - acc: 0.9602 - val_loss: 0.2402 - val_acc: 0.9183\n",
      "Epoch 44/150\n",
      "26/26 [==============================] - 0s 1ms/step - loss: 0.1370 - acc: 0.9626 - val_loss: 0.2505 - val_acc: 0.8990\n",
      "Epoch 45/150\n",
      "26/26 [==============================] - 0s 1ms/step - loss: 0.1347 - acc: 0.9590 - val_loss: 0.2450 - val_acc: 0.9183\n",
      "Epoch 46/150\n",
      "26/26 [==============================] - 0s 1ms/step - loss: 0.1344 - acc: 0.9602 - val_loss: 0.2384 - val_acc: 0.9135\n",
      "Epoch 47/150\n",
      "26/26 [==============================] - 0s 1ms/step - loss: 0.1336 - acc: 0.9578 - val_loss: 0.2541 - val_acc: 0.9087\n",
      "Epoch 48/150\n",
      "26/26 [==============================] - 0s 1ms/step - loss: 0.1259 - acc: 0.9614 - val_loss: 0.2292 - val_acc: 0.9038\n",
      "Epoch 49/150\n",
      "26/26 [==============================] - 0s 1ms/step - loss: 0.1275 - acc: 0.9650 - val_loss: 0.2498 - val_acc: 0.9087\n",
      "Epoch 50/150\n",
      "26/26 [==============================] - 0s 1ms/step - loss: 0.1250 - acc: 0.9614 - val_loss: 0.2407 - val_acc: 0.9135\n",
      "Epoch 51/150\n",
      "26/26 [==============================] - 0s 1ms/step - loss: 0.1195 - acc: 0.9710 - val_loss: 0.2301 - val_acc: 0.9183\n",
      "Epoch 52/150\n",
      "26/26 [==============================] - 0s 1ms/step - loss: 0.1202 - acc: 0.9674 - val_loss: 0.2299 - val_acc: 0.9038\n",
      "Epoch 53/150\n",
      "26/26 [==============================] - 0s 1ms/step - loss: 0.1204 - acc: 0.9710 - val_loss: 0.2270 - val_acc: 0.9135\n",
      "Epoch 54/150\n",
      "26/26 [==============================] - 0s 1ms/step - loss: 0.1148 - acc: 0.9710 - val_loss: 0.2206 - val_acc: 0.9087\n",
      "Epoch 55/150\n",
      "26/26 [==============================] - 0s 1ms/step - loss: 0.1150 - acc: 0.9662 - val_loss: 0.2253 - val_acc: 0.9135\n",
      "Epoch 56/150\n",
      "26/26 [==============================] - 0s 1ms/step - loss: 0.1122 - acc: 0.9783 - val_loss: 0.2374 - val_acc: 0.9135\n",
      "Epoch 57/150\n",
      "26/26 [==============================] - 0s 1ms/step - loss: 0.1098 - acc: 0.9735 - val_loss: 0.2215 - val_acc: 0.9038\n",
      "Epoch 58/150\n",
      "26/26 [==============================] - 0s 1ms/step - loss: 0.1074 - acc: 0.9735 - val_loss: 0.2235 - val_acc: 0.9087\n",
      "Epoch 59/150\n",
      "26/26 [==============================] - 0s 1ms/step - loss: 0.1078 - acc: 0.9698 - val_loss: 0.2225 - val_acc: 0.9231\n",
      "Epoch 60/150\n",
      "26/26 [==============================] - 0s 1ms/step - loss: 0.1027 - acc: 0.9759 - val_loss: 0.2201 - val_acc: 0.9087\n",
      "Epoch 61/150\n",
      "26/26 [==============================] - 0s 1ms/step - loss: 0.1022 - acc: 0.9747 - val_loss: 0.2264 - val_acc: 0.9135\n",
      "Epoch 62/150\n",
      "26/26 [==============================] - 0s 1ms/step - loss: 0.1032 - acc: 0.9674 - val_loss: 0.2193 - val_acc: 0.9183\n"
     ]
    },
    {
     "name": "stdout",
     "output_type": "stream",
     "text": [
      "Epoch 63/150\n",
      "26/26 [==============================] - 0s 1ms/step - loss: 0.1054 - acc: 0.9686 - val_loss: 0.2198 - val_acc: 0.9279\n",
      "Epoch 64/150\n",
      "26/26 [==============================] - 0s 1ms/step - loss: 0.0995 - acc: 0.9759 - val_loss: 0.2305 - val_acc: 0.9087\n",
      "Epoch 65/150\n",
      "26/26 [==============================] - 0s 1ms/step - loss: 0.1014 - acc: 0.9759 - val_loss: 0.2164 - val_acc: 0.9135\n",
      "Epoch 66/150\n",
      "26/26 [==============================] - 0s 1ms/step - loss: 0.0948 - acc: 0.9807 - val_loss: 0.2117 - val_acc: 0.9135\n",
      "Epoch 67/150\n",
      "26/26 [==============================] - 0s 1ms/step - loss: 0.0941 - acc: 0.9807 - val_loss: 0.2151 - val_acc: 0.9135\n",
      "Epoch 68/150\n",
      "26/26 [==============================] - 0s 1ms/step - loss: 0.0928 - acc: 0.9783 - val_loss: 0.2193 - val_acc: 0.9135\n",
      "Epoch 69/150\n",
      "26/26 [==============================] - 0s 1ms/step - loss: 0.0945 - acc: 0.9735 - val_loss: 0.2243 - val_acc: 0.9135\n",
      "Epoch 70/150\n",
      "26/26 [==============================] - 0s 1ms/step - loss: 0.0946 - acc: 0.9771 - val_loss: 0.2181 - val_acc: 0.9087\n",
      "Epoch 71/150\n",
      "26/26 [==============================] - 0s 1ms/step - loss: 0.0941 - acc: 0.9723 - val_loss: 0.2082 - val_acc: 0.9183\n",
      "Epoch 72/150\n",
      "26/26 [==============================] - 0s 1ms/step - loss: 0.0901 - acc: 0.9747 - val_loss: 0.2149 - val_acc: 0.9231\n",
      "Epoch 73/150\n",
      "26/26 [==============================] - 0s 1ms/step - loss: 0.0875 - acc: 0.9807 - val_loss: 0.2131 - val_acc: 0.9183\n",
      "Epoch 74/150\n",
      "26/26 [==============================] - 0s 1ms/step - loss: 0.0837 - acc: 0.9831 - val_loss: 0.2099 - val_acc: 0.9183\n",
      "Epoch 75/150\n",
      "26/26 [==============================] - 0s 1ms/step - loss: 0.0825 - acc: 0.9819 - val_loss: 0.2115 - val_acc: 0.9231\n",
      "Epoch 76/150\n",
      "26/26 [==============================] - 0s 1ms/step - loss: 0.0828 - acc: 0.9795 - val_loss: 0.2088 - val_acc: 0.9183\n",
      "Epoch 77/150\n",
      "26/26 [==============================] - 0s 1ms/step - loss: 0.0814 - acc: 0.9831 - val_loss: 0.2360 - val_acc: 0.8990\n",
      "Epoch 78/150\n",
      "26/26 [==============================] - 0s 1ms/step - loss: 0.0846 - acc: 0.9807 - val_loss: 0.2021 - val_acc: 0.9183\n",
      "Epoch 79/150\n",
      "26/26 [==============================] - 0s 1ms/step - loss: 0.0816 - acc: 0.9795 - val_loss: 0.2042 - val_acc: 0.9231\n",
      "Epoch 80/150\n",
      "26/26 [==============================] - 0s 1ms/step - loss: 0.0766 - acc: 0.9855 - val_loss: 0.2240 - val_acc: 0.9135\n",
      "Epoch 81/150\n",
      "26/26 [==============================] - 0s 1ms/step - loss: 0.0776 - acc: 0.9831 - val_loss: 0.2112 - val_acc: 0.9183\n",
      "Epoch 82/150\n",
      "26/26 [==============================] - 0s 1ms/step - loss: 0.0764 - acc: 0.9867 - val_loss: 0.2043 - val_acc: 0.9183\n",
      "Epoch 83/150\n",
      "26/26 [==============================] - 0s 1ms/step - loss: 0.0799 - acc: 0.9771 - val_loss: 0.2130 - val_acc: 0.9183\n",
      "Epoch 84/150\n",
      "26/26 [==============================] - 0s 1ms/step - loss: 0.0782 - acc: 0.9855 - val_loss: 0.2160 - val_acc: 0.9135\n",
      "Epoch 85/150\n",
      "26/26 [==============================] - 0s 1ms/step - loss: 0.0772 - acc: 0.9759 - val_loss: 0.2044 - val_acc: 0.9231\n",
      "Epoch 86/150\n",
      "26/26 [==============================] - 0s 1ms/step - loss: 0.0774 - acc: 0.9843 - val_loss: 0.2044 - val_acc: 0.9183\n",
      "Epoch 87/150\n",
      "26/26 [==============================] - 0s 1ms/step - loss: 0.0743 - acc: 0.9807 - val_loss: 0.2202 - val_acc: 0.9183\n",
      "Epoch 88/150\n",
      "26/26 [==============================] - 0s 1ms/step - loss: 0.0693 - acc: 0.9843 - val_loss: 0.2039 - val_acc: 0.9183\n",
      "Epoch 89/150\n",
      "26/26 [==============================] - 0s 1ms/step - loss: 0.0733 - acc: 0.9819 - val_loss: 0.2151 - val_acc: 0.9135\n",
      "Epoch 90/150\n",
      "26/26 [==============================] - 0s 1ms/step - loss: 0.0685 - acc: 0.9867 - val_loss: 0.2087 - val_acc: 0.9279\n",
      "Epoch 91/150\n",
      "26/26 [==============================] - 0s 1ms/step - loss: 0.0668 - acc: 0.9843 - val_loss: 0.2010 - val_acc: 0.9231\n",
      "Epoch 92/150\n",
      "26/26 [==============================] - 0s 1ms/step - loss: 0.0677 - acc: 0.9867 - val_loss: 0.2141 - val_acc: 0.9231\n",
      "Epoch 93/150\n",
      "26/26 [==============================] - 0s 1ms/step - loss: 0.0680 - acc: 0.9855 - val_loss: 0.2025 - val_acc: 0.9135\n",
      "Epoch 94/150\n",
      "26/26 [==============================] - 0s 1ms/step - loss: 0.0654 - acc: 0.9855 - val_loss: 0.1999 - val_acc: 0.9327\n",
      "Epoch 95/150\n",
      "26/26 [==============================] - 0s 1ms/step - loss: 0.0634 - acc: 0.9891 - val_loss: 0.2046 - val_acc: 0.9087\n",
      "Epoch 96/150\n",
      "26/26 [==============================] - 0s 1ms/step - loss: 0.0635 - acc: 0.9843 - val_loss: 0.2055 - val_acc: 0.9327\n",
      "Epoch 97/150\n",
      "26/26 [==============================] - 0s 1ms/step - loss: 0.0671 - acc: 0.9843 - val_loss: 0.2133 - val_acc: 0.9087\n",
      "Epoch 98/150\n",
      "26/26 [==============================] - 0s 1ms/step - loss: 0.0644 - acc: 0.9891 - val_loss: 0.2025 - val_acc: 0.9231\n",
      "Epoch 99/150\n",
      "26/26 [==============================] - 0s 1ms/step - loss: 0.0691 - acc: 0.9807 - val_loss: 0.2042 - val_acc: 0.9279\n",
      "Epoch 100/150\n",
      "26/26 [==============================] - 0s 1ms/step - loss: 0.0616 - acc: 0.9867 - val_loss: 0.1963 - val_acc: 0.9375\n",
      "Epoch 101/150\n",
      "26/26 [==============================] - 0s 1ms/step - loss: 0.0641 - acc: 0.9879 - val_loss: 0.2102 - val_acc: 0.9231\n",
      "Epoch 102/150\n",
      "26/26 [==============================] - 0s 1ms/step - loss: 0.0615 - acc: 0.9879 - val_loss: 0.2014 - val_acc: 0.9279\n",
      "Epoch 103/150\n",
      "26/26 [==============================] - 0s 1ms/step - loss: 0.0590 - acc: 0.9879 - val_loss: 0.1976 - val_acc: 0.9279\n",
      "Epoch 104/150\n",
      "26/26 [==============================] - 0s 1ms/step - loss: 0.0596 - acc: 0.9867 - val_loss: 0.2035 - val_acc: 0.9231\n",
      "Epoch 105/150\n",
      "26/26 [==============================] - 0s 1ms/step - loss: 0.0582 - acc: 0.9855 - val_loss: 0.1990 - val_acc: 0.9231\n",
      "Epoch 106/150\n",
      "26/26 [==============================] - 0s 1ms/step - loss: 0.0558 - acc: 0.9903 - val_loss: 0.2034 - val_acc: 0.9183\n",
      "Epoch 107/150\n",
      "26/26 [==============================] - 0s 1ms/step - loss: 0.0560 - acc: 0.9891 - val_loss: 0.2024 - val_acc: 0.9231\n",
      "Epoch 108/150\n",
      "26/26 [==============================] - 0s 1ms/step - loss: 0.0562 - acc: 0.9867 - val_loss: 0.2070 - val_acc: 0.9231\n",
      "Epoch 109/150\n",
      "26/26 [==============================] - 0s 1ms/step - loss: 0.0618 - acc: 0.9843 - val_loss: 0.2040 - val_acc: 0.9231\n",
      "Epoch 110/150\n",
      "26/26 [==============================] - 0s 1ms/step - loss: 0.0577 - acc: 0.9855 - val_loss: 0.2014 - val_acc: 0.9135\n",
      "Epoch 111/150\n",
      "26/26 [==============================] - 0s 1ms/step - loss: 0.0600 - acc: 0.9891 - val_loss: 0.1987 - val_acc: 0.9231\n",
      "Epoch 112/150\n",
      "26/26 [==============================] - 0s 1ms/step - loss: 0.0542 - acc: 0.9891 - val_loss: 0.1972 - val_acc: 0.9279\n",
      "Epoch 113/150\n",
      "26/26 [==============================] - 0s 1ms/step - loss: 0.0598 - acc: 0.9819 - val_loss: 0.1978 - val_acc: 0.9231\n",
      "Epoch 114/150\n",
      "26/26 [==============================] - 0s 1ms/step - loss: 0.0509 - acc: 0.9928 - val_loss: 0.2020 - val_acc: 0.9279\n",
      "Epoch 115/150\n",
      "26/26 [==============================] - 0s 1ms/step - loss: 0.0519 - acc: 0.9891 - val_loss: 0.2055 - val_acc: 0.9135\n",
      "Epoch 116/150\n",
      "26/26 [==============================] - 0s 1ms/step - loss: 0.0531 - acc: 0.9855 - val_loss: 0.2050 - val_acc: 0.9183\n",
      "Epoch 117/150\n",
      "26/26 [==============================] - 0s 1ms/step - loss: 0.0521 - acc: 0.9891 - val_loss: 0.1986 - val_acc: 0.9231\n",
      "Epoch 118/150\n",
      "26/26 [==============================] - 0s 1ms/step - loss: 0.0494 - acc: 0.9916 - val_loss: 0.1922 - val_acc: 0.9231\n",
      "Epoch 119/150\n",
      "26/26 [==============================] - 0s 1ms/step - loss: 0.0494 - acc: 0.9879 - val_loss: 0.1972 - val_acc: 0.9231\n",
      "Epoch 120/150\n",
      "26/26 [==============================] - 0s 1ms/step - loss: 0.0509 - acc: 0.9916 - val_loss: 0.1945 - val_acc: 0.9327\n",
      "Epoch 121/150\n",
      "26/26 [==============================] - 0s 2ms/step - loss: 0.0492 - acc: 0.9879 - val_loss: 0.1948 - val_acc: 0.9279\n",
      "Epoch 122/150\n",
      "26/26 [==============================] - 0s 1ms/step - loss: 0.0474 - acc: 0.9903 - val_loss: 0.2076 - val_acc: 0.9231\n",
      "Epoch 123/150\n",
      "26/26 [==============================] - 0s 1ms/step - loss: 0.0469 - acc: 0.9916 - val_loss: 0.1977 - val_acc: 0.9231\n",
      "Epoch 124/150\n",
      "26/26 [==============================] - 0s 1ms/step - loss: 0.0481 - acc: 0.9916 - val_loss: 0.2050 - val_acc: 0.9183\n"
     ]
    },
    {
     "name": "stdout",
     "output_type": "stream",
     "text": [
      "Epoch 125/150\n",
      "26/26 [==============================] - 0s 1ms/step - loss: 0.0463 - acc: 0.9928 - val_loss: 0.2147 - val_acc: 0.9135\n",
      "Epoch 126/150\n",
      "26/26 [==============================] - 0s 1ms/step - loss: 0.0483 - acc: 0.9928 - val_loss: 0.2105 - val_acc: 0.9231\n",
      "Epoch 127/150\n",
      "26/26 [==============================] - 0s 1ms/step - loss: 0.0509 - acc: 0.9879 - val_loss: 0.2050 - val_acc: 0.9327\n",
      "Epoch 128/150\n",
      "26/26 [==============================] - 0s 1ms/step - loss: 0.0460 - acc: 0.9891 - val_loss: 0.1956 - val_acc: 0.9279\n",
      "Epoch 129/150\n",
      "26/26 [==============================] - 0s 1ms/step - loss: 0.0445 - acc: 0.9928 - val_loss: 0.1933 - val_acc: 0.9231\n",
      "Epoch 130/150\n",
      "26/26 [==============================] - 0s 1ms/step - loss: 0.0477 - acc: 0.9916 - val_loss: 0.1997 - val_acc: 0.9279\n",
      "Epoch 131/150\n",
      "26/26 [==============================] - 0s 1ms/step - loss: 0.0488 - acc: 0.9903 - val_loss: 0.2190 - val_acc: 0.9279\n",
      "Epoch 132/150\n",
      "26/26 [==============================] - 0s 1ms/step - loss: 0.0466 - acc: 0.9879 - val_loss: 0.2011 - val_acc: 0.9279\n",
      "Epoch 133/150\n",
      "26/26 [==============================] - 0s 1ms/step - loss: 0.0458 - acc: 0.9916 - val_loss: 0.2033 - val_acc: 0.9279\n",
      "Epoch 134/150\n",
      "26/26 [==============================] - 0s 1ms/step - loss: 0.0427 - acc: 0.9916 - val_loss: 0.1972 - val_acc: 0.9231\n",
      "Epoch 135/150\n",
      "26/26 [==============================] - 0s 1ms/step - loss: 0.0437 - acc: 0.9928 - val_loss: 0.1897 - val_acc: 0.9327\n",
      "Epoch 136/150\n",
      "26/26 [==============================] - 0s 1ms/step - loss: 0.0425 - acc: 0.9903 - val_loss: 0.2207 - val_acc: 0.9231\n",
      "Epoch 137/150\n",
      "26/26 [==============================] - 0s 1ms/step - loss: 0.0436 - acc: 0.9891 - val_loss: 0.2069 - val_acc: 0.9183\n",
      "Epoch 138/150\n",
      "26/26 [==============================] - 0s 1ms/step - loss: 0.0443 - acc: 0.9903 - val_loss: 0.1967 - val_acc: 0.9231\n",
      "Epoch 139/150\n",
      "26/26 [==============================] - 0s 1ms/step - loss: 0.0458 - acc: 0.9879 - val_loss: 0.2164 - val_acc: 0.9327\n",
      "Epoch 140/150\n",
      "26/26 [==============================] - 0s 1ms/step - loss: 0.0443 - acc: 0.9903 - val_loss: 0.2076 - val_acc: 0.9135\n",
      "Epoch 141/150\n",
      "26/26 [==============================] - 0s 1ms/step - loss: 0.0413 - acc: 0.9928 - val_loss: 0.2137 - val_acc: 0.9231\n",
      "Epoch 142/150\n",
      "26/26 [==============================] - 0s 1ms/step - loss: 0.0438 - acc: 0.9916 - val_loss: 0.2105 - val_acc: 0.9038\n",
      "Epoch 143/150\n",
      "26/26 [==============================] - 0s 1ms/step - loss: 0.0426 - acc: 0.9928 - val_loss: 0.1954 - val_acc: 0.9327\n",
      "Epoch 144/150\n",
      "26/26 [==============================] - 0s 1ms/step - loss: 0.0416 - acc: 0.9916 - val_loss: 0.2052 - val_acc: 0.9279\n",
      "Epoch 145/150\n",
      "26/26 [==============================] - 0s 1ms/step - loss: 0.0367 - acc: 0.9952 - val_loss: 0.2018 - val_acc: 0.9231\n",
      "Epoch 146/150\n",
      "26/26 [==============================] - 0s 1ms/step - loss: 0.0378 - acc: 0.9952 - val_loss: 0.2052 - val_acc: 0.9183\n",
      "Epoch 147/150\n",
      "26/26 [==============================] - 0s 1ms/step - loss: 0.0358 - acc: 0.9928 - val_loss: 0.1993 - val_acc: 0.9231\n",
      "Epoch 148/150\n",
      "26/26 [==============================] - 0s 1ms/step - loss: 0.0408 - acc: 0.9916 - val_loss: 0.2034 - val_acc: 0.9135\n",
      "Epoch 149/150\n",
      "26/26 [==============================] - 0s 1ms/step - loss: 0.0361 - acc: 0.9964 - val_loss: 0.1923 - val_acc: 0.9327\n",
      "Epoch 150/150\n",
      "26/26 [==============================] - 0s 1ms/step - loss: 0.0362 - acc: 0.9952 - val_loss: 0.1975 - val_acc: 0.9231\n"
     ]
    }
   ],
   "source": [
    "model_1_results = model_1.fit(X_train_scaled, labels, epochs=150, batch_size=32, validation_split=0.2)"
   ]
  },
  {
   "cell_type": "markdown",
   "metadata": {},
   "source": [
    "Model looks a little overfit. The goal further is to address the overfit model and to minimize loss."
   ]
  },
  {
   "cell_type": "code",
   "execution_count": 42,
   "metadata": {},
   "outputs": [],
   "source": [
    "%reset_selective -f model_2"
   ]
  },
  {
   "cell_type": "code",
   "execution_count": 43,
   "metadata": {},
   "outputs": [],
   "source": [
    "model_2 = Sequential()\n",
    "#model_2.add(Dense(128, activation='tanh', input_shape=(1037,29)))\n",
    "model_2.add(Dense(128, activation='tanh', input_shape=(21,)))\n",
    "model_2.add(Dense(32, activation='tanh'))\n",
    "model_2.add(Dropout(.2))\n",
    "model_2.add(Dense(6, activation='softmax'))\n",
    "\n",
    "model_2.compile(loss='categorical_crossentropy', optimizer='adam', metrics=['acc'])"
   ]
  },
  {
   "cell_type": "code",
   "execution_count": 44,
   "metadata": {},
   "outputs": [
    {
     "name": "stdout",
     "output_type": "stream",
     "text": [
      "Epoch 1/150\n",
      " 1/26 [>.............................] - ETA: 0s - loss: 1.7541 - acc: 0.2188\n",
      "Epoch 00001: val_loss improved from inf to 1.40161, saving model to model-001-0.318456-0.375000.h5\n",
      "26/26 [==============================] - 0s 6ms/step - loss: 1.5706 - acc: 0.3185 - val_loss: 1.4016 - val_acc: 0.3750\n",
      "Epoch 2/150\n",
      " 1/26 [>.............................] - ETA: 0s - loss: 1.3580 - acc: 0.4375\n",
      "Epoch 00002: val_loss improved from 1.40161 to 1.13910, saving model to model-002-0.515078-0.552885.h5\n",
      "26/26 [==============================] - 0s 2ms/step - loss: 1.2360 - acc: 0.5151 - val_loss: 1.1391 - val_acc: 0.5529\n",
      "Epoch 3/150\n",
      " 1/26 [>.............................] - ETA: 0s - loss: 1.1837 - acc: 0.5625\n",
      "Epoch 00003: val_loss improved from 1.13910 to 0.93999, saving model to model-003-0.612786-0.673077.h5\n",
      "26/26 [==============================] - 0s 2ms/step - loss: 1.0262 - acc: 0.6128 - val_loss: 0.9400 - val_acc: 0.6731\n",
      "Epoch 4/150\n",
      " 1/26 [>.............................] - ETA: 0s - loss: 1.0066 - acc: 0.6562\n",
      "Epoch 00004: val_loss improved from 0.93999 to 0.80422, saving model to model-004-0.745476-0.750000.h5\n",
      "26/26 [==============================] - 0s 2ms/step - loss: 0.8413 - acc: 0.7455 - val_loss: 0.8042 - val_acc: 0.7500\n",
      "Epoch 5/150\n",
      " 1/26 [>.............................] - ETA: 0s - loss: 0.6628 - acc: 0.8750\n",
      "Epoch 00005: val_loss improved from 0.80422 to 0.68880, saving model to model-005-0.793727-0.788462.h5\n",
      "26/26 [==============================] - 0s 2ms/step - loss: 0.6965 - acc: 0.7937 - val_loss: 0.6888 - val_acc: 0.7885\n",
      "Epoch 6/150\n",
      " 1/26 [>.............................] - ETA: 0s - loss: 0.5117 - acc: 0.9062\n",
      "Epoch 00006: val_loss improved from 0.68880 to 0.61911, saving model to model-006-0.822678-0.817308.h5\n",
      "26/26 [==============================] - 0s 2ms/step - loss: 0.6051 - acc: 0.8227 - val_loss: 0.6191 - val_acc: 0.8173\n",
      "Epoch 7/150\n",
      " 1/26 [>.............................] - ETA: 0s - loss: 0.4621 - acc: 0.9375\n",
      "Epoch 00007: val_loss improved from 0.61911 to 0.55725, saving model to model-007-0.850422-0.836538.h5\n",
      "26/26 [==============================] - 0s 2ms/step - loss: 0.5299 - acc: 0.8504 - val_loss: 0.5573 - val_acc: 0.8365\n",
      "Epoch 8/150\n",
      " 1/26 [>.............................] - ETA: 0s - loss: 0.4995 - acc: 0.8438\n",
      "Epoch 00008: val_loss improved from 0.55725 to 0.50999, saving model to model-008-0.873341-0.855769.h5\n",
      "26/26 [==============================] - 0s 2ms/step - loss: 0.4692 - acc: 0.8733 - val_loss: 0.5100 - val_acc: 0.8558\n",
      "Epoch 9/150\n",
      " 1/26 [>.............................] - ETA: 0s - loss: 0.3899 - acc: 0.9375\n",
      "Epoch 00009: val_loss improved from 0.50999 to 0.48306, saving model to model-009-0.867310-0.850962.h5\n",
      "26/26 [==============================] - 0s 2ms/step - loss: 0.4419 - acc: 0.8673 - val_loss: 0.4831 - val_acc: 0.8510\n",
      "Epoch 10/150\n",
      " 1/26 [>.............................] - ETA: 0s - loss: 0.3692 - acc: 0.9688\n",
      "Epoch 00010: val_loss improved from 0.48306 to 0.45030, saving model to model-010-0.873341-0.855769.h5\n",
      "26/26 [==============================] - 0s 2ms/step - loss: 0.4090 - acc: 0.8733 - val_loss: 0.4503 - val_acc: 0.8558\n",
      "Epoch 11/150\n",
      " 1/26 [>.............................] - ETA: 0s - loss: 0.4067 - acc: 0.8750\n",
      "Epoch 00011: val_loss improved from 0.45030 to 0.43328, saving model to model-011-0.876960-0.846154.h5\n",
      "26/26 [==============================] - 0s 2ms/step - loss: 0.3822 - acc: 0.8770 - val_loss: 0.4333 - val_acc: 0.8462\n",
      "Epoch 12/150\n",
      " 1/26 [>.............................] - ETA: 0s - loss: 0.5615 - acc: 0.8125\n",
      "Epoch 00012: val_loss improved from 0.43328 to 0.40589, saving model to model-012-0.885404-0.870192.h5\n",
      "26/26 [==============================] - 0s 3ms/step - loss: 0.3547 - acc: 0.8854 - val_loss: 0.4059 - val_acc: 0.8702\n",
      "Epoch 13/150\n",
      " 1/26 [>.............................] - ETA: 0s - loss: 0.2871 - acc: 0.9375\n",
      "Epoch 00013: val_loss improved from 0.40589 to 0.39684, saving model to model-013-0.878166-0.860577.h5\n",
      "26/26 [==============================] - 0s 2ms/step - loss: 0.3439 - acc: 0.8782 - val_loss: 0.3968 - val_acc: 0.8606\n",
      "Epoch 14/150\n",
      " 1/26 [>.............................] - ETA: 0s - loss: 0.2830 - acc: 0.9375\n",
      "Epoch 00014: val_loss improved from 0.39684 to 0.37039, saving model to model-014-0.885404-0.860577.h5\n",
      "26/26 [==============================] - 0s 3ms/step - loss: 0.3268 - acc: 0.8854 - val_loss: 0.3704 - val_acc: 0.8606\n",
      "Epoch 15/150\n",
      " 1/26 [>.............................] - ETA: 0s - loss: 0.4378 - acc: 0.8750\n",
      "Epoch 00015: val_loss improved from 0.37039 to 0.36806, saving model to model-015-0.887817-0.865385.h5\n",
      "26/26 [==============================] - 0s 3ms/step - loss: 0.3187 - acc: 0.8878 - val_loss: 0.3681 - val_acc: 0.8654\n",
      "Epoch 16/150\n",
      " 1/26 [>.............................] - ETA: 0s - loss: 0.2694 - acc: 0.9375\n",
      "Epoch 00016: val_loss improved from 0.36806 to 0.35111, saving model to model-016-0.910736-0.855769.h5\n",
      "26/26 [==============================] - 0s 3ms/step - loss: 0.2871 - acc: 0.9107 - val_loss: 0.3511 - val_acc: 0.8558\n",
      "Epoch 17/150\n",
      " 1/26 [>.............................] - ETA: 0s - loss: 0.2775 - acc: 0.9375\n",
      "Epoch 00017: val_loss did not improve from 0.35111\n",
      "26/26 [==============================] - 0s 2ms/step - loss: 0.2706 - acc: 0.9095 - val_loss: 0.3524 - val_acc: 0.8413\n",
      "Epoch 18/150\n",
      " 1/26 [>.............................] - ETA: 0s - loss: 0.1276 - acc: 1.0000\n",
      "Epoch 00018: val_loss improved from 0.35111 to 0.33675, saving model to model-018-0.895054-0.870192.h5\n",
      "26/26 [==============================] - 0s 2ms/step - loss: 0.2931 - acc: 0.8951 - val_loss: 0.3367 - val_acc: 0.8702\n",
      "Epoch 19/150\n",
      " 1/26 [>.............................] - ETA: 0s - loss: 0.2271 - acc: 0.9062\n",
      "Epoch 00019: val_loss did not improve from 0.33675\n",
      "26/26 [==============================] - 0s 2ms/step - loss: 0.2670 - acc: 0.9083 - val_loss: 0.3402 - val_acc: 0.8558\n",
      "Epoch 20/150\n",
      " 1/26 [>.............................] - ETA: 0s - loss: 0.3024 - acc: 0.9375\n",
      "Epoch 00020: val_loss improved from 0.33675 to 0.31618, saving model to model-020-0.916767-0.860577.h5\n",
      "26/26 [==============================] - 0s 2ms/step - loss: 0.2577 - acc: 0.9168 - val_loss: 0.3162 - val_acc: 0.8606\n",
      "Epoch 21/150\n",
      " 1/26 [>.............................] - ETA: 0s - loss: 0.1592 - acc: 1.0000\n",
      "Epoch 00021: val_loss improved from 0.31618 to 0.30446, saving model to model-021-0.913148-0.870192.h5\n",
      "26/26 [==============================] - 0s 2ms/step - loss: 0.2470 - acc: 0.9131 - val_loss: 0.3045 - val_acc: 0.8702\n",
      "Epoch 22/150\n",
      " 1/26 [>.............................] - ETA: 0s - loss: 0.3748 - acc: 0.8750\n",
      "Epoch 00022: val_loss improved from 0.30446 to 0.30376, saving model to model-022-0.913148-0.879808.h5\n",
      "26/26 [==============================] - 0s 2ms/step - loss: 0.2464 - acc: 0.9131 - val_loss: 0.3038 - val_acc: 0.8798\n",
      "Epoch 23/150\n",
      " 1/26 [>.............................] - ETA: 0s - loss: 0.2768 - acc: 0.8750\n",
      "Epoch 00023: val_loss improved from 0.30376 to 0.27905, saving model to model-023-0.916767-0.899038.h5\n",
      "26/26 [==============================] - 0s 2ms/step - loss: 0.2395 - acc: 0.9168 - val_loss: 0.2791 - val_acc: 0.8990\n",
      "Epoch 24/150\n",
      " 1/26 [>.............................] - ETA: 0s - loss: 0.1728 - acc: 0.9688\n",
      "Epoch 00024: val_loss did not improve from 0.27905\n",
      "26/26 [==============================] - 0s 1ms/step - loss: 0.2208 - acc: 0.9385 - val_loss: 0.2952 - val_acc: 0.8798\n",
      "Epoch 25/150\n",
      " 1/26 [>.............................] - ETA: 0s - loss: 0.1332 - acc: 0.9688\n",
      "Epoch 00025: val_loss did not improve from 0.27905\n",
      "26/26 [==============================] - 0s 1ms/step - loss: 0.2202 - acc: 0.9240 - val_loss: 0.2870 - val_acc: 0.9038\n",
      "Epoch 26/150\n",
      " 1/26 [>.............................] - ETA: 0s - loss: 0.2851 - acc: 0.8750\n",
      "Epoch 00026: val_loss improved from 0.27905 to 0.27614, saving model to model-026-0.913148-0.875000.h5\n",
      "26/26 [==============================] - 0s 2ms/step - loss: 0.2296 - acc: 0.9131 - val_loss: 0.2761 - val_acc: 0.8750\n",
      "Epoch 27/150\n",
      " 1/26 [>.............................] - ETA: 0s - loss: 0.1656 - acc: 0.9062\n",
      "Epoch 00027: val_loss improved from 0.27614 to 0.26319, saving model to model-027-0.919180-0.889423.h5\n",
      "26/26 [==============================] - 0s 2ms/step - loss: 0.2138 - acc: 0.9192 - val_loss: 0.2632 - val_acc: 0.8894\n"
     ]
    },
    {
     "name": "stdout",
     "output_type": "stream",
     "text": [
      "Epoch 28/150\n",
      " 1/26 [>.............................] - ETA: 0s - loss: 0.1144 - acc: 1.0000\n",
      "Epoch 00028: val_loss improved from 0.26319 to 0.26152, saving model to model-028-0.921592-0.927885.h5\n",
      "26/26 [==============================] - 0s 2ms/step - loss: 0.2146 - acc: 0.9216 - val_loss: 0.2615 - val_acc: 0.9279\n",
      "Epoch 29/150\n",
      " 1/26 [>.............................] - ETA: 0s - loss: 0.1759 - acc: 0.9688\n",
      "Epoch 00029: val_loss did not improve from 0.26152\n",
      "26/26 [==============================] - 0s 1ms/step - loss: 0.2152 - acc: 0.9168 - val_loss: 0.2712 - val_acc: 0.8750\n",
      "Epoch 30/150\n",
      " 1/26 [>.............................] - ETA: 0s - loss: 0.1783 - acc: 0.9375\n",
      "Epoch 00030: val_loss improved from 0.26152 to 0.25456, saving model to model-030-0.934861-0.918269.h5\n",
      "26/26 [==============================] - 0s 2ms/step - loss: 0.1989 - acc: 0.9349 - val_loss: 0.2546 - val_acc: 0.9183\n",
      "Epoch 31/150\n",
      " 1/26 [>.............................] - ETA: 0s - loss: 0.1879 - acc: 1.0000\n",
      "Epoch 00031: val_loss did not improve from 0.25456\n",
      "26/26 [==============================] - 0s 1ms/step - loss: 0.1905 - acc: 0.9300 - val_loss: 0.2557 - val_acc: 0.9135\n",
      "Epoch 32/150\n",
      " 1/26 [>.............................] - ETA: 0s - loss: 0.1545 - acc: 0.9375\n",
      "Epoch 00032: val_loss did not improve from 0.25456\n",
      "26/26 [==============================] - 0s 1ms/step - loss: 0.2093 - acc: 0.9228 - val_loss: 0.2616 - val_acc: 0.8798\n",
      "Epoch 33/150\n",
      " 1/26 [>.............................] - ETA: 0s - loss: 0.2951 - acc: 0.8750\n",
      "Epoch 00033: val_loss did not improve from 0.25456\n",
      "26/26 [==============================] - 0s 1ms/step - loss: 0.1888 - acc: 0.9324 - val_loss: 0.2559 - val_acc: 0.8846\n",
      "Epoch 34/150\n",
      " 1/26 [>.............................] - ETA: 0s - loss: 0.1284 - acc: 0.9688\n",
      "Epoch 00034: val_loss improved from 0.25456 to 0.24360, saving model to model-034-0.932449-0.879808.h5\n",
      "26/26 [==============================] - 0s 2ms/step - loss: 0.1844 - acc: 0.9324 - val_loss: 0.2436 - val_acc: 0.8798\n",
      "Epoch 35/150\n",
      " 1/26 [>.............................] - ETA: 0s - loss: 0.1920 - acc: 0.9062\n",
      "Epoch 00035: val_loss did not improve from 0.24360\n",
      "26/26 [==============================] - 0s 1ms/step - loss: 0.1803 - acc: 0.9312 - val_loss: 0.2674 - val_acc: 0.8750\n",
      "Epoch 36/150\n",
      " 1/26 [>.............................] - ETA: 0s - loss: 0.1446 - acc: 0.9688\n",
      "Epoch 00036: val_loss improved from 0.24360 to 0.22850, saving model to model-036-0.933655-0.932692.h5\n",
      "26/26 [==============================] - 0s 2ms/step - loss: 0.1763 - acc: 0.9337 - val_loss: 0.2285 - val_acc: 0.9327\n",
      "Epoch 37/150\n",
      " 1/26 [>.............................] - ETA: 0s - loss: 0.2868 - acc: 0.9062\n",
      "Epoch 00037: val_loss improved from 0.22850 to 0.22139, saving model to model-037-0.952955-0.932692.h5\n",
      "26/26 [==============================] - 0s 2ms/step - loss: 0.1601 - acc: 0.9530 - val_loss: 0.2214 - val_acc: 0.9327\n",
      "Epoch 38/150\n",
      " 1/26 [>.............................] - ETA: 0s - loss: 0.1895 - acc: 0.9375\n",
      "Epoch 00038: val_loss did not improve from 0.22139\n",
      "26/26 [==============================] - 0s 1ms/step - loss: 0.1659 - acc: 0.9409 - val_loss: 0.2216 - val_acc: 0.9279\n",
      "Epoch 39/150\n",
      " 1/26 [>.............................] - ETA: 0s - loss: 0.1918 - acc: 0.8750\n",
      "Epoch 00039: val_loss did not improve from 0.22139\n",
      "26/26 [==============================] - 0s 2ms/step - loss: 0.1634 - acc: 0.9361 - val_loss: 0.2233 - val_acc: 0.9327\n",
      "Epoch 40/150\n",
      " 1/26 [>.............................] - ETA: 0s - loss: 0.2227 - acc: 0.9688\n",
      "Epoch 00040: val_loss did not improve from 0.22139\n",
      "26/26 [==============================] - 0s 2ms/step - loss: 0.1588 - acc: 0.9457 - val_loss: 0.2328 - val_acc: 0.9087\n",
      "Epoch 41/150\n",
      " 1/26 [>.............................] - ETA: 0s - loss: 0.1939 - acc: 0.9062\n",
      "Epoch 00041: val_loss did not improve from 0.22139\n",
      "26/26 [==============================] - 0s 2ms/step - loss: 0.1563 - acc: 0.9445 - val_loss: 0.2296 - val_acc: 0.9231\n",
      "Epoch 42/150\n",
      " 1/26 [>.............................] - ETA: 0s - loss: 0.1043 - acc: 0.9375\n",
      "Epoch 00042: val_loss did not improve from 0.22139\n",
      "26/26 [==============================] - 0s 2ms/step - loss: 0.1414 - acc: 0.9530 - val_loss: 0.2251 - val_acc: 0.9087\n",
      "Epoch 43/150\n",
      " 1/26 [>.............................] - ETA: 0s - loss: 0.1135 - acc: 0.9688\n",
      "Epoch 00043: val_loss did not improve from 0.22139\n",
      "26/26 [==============================] - 0s 1ms/step - loss: 0.1540 - acc: 0.9421 - val_loss: 0.2269 - val_acc: 0.9231\n",
      "Epoch 44/150\n",
      " 1/26 [>.............................] - ETA: 0s - loss: 0.0859 - acc: 1.0000\n",
      "Epoch 00044: val_loss improved from 0.22139 to 0.21560, saving model to model-044-0.950543-0.937500.h5\n",
      "26/26 [==============================] - 0s 2ms/step - loss: 0.1640 - acc: 0.9505 - val_loss: 0.2156 - val_acc: 0.9375\n",
      "Epoch 45/150\n",
      " 1/26 [>.............................] - ETA: 0s - loss: 0.1415 - acc: 0.9688\n",
      "Epoch 00045: val_loss did not improve from 0.21560\n",
      "26/26 [==============================] - 0s 2ms/step - loss: 0.1524 - acc: 0.9530 - val_loss: 0.2253 - val_acc: 0.9183\n",
      "Epoch 46/150\n",
      " 1/26 [>.............................] - ETA: 0s - loss: 0.1675 - acc: 0.9375\n",
      "Epoch 00046: val_loss did not improve from 0.21560\n",
      "26/26 [==============================] - 0s 1ms/step - loss: 0.1443 - acc: 0.9481 - val_loss: 0.2243 - val_acc: 0.9183\n",
      "Epoch 47/150\n",
      " 1/26 [>.............................] - ETA: 0s - loss: 0.1643 - acc: 0.9375\n",
      "Epoch 00047: val_loss did not improve from 0.21560\n",
      "26/26 [==============================] - 0s 1ms/step - loss: 0.1410 - acc: 0.9481 - val_loss: 0.2244 - val_acc: 0.8990\n",
      "Epoch 48/150\n",
      " 1/26 [>.............................] - ETA: 0s - loss: 0.2169 - acc: 0.9062\n",
      "Epoch 00048: val_loss did not improve from 0.21560\n",
      "26/26 [==============================] - 0s 1ms/step - loss: 0.1407 - acc: 0.9530 - val_loss: 0.2189 - val_acc: 0.9135\n",
      "Epoch 49/150\n",
      " 1/26 [>.............................] - ETA: 0s - loss: 0.0691 - acc: 1.0000\n",
      "Epoch 00049: val_loss improved from 0.21560 to 0.20010, saving model to model-049-0.956574-0.932692.h5\n",
      "26/26 [==============================] - 0s 2ms/step - loss: 0.1392 - acc: 0.9566 - val_loss: 0.2001 - val_acc: 0.9327\n",
      "Epoch 50/150\n",
      " 1/26 [>.............................] - ETA: 0s - loss: 0.1669 - acc: 0.9688\n",
      "Epoch 00050: val_loss did not improve from 0.20010\n",
      "26/26 [==============================] - 0s 2ms/step - loss: 0.1374 - acc: 0.9602 - val_loss: 0.2185 - val_acc: 0.9279\n",
      "Epoch 51/150\n",
      " 1/26 [>.............................] - ETA: 0s - loss: 0.1310 - acc: 0.9375\n",
      "Epoch 00051: val_loss did not improve from 0.20010\n",
      "26/26 [==============================] - 0s 1ms/step - loss: 0.1520 - acc: 0.9397 - val_loss: 0.2415 - val_acc: 0.8846\n",
      "Epoch 52/150\n",
      " 1/26 [>.............................] - ETA: 0s - loss: 0.1253 - acc: 0.9688\n",
      "Epoch 00052: val_loss did not improve from 0.20010\n",
      "26/26 [==============================] - 0s 2ms/step - loss: 0.1421 - acc: 0.9421 - val_loss: 0.2149 - val_acc: 0.9327\n",
      "Epoch 53/150\n",
      " 1/26 [>.............................] - ETA: 0s - loss: 0.1240 - acc: 0.9375\n",
      "Epoch 00053: val_loss did not improve from 0.20010\n",
      "26/26 [==============================] - 0s 2ms/step - loss: 0.1339 - acc: 0.9530 - val_loss: 0.2330 - val_acc: 0.9038\n",
      "Epoch 54/150\n",
      " 1/26 [>.............................] - ETA: 0s - loss: 0.0580 - acc: 1.0000\n",
      "Epoch 00054: val_loss did not improve from 0.20010\n",
      "26/26 [==============================] - 0s 2ms/step - loss: 0.1348 - acc: 0.9469 - val_loss: 0.2258 - val_acc: 0.8894\n",
      "Epoch 55/150\n",
      " 1/26 [>.............................] - ETA: 0s - loss: 0.0801 - acc: 1.0000\n",
      "Epoch 00055: val_loss did not improve from 0.20010\n",
      "26/26 [==============================] - 0s 1ms/step - loss: 0.1190 - acc: 0.9662 - val_loss: 0.2172 - val_acc: 0.9135\n",
      "Epoch 56/150\n",
      " 1/26 [>.............................] - ETA: 0s - loss: 0.0823 - acc: 1.0000\n",
      "Epoch 00056: val_loss improved from 0.20010 to 0.19673, saving model to model-056-0.967431-0.937500.h5\n",
      "26/26 [==============================] - 0s 2ms/step - loss: 0.1216 - acc: 0.9674 - val_loss: 0.1967 - val_acc: 0.9375\n",
      "Epoch 57/150\n",
      " 1/26 [>.............................] - ETA: 0s - loss: 0.0542 - acc: 1.0000\n",
      "Epoch 00057: val_loss did not improve from 0.19673\n",
      "26/26 [==============================] - 0s 1ms/step - loss: 0.1263 - acc: 0.9638 - val_loss: 0.2140 - val_acc: 0.9327\n"
     ]
    },
    {
     "name": "stdout",
     "output_type": "stream",
     "text": [
      "Epoch 58/150\n",
      " 1/26 [>.............................] - ETA: 0s - loss: 0.0586 - acc: 1.0000\n",
      "Epoch 00058: val_loss did not improve from 0.19673\n",
      "26/26 [==============================] - 0s 1ms/step - loss: 0.1206 - acc: 0.9566 - val_loss: 0.2049 - val_acc: 0.9231\n",
      "Epoch 59/150\n",
      " 1/26 [>.............................] - ETA: 0s - loss: 0.0661 - acc: 1.0000\n",
      "Epoch 00059: val_loss improved from 0.19673 to 0.19299, saving model to model-059-0.952955-0.927885.h5\n",
      "26/26 [==============================] - 0s 2ms/step - loss: 0.1236 - acc: 0.9530 - val_loss: 0.1930 - val_acc: 0.9279\n",
      "Epoch 60/150\n",
      " 1/26 [>.............................] - ETA: 0s - loss: 0.1073 - acc: 0.9688\n",
      "Epoch 00060: val_loss did not improve from 0.19299\n",
      "26/26 [==============================] - 0s 1ms/step - loss: 0.1246 - acc: 0.9590 - val_loss: 0.2093 - val_acc: 0.9327\n",
      "Epoch 61/150\n",
      " 1/26 [>.............................] - ETA: 0s - loss: 0.1165 - acc: 0.9688\n",
      "Epoch 00061: val_loss did not improve from 0.19299\n",
      "26/26 [==============================] - 0s 1ms/step - loss: 0.1221 - acc: 0.9626 - val_loss: 0.2245 - val_acc: 0.8942\n",
      "Epoch 62/150\n",
      " 1/26 [>.............................] - ETA: 0s - loss: 0.1139 - acc: 0.9375\n",
      "Epoch 00062: val_loss did not improve from 0.19299\n",
      "26/26 [==============================] - 0s 2ms/step - loss: 0.1168 - acc: 0.9602 - val_loss: 0.2018 - val_acc: 0.9327\n",
      "Epoch 63/150\n",
      " 1/26 [>.............................] - ETA: 0s - loss: 0.1378 - acc: 0.9688\n",
      "Epoch 00063: val_loss did not improve from 0.19299\n",
      "26/26 [==============================] - 0s 1ms/step - loss: 0.1174 - acc: 0.9590 - val_loss: 0.2277 - val_acc: 0.8990\n",
      "Epoch 64/150\n",
      " 1/26 [>.............................] - ETA: 0s - loss: 0.1160 - acc: 0.9688\n",
      "Epoch 00064: val_loss did not improve from 0.19299\n",
      "26/26 [==============================] - 0s 1ms/step - loss: 0.1149 - acc: 0.9590 - val_loss: 0.2073 - val_acc: 0.9375\n",
      "Epoch 65/150\n",
      " 1/26 [>.............................] - ETA: 0s - loss: 0.0689 - acc: 1.0000\n",
      "Epoch 00065: val_loss did not improve from 0.19299\n",
      "26/26 [==============================] - 0s 1ms/step - loss: 0.1039 - acc: 0.9674 - val_loss: 0.2003 - val_acc: 0.9183\n",
      "Epoch 66/150\n",
      " 1/26 [>.............................] - ETA: 0s - loss: 0.0464 - acc: 1.0000\n",
      "Epoch 00066: val_loss improved from 0.19299 to 0.19281, saving model to model-066-0.965018-0.932692.h5\n",
      "26/26 [==============================] - 0s 2ms/step - loss: 0.1093 - acc: 0.9650 - val_loss: 0.1928 - val_acc: 0.9327\n",
      "Epoch 67/150\n",
      " 1/26 [>.............................] - ETA: 0s - loss: 0.0270 - acc: 1.0000\n",
      "Epoch 00067: val_loss did not improve from 0.19281\n",
      "26/26 [==============================] - 0s 1ms/step - loss: 0.1178 - acc: 0.9614 - val_loss: 0.2152 - val_acc: 0.9327\n",
      "Epoch 68/150\n",
      " 1/26 [>.............................] - ETA: 0s - loss: 0.0308 - acc: 1.0000\n",
      "Epoch 00068: val_loss did not improve from 0.19281\n",
      "26/26 [==============================] - 0s 2ms/step - loss: 0.1085 - acc: 0.9614 - val_loss: 0.1965 - val_acc: 0.9423\n",
      "Epoch 69/150\n",
      " 1/26 [>.............................] - ETA: 0s - loss: 0.1077 - acc: 0.9688\n",
      "Epoch 00069: val_loss did not improve from 0.19281\n",
      "26/26 [==============================] - 0s 1ms/step - loss: 0.1014 - acc: 0.9710 - val_loss: 0.2155 - val_acc: 0.9038\n",
      "Epoch 70/150\n",
      " 1/26 [>.............................] - ETA: 0s - loss: 0.0747 - acc: 0.9688\n",
      "Epoch 00070: val_loss did not improve from 0.19281\n",
      "26/26 [==============================] - 0s 1ms/step - loss: 0.1077 - acc: 0.9626 - val_loss: 0.1940 - val_acc: 0.9231\n",
      "Epoch 71/150\n",
      " 1/26 [>.............................] - ETA: 0s - loss: 0.1011 - acc: 0.9688\n",
      "Epoch 00071: val_loss did not improve from 0.19281\n",
      "26/26 [==============================] - 0s 1ms/step - loss: 0.1099 - acc: 0.9662 - val_loss: 0.2181 - val_acc: 0.9375\n",
      "Epoch 72/150\n",
      " 1/26 [>.............................] - ETA: 0s - loss: 0.0552 - acc: 1.0000\n",
      "Epoch 00072: val_loss did not improve from 0.19281\n",
      "26/26 [==============================] - 0s 1ms/step - loss: 0.1016 - acc: 0.9662 - val_loss: 0.2138 - val_acc: 0.9038\n",
      "Epoch 73/150\n",
      " 1/26 [>.............................] - ETA: 0s - loss: 0.0585 - acc: 1.0000\n",
      "Epoch 00073: val_loss did not improve from 0.19281\n",
      "26/26 [==============================] - 0s 1ms/step - loss: 0.1026 - acc: 0.9614 - val_loss: 0.1990 - val_acc: 0.9183\n",
      "Epoch 74/150\n",
      " 1/26 [>.............................] - ETA: 0s - loss: 0.0418 - acc: 1.0000\n",
      "Epoch 00074: val_loss did not improve from 0.19281\n",
      "26/26 [==============================] - 0s 1ms/step - loss: 0.0946 - acc: 0.9698 - val_loss: 0.1956 - val_acc: 0.9231\n",
      "Epoch 75/150\n",
      " 1/26 [>.............................] - ETA: 0s - loss: 0.0714 - acc: 1.0000\n",
      "Epoch 00075: val_loss did not improve from 0.19281\n",
      "26/26 [==============================] - 0s 2ms/step - loss: 0.1076 - acc: 0.9674 - val_loss: 0.2011 - val_acc: 0.9279\n",
      "Epoch 76/150\n",
      " 1/26 [>.............................] - ETA: 0s - loss: 0.0941 - acc: 0.9688\n",
      "Epoch 00076: val_loss did not improve from 0.19281\n",
      "26/26 [==============================] - 0s 1ms/step - loss: 0.1030 - acc: 0.9614 - val_loss: 0.1965 - val_acc: 0.9327\n",
      "Epoch 77/150\n",
      " 1/26 [>.............................] - ETA: 0s - loss: 0.0735 - acc: 1.0000\n",
      "Epoch 00077: val_loss improved from 0.19281 to 0.19064, saving model to model-077-0.968637-0.937500.h5\n",
      "26/26 [==============================] - 0s 2ms/step - loss: 0.0985 - acc: 0.9686 - val_loss: 0.1906 - val_acc: 0.9375\n",
      "Epoch 78/150\n",
      " 1/26 [>.............................] - ETA: 0s - loss: 0.1078 - acc: 0.9375\n",
      "Epoch 00078: val_loss did not improve from 0.19064\n",
      "26/26 [==============================] - 0s 1ms/step - loss: 0.0887 - acc: 0.9710 - val_loss: 0.2228 - val_acc: 0.9038\n",
      "Epoch 79/150\n",
      " 1/26 [>.............................] - ETA: 0s - loss: 0.0445 - acc: 0.9688\n",
      "Epoch 00079: val_loss did not improve from 0.19064\n",
      "26/26 [==============================] - 0s 1ms/step - loss: 0.1086 - acc: 0.9626 - val_loss: 0.1931 - val_acc: 0.9327\n",
      "Epoch 80/150\n",
      " 1/26 [>.............................] - ETA: 0s - loss: 0.0728 - acc: 1.0000\n",
      "Epoch 00080: val_loss did not improve from 0.19064\n",
      "26/26 [==============================] - 0s 1ms/step - loss: 0.0864 - acc: 0.9698 - val_loss: 0.2100 - val_acc: 0.9327\n",
      "Epoch 81/150\n",
      " 1/26 [>.............................] - ETA: 0s - loss: 0.1276 - acc: 0.9375\n",
      "Epoch 00081: val_loss did not improve from 0.19064\n",
      "26/26 [==============================] - 0s 1ms/step - loss: 0.0944 - acc: 0.9674 - val_loss: 0.1998 - val_acc: 0.9183\n",
      "Epoch 82/150\n",
      " 1/26 [>.............................] - ETA: 0s - loss: 0.1687 - acc: 0.9062\n",
      "Epoch 00082: val_loss did not improve from 0.19064\n",
      "26/26 [==============================] - 0s 1ms/step - loss: 0.0946 - acc: 0.9662 - val_loss: 0.1986 - val_acc: 0.9279\n",
      "Epoch 83/150\n",
      " 1/26 [>.............................] - ETA: 0s - loss: 0.0504 - acc: 1.0000\n",
      "Epoch 00083: val_loss did not improve from 0.19064\n",
      "26/26 [==============================] - 0s 1ms/step - loss: 0.0917 - acc: 0.9735 - val_loss: 0.1969 - val_acc: 0.9135\n",
      "Epoch 84/150\n",
      " 1/26 [>.............................] - ETA: 0s - loss: 0.0754 - acc: 1.0000\n",
      "Epoch 00084: val_loss did not improve from 0.19064\n",
      "26/26 [==============================] - 0s 1ms/step - loss: 0.0823 - acc: 0.9747 - val_loss: 0.1959 - val_acc: 0.9183\n",
      "Epoch 85/150\n",
      " 1/26 [>.............................] - ETA: 0s - loss: 0.1166 - acc: 0.9688\n",
      "Epoch 00085: val_loss did not improve from 0.19064\n",
      "26/26 [==============================] - 0s 1ms/step - loss: 0.0876 - acc: 0.9759 - val_loss: 0.1947 - val_acc: 0.9327\n",
      "Epoch 86/150\n",
      " 1/26 [>.............................] - ETA: 0s - loss: 0.1152 - acc: 0.9375\n",
      "Epoch 00086: val_loss improved from 0.19064 to 0.18930, saving model to model-086-0.966224-0.932692.h5\n",
      "26/26 [==============================] - 0s 2ms/step - loss: 0.0918 - acc: 0.9662 - val_loss: 0.1893 - val_acc: 0.9327\n",
      "Epoch 87/150\n",
      " 1/26 [>.............................] - ETA: 0s - loss: 0.0683 - acc: 0.9688\n",
      "Epoch 00087: val_loss did not improve from 0.18930\n",
      "26/26 [==============================] - 0s 2ms/step - loss: 0.0877 - acc: 0.9723 - val_loss: 0.1937 - val_acc: 0.9375\n",
      "Epoch 88/150\n",
      " 1/26 [>.............................] - ETA: 0s - loss: 0.1594 - acc: 0.9375\n",
      "Epoch 00088: val_loss did not improve from 0.18930\n",
      "26/26 [==============================] - 0s 1ms/step - loss: 0.0786 - acc: 0.9771 - val_loss: 0.2001 - val_acc: 0.9231\n"
     ]
    },
    {
     "name": "stdout",
     "output_type": "stream",
     "text": [
      "Epoch 89/150\n",
      " 1/26 [>.............................] - ETA: 0s - loss: 0.0251 - acc: 1.0000\n",
      "Epoch 00089: val_loss did not improve from 0.18930\n",
      "26/26 [==============================] - 0s 1ms/step - loss: 0.0836 - acc: 0.9686 - val_loss: 0.1959 - val_acc: 0.9423\n",
      "Epoch 90/150\n",
      " 1/26 [>.............................] - ETA: 0s - loss: 0.0785 - acc: 0.9688\n",
      "Epoch 00090: val_loss did not improve from 0.18930\n",
      "26/26 [==============================] - 0s 1ms/step - loss: 0.0924 - acc: 0.9638 - val_loss: 0.2593 - val_acc: 0.8750\n",
      "Epoch 91/150\n",
      " 1/26 [>.............................] - ETA: 0s - loss: 0.2249 - acc: 0.9375\n",
      "Epoch 00091: val_loss did not improve from 0.18930\n",
      "26/26 [==============================] - 0s 1ms/step - loss: 0.1068 - acc: 0.9590 - val_loss: 0.1988 - val_acc: 0.9231\n",
      "Epoch 92/150\n",
      " 1/26 [>.............................] - ETA: 0s - loss: 0.0320 - acc: 1.0000\n",
      "Epoch 00092: val_loss did not improve from 0.18930\n",
      "26/26 [==============================] - 0s 1ms/step - loss: 0.0788 - acc: 0.9771 - val_loss: 0.1940 - val_acc: 0.9423\n",
      "Epoch 93/150\n",
      " 1/26 [>.............................] - ETA: 0s - loss: 0.0491 - acc: 0.9688\n",
      "Epoch 00093: val_loss did not improve from 0.18930\n",
      "26/26 [==============================] - 0s 1ms/step - loss: 0.0751 - acc: 0.9759 - val_loss: 0.1964 - val_acc: 0.9327\n",
      "Epoch 94/150\n",
      " 1/26 [>.............................] - ETA: 0s - loss: 0.1232 - acc: 0.9688\n",
      "Epoch 00094: val_loss did not improve from 0.18930\n",
      "26/26 [==============================] - 0s 1ms/step - loss: 0.0849 - acc: 0.9698 - val_loss: 0.2071 - val_acc: 0.9135\n",
      "Epoch 95/150\n",
      " 1/26 [>.............................] - ETA: 0s - loss: 0.1106 - acc: 0.9688\n",
      "Epoch 00095: val_loss improved from 0.18930 to 0.18705, saving model to model-095-0.972256-0.937500.h5\n",
      "26/26 [==============================] - 0s 2ms/step - loss: 0.0841 - acc: 0.9723 - val_loss: 0.1870 - val_acc: 0.9375\n",
      "Epoch 96/150\n",
      " 1/26 [>.............................] - ETA: 0s - loss: 0.0308 - acc: 1.0000\n",
      "Epoch 00096: val_loss did not improve from 0.18705\n",
      "26/26 [==============================] - 0s 1ms/step - loss: 0.0937 - acc: 0.9638 - val_loss: 0.2079 - val_acc: 0.9375\n",
      "Epoch 97/150\n",
      " 1/26 [>.............................] - ETA: 0s - loss: 0.0521 - acc: 1.0000\n",
      "Epoch 00097: val_loss improved from 0.18705 to 0.17569, saving model to model-097-0.973462-0.942308.h5\n",
      "26/26 [==============================] - 0s 2ms/step - loss: 0.0780 - acc: 0.9735 - val_loss: 0.1757 - val_acc: 0.9423\n",
      "Epoch 98/150\n",
      " 1/26 [>.............................] - ETA: 0s - loss: 0.0518 - acc: 1.0000\n",
      "Epoch 00098: val_loss did not improve from 0.17569\n",
      "26/26 [==============================] - 0s 1ms/step - loss: 0.0773 - acc: 0.9771 - val_loss: 0.1852 - val_acc: 0.9327\n",
      "Epoch 99/150\n",
      " 1/26 [>.............................] - ETA: 0s - loss: 0.0382 - acc: 1.0000\n",
      "Epoch 00099: val_loss did not improve from 0.17569\n",
      "26/26 [==============================] - 0s 1ms/step - loss: 0.0867 - acc: 0.9710 - val_loss: 0.2038 - val_acc: 0.9327\n",
      "Epoch 100/150\n",
      " 1/26 [>.............................] - ETA: 0s - loss: 0.1049 - acc: 0.9375\n",
      "Epoch 00100: val_loss did not improve from 0.17569\n",
      "26/26 [==============================] - 0s 1ms/step - loss: 0.0970 - acc: 0.9602 - val_loss: 0.2138 - val_acc: 0.9375\n",
      "Epoch 101/150\n",
      " 1/26 [>.............................] - ETA: 0s - loss: 0.0572 - acc: 1.0000\n",
      "Epoch 00101: val_loss did not improve from 0.17569\n",
      "26/26 [==============================] - 0s 1ms/step - loss: 0.0801 - acc: 0.9723 - val_loss: 0.1865 - val_acc: 0.9327\n",
      "Epoch 102/150\n",
      " 1/26 [>.............................] - ETA: 0s - loss: 0.0311 - acc: 1.0000\n",
      "Epoch 00102: val_loss did not improve from 0.17569\n",
      "26/26 [==============================] - 0s 1ms/step - loss: 0.0841 - acc: 0.9710 - val_loss: 0.2197 - val_acc: 0.9087\n",
      "Epoch 103/150\n",
      " 1/26 [>.............................] - ETA: 0s - loss: 0.1546 - acc: 0.9062\n",
      "Epoch 00103: val_loss did not improve from 0.17569\n",
      "26/26 [==============================] - 0s 1ms/step - loss: 0.0913 - acc: 0.9602 - val_loss: 0.1932 - val_acc: 0.9231\n",
      "Epoch 104/150\n",
      " 1/26 [>.............................] - ETA: 0s - loss: 0.1225 - acc: 0.9062\n",
      "Epoch 00104: val_loss did not improve from 0.17569\n",
      "26/26 [==============================] - 0s 1ms/step - loss: 0.0725 - acc: 0.9747 - val_loss: 0.1885 - val_acc: 0.9279\n",
      "Epoch 105/150\n",
      " 1/26 [>.............................] - ETA: 0s - loss: 0.0935 - acc: 0.9375\n",
      "Epoch 00105: val_loss did not improve from 0.17569\n",
      "26/26 [==============================] - 0s 1ms/step - loss: 0.0725 - acc: 0.9747 - val_loss: 0.1894 - val_acc: 0.9231\n",
      "Epoch 106/150\n",
      " 1/26 [>.............................] - ETA: 0s - loss: 0.0634 - acc: 0.9688\n",
      "Epoch 00106: val_loss did not improve from 0.17569\n",
      "26/26 [==============================] - 0s 1ms/step - loss: 0.0755 - acc: 0.9747 - val_loss: 0.1830 - val_acc: 0.9423\n",
      "Epoch 107/150\n",
      " 1/26 [>.............................] - ETA: 0s - loss: 0.0714 - acc: 0.9688\n",
      "Epoch 00107: val_loss did not improve from 0.17569\n",
      "26/26 [==============================] - 0s 1ms/step - loss: 0.0678 - acc: 0.9783 - val_loss: 0.2274 - val_acc: 0.9231\n",
      "Epoch 108/150\n",
      " 1/26 [>.............................] - ETA: 0s - loss: 0.0416 - acc: 0.9688\n",
      "Epoch 00108: val_loss did not improve from 0.17569\n",
      "26/26 [==============================] - 0s 1ms/step - loss: 0.0747 - acc: 0.9759 - val_loss: 0.2001 - val_acc: 0.9135\n",
      "Epoch 109/150\n",
      " 1/26 [>.............................] - ETA: 0s - loss: 0.0501 - acc: 0.9688\n",
      "Epoch 00109: val_loss did not improve from 0.17569\n",
      "26/26 [==============================] - 0s 1ms/step - loss: 0.0631 - acc: 0.9831 - val_loss: 0.1931 - val_acc: 0.9231\n",
      "Epoch 110/150\n",
      " 1/26 [>.............................] - ETA: 0s - loss: 0.1027 - acc: 0.9688\n",
      "Epoch 00110: val_loss did not improve from 0.17569\n",
      "26/26 [==============================] - 0s 1ms/step - loss: 0.0693 - acc: 0.9759 - val_loss: 0.1896 - val_acc: 0.9375\n",
      "Epoch 111/150\n",
      " 1/26 [>.............................] - ETA: 0s - loss: 0.0365 - acc: 1.0000\n",
      "Epoch 00111: val_loss did not improve from 0.17569\n",
      "26/26 [==============================] - 0s 1ms/step - loss: 0.0773 - acc: 0.9723 - val_loss: 0.1977 - val_acc: 0.9375\n",
      "Epoch 112/150\n",
      " 1/26 [>.............................] - ETA: 0s - loss: 0.0449 - acc: 1.0000\n",
      "Epoch 00112: val_loss did not improve from 0.17569\n",
      "26/26 [==============================] - 0s 1ms/step - loss: 0.0753 - acc: 0.9710 - val_loss: 0.1897 - val_acc: 0.9279\n",
      "Epoch 113/150\n",
      " 1/26 [>.............................] - ETA: 0s - loss: 0.1329 - acc: 0.9375\n",
      "Epoch 00113: val_loss did not improve from 0.17569\n",
      "26/26 [==============================] - 0s 1ms/step - loss: 0.0674 - acc: 0.9747 - val_loss: 0.1868 - val_acc: 0.9231\n",
      "Epoch 114/150\n",
      " 1/26 [>.............................] - ETA: 0s - loss: 0.1077 - acc: 0.9375\n",
      "Epoch 00114: val_loss did not improve from 0.17569\n",
      "26/26 [==============================] - 0s 1ms/step - loss: 0.0792 - acc: 0.9735 - val_loss: 0.1891 - val_acc: 0.9423\n",
      "Epoch 115/150\n",
      " 1/26 [>.............................] - ETA: 0s - loss: 0.0648 - acc: 1.0000\n",
      "Epoch 00115: val_loss did not improve from 0.17569\n",
      "26/26 [==============================] - 0s 1ms/step - loss: 0.0770 - acc: 0.9783 - val_loss: 0.1925 - val_acc: 0.9375\n",
      "Epoch 116/150\n",
      " 1/26 [>.............................] - ETA: 0s - loss: 0.0851 - acc: 1.0000\n",
      "Epoch 00116: val_loss did not improve from 0.17569\n",
      "26/26 [==============================] - 0s 1ms/step - loss: 0.0737 - acc: 0.9771 - val_loss: 0.1879 - val_acc: 0.9231\n",
      "Epoch 117/150\n",
      " 1/26 [>.............................] - ETA: 0s - loss: 0.1226 - acc: 0.9688\n",
      "Epoch 00117: val_loss did not improve from 0.17569\n",
      "26/26 [==============================] - 0s 1ms/step - loss: 0.0800 - acc: 0.9735 - val_loss: 0.1986 - val_acc: 0.9231\n",
      "Epoch 118/150\n",
      " 1/26 [>.............................] - ETA: 0s - loss: 0.0573 - acc: 1.0000\n",
      "Epoch 00118: val_loss did not improve from 0.17569\n",
      "26/26 [==============================] - 0s 1ms/step - loss: 0.0748 - acc: 0.9759 - val_loss: 0.1995 - val_acc: 0.9327\n",
      "Epoch 119/150\n",
      " 1/26 [>.............................] - ETA: 0s - loss: 0.0256 - acc: 1.0000\n",
      "Epoch 00119: val_loss did not improve from 0.17569\n",
      "26/26 [==============================] - 0s 1ms/step - loss: 0.0656 - acc: 0.9771 - val_loss: 0.1835 - val_acc: 0.9471\n"
     ]
    },
    {
     "name": "stdout",
     "output_type": "stream",
     "text": [
      "Epoch 120/150\n",
      " 1/26 [>.............................] - ETA: 0s - loss: 0.0228 - acc: 1.0000\n",
      "Epoch 00120: val_loss did not improve from 0.17569\n",
      "26/26 [==============================] - 0s 1ms/step - loss: 0.0667 - acc: 0.9759 - val_loss: 0.1881 - val_acc: 0.9423\n",
      "Epoch 121/150\n",
      " 1/26 [>.............................] - ETA: 0s - loss: 0.1214 - acc: 0.9375\n",
      "Epoch 00121: val_loss did not improve from 0.17569\n",
      "26/26 [==============================] - 0s 1ms/step - loss: 0.0657 - acc: 0.9783 - val_loss: 0.1934 - val_acc: 0.9375\n",
      "Epoch 122/150\n",
      " 1/26 [>.............................] - ETA: 0s - loss: 0.0596 - acc: 0.9688\n",
      "Epoch 00122: val_loss did not improve from 0.17569\n",
      "26/26 [==============================] - 0s 1ms/step - loss: 0.0637 - acc: 0.9831 - val_loss: 0.2011 - val_acc: 0.9183\n",
      "Epoch 123/150\n",
      " 1/26 [>.............................] - ETA: 0s - loss: 0.1780 - acc: 0.8750\n",
      "Epoch 00123: val_loss did not improve from 0.17569\n",
      "26/26 [==============================] - 0s 1ms/step - loss: 0.0749 - acc: 0.9759 - val_loss: 0.2043 - val_acc: 0.9135\n",
      "Epoch 124/150\n",
      " 1/26 [>.............................] - ETA: 0s - loss: 0.0496 - acc: 0.9688\n",
      "Epoch 00124: val_loss did not improve from 0.17569\n",
      "26/26 [==============================] - 0s 1ms/step - loss: 0.0645 - acc: 0.9771 - val_loss: 0.1845 - val_acc: 0.9231\n",
      "Epoch 125/150\n",
      " 1/26 [>.............................] - ETA: 0s - loss: 0.0550 - acc: 1.0000\n",
      "Epoch 00125: val_loss did not improve from 0.17569\n",
      "26/26 [==============================] - 0s 1ms/step - loss: 0.0784 - acc: 0.9747 - val_loss: 0.1946 - val_acc: 0.9327\n",
      "Epoch 126/150\n",
      " 1/26 [>.............................] - ETA: 0s - loss: 0.0482 - acc: 1.0000\n",
      "Epoch 00126: val_loss did not improve from 0.17569\n",
      "26/26 [==============================] - 0s 1ms/step - loss: 0.0684 - acc: 0.9783 - val_loss: 0.1875 - val_acc: 0.9471\n",
      "Epoch 127/150\n",
      " 1/26 [>.............................] - ETA: 0s - loss: 0.0616 - acc: 0.9688\n",
      "Epoch 00127: val_loss did not improve from 0.17569\n",
      "26/26 [==============================] - 0s 1ms/step - loss: 0.0779 - acc: 0.9686 - val_loss: 0.1790 - val_acc: 0.9375\n",
      "Epoch 128/150\n",
      " 1/26 [>.............................] - ETA: 0s - loss: 0.0944 - acc: 0.9688\n",
      "Epoch 00128: val_loss did not improve from 0.17569\n",
      "26/26 [==============================] - 0s 1ms/step - loss: 0.0544 - acc: 0.9903 - val_loss: 0.1923 - val_acc: 0.9279\n",
      "Epoch 129/150\n",
      " 1/26 [>.............................] - ETA: 0s - loss: 0.0349 - acc: 1.0000\n",
      "Epoch 00129: val_loss did not improve from 0.17569\n",
      "26/26 [==============================] - 0s 1ms/step - loss: 0.0805 - acc: 0.9674 - val_loss: 0.1956 - val_acc: 0.9279\n",
      "Epoch 130/150\n",
      " 1/26 [>.............................] - ETA: 0s - loss: 0.1773 - acc: 0.9062\n",
      "Epoch 00130: val_loss did not improve from 0.17569\n",
      "26/26 [==============================] - 0s 1ms/step - loss: 0.0654 - acc: 0.9783 - val_loss: 0.1982 - val_acc: 0.9375\n",
      "Epoch 131/150\n",
      " 1/26 [>.............................] - ETA: 0s - loss: 0.0794 - acc: 1.0000\n",
      "Epoch 00131: val_loss did not improve from 0.17569\n",
      "26/26 [==============================] - 0s 1ms/step - loss: 0.0642 - acc: 0.9795 - val_loss: 0.1917 - val_acc: 0.9471\n",
      "Epoch 132/150\n",
      " 1/26 [>.............................] - ETA: 0s - loss: 0.0353 - acc: 1.0000\n",
      "Epoch 00132: val_loss did not improve from 0.17569\n",
      "26/26 [==============================] - 0s 1ms/step - loss: 0.0564 - acc: 0.9831 - val_loss: 0.1964 - val_acc: 0.9279\n",
      "Epoch 133/150\n",
      " 1/26 [>.............................] - ETA: 0s - loss: 0.0359 - acc: 1.0000\n",
      "Epoch 00133: val_loss did not improve from 0.17569\n",
      "26/26 [==============================] - 0s 1ms/step - loss: 0.0600 - acc: 0.9795 - val_loss: 0.1967 - val_acc: 0.9327\n",
      "Epoch 134/150\n",
      " 1/26 [>.............................] - ETA: 0s - loss: 0.0470 - acc: 1.0000\n",
      "Epoch 00134: val_loss did not improve from 0.17569\n",
      "26/26 [==============================] - 0s 1ms/step - loss: 0.0608 - acc: 0.9795 - val_loss: 0.1862 - val_acc: 0.9279\n",
      "Epoch 135/150\n",
      " 1/26 [>.............................] - ETA: 0s - loss: 0.0442 - acc: 1.0000\n",
      "Epoch 00135: val_loss did not improve from 0.17569\n",
      "26/26 [==============================] - 0s 2ms/step - loss: 0.0714 - acc: 0.9759 - val_loss: 0.1895 - val_acc: 0.9375\n",
      "Epoch 136/150\n",
      " 1/26 [>.............................] - ETA: 0s - loss: 0.0320 - acc: 0.9688\n",
      "Epoch 00136: val_loss did not improve from 0.17569\n",
      "26/26 [==============================] - 0s 1ms/step - loss: 0.0571 - acc: 0.9843 - val_loss: 0.1822 - val_acc: 0.9567\n",
      "Epoch 137/150\n",
      " 1/26 [>.............................] - ETA: 0s - loss: 0.0077 - acc: 1.0000\n",
      "Epoch 00137: val_loss did not improve from 0.17569\n",
      "26/26 [==============================] - 0s 1ms/step - loss: 0.0614 - acc: 0.9795 - val_loss: 0.2239 - val_acc: 0.9183\n",
      "Epoch 138/150\n",
      " 1/26 [>.............................] - ETA: 0s - loss: 0.1423 - acc: 0.9375\n",
      "Epoch 00138: val_loss did not improve from 0.17569\n",
      "26/26 [==============================] - 0s 1ms/step - loss: 0.0663 - acc: 0.9771 - val_loss: 0.2045 - val_acc: 0.9327\n",
      "Epoch 139/150\n",
      " 1/26 [>.............................] - ETA: 0s - loss: 0.0290 - acc: 1.0000\n",
      "Epoch 00139: val_loss did not improve from 0.17569\n",
      "26/26 [==============================] - 0s 1ms/step - loss: 0.0604 - acc: 0.9795 - val_loss: 0.1972 - val_acc: 0.9327\n",
      "Epoch 140/150\n",
      " 1/26 [>.............................] - ETA: 0s - loss: 0.0420 - acc: 0.9688\n",
      "Epoch 00140: val_loss did not improve from 0.17569\n",
      "26/26 [==============================] - 0s 1ms/step - loss: 0.0521 - acc: 0.9831 - val_loss: 0.2246 - val_acc: 0.9423\n",
      "Epoch 141/150\n",
      " 1/26 [>.............................] - ETA: 0s - loss: 0.0063 - acc: 1.0000\n",
      "Epoch 00141: val_loss did not improve from 0.17569\n",
      "26/26 [==============================] - 0s 1ms/step - loss: 0.0560 - acc: 0.9843 - val_loss: 0.2075 - val_acc: 0.9231\n",
      "Epoch 142/150\n",
      " 1/26 [>.............................] - ETA: 0s - loss: 0.0271 - acc: 1.0000\n",
      "Epoch 00142: val_loss did not improve from 0.17569\n",
      "26/26 [==============================] - 0s 1ms/step - loss: 0.0560 - acc: 0.9843 - val_loss: 0.1931 - val_acc: 0.9327\n",
      "Epoch 143/150\n",
      " 1/26 [>.............................] - ETA: 0s - loss: 0.0608 - acc: 1.0000\n",
      "Epoch 00143: val_loss did not improve from 0.17569\n",
      "26/26 [==============================] - 0s 1ms/step - loss: 0.0579 - acc: 0.9783 - val_loss: 0.2054 - val_acc: 0.9471\n",
      "Epoch 144/150\n",
      " 1/26 [>.............................] - ETA: 0s - loss: 0.0914 - acc: 0.9375\n",
      "Epoch 00144: val_loss did not improve from 0.17569\n",
      "26/26 [==============================] - 0s 1ms/step - loss: 0.0693 - acc: 0.9771 - val_loss: 0.1923 - val_acc: 0.9423\n",
      "Epoch 145/150\n",
      " 1/26 [>.............................] - ETA: 0s - loss: 0.0244 - acc: 1.0000\n",
      "Epoch 00145: val_loss did not improve from 0.17569\n",
      "26/26 [==============================] - 0s 1ms/step - loss: 0.0551 - acc: 0.9819 - val_loss: 0.2088 - val_acc: 0.9279\n",
      "Epoch 146/150\n",
      " 1/26 [>.............................] - ETA: 0s - loss: 0.0710 - acc: 0.9688\n",
      "Epoch 00146: val_loss did not improve from 0.17569\n",
      "26/26 [==============================] - 0s 1ms/step - loss: 0.0631 - acc: 0.9759 - val_loss: 0.2095 - val_acc: 0.9423\n",
      "Epoch 147/150\n",
      " 1/26 [>.............................] - ETA: 0s - loss: 0.0726 - acc: 0.9688\n",
      "Epoch 00147: val_loss did not improve from 0.17569\n",
      "26/26 [==============================] - 0s 1ms/step - loss: 0.0605 - acc: 0.9831 - val_loss: 0.1932 - val_acc: 0.9423\n",
      "Epoch 148/150\n",
      " 1/26 [>.............................] - ETA: 0s - loss: 0.0804 - acc: 1.0000\n",
      "Epoch 00148: val_loss did not improve from 0.17569\n",
      "26/26 [==============================] - 0s 1ms/step - loss: 0.0617 - acc: 0.9831 - val_loss: 0.2105 - val_acc: 0.9423\n",
      "Epoch 149/150\n",
      " 1/26 [>.............................] - ETA: 0s - loss: 0.0394 - acc: 1.0000\n",
      "Epoch 00149: val_loss did not improve from 0.17569\n",
      "26/26 [==============================] - 0s 1ms/step - loss: 0.0559 - acc: 0.9819 - val_loss: 0.2087 - val_acc: 0.9327\n",
      "Epoch 150/150\n",
      " 1/26 [>.............................] - ETA: 0s - loss: 0.0217 - acc: 1.0000\n",
      "Epoch 00150: val_loss did not improve from 0.17569\n",
      "26/26 [==============================] - 0s 1ms/step - loss: 0.0761 - acc: 0.9698 - val_loss: 0.2005 - val_acc: 0.9471\n"
     ]
    }
   ],
   "source": [
    "checkpoint = ModelCheckpoint('model-{epoch:03d}-{acc:03f}-{val_acc:03f}.h5', verbose=1, monitor='val_loss',\n",
    "                             save_best_only=True, mode='auto')\n",
    "model_2_results = model_2.fit(X_train_scaled, labels, epochs=150, batch_size=32, \n",
    "                              validation_split=0.2, callbacks=[checkpoint])"
   ]
  },
  {
   "cell_type": "markdown",
   "metadata": {},
   "source": [
    "The best model gave us training accuracy of .973 and test accuracy of .942"
   ]
  },
  {
   "cell_type": "code",
   "execution_count": 45,
   "metadata": {},
   "outputs": [
    {
     "data": {
      "image/png": "[encoded data removed]",
      "text/plain": [
       "<Figure size 432x288 with 1 Axes>"
      ]
     },
     "metadata": {},
     "output_type": "display_data"
    },
    {
     "data": {
      "image/png": "[encoded data removed]",
      "text/plain": [
       "<Figure size 432x288 with 1 Axes>"
      ]
     },
     "metadata": {},
     "output_type": "display_data"
    }
   ],
   "source": [
    "acc = model_2_results.history['acc']\n",
    "val_acc = model_2_results.history['val_acc']\n",
    "loss = model_2_results.history['loss']\n",
    "val_loss = model_2_results.history['val_loss']\n",
    "epochs = range(len(acc))\n",
    "plt.plot(epochs, acc, 'bo', label='Training acc')\n",
    "plt.plot(epochs, val_acc, 'b', label='Validation acc')\n",
    "plt.title('Training and validation accuracy')\n",
    "plt.legend()\n",
    "plt.figure()\n",
    "plt.plot(epochs, loss, 'bo', label='Training loss')\n",
    "plt.plot(epochs, val_loss, 'b', label='Validation loss')\n",
    "plt.title('Training and validation loss')\n",
    "plt.legend()\n",
    "plt.show()"
   ]
  },
  {
   "cell_type": "code",
   "execution_count": 66,
   "metadata": {},
   "outputs": [],
   "source": [
    "%reset_selective -f model_3"
   ]
  },
  {
   "cell_type": "code",
   "execution_count": 46,
   "metadata": {},
   "outputs": [],
   "source": [
    "model_3 = Sequential()\n",
    "#model_3.add(Dense(128, activation='tanh', input_shape=(1037,29)))\n",
    "model_3.add(Dense(64, activation='tanh', input_shape=(21,)))\n",
    "model_3.add(Dense(32, activation='tanh'))\n",
    "model_3.add(Dropout(.2))\n",
    "model_3.add(Dense(6, activation='softmax'))\n",
    "\n",
    "model_3.compile(loss='categorical_crossentropy', optimizer='adam', metrics=['acc'])"
   ]
  },
  {
   "cell_type": "code",
   "execution_count": 48,
   "metadata": {},
   "outputs": [
    {
     "name": "stdout",
     "output_type": "stream",
     "text": [
      "Epoch 1/100\n",
      "26/26 [==============================] - 0s 5ms/step - loss: 1.7563 - acc: 0.2738 - val_loss: 1.6083 - val_acc: 0.3750\n",
      "Epoch 2/100\n",
      "26/26 [==============================] - 0s 1ms/step - loss: 1.4927 - acc: 0.3860 - val_loss: 1.4067 - val_acc: 0.4760\n",
      "Epoch 3/100\n",
      "26/26 [==============================] - 0s 2ms/step - loss: 1.2862 - acc: 0.5127 - val_loss: 1.1918 - val_acc: 0.6202\n",
      "Epoch 4/100\n",
      "26/26 [==============================] - 0s 2ms/step - loss: 1.0894 - acc: 0.6273 - val_loss: 1.0213 - val_acc: 0.6827\n",
      "Epoch 5/100\n",
      "26/26 [==============================] - 0s 2ms/step - loss: 0.9359 - acc: 0.6743 - val_loss: 0.8717 - val_acc: 0.7260\n",
      "Epoch 6/100\n",
      "26/26 [==============================] - 0s 2ms/step - loss: 0.7927 - acc: 0.7455 - val_loss: 0.7601 - val_acc: 0.7548\n",
      "Epoch 7/100\n",
      "26/26 [==============================] - 0s 2ms/step - loss: 0.6879 - acc: 0.7949 - val_loss: 0.6742 - val_acc: 0.8077\n",
      "Epoch 8/100\n",
      "26/26 [==============================] - 0s 2ms/step - loss: 0.6120 - acc: 0.8287 - val_loss: 0.6213 - val_acc: 0.8029\n",
      "Epoch 9/100\n",
      "26/26 [==============================] - 0s 2ms/step - loss: 0.5548 - acc: 0.8323 - val_loss: 0.5657 - val_acc: 0.8269\n",
      "Epoch 10/100\n",
      "26/26 [==============================] - 0s 2ms/step - loss: 0.5124 - acc: 0.8384 - val_loss: 0.5300 - val_acc: 0.8173\n",
      "Epoch 11/100\n",
      "26/26 [==============================] - 0s 2ms/step - loss: 0.4784 - acc: 0.8444 - val_loss: 0.5083 - val_acc: 0.8221\n",
      "Epoch 12/100\n",
      "26/26 [==============================] - 0s 2ms/step - loss: 0.4401 - acc: 0.8516 - val_loss: 0.4699 - val_acc: 0.8510\n",
      "Epoch 13/100\n",
      "26/26 [==============================] - 0s 2ms/step - loss: 0.4133 - acc: 0.8649 - val_loss: 0.4549 - val_acc: 0.8413\n",
      "Epoch 14/100\n",
      "26/26 [==============================] - 0s 2ms/step - loss: 0.3894 - acc: 0.8733 - val_loss: 0.4524 - val_acc: 0.8413\n",
      "Epoch 15/100\n",
      "26/26 [==============================] - 0s 2ms/step - loss: 0.3782 - acc: 0.8806 - val_loss: 0.4128 - val_acc: 0.8558\n",
      "Epoch 16/100\n",
      "26/26 [==============================] - 0s 2ms/step - loss: 0.3422 - acc: 0.8866 - val_loss: 0.4005 - val_acc: 0.8702\n",
      "Epoch 17/100\n",
      "26/26 [==============================] - 0s 2ms/step - loss: 0.3377 - acc: 0.8914 - val_loss: 0.3944 - val_acc: 0.8654\n",
      "Epoch 18/100\n",
      "26/26 [==============================] - 0s 2ms/step - loss: 0.3306 - acc: 0.8866 - val_loss: 0.3733 - val_acc: 0.8654\n",
      "Epoch 19/100\n",
      "26/26 [==============================] - 0s 2ms/step - loss: 0.3143 - acc: 0.8963 - val_loss: 0.3733 - val_acc: 0.8606\n",
      "Epoch 20/100\n",
      "26/26 [==============================] - 0s 2ms/step - loss: 0.3086 - acc: 0.8951 - val_loss: 0.3584 - val_acc: 0.8606\n",
      "Epoch 21/100\n",
      "26/26 [==============================] - 0s 2ms/step - loss: 0.2893 - acc: 0.9083 - val_loss: 0.3491 - val_acc: 0.8750\n",
      "Epoch 22/100\n",
      "26/26 [==============================] - 0s 2ms/step - loss: 0.2898 - acc: 0.9023 - val_loss: 0.3409 - val_acc: 0.8702\n",
      "Epoch 23/100\n",
      "26/26 [==============================] - 0s 2ms/step - loss: 0.2679 - acc: 0.9144 - val_loss: 0.3370 - val_acc: 0.8750\n",
      "Epoch 24/100\n",
      "26/26 [==============================] - 0s 2ms/step - loss: 0.2624 - acc: 0.9252 - val_loss: 0.3208 - val_acc: 0.8798\n",
      "Epoch 25/100\n",
      "26/26 [==============================] - 0s 2ms/step - loss: 0.2579 - acc: 0.9240 - val_loss: 0.3220 - val_acc: 0.8702\n",
      "Epoch 26/100\n",
      "26/26 [==============================] - 0s 2ms/step - loss: 0.2441 - acc: 0.9168 - val_loss: 0.3062 - val_acc: 0.8846\n",
      "Epoch 27/100\n",
      "26/26 [==============================] - 0s 1ms/step - loss: 0.2395 - acc: 0.9156 - val_loss: 0.3086 - val_acc: 0.8702\n",
      "Epoch 28/100\n",
      "26/26 [==============================] - 0s 1ms/step - loss: 0.2384 - acc: 0.9204 - val_loss: 0.2941 - val_acc: 0.8798\n",
      "Epoch 29/100\n",
      "26/26 [==============================] - 0s 2ms/step - loss: 0.2288 - acc: 0.9300 - val_loss: 0.3014 - val_acc: 0.8798\n",
      "Epoch 30/100\n",
      "26/26 [==============================] - 0s 2ms/step - loss: 0.2197 - acc: 0.9204 - val_loss: 0.2918 - val_acc: 0.8846\n",
      "Epoch 31/100\n",
      "26/26 [==============================] - 0s 2ms/step - loss: 0.2137 - acc: 0.9324 - val_loss: 0.2895 - val_acc: 0.8702\n",
      "Epoch 32/100\n",
      "26/26 [==============================] - 0s 2ms/step - loss: 0.2162 - acc: 0.9264 - val_loss: 0.2770 - val_acc: 0.8894\n",
      "Epoch 33/100\n",
      "26/26 [==============================] - 0s 2ms/step - loss: 0.2103 - acc: 0.9264 - val_loss: 0.2749 - val_acc: 0.8798\n",
      "Epoch 34/100\n",
      "26/26 [==============================] - 0s 2ms/step - loss: 0.2102 - acc: 0.9264 - val_loss: 0.2667 - val_acc: 0.8894\n",
      "Epoch 35/100\n",
      "26/26 [==============================] - 0s 2ms/step - loss: 0.2029 - acc: 0.9252 - val_loss: 0.2822 - val_acc: 0.8702\n",
      "Epoch 36/100\n",
      "26/26 [==============================] - 0s 2ms/step - loss: 0.1945 - acc: 0.9288 - val_loss: 0.2574 - val_acc: 0.8894\n",
      "Epoch 37/100\n",
      "26/26 [==============================] - 0s 1ms/step - loss: 0.1978 - acc: 0.9276 - val_loss: 0.2667 - val_acc: 0.8702\n",
      "Epoch 38/100\n",
      "26/26 [==============================] - 0s 2ms/step - loss: 0.1980 - acc: 0.9264 - val_loss: 0.2719 - val_acc: 0.8654\n",
      "Epoch 39/100\n",
      "26/26 [==============================] - 0s 2ms/step - loss: 0.2015 - acc: 0.9228 - val_loss: 0.2592 - val_acc: 0.8846\n",
      "Epoch 40/100\n",
      "26/26 [==============================] - 0s 1ms/step - loss: 0.1924 - acc: 0.9361 - val_loss: 0.2518 - val_acc: 0.8990\n",
      "Epoch 41/100\n",
      "26/26 [==============================] - 0s 1ms/step - loss: 0.1855 - acc: 0.9373 - val_loss: 0.2491 - val_acc: 0.8942\n",
      "Epoch 42/100\n",
      "26/26 [==============================] - 0s 1ms/step - loss: 0.1638 - acc: 0.9481 - val_loss: 0.2422 - val_acc: 0.8846\n",
      "Epoch 43/100\n",
      "26/26 [==============================] - 0s 1ms/step - loss: 0.1709 - acc: 0.9457 - val_loss: 0.2539 - val_acc: 0.8942\n",
      "Epoch 44/100\n",
      "26/26 [==============================] - 0s 1ms/step - loss: 0.1689 - acc: 0.9445 - val_loss: 0.2495 - val_acc: 0.8846\n",
      "Epoch 45/100\n",
      "26/26 [==============================] - 0s 1ms/step - loss: 0.1621 - acc: 0.9433 - val_loss: 0.2369 - val_acc: 0.8990\n",
      "Epoch 46/100\n",
      "26/26 [==============================] - 0s 1ms/step - loss: 0.1626 - acc: 0.9421 - val_loss: 0.2281 - val_acc: 0.9183\n",
      "Epoch 47/100\n",
      "26/26 [==============================] - 0s 1ms/step - loss: 0.1687 - acc: 0.9505 - val_loss: 0.2179 - val_acc: 0.9135\n",
      "Epoch 48/100\n",
      "26/26 [==============================] - 0s 1ms/step - loss: 0.1564 - acc: 0.9445 - val_loss: 0.2252 - val_acc: 0.9038\n",
      "Epoch 49/100\n",
      "26/26 [==============================] - 0s 1ms/step - loss: 0.1595 - acc: 0.9385 - val_loss: 0.2176 - val_acc: 0.9087\n",
      "Epoch 50/100\n",
      "26/26 [==============================] - 0s 1ms/step - loss: 0.1546 - acc: 0.9505 - val_loss: 0.2183 - val_acc: 0.9135\n",
      "Epoch 51/100\n",
      "26/26 [==============================] - 0s 1ms/step - loss: 0.1661 - acc: 0.9409 - val_loss: 0.2311 - val_acc: 0.8942\n",
      "Epoch 52/100\n",
      "26/26 [==============================] - 0s 1ms/step - loss: 0.1479 - acc: 0.9517 - val_loss: 0.2159 - val_acc: 0.9375\n",
      "Epoch 53/100\n",
      "26/26 [==============================] - 0s 1ms/step - loss: 0.1547 - acc: 0.9481 - val_loss: 0.2475 - val_acc: 0.9038\n",
      "Epoch 54/100\n",
      "26/26 [==============================] - 0s 1ms/step - loss: 0.1567 - acc: 0.9421 - val_loss: 0.2194 - val_acc: 0.9231\n",
      "Epoch 55/100\n",
      "26/26 [==============================] - 0s 2ms/step - loss: 0.1438 - acc: 0.9469 - val_loss: 0.2071 - val_acc: 0.9231\n",
      "Epoch 56/100\n",
      "26/26 [==============================] - 0s 2ms/step - loss: 0.1395 - acc: 0.9542 - val_loss: 0.2209 - val_acc: 0.8990\n",
      "Epoch 57/100\n",
      "26/26 [==============================] - 0s 2ms/step - loss: 0.1396 - acc: 0.9542 - val_loss: 0.2061 - val_acc: 0.9183\n",
      "Epoch 58/100\n",
      "26/26 [==============================] - 0s 2ms/step - loss: 0.1421 - acc: 0.9566 - val_loss: 0.2089 - val_acc: 0.9231\n",
      "Epoch 59/100\n",
      "26/26 [==============================] - 0s 2ms/step - loss: 0.1309 - acc: 0.9614 - val_loss: 0.1955 - val_acc: 0.9327\n",
      "Epoch 60/100\n",
      "26/26 [==============================] - 0s 2ms/step - loss: 0.1339 - acc: 0.9614 - val_loss: 0.2103 - val_acc: 0.9038\n",
      "Epoch 61/100\n",
      "26/26 [==============================] - 0s 2ms/step - loss: 0.1359 - acc: 0.9530 - val_loss: 0.2088 - val_acc: 0.9231\n",
      "Epoch 62/100\n",
      "26/26 [==============================] - 0s 2ms/step - loss: 0.1284 - acc: 0.9566 - val_loss: 0.2027 - val_acc: 0.9087\n",
      "Epoch 63/100\n",
      "26/26 [==============================] - 0s 2ms/step - loss: 0.1274 - acc: 0.9554 - val_loss: 0.1957 - val_acc: 0.9279\n",
      "Epoch 64/100\n",
      "26/26 [==============================] - 0s 1ms/step - loss: 0.1339 - acc: 0.9554 - val_loss: 0.1969 - val_acc: 0.9231\n",
      "Epoch 65/100\n",
      "26/26 [==============================] - 0s 1ms/step - loss: 0.1338 - acc: 0.9517 - val_loss: 0.2046 - val_acc: 0.9279\n",
      "Epoch 66/100\n",
      "26/26 [==============================] - 0s 1ms/step - loss: 0.1226 - acc: 0.9626 - val_loss: 0.1928 - val_acc: 0.9231\n",
      "Epoch 67/100\n",
      "26/26 [==============================] - 0s 1ms/step - loss: 0.1322 - acc: 0.9554 - val_loss: 0.2030 - val_acc: 0.9231\n",
      "Epoch 68/100\n",
      "26/26 [==============================] - 0s 1ms/step - loss: 0.1159 - acc: 0.9662 - val_loss: 0.1943 - val_acc: 0.9279\n",
      "Epoch 69/100\n",
      "26/26 [==============================] - 0s 1ms/step - loss: 0.1235 - acc: 0.9590 - val_loss: 0.1966 - val_acc: 0.9279\n",
      "Epoch 70/100\n",
      "26/26 [==============================] - 0s 1ms/step - loss: 0.1184 - acc: 0.9626 - val_loss: 0.1988 - val_acc: 0.9279\n",
      "Epoch 71/100\n",
      "26/26 [==============================] - 0s 1ms/step - loss: 0.1158 - acc: 0.9578 - val_loss: 0.2012 - val_acc: 0.9183\n",
      "Epoch 72/100\n",
      "26/26 [==============================] - 0s 1ms/step - loss: 0.1099 - acc: 0.9638 - val_loss: 0.2048 - val_acc: 0.9327\n",
      "Epoch 73/100\n",
      "26/26 [==============================] - 0s 1ms/step - loss: 0.1295 - acc: 0.9517 - val_loss: 0.1883 - val_acc: 0.9327\n",
      "Epoch 74/100\n",
      "26/26 [==============================] - 0s 1ms/step - loss: 0.1154 - acc: 0.9638 - val_loss: 0.1926 - val_acc: 0.9423\n",
      "Epoch 75/100\n",
      "26/26 [==============================] - 0s 1ms/step - loss: 0.1156 - acc: 0.9638 - val_loss: 0.1959 - val_acc: 0.9087\n",
      "Epoch 76/100\n",
      "26/26 [==============================] - 0s 1ms/step - loss: 0.1162 - acc: 0.9614 - val_loss: 0.2025 - val_acc: 0.9375\n",
      "Epoch 77/100\n",
      "26/26 [==============================] - 0s 1ms/step - loss: 0.1195 - acc: 0.9566 - val_loss: 0.1946 - val_acc: 0.9231\n",
      "Epoch 78/100\n",
      "26/26 [==============================] - 0s 1ms/step - loss: 0.1191 - acc: 0.9554 - val_loss: 0.1921 - val_acc: 0.9375\n",
      "Epoch 79/100\n",
      "26/26 [==============================] - 0s 1ms/step - loss: 0.1041 - acc: 0.9650 - val_loss: 0.1943 - val_acc: 0.9327\n",
      "Epoch 80/100\n",
      "26/26 [==============================] - 0s 1ms/step - loss: 0.1015 - acc: 0.9650 - val_loss: 0.2011 - val_acc: 0.9279\n",
      "Epoch 81/100\n",
      "26/26 [==============================] - 0s 1ms/step - loss: 0.1171 - acc: 0.9590 - val_loss: 0.1912 - val_acc: 0.9279\n",
      "Epoch 82/100\n",
      "26/26 [==============================] - 0s 1ms/step - loss: 0.1228 - acc: 0.9578 - val_loss: 0.1919 - val_acc: 0.9279\n",
      "Epoch 83/100\n",
      "26/26 [==============================] - 0s 1ms/step - loss: 0.1067 - acc: 0.9626 - val_loss: 0.2005 - val_acc: 0.9231\n",
      "Epoch 84/100\n",
      "26/26 [==============================] - 0s 1ms/step - loss: 0.1085 - acc: 0.9626 - val_loss: 0.1930 - val_acc: 0.9231\n",
      "Epoch 85/100\n",
      "26/26 [==============================] - 0s 1ms/step - loss: 0.1131 - acc: 0.9614 - val_loss: 0.1889 - val_acc: 0.9327\n",
      "Epoch 86/100\n",
      "26/26 [==============================] - 0s 2ms/step - loss: 0.1159 - acc: 0.9626 - val_loss: 0.1908 - val_acc: 0.9279\n",
      "Epoch 87/100\n",
      "26/26 [==============================] - 0s 1ms/step - loss: 0.1010 - acc: 0.9674 - val_loss: 0.1870 - val_acc: 0.9279\n",
      "Epoch 88/100\n",
      "26/26 [==============================] - 0s 1ms/step - loss: 0.1053 - acc: 0.9710 - val_loss: 0.1799 - val_acc: 0.9423\n",
      "Epoch 89/100\n",
      "26/26 [==============================] - 0s 1ms/step - loss: 0.1046 - acc: 0.9638 - val_loss: 0.1929 - val_acc: 0.9183\n",
      "Epoch 90/100\n",
      "26/26 [==============================] - 0s 1ms/step - loss: 0.1025 - acc: 0.9650 - val_loss: 0.1996 - val_acc: 0.9375\n",
      "Epoch 91/100\n",
      "26/26 [==============================] - 0s 1ms/step - loss: 0.1017 - acc: 0.9674 - val_loss: 0.1978 - val_acc: 0.9327\n",
      "Epoch 92/100\n",
      "26/26 [==============================] - 0s 1ms/step - loss: 0.0897 - acc: 0.9710 - val_loss: 0.1889 - val_acc: 0.9279\n",
      "Epoch 93/100\n",
      "26/26 [==============================] - 0s 1ms/step - loss: 0.1031 - acc: 0.9674 - val_loss: 0.1872 - val_acc: 0.9231\n",
      "Epoch 94/100\n",
      "26/26 [==============================] - 0s 1ms/step - loss: 0.0926 - acc: 0.9735 - val_loss: 0.1764 - val_acc: 0.9423\n",
      "Epoch 95/100\n",
      "26/26 [==============================] - 0s 1ms/step - loss: 0.0896 - acc: 0.9710 - val_loss: 0.1897 - val_acc: 0.9327\n",
      "Epoch 96/100\n",
      "26/26 [==============================] - 0s 1ms/step - loss: 0.0912 - acc: 0.9771 - val_loss: 0.1935 - val_acc: 0.9183\n",
      "Epoch 97/100\n",
      "26/26 [==============================] - 0s 1ms/step - loss: 0.0990 - acc: 0.9638 - val_loss: 0.1908 - val_acc: 0.9471\n",
      "Epoch 98/100\n",
      "26/26 [==============================] - 0s 1ms/step - loss: 0.0886 - acc: 0.9723 - val_loss: 0.1917 - val_acc: 0.9135\n",
      "Epoch 99/100\n",
      "26/26 [==============================] - 0s 1ms/step - loss: 0.0942 - acc: 0.9735 - val_loss: 0.1887 - val_acc: 0.9327\n",
      "Epoch 100/100\n",
      "26/26 [==============================] - 0s 1ms/step - loss: 0.0866 - acc: 0.9686 - val_loss: 0.1901 - val_acc: 0.9279\n"
     ]
    }
   ],
   "source": [
    "model_3_results = model_3.fit(X_train_scaled, labels, epochs=100, batch_size=32, validation_split=0.2)"
   ]
  },
  {
   "cell_type": "code",
   "execution_count": null,
   "metadata": {},
   "outputs": [],
   "source": []
  },
  {
   "cell_type": "markdown",
   "metadata": {},
   "source": [
    "## Multi-Class Neural Network with Cross Validation"
   ]
  },
  {
   "cell_type": "code",
   "execution_count": 2,
   "metadata": {},
   "outputs": [],
   "source": [
    "# define baseline model\n",
    "def baseline_model():\n",
    "    # create model\n",
    "    model = Sequential()\n",
    "    model.add(Dense(64, activation='tanh', input_shape=(21,)))\n",
    "    model.add(Dense(32, activation='tanh'))\n",
    "    model.add(Dropout(.2))\n",
    "    model.add(Dense(11, activation='softmax'))\n",
    "    # Compile model\n",
    "    model.compile(loss='categorical_crossentropy', optimizer='adam', metrics=['acc'])\n",
    "    return model"
   ]
  },
  {
   "cell_type": "code",
   "execution_count": 31,
   "metadata": {},
   "outputs": [
    {
     "name": "stdout",
     "output_type": "stream",
     "text": [
      "Epoch 1/150\n",
      "26/26 [==============================] - 0s 1ms/step - loss: 2.4365 - acc: 0.1942\n",
      "Epoch 2/150\n",
      "26/26 [==============================] - 0s 921us/step - loss: 2.1747 - acc: 0.2811\n",
      "Epoch 3/150\n",
      "26/26 [==============================] - 0s 1ms/step - loss: 2.0096 - acc: 0.3305\n",
      "Epoch 4/150\n",
      "26/26 [==============================] - 0s 1ms/step - loss: 1.8493 - acc: 0.3860\n",
      "Epoch 5/150\n",
      "26/26 [==============================] - 0s 934us/step - loss: 1.7320 - acc: 0.4367\n",
      "Epoch 6/150\n",
      "26/26 [==============================] - 0s 1ms/step - loss: 1.6451 - acc: 0.4210\n",
      "Epoch 7/150\n",
      "26/26 [==============================] - 0s 1ms/step - loss: 1.5318 - acc: 0.4885\n",
      "Epoch 8/150\n",
      "26/26 [==============================] - 0s 1ms/step - loss: 1.4677 - acc: 0.4922\n",
      "Epoch 9/150\n",
      "26/26 [==============================] - 0s 904us/step - loss: 1.4023 - acc: 0.5199\n",
      "Epoch 10/150\n",
      "26/26 [==============================] - 0s 1ms/step - loss: 1.3770 - acc: 0.5464\n",
      "Epoch 11/150\n",
      "26/26 [==============================] - 0s 1ms/step - loss: 1.3175 - acc: 0.5585\n",
      "Epoch 12/150\n",
      "26/26 [==============================] - 0s 1ms/step - loss: 1.2720 - acc: 0.5814\n",
      "Epoch 13/150\n",
      "26/26 [==============================] - 0s 992us/step - loss: 1.2409 - acc: 0.5730\n",
      "Epoch 14/150\n",
      "26/26 [==============================] - 0s 838us/step - loss: 1.2061 - acc: 0.5923\n",
      "Epoch 15/150\n",
      "26/26 [==============================] - 0s 819us/step - loss: 1.1734 - acc: 0.5947\n",
      "Epoch 16/150\n",
      "26/26 [==============================] - 0s 789us/step - loss: 1.1535 - acc: 0.6104\n",
      "Epoch 17/150\n",
      "26/26 [==============================] - 0s 1ms/step - loss: 1.0841 - acc: 0.6441\n",
      "Epoch 18/150\n",
      "26/26 [==============================] - 0s 732us/step - loss: 1.0876 - acc: 0.6321\n",
      "Epoch 19/150\n",
      "26/26 [==============================] - 0s 804us/step - loss: 1.0638 - acc: 0.6417\n",
      "Epoch 20/150\n",
      "26/26 [==============================] - 0s 709us/step - loss: 1.0265 - acc: 0.6574\n",
      "Epoch 21/150\n",
      "26/26 [==============================] - 0s 838us/step - loss: 1.0038 - acc: 0.6622\n",
      "Epoch 22/150\n",
      "26/26 [==============================] - 0s 773us/step - loss: 0.9979 - acc: 0.6538\n",
      "Epoch 23/150\n",
      "26/26 [==============================] - 0s 2ms/step - loss: 0.9792 - acc: 0.6634\n",
      "Epoch 24/150\n",
      "26/26 [==============================] - 0s 1ms/step - loss: 0.9556 - acc: 0.6719\n",
      "Epoch 25/150\n",
      "26/26 [==============================] - 0s 896us/step - loss: 0.9438 - acc: 0.6671\n",
      "Epoch 26/150\n",
      "26/26 [==============================] - 0s 796us/step - loss: 0.9397 - acc: 0.6755\n",
      "Epoch 27/150\n",
      "26/26 [==============================] - 0s 785us/step - loss: 0.9356 - acc: 0.6731\n",
      "Epoch 28/150\n",
      "26/26 [==============================] - 0s 740us/step - loss: 0.9108 - acc: 0.6828\n",
      "Epoch 29/150\n",
      "26/26 [==============================] - 0s 807us/step - loss: 0.8754 - acc: 0.6984\n",
      "Epoch 30/150\n",
      "26/26 [==============================] - 0s 820us/step - loss: 0.9093 - acc: 0.6924\n",
      "Epoch 31/150\n",
      "26/26 [==============================] - 0s 875us/step - loss: 0.8646 - acc: 0.6803\n",
      "Epoch 32/150\n",
      "26/26 [==============================] - 0s 1ms/step - loss: 0.9039 - acc: 0.6767\n",
      "Epoch 33/150\n",
      "26/26 [==============================] - 0s 903us/step - loss: 0.8825 - acc: 0.7021\n",
      "Epoch 34/150\n",
      "26/26 [==============================] - 0s 954us/step - loss: 0.8672 - acc: 0.7105\n",
      "Epoch 35/150\n",
      "26/26 [==============================] - 0s 917us/step - loss: 0.8574 - acc: 0.7069\n",
      "Epoch 36/150\n",
      "26/26 [==============================] - 0s 939us/step - loss: 0.8450 - acc: 0.7201\n",
      "Epoch 37/150\n",
      "26/26 [==============================] - 0s 868us/step - loss: 0.8651 - acc: 0.7093\n",
      "Epoch 38/150\n",
      "26/26 [==============================] - 0s 853us/step - loss: 0.8125 - acc: 0.7093\n",
      "Epoch 39/150\n",
      "26/26 [==============================] - 0s 819us/step - loss: 0.8075 - acc: 0.7033\n",
      "Epoch 40/150\n",
      "26/26 [==============================] - 0s 909us/step - loss: 0.8089 - acc: 0.7238\n",
      "Epoch 41/150\n",
      "26/26 [==============================] - 0s 977us/step - loss: 0.7939 - acc: 0.7274\n",
      "Epoch 42/150\n",
      "26/26 [==============================] - 0s 735us/step - loss: 0.8126 - acc: 0.6996\n",
      "Epoch 43/150\n",
      "26/26 [==============================] - 0s 840us/step - loss: 0.7667 - acc: 0.7419\n",
      "Epoch 44/150\n",
      "26/26 [==============================] - 0s 704us/step - loss: 0.7830 - acc: 0.7189\n",
      "Epoch 45/150\n",
      "26/26 [==============================] - 0s 777us/step - loss: 0.7557 - acc: 0.7226\n",
      "Epoch 46/150\n",
      "26/26 [==============================] - 0s 746us/step - loss: 0.7704 - acc: 0.7358\n",
      "Epoch 47/150\n",
      "26/26 [==============================] - 0s 720us/step - loss: 0.7949 - acc: 0.7226\n",
      "Epoch 48/150\n",
      "26/26 [==============================] - 0s 815us/step - loss: 0.7489 - acc: 0.7382\n",
      "Epoch 49/150\n",
      "26/26 [==============================] - 0s 691us/step - loss: 0.7451 - acc: 0.7479\n",
      "Epoch 50/150\n",
      "26/26 [==============================] - 0s 658us/step - loss: 0.7359 - acc: 0.7394\n",
      "Epoch 51/150\n",
      "26/26 [==============================] - 0s 721us/step - loss: 0.7269 - acc: 0.7503\n",
      "Epoch 52/150\n",
      "26/26 [==============================] - 0s 638us/step - loss: 0.7248 - acc: 0.7394\n",
      "Epoch 53/150\n",
      "26/26 [==============================] - 0s 824us/step - loss: 0.7331 - acc: 0.7334\n",
      "Epoch 54/150\n",
      "26/26 [==============================] - 0s 814us/step - loss: 0.7709 - acc: 0.7250\n",
      "Epoch 55/150\n",
      "26/26 [==============================] - 0s 890us/step - loss: 0.7730 - acc: 0.7105\n",
      "Epoch 56/150\n",
      "26/26 [==============================] - 0s 865us/step - loss: 0.7194 - acc: 0.7551\n",
      "Epoch 57/150\n",
      "26/26 [==============================] - 0s 758us/step - loss: 0.7001 - acc: 0.7407\n",
      "Epoch 58/150\n",
      "26/26 [==============================] - 0s 893us/step - loss: 0.6982 - acc: 0.7575\n",
      "Epoch 59/150\n",
      "26/26 [==============================] - 0s 885us/step - loss: 0.7241 - acc: 0.7262\n",
      "Epoch 60/150\n",
      "26/26 [==============================] - 0s 740us/step - loss: 0.7307 - acc: 0.7575\n",
      "Epoch 61/150\n",
      "26/26 [==============================] - 0s 634us/step - loss: 0.6686 - acc: 0.7648\n",
      "Epoch 62/150\n",
      "26/26 [==============================] - 0s 688us/step - loss: 0.6732 - acc: 0.7612\n",
      "Epoch 63/150\n",
      "26/26 [==============================] - 0s 792us/step - loss: 0.6697 - acc: 0.7684\n",
      "Epoch 64/150\n",
      "26/26 [==============================] - 0s 870us/step - loss: 0.6843 - acc: 0.7551\n",
      "Epoch 65/150\n",
      "26/26 [==============================] - 0s 771us/step - loss: 0.6660 - acc: 0.7756\n",
      "Epoch 66/150\n",
      "26/26 [==============================] - 0s 733us/step - loss: 0.6627 - acc: 0.7684\n",
      "Epoch 67/150\n",
      "26/26 [==============================] - 0s 886us/step - loss: 0.6563 - acc: 0.7720\n",
      "Epoch 68/150\n",
      "26/26 [==============================] - 0s 770us/step - loss: 0.6552 - acc: 0.7696\n",
      "Epoch 69/150\n",
      "26/26 [==============================] - 0s 786us/step - loss: 0.6671 - acc: 0.7720\n",
      "Epoch 70/150\n",
      "26/26 [==============================] - 0s 736us/step - loss: 0.6565 - acc: 0.7696\n",
      "Epoch 71/150\n",
      "26/26 [==============================] - 0s 733us/step - loss: 0.6830 - acc: 0.7744\n",
      "Epoch 72/150\n",
      "26/26 [==============================] - 0s 718us/step - loss: 0.6551 - acc: 0.7708\n",
      "Epoch 73/150\n",
      "26/26 [==============================] - 0s 685us/step - loss: 0.6330 - acc: 0.7889\n",
      "Epoch 74/150\n",
      "26/26 [==============================] - 0s 741us/step - loss: 0.6505 - acc: 0.7696\n",
      "Epoch 75/150\n",
      "26/26 [==============================] - 0s 751us/step - loss: 0.6271 - acc: 0.7841\n",
      "Epoch 76/150\n",
      "26/26 [==============================] - 0s 765us/step - loss: 0.6261 - acc: 0.7768\n",
      "Epoch 77/150\n",
      "26/26 [==============================] - 0s 730us/step - loss: 0.6415 - acc: 0.7600\n",
      "Epoch 78/150\n",
      "26/26 [==============================] - 0s 754us/step - loss: 0.6747 - acc: 0.7684\n",
      "Epoch 79/150\n",
      "26/26 [==============================] - 0s 786us/step - loss: 0.6357 - acc: 0.7853\n",
      "Epoch 80/150\n",
      "26/26 [==============================] - 0s 748us/step - loss: 0.6419 - acc: 0.7865\n",
      "Epoch 81/150\n",
      "26/26 [==============================] - 0s 767us/step - loss: 0.6433 - acc: 0.7793\n",
      "Epoch 82/150\n",
      "26/26 [==============================] - 0s 762us/step - loss: 0.6363 - acc: 0.7889\n",
      "Epoch 83/150\n",
      "26/26 [==============================] - 0s 756us/step - loss: 0.6523 - acc: 0.7756\n",
      "Epoch 84/150\n",
      "26/26 [==============================] - 0s 774us/step - loss: 0.6358 - acc: 0.7744\n",
      "Epoch 85/150\n",
      "26/26 [==============================] - 0s 1ms/step - loss: 0.6356 - acc: 0.7744\n",
      "Epoch 86/150\n",
      "26/26 [==============================] - 0s 775us/step - loss: 0.6423 - acc: 0.7756\n",
      "Epoch 87/150\n",
      "26/26 [==============================] - 0s 665us/step - loss: 0.6138 - acc: 0.7805\n",
      "Epoch 88/150\n",
      "26/26 [==============================] - 0s 745us/step - loss: 0.6067 - acc: 0.7949\n",
      "Epoch 89/150\n",
      "26/26 [==============================] - 0s 787us/step - loss: 0.5987 - acc: 0.7925\n",
      "Epoch 90/150\n",
      "26/26 [==============================] - 0s 824us/step - loss: 0.6353 - acc: 0.7817\n",
      "Epoch 91/150\n",
      "26/26 [==============================] - 0s 821us/step - loss: 0.6148 - acc: 0.7901\n",
      "Epoch 92/150\n",
      "26/26 [==============================] - 0s 790us/step - loss: 0.6010 - acc: 0.7793\n",
      "Epoch 93/150\n",
      "26/26 [==============================] - 0s 769us/step - loss: 0.6000 - acc: 0.7961\n",
      "Epoch 94/150\n",
      "26/26 [==============================] - 0s 805us/step - loss: 0.6165 - acc: 0.7865\n",
      "Epoch 95/150\n",
      "26/26 [==============================] - 0s 849us/step - loss: 0.6314 - acc: 0.7732\n",
      "Epoch 96/150\n",
      "26/26 [==============================] - 0s 779us/step - loss: 0.6374 - acc: 0.7660\n",
      "Epoch 97/150\n",
      "26/26 [==============================] - 0s 746us/step - loss: 0.5900 - acc: 0.7913\n",
      "Epoch 98/150\n",
      "26/26 [==============================] - 0s 708us/step - loss: 0.6041 - acc: 0.7865\n",
      "Epoch 99/150\n",
      "26/26 [==============================] - 0s 747us/step - loss: 0.6042 - acc: 0.7853\n",
      "Epoch 100/150\n",
      "26/26 [==============================] - 0s 734us/step - loss: 0.5976 - acc: 0.7877\n",
      "Epoch 101/150\n",
      "26/26 [==============================] - 0s 793us/step - loss: 0.5754 - acc: 0.7986\n",
      "Epoch 102/150\n",
      "26/26 [==============================] - 0s 772us/step - loss: 0.6234 - acc: 0.7877\n",
      "Epoch 103/150\n",
      "26/26 [==============================] - 0s 746us/step - loss: 0.6026 - acc: 0.7877\n",
      "Epoch 104/150\n",
      "26/26 [==============================] - 0s 813us/step - loss: 0.5716 - acc: 0.7986\n",
      "Epoch 105/150\n",
      "26/26 [==============================] - 0s 775us/step - loss: 0.6126 - acc: 0.7925\n",
      "Epoch 106/150\n",
      "26/26 [==============================] - 0s 806us/step - loss: 0.5708 - acc: 0.8058\n",
      "Epoch 107/150\n",
      "26/26 [==============================] - 0s 816us/step - loss: 0.6027 - acc: 0.7793\n",
      "Epoch 108/150\n",
      "26/26 [==============================] - 0s 774us/step - loss: 0.5818 - acc: 0.7961\n",
      "Epoch 109/150\n",
      "26/26 [==============================] - 0s 724us/step - loss: 0.5748 - acc: 0.7973\n",
      "Epoch 110/150\n",
      "26/26 [==============================] - 0s 756us/step - loss: 0.5548 - acc: 0.8130\n",
      "Epoch 111/150\n",
      "26/26 [==============================] - 0s 682us/step - loss: 0.5923 - acc: 0.7768\n",
      "Epoch 112/150\n",
      "26/26 [==============================] - 0s 799us/step - loss: 0.6072 - acc: 0.7829\n",
      "Epoch 113/150\n",
      "26/26 [==============================] - 0s 738us/step - loss: 0.5517 - acc: 0.8251\n",
      "Epoch 114/150\n",
      "26/26 [==============================] - 0s 746us/step - loss: 0.5711 - acc: 0.7925\n",
      "Epoch 115/150\n",
      "26/26 [==============================] - 0s 752us/step - loss: 0.6229 - acc: 0.7853\n",
      "Epoch 116/150\n",
      "26/26 [==============================] - 0s 788us/step - loss: 0.5812 - acc: 0.7901\n",
      "Epoch 117/150\n",
      "26/26 [==============================] - 0s 770us/step - loss: 0.5776 - acc: 0.7889\n",
      "Epoch 118/150\n",
      "26/26 [==============================] - 0s 734us/step - loss: 0.5386 - acc: 0.8130\n",
      "Epoch 119/150\n",
      "26/26 [==============================] - 0s 715us/step - loss: 0.5848 - acc: 0.7998\n",
      "Epoch 120/150\n",
      "26/26 [==============================] - 0s 726us/step - loss: 0.5871 - acc: 0.7925\n",
      "Epoch 121/150\n",
      "26/26 [==============================] - 0s 699us/step - loss: 0.5446 - acc: 0.8154\n",
      "Epoch 122/150\n",
      "26/26 [==============================] - 0s 716us/step - loss: 0.5592 - acc: 0.8046\n",
      "Epoch 123/150\n",
      "26/26 [==============================] - 0s 728us/step - loss: 0.5360 - acc: 0.8070\n",
      "Epoch 124/150\n",
      "26/26 [==============================] - 0s 742us/step - loss: 0.5775 - acc: 0.7889\n",
      "Epoch 125/150\n",
      "26/26 [==============================] - 0s 756us/step - loss: 0.5539 - acc: 0.8106\n",
      "Epoch 126/150\n",
      "26/26 [==============================] - 0s 812us/step - loss: 0.5862 - acc: 0.7986\n",
      "Epoch 127/150\n",
      "26/26 [==============================] - 0s 742us/step - loss: 0.5469 - acc: 0.8070\n",
      "Epoch 128/150\n",
      "26/26 [==============================] - 0s 750us/step - loss: 0.5529 - acc: 0.8022\n",
      "Epoch 129/150\n",
      "26/26 [==============================] - 0s 728us/step - loss: 0.5367 - acc: 0.8179\n",
      "Epoch 130/150\n",
      "26/26 [==============================] - 0s 653us/step - loss: 0.5244 - acc: 0.8058\n",
      "Epoch 131/150\n",
      "26/26 [==============================] - 0s 839us/step - loss: 0.5453 - acc: 0.8046\n",
      "Epoch 132/150\n",
      "26/26 [==============================] - 0s 793us/step - loss: 0.5554 - acc: 0.7986\n",
      "Epoch 133/150\n",
      "26/26 [==============================] - 0s 789us/step - loss: 0.5528 - acc: 0.8179\n",
      "Epoch 134/150\n",
      "26/26 [==============================] - 0s 765us/step - loss: 0.5373 - acc: 0.8106\n",
      "Epoch 135/150\n",
      "26/26 [==============================] - 0s 805us/step - loss: 0.5318 - acc: 0.8166\n",
      "Epoch 136/150\n",
      "26/26 [==============================] - 0s 766us/step - loss: 0.5126 - acc: 0.8227\n",
      "Epoch 137/150\n",
      "26/26 [==============================] - 0s 843us/step - loss: 0.4976 - acc: 0.8215\n",
      "Epoch 138/150\n",
      "26/26 [==============================] - 0s 926us/step - loss: 0.5456 - acc: 0.8142\n",
      "Epoch 139/150\n",
      "26/26 [==============================] - 0s 832us/step - loss: 0.5334 - acc: 0.8142\n",
      "Epoch 140/150\n",
      "26/26 [==============================] - 0s 723us/step - loss: 0.5091 - acc: 0.8263\n",
      "Epoch 141/150\n",
      "26/26 [==============================] - 0s 613us/step - loss: 0.5468 - acc: 0.8082\n",
      "Epoch 142/150\n",
      "26/26 [==============================] - 0s 612us/step - loss: 0.5369 - acc: 0.8082\n",
      "Epoch 143/150\n",
      "26/26 [==============================] - 0s 645us/step - loss: 0.4907 - acc: 0.8227\n",
      "Epoch 144/150\n",
      "26/26 [==============================] - 0s 624us/step - loss: 0.5469 - acc: 0.7998\n",
      "Epoch 145/150\n",
      "26/26 [==============================] - 0s 610us/step - loss: 0.5216 - acc: 0.8203\n",
      "Epoch 146/150\n",
      "26/26 [==============================] - 0s 701us/step - loss: 0.5088 - acc: 0.8227\n",
      "Epoch 147/150\n",
      "26/26 [==============================] - 0s 677us/step - loss: 0.5087 - acc: 0.8384\n",
      "Epoch 148/150\n",
      "26/26 [==============================] - 0s 659us/step - loss: 0.5243 - acc: 0.8166\n",
      "Epoch 149/150\n",
      "26/26 [==============================] - 0s 610us/step - loss: 0.5387 - acc: 0.8058\n",
      "Epoch 150/150\n",
      "26/26 [==============================] - 0s 666us/step - loss: 0.4951 - acc: 0.8191\n",
      "7/7 [==============================] - 0s 631us/step - loss: 0.7114 - acc: 0.7356\n",
      "Epoch 1/150\n",
      "26/26 [==============================] - 0s 726us/step - loss: 2.3190 - acc: 0.2449\n",
      "Epoch 2/150\n",
      "26/26 [==============================] - 0s 752us/step - loss: 2.1130 - acc: 0.3004\n",
      "Epoch 3/150\n",
      "26/26 [==============================] - 0s 797us/step - loss: 1.9765 - acc: 0.3450\n",
      "Epoch 4/150\n",
      "26/26 [==============================] - 0s 988us/step - loss: 1.8654 - acc: 0.3872\n",
      "Epoch 5/150\n",
      "26/26 [==============================] - 0s 916us/step - loss: 1.7747 - acc: 0.4270\n",
      "Epoch 6/150\n",
      "26/26 [==============================] - 0s 1ms/step - loss: 1.7015 - acc: 0.4367\n",
      "Epoch 7/150\n",
      "26/26 [==============================] - 0s 1ms/step - loss: 1.6368 - acc: 0.4704\n",
      "Epoch 8/150\n",
      "26/26 [==============================] - 0s 885us/step - loss: 1.5650 - acc: 0.4825\n",
      "Epoch 9/150\n",
      "26/26 [==============================] - 0s 1ms/step - loss: 1.5208 - acc: 0.4910\n",
      "Epoch 10/150\n",
      "26/26 [==============================] - 0s 881us/step - loss: 1.4644 - acc: 0.5163\n",
      "Epoch 11/150\n",
      "26/26 [==============================] - 0s 1ms/step - loss: 1.4576 - acc: 0.5223\n",
      "Epoch 12/150\n",
      "26/26 [==============================] - 0s 977us/step - loss: 1.3999 - acc: 0.5344\n",
      "Epoch 13/150\n",
      "26/26 [==============================] - 0s 789us/step - loss: 1.3814 - acc: 0.5235\n",
      "Epoch 14/150\n",
      "26/26 [==============================] - 0s 841us/step - loss: 1.3490 - acc: 0.5501\n",
      "Epoch 15/150\n",
      "26/26 [==============================] - 0s 691us/step - loss: 1.2867 - acc: 0.5790\n",
      "Epoch 16/150\n",
      "26/26 [==============================] - 0s 714us/step - loss: 1.2523 - acc: 0.5621\n",
      "Epoch 17/150\n",
      "26/26 [==============================] - 0s 750us/step - loss: 1.2344 - acc: 0.5657\n",
      "Epoch 18/150\n"
     ]
    },
    {
     "name": "stdout",
     "output_type": "stream",
     "text": [
      "26/26 [==============================] - 0s 688us/step - loss: 1.2148 - acc: 0.5899\n",
      "Epoch 19/150\n",
      "26/26 [==============================] - 0s 744us/step - loss: 1.1947 - acc: 0.5838\n",
      "Epoch 20/150\n",
      "26/26 [==============================] - 0s 769us/step - loss: 1.1934 - acc: 0.5862\n",
      "Epoch 21/150\n",
      "26/26 [==============================] - 0s 738us/step - loss: 1.1610 - acc: 0.5911\n",
      "Epoch 22/150\n",
      "26/26 [==============================] - 0s 777us/step - loss: 1.1667 - acc: 0.5995\n",
      "Epoch 23/150\n",
      "26/26 [==============================] - 0s 773us/step - loss: 1.1180 - acc: 0.5983\n",
      "Epoch 24/150\n",
      "26/26 [==============================] - 0s 898us/step - loss: 1.1263 - acc: 0.5911\n",
      "Epoch 25/150\n",
      "26/26 [==============================] - 0s 727us/step - loss: 1.0640 - acc: 0.6405\n",
      "Epoch 26/150\n",
      "26/26 [==============================] - 0s 697us/step - loss: 1.0819 - acc: 0.6357\n",
      "Epoch 27/150\n",
      "26/26 [==============================] - 0s 733us/step - loss: 1.0659 - acc: 0.6466\n",
      "Epoch 28/150\n",
      "26/26 [==============================] - 0s 699us/step - loss: 1.0469 - acc: 0.6369\n",
      "Epoch 29/150\n",
      "26/26 [==============================] - 0s 816us/step - loss: 1.0332 - acc: 0.6502\n",
      "Epoch 30/150\n",
      "26/26 [==============================] - 0s 698us/step - loss: 1.0298 - acc: 0.6381\n",
      "Epoch 31/150\n",
      "26/26 [==============================] - 0s 788us/step - loss: 1.0127 - acc: 0.6393\n",
      "Epoch 32/150\n",
      "26/26 [==============================] - 0s 754us/step - loss: 0.9881 - acc: 0.6622\n",
      "Epoch 33/150\n",
      "26/26 [==============================] - 0s 783us/step - loss: 0.9859 - acc: 0.6574\n",
      "Epoch 34/150\n",
      "26/26 [==============================] - 0s 769us/step - loss: 1.0114 - acc: 0.6345\n",
      "Epoch 35/150\n",
      "26/26 [==============================] - 0s 763us/step - loss: 0.9442 - acc: 0.6598\n",
      "Epoch 36/150\n",
      "26/26 [==============================] - 0s 845us/step - loss: 0.9631 - acc: 0.6695\n",
      "Epoch 37/150\n",
      "26/26 [==============================] - 0s 770us/step - loss: 0.9630 - acc: 0.6671\n",
      "Epoch 38/150\n",
      "26/26 [==============================] - 0s 777us/step - loss: 0.9470 - acc: 0.6671\n",
      "Epoch 39/150\n",
      "26/26 [==============================] - 0s 781us/step - loss: 0.9042 - acc: 0.6864\n",
      "Epoch 40/150\n",
      "26/26 [==============================] - 0s 698us/step - loss: 0.9130 - acc: 0.6634\n",
      "Epoch 41/150\n",
      "26/26 [==============================] - 0s 671us/step - loss: 0.9307 - acc: 0.6719\n",
      "Epoch 42/150\n",
      "26/26 [==============================] - 0s 713us/step - loss: 0.9119 - acc: 0.6779\n",
      "Epoch 43/150\n",
      "26/26 [==============================] - 0s 698us/step - loss: 0.9025 - acc: 0.6719\n",
      "Epoch 44/150\n",
      "26/26 [==============================] - 0s 708us/step - loss: 0.8994 - acc: 0.6707\n",
      "Epoch 45/150\n",
      "26/26 [==============================] - 0s 796us/step - loss: 0.8779 - acc: 0.6815\n",
      "Epoch 46/150\n",
      "26/26 [==============================] - 0s 757us/step - loss: 0.8961 - acc: 0.6924\n",
      "Epoch 47/150\n",
      "26/26 [==============================] - 0s 699us/step - loss: 0.8871 - acc: 0.6828\n",
      "Epoch 48/150\n",
      "26/26 [==============================] - 0s 682us/step - loss: 0.8526 - acc: 0.6972\n",
      "Epoch 49/150\n",
      "26/26 [==============================] - 0s 792us/step - loss: 0.8560 - acc: 0.6960\n",
      "Epoch 50/150\n",
      "26/26 [==============================] - 0s 706us/step - loss: 0.8502 - acc: 0.7153\n",
      "Epoch 51/150\n",
      "26/26 [==============================] - 0s 740us/step - loss: 0.8814 - acc: 0.6791\n",
      "Epoch 52/150\n",
      "26/26 [==============================] - 0s 765us/step - loss: 0.8379 - acc: 0.6864\n",
      "Epoch 53/150\n",
      "26/26 [==============================] - 0s 786us/step - loss: 0.8592 - acc: 0.6815\n",
      "Epoch 54/150\n",
      "26/26 [==============================] - 0s 778us/step - loss: 0.8559 - acc: 0.6876\n",
      "Epoch 55/150\n",
      "26/26 [==============================] - 0s 766us/step - loss: 0.8510 - acc: 0.6815\n",
      "Epoch 56/150\n",
      "26/26 [==============================] - 0s 787us/step - loss: 0.8003 - acc: 0.7286\n",
      "Epoch 57/150\n",
      "26/26 [==============================] - 0s 766us/step - loss: 0.7964 - acc: 0.7033\n",
      "Epoch 58/150\n",
      "26/26 [==============================] - 0s 801us/step - loss: 0.8292 - acc: 0.6984\n",
      "Epoch 59/150\n",
      "26/26 [==============================] - 0s 923us/step - loss: 0.8063 - acc: 0.6924\n",
      "Epoch 60/150\n",
      "26/26 [==============================] - 0s 735us/step - loss: 0.8226 - acc: 0.7021\n",
      "Epoch 61/150\n",
      "26/26 [==============================] - 0s 692us/step - loss: 0.8107 - acc: 0.7045\n",
      "Epoch 62/150\n",
      "26/26 [==============================] - 0s 727us/step - loss: 0.7827 - acc: 0.7310\n",
      "Epoch 63/150\n",
      "26/26 [==============================] - 0s 703us/step - loss: 0.7729 - acc: 0.7238\n",
      "Epoch 64/150\n",
      "26/26 [==============================] - 0s 774us/step - loss: 0.7627 - acc: 0.7310\n",
      "Epoch 65/150\n",
      "26/26 [==============================] - 0s 700us/step - loss: 0.7654 - acc: 0.7141\n",
      "Epoch 66/150\n",
      "26/26 [==============================] - 0s 695us/step - loss: 0.7777 - acc: 0.7141\n",
      "Epoch 67/150\n",
      "26/26 [==============================] - 0s 714us/step - loss: 0.7921 - acc: 0.6972\n",
      "Epoch 68/150\n",
      "26/26 [==============================] - 0s 774us/step - loss: 0.7819 - acc: 0.6996\n",
      "Epoch 69/150\n",
      "26/26 [==============================] - 0s 875us/step - loss: 0.7934 - acc: 0.7214\n",
      "Epoch 70/150\n",
      "26/26 [==============================] - 0s 783us/step - loss: 0.7918 - acc: 0.7093\n",
      "Epoch 71/150\n",
      "26/26 [==============================] - 0s 754us/step - loss: 0.7565 - acc: 0.7201\n",
      "Epoch 72/150\n",
      "26/26 [==============================] - 0s 778us/step - loss: 0.7926 - acc: 0.7057\n",
      "Epoch 73/150\n",
      "26/26 [==============================] - 0s 679us/step - loss: 0.7527 - acc: 0.7310\n",
      "Epoch 74/150\n",
      "26/26 [==============================] - 0s 695us/step - loss: 0.7664 - acc: 0.7226\n",
      "Epoch 75/150\n",
      "26/26 [==============================] - 0s 717us/step - loss: 0.7603 - acc: 0.7226\n",
      "Epoch 76/150\n",
      "26/26 [==============================] - 0s 776us/step - loss: 0.7223 - acc: 0.7189\n",
      "Epoch 77/150\n",
      "26/26 [==============================] - 0s 757us/step - loss: 0.7339 - acc: 0.7165\n",
      "Epoch 78/150\n",
      "26/26 [==============================] - 0s 827us/step - loss: 0.7259 - acc: 0.7286\n",
      "Epoch 79/150\n",
      "26/26 [==============================] - 0s 817us/step - loss: 0.7361 - acc: 0.7334\n",
      "Epoch 80/150\n",
      "26/26 [==============================] - 0s 767us/step - loss: 0.7458 - acc: 0.7141\n",
      "Epoch 81/150\n",
      "26/26 [==============================] - 0s 774us/step - loss: 0.7424 - acc: 0.7189\n",
      "Epoch 82/150\n",
      "26/26 [==============================] - 0s 796us/step - loss: 0.7179 - acc: 0.7370\n",
      "Epoch 83/150\n",
      "26/26 [==============================] - 0s 775us/step - loss: 0.7206 - acc: 0.7250\n",
      "Epoch 84/150\n",
      "26/26 [==============================] - 0s 759us/step - loss: 0.7426 - acc: 0.7008\n",
      "Epoch 85/150\n",
      "26/26 [==============================] - 0s 744us/step - loss: 0.7258 - acc: 0.7274\n",
      "Epoch 86/150\n",
      "26/26 [==============================] - 0s 791us/step - loss: 0.7039 - acc: 0.7443\n",
      "Epoch 87/150\n",
      "26/26 [==============================] - 0s 757us/step - loss: 0.7011 - acc: 0.7431\n",
      "Epoch 88/150\n",
      "26/26 [==============================] - 0s 675us/step - loss: 0.7358 - acc: 0.7165\n",
      "Epoch 89/150\n",
      "26/26 [==============================] - 0s 769us/step - loss: 0.7518 - acc: 0.7008\n",
      "Epoch 90/150\n",
      "26/26 [==============================] - 0s 732us/step - loss: 0.7344 - acc: 0.7153\n",
      "Epoch 91/150\n",
      "26/26 [==============================] - 0s 735us/step - loss: 0.7429 - acc: 0.7057\n",
      "Epoch 92/150\n",
      "26/26 [==============================] - 0s 801us/step - loss: 0.6793 - acc: 0.7334\n",
      "Epoch 93/150\n",
      "26/26 [==============================] - 0s 753us/step - loss: 0.6919 - acc: 0.7298\n",
      "Epoch 94/150\n",
      "26/26 [==============================] - 0s 715us/step - loss: 0.6958 - acc: 0.7334\n",
      "Epoch 95/150\n",
      "26/26 [==============================] - 0s 770us/step - loss: 0.6980 - acc: 0.7382\n",
      "Epoch 96/150\n",
      "26/26 [==============================] - 0s 737us/step - loss: 0.6806 - acc: 0.7491\n",
      "Epoch 97/150\n",
      "26/26 [==============================] - 0s 711us/step - loss: 0.6732 - acc: 0.7539\n",
      "Epoch 98/150\n",
      "26/26 [==============================] - 0s 772us/step - loss: 0.6706 - acc: 0.7419\n",
      "Epoch 99/150\n",
      "26/26 [==============================] - 0s 808us/step - loss: 0.7066 - acc: 0.7370\n",
      "Epoch 100/150\n",
      "26/26 [==============================] - 0s 763us/step - loss: 0.7156 - acc: 0.7334\n",
      "Epoch 101/150\n",
      "26/26 [==============================] - 0s 711us/step - loss: 0.6652 - acc: 0.7636\n",
      "Epoch 102/150\n",
      "26/26 [==============================] - 0s 784us/step - loss: 0.6779 - acc: 0.7346\n",
      "Epoch 103/150\n",
      "26/26 [==============================] - 0s 797us/step - loss: 0.6435 - acc: 0.7551\n",
      "Epoch 104/150\n",
      "26/26 [==============================] - 0s 768us/step - loss: 0.6656 - acc: 0.7600\n",
      "Epoch 105/150\n",
      "26/26 [==============================] - 0s 811us/step - loss: 0.6686 - acc: 0.7515\n",
      "Epoch 106/150\n",
      "26/26 [==============================] - 0s 827us/step - loss: 0.6926 - acc: 0.7394\n",
      "Epoch 107/150\n",
      "26/26 [==============================] - 0s 750us/step - loss: 0.6780 - acc: 0.7334\n",
      "Epoch 108/150\n",
      "26/26 [==============================] - 0s 679us/step - loss: 0.6719 - acc: 0.7455\n",
      "Epoch 109/150\n",
      "26/26 [==============================] - 0s 710us/step - loss: 0.6621 - acc: 0.7551\n",
      "Epoch 110/150\n",
      "26/26 [==============================] - 0s 803us/step - loss: 0.6522 - acc: 0.7539\n",
      "Epoch 111/150\n",
      "26/26 [==============================] - 0s 667us/step - loss: 0.6488 - acc: 0.7624\n",
      "Epoch 112/150\n",
      "26/26 [==============================] - 0s 791us/step - loss: 0.6646 - acc: 0.7539\n",
      "Epoch 113/150\n",
      "26/26 [==============================] - 0s 720us/step - loss: 0.6808 - acc: 0.7612\n",
      "Epoch 114/150\n",
      "26/26 [==============================] - 0s 724us/step - loss: 0.6525 - acc: 0.7527\n",
      "Epoch 115/150\n",
      "26/26 [==============================] - 0s 800us/step - loss: 0.6504 - acc: 0.7479\n",
      "Epoch 116/150\n",
      "26/26 [==============================] - 0s 716us/step - loss: 0.6286 - acc: 0.7624\n",
      "Epoch 117/150\n",
      "26/26 [==============================] - 0s 650us/step - loss: 0.6624 - acc: 0.7587\n",
      "Epoch 118/150\n",
      "26/26 [==============================] - 0s 684us/step - loss: 0.6426 - acc: 0.7636\n",
      "Epoch 119/150\n",
      "26/26 [==============================] - 0s 734us/step - loss: 0.6323 - acc: 0.7805\n",
      "Epoch 120/150\n",
      "26/26 [==============================] - 0s 656us/step - loss: 0.6339 - acc: 0.7660\n",
      "Epoch 121/150\n",
      "26/26 [==============================] - 0s 640us/step - loss: 0.6272 - acc: 0.7708\n",
      "Epoch 122/150\n",
      "26/26 [==============================] - 0s 782us/step - loss: 0.6607 - acc: 0.7479\n",
      "Epoch 123/150\n",
      "26/26 [==============================] - 0s 666us/step - loss: 0.6451 - acc: 0.7563\n",
      "Epoch 124/150\n",
      "26/26 [==============================] - 0s 699us/step - loss: 0.6093 - acc: 0.7865\n",
      "Epoch 125/150\n",
      "26/26 [==============================] - 0s 667us/step - loss: 0.6713 - acc: 0.7443\n",
      "Epoch 126/150\n",
      "26/26 [==============================] - 0s 675us/step - loss: 0.6534 - acc: 0.7455\n",
      "Epoch 127/150\n",
      "26/26 [==============================] - 0s 751us/step - loss: 0.6336 - acc: 0.7624\n",
      "Epoch 128/150\n",
      "26/26 [==============================] - 0s 755us/step - loss: 0.6205 - acc: 0.7720\n",
      "Epoch 129/150\n",
      "26/26 [==============================] - 0s 732us/step - loss: 0.6297 - acc: 0.7539\n",
      "Epoch 130/150\n",
      "26/26 [==============================] - 0s 671us/step - loss: 0.5952 - acc: 0.7744\n",
      "Epoch 131/150\n",
      "26/26 [==============================] - 0s 654us/step - loss: 0.6260 - acc: 0.7539\n",
      "Epoch 132/150\n",
      "26/26 [==============================] - 0s 670us/step - loss: 0.6305 - acc: 0.7636\n",
      "Epoch 133/150\n",
      "26/26 [==============================] - 0s 720us/step - loss: 0.6154 - acc: 0.7732\n",
      "Epoch 134/150\n",
      "26/26 [==============================] - 0s 704us/step - loss: 0.6024 - acc: 0.7889\n",
      "Epoch 135/150\n",
      "26/26 [==============================] - 0s 708us/step - loss: 0.6074 - acc: 0.7672\n",
      "Epoch 136/150\n",
      "26/26 [==============================] - 0s 634us/step - loss: 0.5957 - acc: 0.7841\n",
      "Epoch 137/150\n",
      "26/26 [==============================] - 0s 684us/step - loss: 0.6003 - acc: 0.7648\n",
      "Epoch 138/150\n",
      "26/26 [==============================] - 0s 753us/step - loss: 0.5967 - acc: 0.7817\n",
      "Epoch 139/150\n",
      "26/26 [==============================] - 0s 678us/step - loss: 0.5858 - acc: 0.7744\n",
      "Epoch 140/150\n",
      "26/26 [==============================] - 0s 766us/step - loss: 0.6088 - acc: 0.7817\n",
      "Epoch 141/150\n",
      "26/26 [==============================] - 0s 756us/step - loss: 0.6217 - acc: 0.7660\n",
      "Epoch 142/150\n",
      "26/26 [==============================] - 0s 702us/step - loss: 0.5884 - acc: 0.7865\n",
      "Epoch 143/150\n",
      "26/26 [==============================] - 0s 788us/step - loss: 0.5925 - acc: 0.7696\n",
      "Epoch 144/150\n",
      "26/26 [==============================] - 0s 736us/step - loss: 0.6156 - acc: 0.7732\n",
      "Epoch 145/150\n",
      "26/26 [==============================] - 0s 772us/step - loss: 0.6227 - acc: 0.7756\n",
      "Epoch 146/150\n",
      "26/26 [==============================] - 0s 734us/step - loss: 0.6206 - acc: 0.7672\n",
      "Epoch 147/150\n",
      "26/26 [==============================] - 0s 698us/step - loss: 0.5823 - acc: 0.7829\n",
      "Epoch 148/150\n",
      "26/26 [==============================] - 0s 760us/step - loss: 0.5851 - acc: 0.7853\n",
      "Epoch 149/150\n",
      "26/26 [==============================] - 0s 736us/step - loss: 0.5766 - acc: 0.7961\n",
      "Epoch 150/150\n",
      "26/26 [==============================] - 0s 711us/step - loss: 0.5852 - acc: 0.7744\n",
      "7/7 [==============================] - 0s 635us/step - loss: 0.8203 - acc: 0.7212\n",
      "Epoch 1/150\n",
      "26/26 [==============================] - 0s 787us/step - loss: 2.3342 - acc: 0.2313\n",
      "Epoch 2/150\n",
      "26/26 [==============================] - 0s 763us/step - loss: 2.1184 - acc: 0.2843\n",
      "Epoch 3/150\n",
      "26/26 [==============================] - 0s 680us/step - loss: 1.9141 - acc: 0.3602\n",
      "Epoch 4/150\n",
      "26/26 [==============================] - 0s 755us/step - loss: 1.7760 - acc: 0.4133\n",
      "Epoch 5/150\n",
      "26/26 [==============================] - 0s 805us/step - loss: 1.6754 - acc: 0.4470\n",
      "Epoch 6/150\n",
      "26/26 [==============================] - 0s 757us/step - loss: 1.5906 - acc: 0.4699\n",
      "Epoch 7/150\n",
      "26/26 [==============================] - 0s 697us/step - loss: 1.4995 - acc: 0.4892\n",
      "Epoch 8/150\n",
      "26/26 [==============================] - 0s 738us/step - loss: 1.4208 - acc: 0.5072\n",
      "Epoch 9/150\n",
      "26/26 [==============================] - 0s 708us/step - loss: 1.3758 - acc: 0.5542\n",
      "Epoch 10/150\n",
      "26/26 [==============================] - 0s 687us/step - loss: 1.3324 - acc: 0.5373\n",
      "Epoch 11/150\n",
      "26/26 [==============================] - 0s 781us/step - loss: 1.2685 - acc: 0.5819\n",
      "Epoch 12/150\n",
      "26/26 [==============================] - 0s 707us/step - loss: 1.2149 - acc: 0.6036\n",
      "Epoch 13/150\n",
      "26/26 [==============================] - 0s 733us/step - loss: 1.1952 - acc: 0.5928\n",
      "Epoch 14/150\n",
      "26/26 [==============================] - 0s 843us/step - loss: 1.1717 - acc: 0.6036\n",
      "Epoch 15/150\n",
      "26/26 [==============================] - 0s 718us/step - loss: 1.1284 - acc: 0.6265\n",
      "Epoch 16/150\n",
      "26/26 [==============================] - 0s 703us/step - loss: 1.0906 - acc: 0.6386\n",
      "Epoch 17/150\n",
      "26/26 [==============================] - 0s 717us/step - loss: 1.0903 - acc: 0.6398\n",
      "Epoch 18/150\n",
      "26/26 [==============================] - 0s 766us/step - loss: 1.0735 - acc: 0.6301\n",
      "Epoch 19/150\n",
      "26/26 [==============================] - 0s 705us/step - loss: 1.0441 - acc: 0.6470\n",
      "Epoch 20/150\n",
      "26/26 [==============================] - 0s 765us/step - loss: 1.0359 - acc: 0.6482\n",
      "Epoch 21/150\n",
      "26/26 [==============================] - 0s 786us/step - loss: 1.0041 - acc: 0.6482\n",
      "Epoch 22/150\n",
      "26/26 [==============================] - 0s 696us/step - loss: 0.9784 - acc: 0.6614\n",
      "Epoch 23/150\n",
      "26/26 [==============================] - 0s 716us/step - loss: 0.9795 - acc: 0.6590\n",
      "Epoch 24/150\n",
      "26/26 [==============================] - 0s 748us/step - loss: 0.9421 - acc: 0.6614\n",
      "Epoch 25/150\n",
      "26/26 [==============================] - 0s 696us/step - loss: 0.9189 - acc: 0.6699\n",
      "Epoch 26/150\n",
      "26/26 [==============================] - 0s 753us/step - loss: 0.9206 - acc: 0.6831\n",
      "Epoch 27/150\n",
      "26/26 [==============================] - 0s 746us/step - loss: 0.9009 - acc: 0.6675\n",
      "Epoch 28/150\n",
      "26/26 [==============================] - 0s 613us/step - loss: 0.8873 - acc: 0.7024\n",
      "Epoch 29/150\n",
      "26/26 [==============================] - 0s 807us/step - loss: 0.8774 - acc: 0.6831\n",
      "Epoch 30/150\n",
      "26/26 [==============================] - 0s 789us/step - loss: 0.8841 - acc: 0.6759\n",
      "Epoch 31/150\n",
      "26/26 [==============================] - 0s 591us/step - loss: 0.8736 - acc: 0.6843\n",
      "Epoch 32/150\n",
      "26/26 [==============================] - 0s 668us/step - loss: 0.8341 - acc: 0.7084\n",
      "Epoch 33/150\n",
      "26/26 [==============================] - 0s 759us/step - loss: 0.8509 - acc: 0.6855\n",
      "Epoch 34/150\n",
      "26/26 [==============================] - 0s 808us/step - loss: 0.8171 - acc: 0.7072\n",
      "Epoch 35/150\n"
     ]
    },
    {
     "name": "stdout",
     "output_type": "stream",
     "text": [
      "26/26 [==============================] - 0s 1ms/step - loss: 0.8388 - acc: 0.6952\n",
      "Epoch 36/150\n",
      "26/26 [==============================] - 0s 808us/step - loss: 0.7955 - acc: 0.7229\n",
      "Epoch 37/150\n",
      "26/26 [==============================] - 0s 792us/step - loss: 0.7982 - acc: 0.7072\n",
      "Epoch 38/150\n",
      "26/26 [==============================] - 0s 770us/step - loss: 0.7872 - acc: 0.7024\n",
      "Epoch 39/150\n",
      "26/26 [==============================] - 0s 775us/step - loss: 0.7981 - acc: 0.7108\n",
      "Epoch 40/150\n",
      "26/26 [==============================] - 0s 668us/step - loss: 0.7793 - acc: 0.7108\n",
      "Epoch 41/150\n",
      "26/26 [==============================] - 0s 678us/step - loss: 0.7453 - acc: 0.7386\n",
      "Epoch 42/150\n",
      "26/26 [==============================] - 0s 669us/step - loss: 0.7559 - acc: 0.7193\n",
      "Epoch 43/150\n",
      "26/26 [==============================] - 0s 719us/step - loss: 0.7672 - acc: 0.7193\n",
      "Epoch 44/150\n",
      "26/26 [==============================] - 0s 763us/step - loss: 0.7228 - acc: 0.7373\n",
      "Epoch 45/150\n",
      "26/26 [==============================] - 0s 675us/step - loss: 0.7332 - acc: 0.7253\n",
      "Epoch 46/150\n",
      "26/26 [==============================] - 0s 752us/step - loss: 0.7281 - acc: 0.7289\n",
      "Epoch 47/150\n",
      "26/26 [==============================] - 0s 747us/step - loss: 0.7165 - acc: 0.7313\n",
      "Epoch 48/150\n",
      "26/26 [==============================] - 0s 728us/step - loss: 0.7053 - acc: 0.7494\n",
      "Epoch 49/150\n",
      "26/26 [==============================] - 0s 723us/step - loss: 0.7286 - acc: 0.7313\n",
      "Epoch 50/150\n",
      "26/26 [==============================] - 0s 667us/step - loss: 0.7086 - acc: 0.7422\n",
      "Epoch 51/150\n",
      "26/26 [==============================] - 0s 713us/step - loss: 0.7049 - acc: 0.7373\n",
      "Epoch 52/150\n",
      "26/26 [==============================] - 0s 769us/step - loss: 0.6788 - acc: 0.7506\n",
      "Epoch 53/150\n",
      "26/26 [==============================] - 0s 684us/step - loss: 0.6795 - acc: 0.7506\n",
      "Epoch 54/150\n",
      "26/26 [==============================] - 0s 728us/step - loss: 0.6918 - acc: 0.7361\n",
      "Epoch 55/150\n",
      "26/26 [==============================] - 0s 637us/step - loss: 0.6619 - acc: 0.7530\n",
      "Epoch 56/150\n",
      "26/26 [==============================] - 0s 661us/step - loss: 0.6475 - acc: 0.7602\n",
      "Epoch 57/150\n",
      "26/26 [==============================] - 0s 729us/step - loss: 0.6503 - acc: 0.7602\n",
      "Epoch 58/150\n",
      "26/26 [==============================] - 0s 712us/step - loss: 0.6334 - acc: 0.7843\n",
      "Epoch 59/150\n",
      "26/26 [==============================] - 0s 735us/step - loss: 0.6350 - acc: 0.7723\n",
      "Epoch 60/150\n",
      "26/26 [==============================] - 0s 831us/step - loss: 0.6518 - acc: 0.7602\n",
      "Epoch 61/150\n",
      "26/26 [==============================] - 0s 792us/step - loss: 0.6306 - acc: 0.7771\n",
      "Epoch 62/150\n",
      "26/26 [==============================] - 0s 781us/step - loss: 0.6215 - acc: 0.7735\n",
      "Epoch 63/150\n",
      "26/26 [==============================] - 0s 664us/step - loss: 0.5923 - acc: 0.7952\n",
      "Epoch 64/150\n",
      "26/26 [==============================] - 0s 666us/step - loss: 0.6327 - acc: 0.7663\n",
      "Epoch 65/150\n",
      "26/26 [==============================] - 0s 686us/step - loss: 0.6191 - acc: 0.7747\n",
      "Epoch 66/150\n",
      "26/26 [==============================] - 0s 719us/step - loss: 0.6189 - acc: 0.7783\n",
      "Epoch 67/150\n",
      "26/26 [==============================] - 0s 743us/step - loss: 0.5972 - acc: 0.7843\n",
      "Epoch 68/150\n",
      "26/26 [==============================] - 0s 660us/step - loss: 0.5974 - acc: 0.7904\n",
      "Epoch 69/150\n",
      "26/26 [==============================] - 0s 752us/step - loss: 0.5939 - acc: 0.7807\n",
      "Epoch 70/150\n",
      "26/26 [==============================] - 0s 750us/step - loss: 0.5774 - acc: 0.7988\n",
      "Epoch 71/150\n",
      "26/26 [==============================] - 0s 773us/step - loss: 0.5948 - acc: 0.7892\n",
      "Epoch 72/150\n",
      "26/26 [==============================] - 0s 730us/step - loss: 0.5884 - acc: 0.7867\n",
      "Epoch 73/150\n",
      "26/26 [==============================] - 0s 728us/step - loss: 0.5750 - acc: 0.7904\n",
      "Epoch 74/150\n",
      "26/26 [==============================] - 0s 738us/step - loss: 0.5873 - acc: 0.7892\n",
      "Epoch 75/150\n",
      "26/26 [==============================] - 0s 734us/step - loss: 0.5707 - acc: 0.7940\n",
      "Epoch 76/150\n",
      "26/26 [==============================] - 0s 728us/step - loss: 0.5574 - acc: 0.8036\n",
      "Epoch 77/150\n",
      "26/26 [==============================] - 0s 699us/step - loss: 0.5501 - acc: 0.8072\n",
      "Epoch 78/150\n",
      "26/26 [==============================] - 0s 688us/step - loss: 0.5568 - acc: 0.7892\n",
      "Epoch 79/150\n",
      "26/26 [==============================] - 0s 690us/step - loss: 0.5839 - acc: 0.7928\n",
      "Epoch 80/150\n",
      "26/26 [==============================] - 0s 708us/step - loss: 0.5619 - acc: 0.7988\n",
      "Epoch 81/150\n",
      "26/26 [==============================] - 0s 751us/step - loss: 0.5383 - acc: 0.8048\n",
      "Epoch 82/150\n",
      "26/26 [==============================] - 0s 674us/step - loss: 0.5667 - acc: 0.7855\n",
      "Epoch 83/150\n",
      "26/26 [==============================] - 0s 740us/step - loss: 0.5203 - acc: 0.8048\n",
      "Epoch 84/150\n",
      "26/26 [==============================] - 0s 741us/step - loss: 0.5275 - acc: 0.7964\n",
      "Epoch 85/150\n",
      "26/26 [==============================] - 0s 769us/step - loss: 0.5445 - acc: 0.8096\n",
      "Epoch 86/150\n",
      "26/26 [==============================] - 0s 832us/step - loss: 0.5503 - acc: 0.7928\n",
      "Epoch 87/150\n",
      "26/26 [==============================] - 0s 723us/step - loss: 0.5164 - acc: 0.8120\n",
      "Epoch 88/150\n",
      "26/26 [==============================] - 0s 717us/step - loss: 0.5072 - acc: 0.8181\n",
      "Epoch 89/150\n",
      "26/26 [==============================] - 0s 654us/step - loss: 0.5198 - acc: 0.8145\n",
      "Epoch 90/150\n",
      "26/26 [==============================] - 0s 667us/step - loss: 0.5308 - acc: 0.8060\n",
      "Epoch 91/150\n",
      "26/26 [==============================] - 0s 714us/step - loss: 0.5386 - acc: 0.8036\n",
      "Epoch 92/150\n",
      "26/26 [==============================] - 0s 699us/step - loss: 0.5004 - acc: 0.8265\n",
      "Epoch 93/150\n",
      "26/26 [==============================] - 0s 796us/step - loss: 0.5155 - acc: 0.8229\n",
      "Epoch 94/150\n",
      "26/26 [==============================] - 0s 740us/step - loss: 0.5345 - acc: 0.8096\n",
      "Epoch 95/150\n",
      "26/26 [==============================] - 0s 717us/step - loss: 0.5012 - acc: 0.8169\n",
      "Epoch 96/150\n",
      "26/26 [==============================] - 0s 707us/step - loss: 0.4852 - acc: 0.8325\n",
      "Epoch 97/150\n",
      "26/26 [==============================] - 0s 846us/step - loss: 0.4980 - acc: 0.8229\n",
      "Epoch 98/150\n",
      "26/26 [==============================] - 0s 713us/step - loss: 0.5263 - acc: 0.8084\n",
      "Epoch 99/150\n",
      "26/26 [==============================] - 0s 726us/step - loss: 0.5261 - acc: 0.7940\n",
      "Epoch 100/150\n",
      "26/26 [==============================] - 0s 737us/step - loss: 0.4963 - acc: 0.8145\n",
      "Epoch 101/150\n",
      "26/26 [==============================] - 0s 738us/step - loss: 0.4873 - acc: 0.8313\n",
      "Epoch 102/150\n",
      "26/26 [==============================] - 0s 712us/step - loss: 0.4894 - acc: 0.8217\n",
      "Epoch 103/150\n",
      "26/26 [==============================] - 0s 737us/step - loss: 0.5065 - acc: 0.8072\n",
      "Epoch 104/150\n",
      "26/26 [==============================] - 0s 767us/step - loss: 0.4841 - acc: 0.8361\n",
      "Epoch 105/150\n",
      "26/26 [==============================] - 0s 761us/step - loss: 0.4760 - acc: 0.8217\n",
      "Epoch 106/150\n",
      "26/26 [==============================] - 0s 683us/step - loss: 0.4667 - acc: 0.8313\n",
      "Epoch 107/150\n",
      "26/26 [==============================] - 0s 745us/step - loss: 0.4661 - acc: 0.8337\n",
      "Epoch 108/150\n",
      "26/26 [==============================] - 0s 687us/step - loss: 0.4676 - acc: 0.8277\n",
      "Epoch 109/150\n",
      "26/26 [==============================] - 0s 700us/step - loss: 0.4521 - acc: 0.8506\n",
      "Epoch 110/150\n",
      "26/26 [==============================] - 0s 740us/step - loss: 0.4653 - acc: 0.8337\n",
      "Epoch 111/150\n",
      "26/26 [==============================] - 0s 749us/step - loss: 0.4437 - acc: 0.8422\n",
      "Epoch 112/150\n",
      "26/26 [==============================] - 0s 712us/step - loss: 0.4800 - acc: 0.8181\n",
      "Epoch 113/150\n",
      "26/26 [==============================] - 0s 744us/step - loss: 0.4886 - acc: 0.8036\n",
      "Epoch 114/150\n",
      "26/26 [==============================] - 0s 727us/step - loss: 0.4533 - acc: 0.8337\n",
      "Epoch 115/150\n",
      "26/26 [==============================] - 0s 740us/step - loss: 0.4557 - acc: 0.8289\n",
      "Epoch 116/150\n",
      "26/26 [==============================] - 0s 724us/step - loss: 0.4723 - acc: 0.8241\n",
      "Epoch 117/150\n",
      "26/26 [==============================] - 0s 702us/step - loss: 0.4531 - acc: 0.8265\n",
      "Epoch 118/150\n",
      "26/26 [==============================] - 0s 680us/step - loss: 0.4610 - acc: 0.8289\n",
      "Epoch 119/150\n",
      "26/26 [==============================] - 0s 644us/step - loss: 0.4581 - acc: 0.8410\n",
      "Epoch 120/150\n",
      "26/26 [==============================] - 0s 714us/step - loss: 0.4305 - acc: 0.8386\n",
      "Epoch 121/150\n",
      "26/26 [==============================] - 0s 714us/step - loss: 0.4244 - acc: 0.8398\n",
      "Epoch 122/150\n",
      "26/26 [==============================] - 0s 706us/step - loss: 0.4506 - acc: 0.8265\n",
      "Epoch 123/150\n",
      "26/26 [==============================] - 0s 782us/step - loss: 0.4443 - acc: 0.8349\n",
      "Epoch 124/150\n",
      "26/26 [==============================] - 0s 736us/step - loss: 0.4485 - acc: 0.8313\n",
      "Epoch 125/150\n",
      "26/26 [==============================] - 0s 712us/step - loss: 0.4849 - acc: 0.8265\n",
      "Epoch 126/150\n",
      "26/26 [==============================] - 0s 709us/step - loss: 0.4260 - acc: 0.8470\n",
      "Epoch 127/150\n",
      "26/26 [==============================] - 0s 661us/step - loss: 0.4778 - acc: 0.8289\n",
      "Epoch 128/150\n",
      "26/26 [==============================] - 0s 845us/step - loss: 0.4736 - acc: 0.8241\n",
      "Epoch 129/150\n",
      "26/26 [==============================] - 0s 758us/step - loss: 0.4293 - acc: 0.8470\n",
      "Epoch 130/150\n",
      "26/26 [==============================] - 0s 727us/step - loss: 0.4349 - acc: 0.8422\n",
      "Epoch 131/150\n",
      "26/26 [==============================] - 0s 742us/step - loss: 0.4327 - acc: 0.8470\n",
      "Epoch 132/150\n",
      "26/26 [==============================] - 0s 845us/step - loss: 0.4376 - acc: 0.8446\n",
      "Epoch 133/150\n",
      "26/26 [==============================] - 0s 690us/step - loss: 0.4249 - acc: 0.8313\n",
      "Epoch 134/150\n",
      "26/26 [==============================] - 0s 675us/step - loss: 0.4234 - acc: 0.8614\n",
      "Epoch 135/150\n",
      "26/26 [==============================] - 0s 693us/step - loss: 0.4069 - acc: 0.8554\n",
      "Epoch 136/150\n",
      "26/26 [==============================] - 0s 723us/step - loss: 0.4057 - acc: 0.8590\n",
      "Epoch 137/150\n",
      "26/26 [==============================] - 0s 720us/step - loss: 0.4450 - acc: 0.8386\n",
      "Epoch 138/150\n",
      "26/26 [==============================] - 0s 701us/step - loss: 0.4274 - acc: 0.8301\n",
      "Epoch 139/150\n",
      "26/26 [==============================] - 0s 731us/step - loss: 0.4202 - acc: 0.8578\n",
      "Epoch 140/150\n",
      "26/26 [==============================] - 0s 709us/step - loss: 0.4009 - acc: 0.8470\n",
      "Epoch 141/150\n",
      "26/26 [==============================] - 0s 774us/step - loss: 0.4226 - acc: 0.8434\n",
      "Epoch 142/150\n",
      "26/26 [==============================] - 0s 725us/step - loss: 0.3947 - acc: 0.8783\n",
      "Epoch 143/150\n",
      "26/26 [==============================] - 0s 783us/step - loss: 0.3931 - acc: 0.8530\n",
      "Epoch 144/150\n",
      "26/26 [==============================] - 0s 716us/step - loss: 0.4188 - acc: 0.8518\n",
      "Epoch 145/150\n",
      "26/26 [==============================] - 0s 712us/step - loss: 0.4237 - acc: 0.8349\n",
      "Epoch 146/150\n",
      "26/26 [==============================] - 0s 705us/step - loss: 0.4107 - acc: 0.8530\n",
      "Epoch 147/150\n",
      "26/26 [==============================] - 0s 732us/step - loss: 0.4062 - acc: 0.8482\n",
      "Epoch 148/150\n",
      "26/26 [==============================] - 0s 778us/step - loss: 0.3931 - acc: 0.8699\n",
      "Epoch 149/150\n",
      "26/26 [==============================] - 0s 728us/step - loss: 0.4159 - acc: 0.8289\n",
      "Epoch 150/150\n",
      "26/26 [==============================] - 0s 764us/step - loss: 0.4188 - acc: 0.8446\n",
      "7/7 [==============================] - 0s 618us/step - loss: 1.0515 - acc: 0.6908\n",
      "Epoch 1/150\n",
      "26/26 [==============================] - 0s 691us/step - loss: 2.3651 - acc: 0.2157\n",
      "Epoch 2/150\n",
      "26/26 [==============================] - 0s 861us/step - loss: 2.1124 - acc: 0.2807\n",
      "Epoch 3/150\n",
      "26/26 [==============================] - 0s 964us/step - loss: 1.9753 - acc: 0.3205\n",
      "Epoch 4/150\n",
      "26/26 [==============================] - 0s 1ms/step - loss: 1.8970 - acc: 0.3434\n",
      "Epoch 5/150\n",
      "26/26 [==============================] - 0s 956us/step - loss: 1.8143 - acc: 0.3904\n",
      "Epoch 6/150\n",
      "26/26 [==============================] - 0s 1ms/step - loss: 1.7316 - acc: 0.4229\n",
      "Epoch 7/150\n",
      "26/26 [==============================] - 0s 964us/step - loss: 1.6596 - acc: 0.4542\n",
      "Epoch 8/150\n",
      "26/26 [==============================] - 0s 934us/step - loss: 1.6069 - acc: 0.4494\n",
      "Epoch 9/150\n",
      "26/26 [==============================] - 0s 951us/step - loss: 1.5337 - acc: 0.4795\n",
      "Epoch 10/150\n",
      "26/26 [==============================] - 0s 929us/step - loss: 1.4876 - acc: 0.5012\n",
      "Epoch 11/150\n",
      "26/26 [==============================] - 0s 938us/step - loss: 1.4306 - acc: 0.5120\n",
      "Epoch 12/150\n",
      "26/26 [==============================] - 0s 1ms/step - loss: 1.3885 - acc: 0.5265\n",
      "Epoch 13/150\n",
      "26/26 [==============================] - 0s 866us/step - loss: 1.3446 - acc: 0.5301\n",
      "Epoch 14/150\n",
      "26/26 [==============================] - 0s 704us/step - loss: 1.3021 - acc: 0.5590\n",
      "Epoch 15/150\n",
      "26/26 [==============================] - 0s 691us/step - loss: 1.2545 - acc: 0.5602\n",
      "Epoch 16/150\n",
      "26/26 [==============================] - 0s 729us/step - loss: 1.2229 - acc: 0.5892\n",
      "Epoch 17/150\n",
      "26/26 [==============================] - 0s 676us/step - loss: 1.1801 - acc: 0.5952\n",
      "Epoch 18/150\n",
      "26/26 [==============================] - 0s 688us/step - loss: 1.1811 - acc: 0.6012\n",
      "Epoch 19/150\n",
      "26/26 [==============================] - 0s 729us/step - loss: 1.1463 - acc: 0.6193\n",
      "Epoch 20/150\n",
      "26/26 [==============================] - 0s 744us/step - loss: 1.1210 - acc: 0.6024\n",
      "Epoch 21/150\n",
      "26/26 [==============================] - 0s 703us/step - loss: 1.0982 - acc: 0.6349\n",
      "Epoch 22/150\n",
      "26/26 [==============================] - 0s 704us/step - loss: 1.0624 - acc: 0.6337\n",
      "Epoch 23/150\n",
      "26/26 [==============================] - 0s 717us/step - loss: 1.0597 - acc: 0.6325\n",
      "Epoch 24/150\n",
      "26/26 [==============================] - 0s 739us/step - loss: 1.0273 - acc: 0.6506\n",
      "Epoch 25/150\n",
      "26/26 [==============================] - 0s 763us/step - loss: 1.0074 - acc: 0.6627\n",
      "Epoch 26/150\n",
      "26/26 [==============================] - 0s 705us/step - loss: 0.9863 - acc: 0.6542\n",
      "Epoch 27/150\n",
      "26/26 [==============================] - 0s 704us/step - loss: 0.9948 - acc: 0.6494\n",
      "Epoch 28/150\n",
      "26/26 [==============================] - 0s 744us/step - loss: 0.9864 - acc: 0.6663\n",
      "Epoch 29/150\n",
      "26/26 [==============================] - 0s 745us/step - loss: 0.9802 - acc: 0.6482\n",
      "Epoch 30/150\n",
      "26/26 [==============================] - 0s 724us/step - loss: 0.9977 - acc: 0.6566\n",
      "Epoch 31/150\n",
      "26/26 [==============================] - 0s 672us/step - loss: 0.9701 - acc: 0.6313\n",
      "Epoch 32/150\n",
      "26/26 [==============================] - 0s 712us/step - loss: 0.9656 - acc: 0.6373\n",
      "Epoch 33/150\n",
      "26/26 [==============================] - 0s 662us/step - loss: 0.9254 - acc: 0.6783\n",
      "Epoch 34/150\n",
      "26/26 [==============================] - 0s 663us/step - loss: 0.8948 - acc: 0.6892\n",
      "Epoch 35/150\n",
      "26/26 [==============================] - 0s 717us/step - loss: 0.8846 - acc: 0.7012\n",
      "Epoch 36/150\n",
      "26/26 [==============================] - 0s 764us/step - loss: 0.8771 - acc: 0.6952\n",
      "Epoch 37/150\n",
      "26/26 [==============================] - 0s 660us/step - loss: 0.8839 - acc: 0.6916\n",
      "Epoch 38/150\n",
      "26/26 [==============================] - 0s 689us/step - loss: 0.8934 - acc: 0.6843\n",
      "Epoch 39/150\n",
      "26/26 [==============================] - 0s 715us/step - loss: 0.8867 - acc: 0.7120\n",
      "Epoch 40/150\n",
      "26/26 [==============================] - 0s 655us/step - loss: 0.8760 - acc: 0.6831\n",
      "Epoch 41/150\n",
      "26/26 [==============================] - 0s 742us/step - loss: 0.8659 - acc: 0.7133\n",
      "Epoch 42/150\n",
      "26/26 [==============================] - 0s 659us/step - loss: 0.8522 - acc: 0.7072\n",
      "Epoch 43/150\n",
      "26/26 [==============================] - 0s 731us/step - loss: 0.8345 - acc: 0.7060\n",
      "Epoch 44/150\n",
      "26/26 [==============================] - 0s 733us/step - loss: 0.8219 - acc: 0.7253\n",
      "Epoch 45/150\n",
      "26/26 [==============================] - 0s 665us/step - loss: 0.8487 - acc: 0.6988\n",
      "Epoch 46/150\n",
      "26/26 [==============================] - 0s 733us/step - loss: 0.8368 - acc: 0.7036\n",
      "Epoch 47/150\n",
      "26/26 [==============================] - 0s 777us/step - loss: 0.8313 - acc: 0.7229\n",
      "Epoch 48/150\n",
      "26/26 [==============================] - 0s 721us/step - loss: 0.8318 - acc: 0.6952\n",
      "Epoch 49/150\n",
      "26/26 [==============================] - 0s 712us/step - loss: 0.8425 - acc: 0.7133\n",
      "Epoch 50/150\n",
      "26/26 [==============================] - 0s 750us/step - loss: 0.7979 - acc: 0.7217\n",
      "Epoch 51/150\n",
      "26/26 [==============================] - 0s 786us/step - loss: 0.7960 - acc: 0.7084\n",
      "Epoch 52/150\n"
     ]
    },
    {
     "name": "stdout",
     "output_type": "stream",
     "text": [
      "26/26 [==============================] - 0s 775us/step - loss: 0.7956 - acc: 0.7217\n",
      "Epoch 53/150\n",
      "26/26 [==============================] - 0s 662us/step - loss: 0.7892 - acc: 0.7337\n",
      "Epoch 54/150\n",
      "26/26 [==============================] - 0s 717us/step - loss: 0.7812 - acc: 0.7229\n",
      "Epoch 55/150\n",
      "26/26 [==============================] - 0s 718us/step - loss: 0.7847 - acc: 0.7205\n",
      "Epoch 56/150\n",
      "26/26 [==============================] - 0s 745us/step - loss: 0.7744 - acc: 0.7325\n",
      "Epoch 57/150\n",
      "26/26 [==============================] - 0s 817us/step - loss: 0.7612 - acc: 0.7398\n",
      "Epoch 58/150\n",
      "26/26 [==============================] - 0s 913us/step - loss: 0.7448 - acc: 0.7410\n",
      "Epoch 59/150\n",
      "26/26 [==============================] - 0s 926us/step - loss: 0.7706 - acc: 0.7205\n",
      "Epoch 60/150\n",
      "26/26 [==============================] - 0s 837us/step - loss: 0.7524 - acc: 0.7398\n",
      "Epoch 61/150\n",
      "26/26 [==============================] - 0s 721us/step - loss: 0.7526 - acc: 0.7253\n",
      "Epoch 62/150\n",
      "26/26 [==============================] - 0s 772us/step - loss: 0.7430 - acc: 0.7458\n",
      "Epoch 63/150\n",
      "26/26 [==============================] - 0s 738us/step - loss: 0.7574 - acc: 0.7349\n",
      "Epoch 64/150\n",
      "26/26 [==============================] - 0s 745us/step - loss: 0.7621 - acc: 0.7229\n",
      "Epoch 65/150\n",
      "26/26 [==============================] - 0s 712us/step - loss: 0.7580 - acc: 0.7277\n",
      "Epoch 66/150\n",
      "26/26 [==============================] - 0s 829us/step - loss: 0.7686 - acc: 0.7301\n",
      "Epoch 67/150\n",
      "26/26 [==============================] - 0s 748us/step - loss: 0.7381 - acc: 0.7566\n",
      "Epoch 68/150\n",
      "26/26 [==============================] - 0s 947us/step - loss: 0.7157 - acc: 0.7494\n",
      "Epoch 69/150\n",
      "26/26 [==============================] - 0s 819us/step - loss: 0.7217 - acc: 0.7518\n",
      "Epoch 70/150\n",
      "26/26 [==============================] - 0s 745us/step - loss: 0.7149 - acc: 0.7398\n",
      "Epoch 71/150\n",
      "26/26 [==============================] - 0s 979us/step - loss: 0.7176 - acc: 0.7542\n",
      "Epoch 72/150\n",
      "26/26 [==============================] - 0s 744us/step - loss: 0.7495 - acc: 0.7265\n",
      "Epoch 73/150\n",
      "26/26 [==============================] - 0s 872us/step - loss: 0.7116 - acc: 0.7651\n",
      "Epoch 74/150\n",
      "26/26 [==============================] - 0s 743us/step - loss: 0.7149 - acc: 0.7446\n",
      "Epoch 75/150\n",
      "26/26 [==============================] - 0s 732us/step - loss: 0.6921 - acc: 0.7590\n",
      "Epoch 76/150\n",
      "26/26 [==============================] - 0s 695us/step - loss: 0.7090 - acc: 0.7566\n",
      "Epoch 77/150\n",
      "26/26 [==============================] - 0s 826us/step - loss: 0.7281 - acc: 0.7506\n",
      "Epoch 78/150\n",
      "26/26 [==============================] - 0s 671us/step - loss: 0.7180 - acc: 0.7446\n",
      "Epoch 79/150\n",
      "26/26 [==============================] - 0s 755us/step - loss: 0.7133 - acc: 0.7361\n",
      "Epoch 80/150\n",
      "26/26 [==============================] - 0s 755us/step - loss: 0.6913 - acc: 0.7434\n",
      "Epoch 81/150\n",
      "26/26 [==============================] - 0s 709us/step - loss: 0.6940 - acc: 0.7530\n",
      "Epoch 82/150\n",
      "26/26 [==============================] - 0s 746us/step - loss: 0.6974 - acc: 0.7542\n",
      "Epoch 83/150\n",
      "26/26 [==============================] - 0s 692us/step - loss: 0.6759 - acc: 0.7639\n",
      "Epoch 84/150\n",
      "26/26 [==============================] - 0s 724us/step - loss: 0.6763 - acc: 0.7614\n",
      "Epoch 85/150\n",
      "26/26 [==============================] - 0s 731us/step - loss: 0.6752 - acc: 0.7530\n",
      "Epoch 86/150\n",
      "26/26 [==============================] - 0s 733us/step - loss: 0.6813 - acc: 0.7578\n",
      "Epoch 87/150\n",
      "26/26 [==============================] - 0s 756us/step - loss: 0.6589 - acc: 0.7627\n",
      "Epoch 88/150\n",
      "26/26 [==============================] - 0s 766us/step - loss: 0.6697 - acc: 0.7590\n",
      "Epoch 89/150\n",
      "26/26 [==============================] - 0s 748us/step - loss: 0.6681 - acc: 0.7651\n",
      "Epoch 90/150\n",
      "26/26 [==============================] - 0s 773us/step - loss: 0.6517 - acc: 0.7602\n",
      "Epoch 91/150\n",
      "26/26 [==============================] - 0s 747us/step - loss: 0.6540 - acc: 0.7639\n",
      "Epoch 92/150\n",
      "26/26 [==============================] - 0s 723us/step - loss: 0.6538 - acc: 0.7783\n",
      "Epoch 93/150\n",
      "26/26 [==============================] - 0s 770us/step - loss: 0.6809 - acc: 0.7482\n",
      "Epoch 94/150\n",
      "26/26 [==============================] - 0s 740us/step - loss: 0.6261 - acc: 0.7723\n",
      "Epoch 95/150\n",
      "26/26 [==============================] - 0s 758us/step - loss: 0.6883 - acc: 0.7542\n",
      "Epoch 96/150\n",
      "26/26 [==============================] - 0s 775us/step - loss: 0.6722 - acc: 0.7554\n",
      "Epoch 97/150\n",
      "26/26 [==============================] - 0s 813us/step - loss: 0.6657 - acc: 0.7554\n",
      "Epoch 98/150\n",
      "26/26 [==============================] - 0s 737us/step - loss: 0.6393 - acc: 0.7723\n",
      "Epoch 99/150\n",
      "26/26 [==============================] - 0s 803us/step - loss: 0.6524 - acc: 0.7855\n",
      "Epoch 100/150\n",
      "26/26 [==============================] - 0s 753us/step - loss: 0.6250 - acc: 0.7651\n",
      "Epoch 101/150\n",
      "26/26 [==============================] - 0s 781us/step - loss: 0.6713 - acc: 0.7578\n",
      "Epoch 102/150\n",
      "26/26 [==============================] - 0s 802us/step - loss: 0.6343 - acc: 0.7723\n",
      "Epoch 103/150\n",
      "26/26 [==============================] - 0s 748us/step - loss: 0.6585 - acc: 0.7675\n",
      "Epoch 104/150\n",
      "26/26 [==============================] - 0s 726us/step - loss: 0.6408 - acc: 0.7735\n",
      "Epoch 105/150\n",
      "26/26 [==============================] - 0s 780us/step - loss: 0.6357 - acc: 0.7807\n",
      "Epoch 106/150\n",
      "26/26 [==============================] - 0s 782us/step - loss: 0.6158 - acc: 0.7831\n",
      "Epoch 107/150\n",
      "26/26 [==============================] - 0s 764us/step - loss: 0.6367 - acc: 0.7663\n",
      "Epoch 108/150\n",
      "26/26 [==============================] - 0s 794us/step - loss: 0.6579 - acc: 0.7627\n",
      "Epoch 109/150\n",
      "26/26 [==============================] - 0s 829us/step - loss: 0.6600 - acc: 0.7651\n",
      "Epoch 110/150\n",
      "26/26 [==============================] - 0s 748us/step - loss: 0.6279 - acc: 0.7711\n",
      "Epoch 111/150\n",
      "26/26 [==============================] - 0s 709us/step - loss: 0.6240 - acc: 0.7855\n",
      "Epoch 112/150\n",
      "26/26 [==============================] - 0s 757us/step - loss: 0.6540 - acc: 0.7663\n",
      "Epoch 113/150\n",
      "26/26 [==============================] - 0s 739us/step - loss: 0.6189 - acc: 0.7759\n",
      "Epoch 114/150\n",
      "26/26 [==============================] - 0s 669us/step - loss: 0.6039 - acc: 0.7759\n",
      "Epoch 115/150\n",
      "26/26 [==============================] - 0s 711us/step - loss: 0.6225 - acc: 0.7843\n",
      "Epoch 116/150\n",
      "26/26 [==============================] - 0s 757us/step - loss: 0.6025 - acc: 0.7723\n",
      "Epoch 117/150\n",
      "26/26 [==============================] - 0s 776us/step - loss: 0.6461 - acc: 0.7663\n",
      "Epoch 118/150\n",
      "26/26 [==============================] - 0s 750us/step - loss: 0.6196 - acc: 0.7795\n",
      "Epoch 119/150\n",
      "26/26 [==============================] - 0s 771us/step - loss: 0.6199 - acc: 0.7723\n",
      "Epoch 120/150\n",
      "26/26 [==============================] - 0s 797us/step - loss: 0.6203 - acc: 0.7831\n",
      "Epoch 121/150\n",
      "26/26 [==============================] - 0s 784us/step - loss: 0.6270 - acc: 0.7723\n",
      "Epoch 122/150\n",
      "26/26 [==============================] - 0s 751us/step - loss: 0.6014 - acc: 0.7735\n",
      "Epoch 123/150\n",
      "26/26 [==============================] - 0s 791us/step - loss: 0.6117 - acc: 0.7855\n",
      "Epoch 124/150\n",
      "26/26 [==============================] - 0s 764us/step - loss: 0.6102 - acc: 0.7831\n",
      "Epoch 125/150\n",
      "26/26 [==============================] - 0s 747us/step - loss: 0.5842 - acc: 0.7880\n",
      "Epoch 126/150\n",
      "26/26 [==============================] - 0s 739us/step - loss: 0.5948 - acc: 0.7831\n",
      "Epoch 127/150\n",
      "26/26 [==============================] - 0s 737us/step - loss: 0.6148 - acc: 0.7916\n",
      "Epoch 128/150\n",
      "26/26 [==============================] - 0s 776us/step - loss: 0.5763 - acc: 0.7892\n",
      "Epoch 129/150\n",
      "26/26 [==============================] - 0s 751us/step - loss: 0.5998 - acc: 0.7880\n",
      "Epoch 130/150\n",
      "26/26 [==============================] - 0s 765us/step - loss: 0.5693 - acc: 0.7831\n",
      "Epoch 131/150\n",
      "26/26 [==============================] - 0s 783us/step - loss: 0.6036 - acc: 0.7976\n",
      "Epoch 132/150\n",
      "26/26 [==============================] - 0s 765us/step - loss: 0.6044 - acc: 0.7831\n",
      "Epoch 133/150\n",
      "26/26 [==============================] - 0s 756us/step - loss: 0.6037 - acc: 0.7735\n",
      "Epoch 134/150\n",
      "26/26 [==============================] - 0s 741us/step - loss: 0.5891 - acc: 0.7940\n",
      "Epoch 135/150\n",
      "26/26 [==============================] - 0s 724us/step - loss: 0.5849 - acc: 0.7843\n",
      "Epoch 136/150\n",
      "26/26 [==============================] - 0s 760us/step - loss: 0.5840 - acc: 0.7940\n",
      "Epoch 137/150\n",
      "26/26 [==============================] - 0s 721us/step - loss: 0.5738 - acc: 0.7952\n",
      "Epoch 138/150\n",
      "26/26 [==============================] - 0s 742us/step - loss: 0.5763 - acc: 0.7928\n",
      "Epoch 139/150\n",
      "26/26 [==============================] - 0s 709us/step - loss: 0.5672 - acc: 0.8048\n",
      "Epoch 140/150\n",
      "26/26 [==============================] - 0s 801us/step - loss: 0.5511 - acc: 0.8145\n",
      "Epoch 141/150\n",
      "26/26 [==============================] - 0s 786us/step - loss: 0.5736 - acc: 0.8048\n",
      "Epoch 142/150\n",
      "26/26 [==============================] - 0s 848us/step - loss: 0.5734 - acc: 0.8024\n",
      "Epoch 143/150\n",
      "26/26 [==============================] - 0s 754us/step - loss: 0.5409 - acc: 0.8157\n",
      "Epoch 144/150\n",
      "26/26 [==============================] - 0s 812us/step - loss: 0.5528 - acc: 0.7916\n",
      "Epoch 145/150\n",
      "26/26 [==============================] - 0s 795us/step - loss: 0.5678 - acc: 0.7988\n",
      "Epoch 146/150\n",
      "26/26 [==============================] - 0s 721us/step - loss: 0.5896 - acc: 0.7928\n",
      "Epoch 147/150\n",
      "26/26 [==============================] - 0s 815us/step - loss: 0.5590 - acc: 0.8108\n",
      "Epoch 148/150\n",
      "26/26 [==============================] - 0s 785us/step - loss: 0.5470 - acc: 0.8157\n",
      "Epoch 149/150\n",
      "26/26 [==============================] - 0s 790us/step - loss: 0.5614 - acc: 0.7964\n",
      "Epoch 150/150\n",
      "26/26 [==============================] - 0s 785us/step - loss: 0.5759 - acc: 0.7988\n",
      "7/7 [==============================] - 0s 618us/step - loss: 0.8394 - acc: 0.7053\n",
      "Epoch 1/150\n",
      "26/26 [==============================] - 0s 735us/step - loss: 2.4468 - acc: 0.1988\n",
      "Epoch 2/150\n",
      "26/26 [==============================] - 0s 964us/step - loss: 2.1280 - acc: 0.2819\n",
      "Epoch 3/150\n",
      "26/26 [==============================] - 0s 937us/step - loss: 2.0140 - acc: 0.3229\n",
      "Epoch 4/150\n",
      "26/26 [==============================] - 0s 934us/step - loss: 1.8522 - acc: 0.3988\n",
      "Epoch 5/150\n",
      "26/26 [==============================] - 0s 907us/step - loss: 1.7807 - acc: 0.3904\n",
      "Epoch 6/150\n",
      "26/26 [==============================] - 0s 892us/step - loss: 1.6870 - acc: 0.4349\n",
      "Epoch 7/150\n",
      "26/26 [==============================] - 0s 860us/step - loss: 1.6277 - acc: 0.4325\n",
      "Epoch 8/150\n",
      "26/26 [==============================] - 0s 801us/step - loss: 1.5499 - acc: 0.4687\n",
      "Epoch 9/150\n",
      "26/26 [==============================] - 0s 851us/step - loss: 1.4978 - acc: 0.4795\n",
      "Epoch 10/150\n",
      "26/26 [==============================] - 0s 1ms/step - loss: 1.4259 - acc: 0.5337\n",
      "Epoch 11/150\n",
      "26/26 [==============================] - 0s 914us/step - loss: 1.3996 - acc: 0.5229\n",
      "Epoch 12/150\n",
      "26/26 [==============================] - 0s 1ms/step - loss: 1.3600 - acc: 0.5349\n",
      "Epoch 13/150\n",
      "26/26 [==============================] - 0s 944us/step - loss: 1.3259 - acc: 0.5386\n",
      "Epoch 14/150\n",
      "26/26 [==============================] - 0s 993us/step - loss: 1.2893 - acc: 0.5687\n",
      "Epoch 15/150\n",
      "26/26 [==============================] - 0s 938us/step - loss: 1.2353 - acc: 0.5687\n",
      "Epoch 16/150\n",
      "26/26 [==============================] - 0s 934us/step - loss: 1.2152 - acc: 0.5795\n",
      "Epoch 17/150\n",
      "26/26 [==============================] - 0s 926us/step - loss: 1.2261 - acc: 0.5614\n",
      "Epoch 18/150\n",
      "26/26 [==============================] - 0s 926us/step - loss: 1.1433 - acc: 0.5916\n",
      "Epoch 19/150\n",
      "26/26 [==============================] - 0s 799us/step - loss: 1.1308 - acc: 0.5964\n",
      "Epoch 20/150\n",
      "26/26 [==============================] - 0s 791us/step - loss: 1.1247 - acc: 0.6024\n",
      "Epoch 21/150\n",
      "26/26 [==============================] - 0s 748us/step - loss: 1.1334 - acc: 0.6072\n",
      "Epoch 22/150\n",
      "26/26 [==============================] - 0s 715us/step - loss: 1.0672 - acc: 0.6241\n",
      "Epoch 23/150\n",
      "26/26 [==============================] - 0s 745us/step - loss: 1.0637 - acc: 0.6410\n",
      "Epoch 24/150\n",
      "26/26 [==============================] - 0s 702us/step - loss: 1.0666 - acc: 0.6145\n",
      "Epoch 25/150\n",
      "26/26 [==============================] - 0s 688us/step - loss: 1.0381 - acc: 0.6325\n",
      "Epoch 26/150\n",
      "26/26 [==============================] - 0s 697us/step - loss: 1.0317 - acc: 0.6337\n",
      "Epoch 27/150\n",
      "26/26 [==============================] - 0s 769us/step - loss: 1.0294 - acc: 0.6361\n",
      "Epoch 28/150\n",
      "26/26 [==============================] - 0s 676us/step - loss: 0.9861 - acc: 0.6458\n",
      "Epoch 29/150\n",
      "26/26 [==============================] - 0s 686us/step - loss: 0.9923 - acc: 0.6494\n",
      "Epoch 30/150\n",
      "26/26 [==============================] - 0s 704us/step - loss: 0.9754 - acc: 0.6530\n",
      "Epoch 31/150\n",
      "26/26 [==============================] - 0s 745us/step - loss: 0.9741 - acc: 0.6578\n",
      "Epoch 32/150\n",
      "26/26 [==============================] - 0s 760us/step - loss: 0.9562 - acc: 0.6554\n",
      "Epoch 33/150\n",
      "26/26 [==============================] - 0s 714us/step - loss: 0.9353 - acc: 0.6699\n",
      "Epoch 34/150\n",
      "26/26 [==============================] - 0s 809us/step - loss: 0.9300 - acc: 0.6663\n",
      "Epoch 35/150\n",
      "26/26 [==============================] - 0s 693us/step - loss: 0.9309 - acc: 0.6711\n",
      "Epoch 36/150\n",
      "26/26 [==============================] - 0s 722us/step - loss: 0.9132 - acc: 0.6735\n",
      "Epoch 37/150\n",
      "26/26 [==============================] - 0s 719us/step - loss: 0.9184 - acc: 0.6723\n",
      "Epoch 38/150\n",
      "26/26 [==============================] - 0s 742us/step - loss: 0.9018 - acc: 0.6771\n",
      "Epoch 39/150\n",
      "26/26 [==============================] - 0s 721us/step - loss: 0.9017 - acc: 0.6904\n",
      "Epoch 40/150\n",
      "26/26 [==============================] - 0s 684us/step - loss: 0.8808 - acc: 0.6867\n",
      "Epoch 41/150\n",
      "26/26 [==============================] - 0s 780us/step - loss: 0.8718 - acc: 0.6880\n",
      "Epoch 42/150\n",
      "26/26 [==============================] - 0s 724us/step - loss: 0.8628 - acc: 0.6964\n",
      "Epoch 43/150\n",
      "26/26 [==============================] - 0s 717us/step - loss: 0.8418 - acc: 0.6928\n",
      "Epoch 44/150\n",
      "26/26 [==============================] - 0s 672us/step - loss: 0.8438 - acc: 0.7096\n",
      "Epoch 45/150\n",
      "26/26 [==============================] - 0s 696us/step - loss: 0.8393 - acc: 0.6916\n",
      "Epoch 46/150\n",
      "26/26 [==============================] - 0s 759us/step - loss: 0.8455 - acc: 0.6855\n",
      "Epoch 47/150\n",
      "26/26 [==============================] - 0s 681us/step - loss: 0.8197 - acc: 0.7253\n",
      "Epoch 48/150\n",
      "26/26 [==============================] - 0s 686us/step - loss: 0.8278 - acc: 0.7024\n",
      "Epoch 49/150\n",
      "26/26 [==============================] - 0s 716us/step - loss: 0.8197 - acc: 0.7157\n",
      "Epoch 50/150\n",
      "26/26 [==============================] - 0s 733us/step - loss: 0.8085 - acc: 0.6976\n",
      "Epoch 51/150\n",
      "26/26 [==============================] - 0s 659us/step - loss: 0.7974 - acc: 0.7096\n",
      "Epoch 52/150\n",
      "26/26 [==============================] - 0s 706us/step - loss: 0.8153 - acc: 0.7133\n",
      "Epoch 53/150\n",
      "26/26 [==============================] - 0s 776us/step - loss: 0.7886 - acc: 0.7217\n",
      "Epoch 54/150\n",
      "26/26 [==============================] - 0s 695us/step - loss: 0.8241 - acc: 0.6940\n",
      "Epoch 55/150\n",
      "26/26 [==============================] - 0s 757us/step - loss: 0.8085 - acc: 0.7036\n",
      "Epoch 56/150\n",
      "26/26 [==============================] - 0s 725us/step - loss: 0.8090 - acc: 0.6928\n",
      "Epoch 57/150\n",
      "26/26 [==============================] - 0s 764us/step - loss: 0.7885 - acc: 0.7169\n",
      "Epoch 58/150\n",
      "26/26 [==============================] - 0s 767us/step - loss: 0.7867 - acc: 0.7108\n",
      "Epoch 59/150\n",
      "26/26 [==============================] - 0s 717us/step - loss: 0.7564 - acc: 0.7241\n",
      "Epoch 60/150\n",
      "26/26 [==============================] - 0s 720us/step - loss: 0.7536 - acc: 0.7446\n",
      "Epoch 61/150\n",
      "26/26 [==============================] - 0s 732us/step - loss: 0.7686 - acc: 0.7313\n",
      "Epoch 62/150\n",
      "26/26 [==============================] - 0s 652us/step - loss: 0.7286 - acc: 0.7361\n",
      "Epoch 63/150\n",
      "26/26 [==============================] - 0s 706us/step - loss: 0.7486 - acc: 0.7217\n",
      "Epoch 64/150\n",
      "26/26 [==============================] - 0s 725us/step - loss: 0.7570 - acc: 0.7277\n",
      "Epoch 65/150\n",
      "26/26 [==============================] - 0s 677us/step - loss: 0.7454 - acc: 0.7265\n",
      "Epoch 66/150\n",
      "26/26 [==============================] - 0s 705us/step - loss: 0.7267 - acc: 0.7542\n",
      "Epoch 67/150\n",
      "26/26 [==============================] - 0s 658us/step - loss: 0.7510 - acc: 0.7169\n",
      "Epoch 68/150\n",
      "26/26 [==============================] - 0s 756us/step - loss: 0.7249 - acc: 0.7277\n",
      "Epoch 69/150\n"
     ]
    },
    {
     "name": "stdout",
     "output_type": "stream",
     "text": [
      "26/26 [==============================] - 0s 760us/step - loss: 0.7239 - acc: 0.7265\n",
      "Epoch 70/150\n",
      "26/26 [==============================] - 0s 648us/step - loss: 0.7086 - acc: 0.7446\n",
      "Epoch 71/150\n",
      "26/26 [==============================] - 0s 726us/step - loss: 0.7204 - acc: 0.7325\n",
      "Epoch 72/150\n",
      "26/26 [==============================] - 0s 813us/step - loss: 0.7405 - acc: 0.7265\n",
      "Epoch 73/150\n",
      "26/26 [==============================] - 0s 815us/step - loss: 0.7037 - acc: 0.7458\n",
      "Epoch 74/150\n",
      "26/26 [==============================] - 0s 698us/step - loss: 0.7130 - acc: 0.7410\n",
      "Epoch 75/150\n",
      "26/26 [==============================] - 0s 727us/step - loss: 0.7058 - acc: 0.7470\n",
      "Epoch 76/150\n",
      "26/26 [==============================] - 0s 753us/step - loss: 0.6864 - acc: 0.7590\n",
      "Epoch 77/150\n",
      "26/26 [==============================] - 0s 717us/step - loss: 0.6670 - acc: 0.7578\n",
      "Epoch 78/150\n",
      "26/26 [==============================] - 0s 761us/step - loss: 0.6743 - acc: 0.7494\n",
      "Epoch 79/150\n",
      "26/26 [==============================] - 0s 762us/step - loss: 0.6960 - acc: 0.7542\n",
      "Epoch 80/150\n",
      "26/26 [==============================] - 0s 721us/step - loss: 0.7170 - acc: 0.7386\n",
      "Epoch 81/150\n",
      "26/26 [==============================] - 0s 908us/step - loss: 0.7229 - acc: 0.7253\n",
      "Epoch 82/150\n",
      "26/26 [==============================] - 0s 782us/step - loss: 0.6799 - acc: 0.7458\n",
      "Epoch 83/150\n",
      "26/26 [==============================] - 0s 803us/step - loss: 0.6758 - acc: 0.7590\n",
      "Epoch 84/150\n",
      "26/26 [==============================] - 0s 769us/step - loss: 0.6750 - acc: 0.7506\n",
      "Epoch 85/150\n",
      "26/26 [==============================] - 0s 782us/step - loss: 0.6635 - acc: 0.7494\n",
      "Epoch 86/150\n",
      "26/26 [==============================] - 0s 760us/step - loss: 0.6654 - acc: 0.7602\n",
      "Epoch 87/150\n",
      "26/26 [==============================] - 0s 828us/step - loss: 0.6904 - acc: 0.7482\n",
      "Epoch 88/150\n",
      "26/26 [==============================] - 0s 718us/step - loss: 0.6628 - acc: 0.7699\n",
      "Epoch 89/150\n",
      "26/26 [==============================] - 0s 706us/step - loss: 0.6570 - acc: 0.7482\n",
      "Epoch 90/150\n",
      "26/26 [==============================] - 0s 723us/step - loss: 0.6677 - acc: 0.7602\n",
      "Epoch 91/150\n",
      "26/26 [==============================] - 0s 766us/step - loss: 0.6756 - acc: 0.7554\n",
      "Epoch 92/150\n",
      "26/26 [==============================] - 0s 719us/step - loss: 0.6392 - acc: 0.7687\n",
      "Epoch 93/150\n",
      "26/26 [==============================] - 0s 718us/step - loss: 0.6391 - acc: 0.7771\n",
      "Epoch 94/150\n",
      "26/26 [==============================] - 0s 798us/step - loss: 0.6472 - acc: 0.7614\n",
      "Epoch 95/150\n",
      "26/26 [==============================] - 0s 765us/step - loss: 0.6579 - acc: 0.7602\n",
      "Epoch 96/150\n",
      "26/26 [==============================] - 0s 750us/step - loss: 0.6203 - acc: 0.7795\n",
      "Epoch 97/150\n",
      "26/26 [==============================] - 0s 727us/step - loss: 0.6318 - acc: 0.7843\n",
      "Epoch 98/150\n",
      "26/26 [==============================] - 0s 789us/step - loss: 0.6657 - acc: 0.7434\n",
      "Epoch 99/150\n",
      "26/26 [==============================] - 0s 760us/step - loss: 0.6378 - acc: 0.7687\n",
      "Epoch 100/150\n",
      "26/26 [==============================] - 0s 795us/step - loss: 0.6335 - acc: 0.7614\n",
      "Epoch 101/150\n",
      "26/26 [==============================] - 0s 813us/step - loss: 0.6479 - acc: 0.7614\n",
      "Epoch 102/150\n",
      "26/26 [==============================] - 0s 794us/step - loss: 0.5944 - acc: 0.7952\n",
      "Epoch 103/150\n",
      "26/26 [==============================] - 0s 786us/step - loss: 0.6367 - acc: 0.7590\n",
      "Epoch 104/150\n",
      "26/26 [==============================] - 0s 810us/step - loss: 0.6326 - acc: 0.7675\n",
      "Epoch 105/150\n",
      "26/26 [==============================] - 0s 753us/step - loss: 0.6280 - acc: 0.7723\n",
      "Epoch 106/150\n",
      "26/26 [==============================] - 0s 729us/step - loss: 0.6253 - acc: 0.7663\n",
      "Epoch 107/150\n",
      "26/26 [==============================] - 0s 724us/step - loss: 0.6232 - acc: 0.7843\n",
      "Epoch 108/150\n",
      "26/26 [==============================] - 0s 780us/step - loss: 0.6092 - acc: 0.7687\n",
      "Epoch 109/150\n",
      "26/26 [==============================] - 0s 705us/step - loss: 0.6078 - acc: 0.7819\n",
      "Epoch 110/150\n",
      "26/26 [==============================] - 0s 767us/step - loss: 0.5999 - acc: 0.7904\n",
      "Epoch 111/150\n",
      "26/26 [==============================] - 0s 706us/step - loss: 0.5941 - acc: 0.7783\n",
      "Epoch 112/150\n",
      "26/26 [==============================] - 0s 724us/step - loss: 0.6089 - acc: 0.7795\n",
      "Epoch 113/150\n",
      "26/26 [==============================] - 0s 769us/step - loss: 0.6230 - acc: 0.7795\n",
      "Epoch 114/150\n",
      "26/26 [==============================] - 0s 739us/step - loss: 0.6037 - acc: 0.7807\n",
      "Epoch 115/150\n",
      "26/26 [==============================] - 0s 814us/step - loss: 0.6073 - acc: 0.7711\n",
      "Epoch 116/150\n",
      "26/26 [==============================] - 0s 775us/step - loss: 0.6310 - acc: 0.7675\n",
      "Epoch 117/150\n",
      "26/26 [==============================] - 0s 803us/step - loss: 0.5845 - acc: 0.7964\n",
      "Epoch 118/150\n",
      "26/26 [==============================] - 0s 749us/step - loss: 0.5716 - acc: 0.7892\n",
      "Epoch 119/150\n",
      "26/26 [==============================] - ETA: 0s - loss: 0.7104 - acc: 0.718 - 0s 757us/step - loss: 0.6105 - acc: 0.7699\n",
      "Epoch 120/150\n",
      "26/26 [==============================] - 0s 845us/step - loss: 0.6052 - acc: 0.7735\n",
      "Epoch 121/150\n",
      "26/26 [==============================] - 0s 715us/step - loss: 0.6055 - acc: 0.7843\n",
      "Epoch 122/150\n",
      "26/26 [==============================] - 0s 747us/step - loss: 0.5704 - acc: 0.7988\n",
      "Epoch 123/150\n",
      "26/26 [==============================] - 0s 794us/step - loss: 0.5988 - acc: 0.7735\n",
      "Epoch 124/150\n",
      "26/26 [==============================] - 0s 698us/step - loss: 0.6041 - acc: 0.7843\n",
      "Epoch 125/150\n",
      "26/26 [==============================] - 0s 741us/step - loss: 0.5848 - acc: 0.7904\n",
      "Epoch 126/150\n",
      "26/26 [==============================] - 0s 812us/step - loss: 0.5887 - acc: 0.7916\n",
      "Epoch 127/150\n",
      "26/26 [==============================] - 0s 776us/step - loss: 0.5774 - acc: 0.7759\n",
      "Epoch 128/150\n",
      "26/26 [==============================] - 0s 759us/step - loss: 0.5729 - acc: 0.7843\n",
      "Epoch 129/150\n",
      "26/26 [==============================] - 0s 686us/step - loss: 0.5732 - acc: 0.7964\n",
      "Epoch 130/150\n",
      "26/26 [==============================] - 0s 748us/step - loss: 0.6133 - acc: 0.7759\n",
      "Epoch 131/150\n",
      "26/26 [==============================] - 0s 668us/step - loss: 0.6036 - acc: 0.7747\n",
      "Epoch 132/150\n",
      "26/26 [==============================] - 0s 701us/step - loss: 0.5912 - acc: 0.7916\n",
      "Epoch 133/150\n",
      "26/26 [==============================] - 0s 671us/step - loss: 0.5531 - acc: 0.7976\n",
      "Epoch 134/150\n",
      "26/26 [==============================] - 0s 715us/step - loss: 0.5844 - acc: 0.7843\n",
      "Epoch 135/150\n",
      "26/26 [==============================] - 0s 728us/step - loss: 0.5705 - acc: 0.7892\n",
      "Epoch 136/150\n",
      "26/26 [==============================] - 0s 747us/step - loss: 0.5735 - acc: 0.7747\n",
      "Epoch 137/150\n",
      "26/26 [==============================] - 0s 788us/step - loss: 0.5586 - acc: 0.8024\n",
      "Epoch 138/150\n",
      "26/26 [==============================] - 0s 726us/step - loss: 0.5708 - acc: 0.8048\n",
      "Epoch 139/150\n",
      "26/26 [==============================] - 0s 741us/step - loss: 0.5503 - acc: 0.7952\n",
      "Epoch 140/150\n",
      "26/26 [==============================] - 0s 743us/step - loss: 0.5438 - acc: 0.8036\n",
      "Epoch 141/150\n",
      "26/26 [==============================] - 0s 759us/step - loss: 0.5524 - acc: 0.8000\n",
      "Epoch 142/150\n",
      "26/26 [==============================] - 0s 756us/step - loss: 0.5714 - acc: 0.7892\n",
      "Epoch 143/150\n",
      "26/26 [==============================] - 0s 715us/step - loss: 0.5359 - acc: 0.8145\n",
      "Epoch 144/150\n",
      "26/26 [==============================] - 0s 797us/step - loss: 0.5599 - acc: 0.7783\n",
      "Epoch 145/150\n",
      "26/26 [==============================] - 0s 803us/step - loss: 0.6357 - acc: 0.7735\n",
      "Epoch 146/150\n",
      "26/26 [==============================] - 0s 774us/step - loss: 0.5770 - acc: 0.7988\n",
      "Epoch 147/150\n",
      "26/26 [==============================] - 0s 767us/step - loss: 0.5985 - acc: 0.7651\n",
      "Epoch 148/150\n",
      "26/26 [==============================] - 0s 814us/step - loss: 0.5587 - acc: 0.7940\n",
      "Epoch 149/150\n",
      "26/26 [==============================] - 0s 729us/step - loss: 0.5641 - acc: 0.7964\n",
      "Epoch 150/150\n",
      "26/26 [==============================] - 0s 802us/step - loss: 0.5682 - acc: 0.8000\n",
      "7/7 [==============================] - 0s 602us/step - loss: 0.8017 - acc: 0.7633\n",
      "Baseline: 72.32% (2.50%)\n"
     ]
    }
   ],
   "source": [
    "from keras.wrappers.scikit_learn import KerasClassifier\n",
    "\n",
    "estimator = KerasClassifier(build_fn=baseline_model, epochs=150, batch_size=32, verbose=1)\n",
    "kfold = KFold(n_splits=5, shuffle=True)\n",
    "results = cross_val_score(estimator, X2_train, labels, cv=kfold)\n",
    "print(\"Baseline: %.2f%% (%.2f%%)\" % (results.mean()*100, results.std()*100))"
   ]
  },
  {
   "cell_type": "markdown",
   "metadata": {},
   "source": [
    "Final Model will be the Neural Network model with 94.23% test accuracy"
   ]
  },
  {
   "cell_type": "code",
   "execution_count": 11,
   "metadata": {},
   "outputs": [],
   "source": [
    "fin_model = Sequential()\n",
    "fin_model.add(Dense(128, activation='tanh', input_shape=(21,)))\n",
    "fin_model.add(Dense(32, activation='tanh'))\n",
    "fin_model.add(Dropout(.2))\n",
    "fin_model.add(Dense(6, activation='softmax'))\n",
    "\n",
    "fin_model.compile(loss='categorical_crossentropy', optimizer='adam', metrics=['acc'])"
   ]
  },
  {
   "cell_type": "code",
   "execution_count": 13,
   "metadata": {
    "scrolled": true
   },
   "outputs": [],
   "source": [
    "fin_model.load_weights('models2/model-097-0.973462-0.942308.h5')"
   ]
  },
  {
   "cell_type": "code",
   "execution_count": 47,
   "metadata": {},
   "outputs": [
    {
     "ename": "AttributeError",
     "evalue": "'Sequential' object has no attribute 'feature_importance'",
     "output_type": "error",
     "traceback": [
      "\u001b[0;31m---------------------------------------------------------------------------\u001b[0m",
      "\u001b[0;31mAttributeError\u001b[0m                            Traceback (most recent call last)",
      "\u001b[0;32m<ipython-input-47-e8179d412e49>\u001b[0m in \u001b[0;36m<module>\u001b[0;34m\u001b[0m\n\u001b[0;32m----> 1\u001b[0;31m \u001b[0mfin_model\u001b[0m\u001b[0;34m.\u001b[0m\u001b[0mfeature_importance\u001b[0m\u001b[0;34m(\u001b[0m\u001b[0;34m)\u001b[0m\u001b[0;34m\u001b[0m\u001b[0;34m\u001b[0m\u001b[0m\n\u001b[0m",
      "\u001b[0;31mAttributeError\u001b[0m: 'Sequential' object has no attribute 'feature_importance'"
     ]
    }
   ],
   "source": [
    "fin_model.feature_importance()"
   ]
  },
  {
   "cell_type": "code",
   "execution_count": 22,
   "metadata": {},
   "outputs": [
    {
     "data": {
      "text/html": [
       "<div>\n",
       "<style scoped>\n",
       "    .dataframe tbody tr th:only-of-type {\n",
       "        vertical-align: middle;\n",
       "    }\n",
       "\n",
       "    .dataframe tbody tr th {\n",
       "        vertical-align: top;\n",
       "    }\n",
       "\n",
       "    .dataframe thead th {\n",
       "        text-align: right;\n",
       "    }\n",
       "</style>\n",
       "<table border=\"1\" class=\"dataframe\">\n",
       "  <thead>\n",
       "    <tr style=\"text-align: right;\">\n",
       "      <th></th>\n",
       "      <th>MIN</th>\n",
       "      <th>PTS</th>\n",
       "      <th>FG%</th>\n",
       "      <th>3PA</th>\n",
       "      <th>3P%</th>\n",
       "      <th>REB</th>\n",
       "      <th>AST</th>\n",
       "      <th>TO</th>\n",
       "      <th>STL</th>\n",
       "      <th>BLK</th>\n",
       "      <th>Close FGA</th>\n",
       "      <th>Close FG%</th>\n",
       "      <th>Mid FGA</th>\n",
       "      <th>Mid FG%</th>\n",
       "      <th>Post_Ups</th>\n",
       "      <th>Drives</th>\n",
       "      <th>Height</th>\n",
       "      <th>Pos_PF</th>\n",
       "      <th>Pos_PG</th>\n",
       "      <th>Pos_SF</th>\n",
       "      <th>Pos_SG</th>\n",
       "    </tr>\n",
       "  </thead>\n",
       "  <tbody>\n",
       "    <tr>\n",
       "      <th>0</th>\n",
       "      <td>23.9</td>\n",
       "      <td>9.2</td>\n",
       "      <td>47.3</td>\n",
       "      <td>1.8</td>\n",
       "      <td>29.6</td>\n",
       "      <td>6.5</td>\n",
       "      <td>1.6</td>\n",
       "      <td>0.8</td>\n",
       "      <td>0.8</td>\n",
       "      <td>0.7</td>\n",
       "      <td>4.3</td>\n",
       "      <td>60.5</td>\n",
       "      <td>1.3</td>\n",
       "      <td>31.7</td>\n",
       "      <td>0.6</td>\n",
       "      <td>2.2</td>\n",
       "      <td>81.0</td>\n",
       "      <td>1</td>\n",
       "      <td>0</td>\n",
       "      <td>0</td>\n",
       "      <td>0</td>\n",
       "    </tr>\n",
       "    <tr>\n",
       "      <th>1</th>\n",
       "      <td>32.1</td>\n",
       "      <td>15.2</td>\n",
       "      <td>50.5</td>\n",
       "      <td>3.1</td>\n",
       "      <td>34.4</td>\n",
       "      <td>7.3</td>\n",
       "      <td>3.2</td>\n",
       "      <td>1.3</td>\n",
       "      <td>0.8</td>\n",
       "      <td>1.5</td>\n",
       "      <td>5.6</td>\n",
       "      <td>64.3</td>\n",
       "      <td>4.1</td>\n",
       "      <td>44.4</td>\n",
       "      <td>3.8</td>\n",
       "      <td>2.1</td>\n",
       "      <td>82.0</td>\n",
       "      <td>0</td>\n",
       "      <td>0</td>\n",
       "      <td>0</td>\n",
       "      <td>0</td>\n",
       "    </tr>\n",
       "    <tr>\n",
       "      <th>2</th>\n",
       "      <td>23.3</td>\n",
       "      <td>12.0</td>\n",
       "      <td>48.5</td>\n",
       "      <td>0.0</td>\n",
       "      <td>0.0</td>\n",
       "      <td>6.4</td>\n",
       "      <td>1.5</td>\n",
       "      <td>0.7</td>\n",
       "      <td>0.6</td>\n",
       "      <td>0.9</td>\n",
       "      <td>6.8</td>\n",
       "      <td>51.5</td>\n",
       "      <td>4.0</td>\n",
       "      <td>43.9</td>\n",
       "      <td>11.3</td>\n",
       "      <td>0.0</td>\n",
       "      <td>82.0</td>\n",
       "      <td>0</td>\n",
       "      <td>0</td>\n",
       "      <td>0</td>\n",
       "      <td>0</td>\n",
       "    </tr>\n",
       "    <tr>\n",
       "      <th>3</th>\n",
       "      <td>32.9</td>\n",
       "      <td>16.2</td>\n",
       "      <td>52.1</td>\n",
       "      <td>0.1</td>\n",
       "      <td>33.3</td>\n",
       "      <td>14.8</td>\n",
       "      <td>0.8</td>\n",
       "      <td>1.9</td>\n",
       "      <td>1.5</td>\n",
       "      <td>1.4</td>\n",
       "      <td>12.2</td>\n",
       "      <td>54.1</td>\n",
       "      <td>0.8</td>\n",
       "      <td>25.0</td>\n",
       "      <td>6.0</td>\n",
       "      <td>0.9</td>\n",
       "      <td>83.0</td>\n",
       "      <td>0</td>\n",
       "      <td>0</td>\n",
       "      <td>0</td>\n",
       "      <td>0</td>\n",
       "    </tr>\n",
       "    <tr>\n",
       "      <th>4</th>\n",
       "      <td>20.7</td>\n",
       "      <td>5.4</td>\n",
       "      <td>62.7</td>\n",
       "      <td>0.0</td>\n",
       "      <td>100.0</td>\n",
       "      <td>7.0</td>\n",
       "      <td>2.3</td>\n",
       "      <td>1.2</td>\n",
       "      <td>0.5</td>\n",
       "      <td>1.6</td>\n",
       "      <td>3.8</td>\n",
       "      <td>65.8</td>\n",
       "      <td>0.1</td>\n",
       "      <td>30.0</td>\n",
       "      <td>2.5</td>\n",
       "      <td>0.1</td>\n",
       "      <td>84.0</td>\n",
       "      <td>0</td>\n",
       "      <td>0</td>\n",
       "      <td>0</td>\n",
       "      <td>0</td>\n",
       "    </tr>\n",
       "  </tbody>\n",
       "</table>\n",
       "</div>"
      ],
      "text/plain": [
       "    MIN   PTS   FG%  3PA    3P%   REB  AST   TO  STL  BLK  Close FGA  \\\n",
       "0  23.9   9.2  47.3  1.8   29.6   6.5  1.6  0.8  0.8  0.7        4.3   \n",
       "1  32.1  15.2  50.5  3.1   34.4   7.3  3.2  1.3  0.8  1.5        5.6   \n",
       "2  23.3  12.0  48.5  0.0    0.0   6.4  1.5  0.7  0.6  0.9        6.8   \n",
       "3  32.9  16.2  52.1  0.1   33.3  14.8  0.8  1.9  1.5  1.4       12.2   \n",
       "4  20.7   5.4  62.7  0.0  100.0   7.0  2.3  1.2  0.5  1.6        3.8   \n",
       "\n",
       "   Close FG%  Mid FGA  Mid FG%  Post_Ups  Drives  Height  Pos_PF  Pos_PG  \\\n",
       "0       60.5      1.3     31.7       0.6     2.2    81.0       1       0   \n",
       "1       64.3      4.1     44.4       3.8     2.1    82.0       0       0   \n",
       "2       51.5      4.0     43.9      11.3     0.0    82.0       0       0   \n",
       "3       54.1      0.8     25.0       6.0     0.9    83.0       0       0   \n",
       "4       65.8      0.1     30.0       2.5     0.1    84.0       0       0   \n",
       "\n",
       "   Pos_SF  Pos_SG  \n",
       "0       0       0  \n",
       "1       0       0  \n",
       "2       0       0  \n",
       "3       0       0  \n",
       "4       0       0  "
      ]
     },
     "execution_count": 22,
     "metadata": {},
     "output_type": "execute_result"
    }
   ],
   "source": [
    "df_labeled = df.drop(['Player', 'GP', 'Class', 'TEAM'], axis=1)\n",
    "df_labeled = pd.get_dummies(X, drop_first=True)\n",
    "df_labeled.head()"
   ]
  },
  {
   "cell_type": "code",
   "execution_count": 23,
   "metadata": {},
   "outputs": [],
   "source": [
    "# scale using MinMaxScaler\n",
    "mm = MinMaxScaler()\n",
    "df_labeled_s = mm.fit_transform(df_labeled)\n",
    "\n",
    "# convert back into DataFrame to preserve column names\n",
    "df_labeled_s = pd.DataFrame(df_labeled_s, columns=df_labeled.columns)"
   ]
  },
  {
   "cell_type": "code",
   "execution_count": 24,
   "metadata": {},
   "outputs": [
    {
     "name": "stdout",
     "output_type": "stream",
     "text": [
      "[2 2 3 ... 1 4 0]\n"
     ]
    }
   ],
   "source": [
    "labels = np.argmax(fin_model.predict(df_labeled_s), axis=-1)    \n",
    "print(labels)"
   ]
  },
  {
   "cell_type": "code",
   "execution_count": 25,
   "metadata": {},
   "outputs": [
    {
     "data": {
      "text/html": [
       "<div>\n",
       "<style scoped>\n",
       "    .dataframe tbody tr th:only-of-type {\n",
       "        vertical-align: middle;\n",
       "    }\n",
       "\n",
       "    .dataframe tbody tr th {\n",
       "        vertical-align: top;\n",
       "    }\n",
       "\n",
       "    .dataframe thead th {\n",
       "        text-align: right;\n",
       "    }\n",
       "</style>\n",
       "<table border=\"1\" class=\"dataframe\">\n",
       "  <thead>\n",
       "    <tr style=\"text-align: right;\">\n",
       "      <th></th>\n",
       "      <th>Player</th>\n",
       "      <th>GP</th>\n",
       "      <th>MIN</th>\n",
       "      <th>PTS</th>\n",
       "      <th>FG%</th>\n",
       "      <th>3PA</th>\n",
       "      <th>3P%</th>\n",
       "      <th>REB</th>\n",
       "      <th>AST</th>\n",
       "      <th>TO</th>\n",
       "      <th>STL</th>\n",
       "      <th>BLK</th>\n",
       "      <th>Close FGA</th>\n",
       "      <th>Close FG%</th>\n",
       "      <th>Mid FGA</th>\n",
       "      <th>Mid FG%</th>\n",
       "      <th>Post_Ups</th>\n",
       "      <th>Drives</th>\n",
       "      <th>Height</th>\n",
       "      <th>Pos</th>\n",
       "      <th>TEAM</th>\n",
       "      <th>Class</th>\n",
       "    </tr>\n",
       "  </thead>\n",
       "  <tbody>\n",
       "    <tr>\n",
       "      <th>0</th>\n",
       "      <td>Aaron Gordon: 2015</td>\n",
       "      <td>78.0</td>\n",
       "      <td>23.9</td>\n",
       "      <td>9.2</td>\n",
       "      <td>47.3</td>\n",
       "      <td>1.8</td>\n",
       "      <td>29.6</td>\n",
       "      <td>6.5</td>\n",
       "      <td>1.6</td>\n",
       "      <td>0.8</td>\n",
       "      <td>0.8</td>\n",
       "      <td>0.7</td>\n",
       "      <td>4.3</td>\n",
       "      <td>60.5</td>\n",
       "      <td>1.3</td>\n",
       "      <td>31.7</td>\n",
       "      <td>0.6</td>\n",
       "      <td>2.2</td>\n",
       "      <td>81.0</td>\n",
       "      <td>PF</td>\n",
       "      <td>ORL</td>\n",
       "      <td>2</td>\n",
       "    </tr>\n",
       "    <tr>\n",
       "      <th>1</th>\n",
       "      <td>Al Horford: 2015</td>\n",
       "      <td>82.0</td>\n",
       "      <td>32.1</td>\n",
       "      <td>15.2</td>\n",
       "      <td>50.5</td>\n",
       "      <td>3.1</td>\n",
       "      <td>34.4</td>\n",
       "      <td>7.3</td>\n",
       "      <td>3.2</td>\n",
       "      <td>1.3</td>\n",
       "      <td>0.8</td>\n",
       "      <td>1.5</td>\n",
       "      <td>5.6</td>\n",
       "      <td>64.3</td>\n",
       "      <td>4.1</td>\n",
       "      <td>44.4</td>\n",
       "      <td>3.8</td>\n",
       "      <td>2.1</td>\n",
       "      <td>82.0</td>\n",
       "      <td>C</td>\n",
       "      <td>ATL</td>\n",
       "      <td>2</td>\n",
       "    </tr>\n",
       "    <tr>\n",
       "      <th>2</th>\n",
       "      <td>Al Jefferson: 2015</td>\n",
       "      <td>47.0</td>\n",
       "      <td>23.3</td>\n",
       "      <td>12.0</td>\n",
       "      <td>48.5</td>\n",
       "      <td>0.0</td>\n",
       "      <td>0.0</td>\n",
       "      <td>6.4</td>\n",
       "      <td>1.5</td>\n",
       "      <td>0.7</td>\n",
       "      <td>0.6</td>\n",
       "      <td>0.9</td>\n",
       "      <td>6.8</td>\n",
       "      <td>51.5</td>\n",
       "      <td>4.0</td>\n",
       "      <td>43.9</td>\n",
       "      <td>11.3</td>\n",
       "      <td>0.0</td>\n",
       "      <td>82.0</td>\n",
       "      <td>C</td>\n",
       "      <td>CHA</td>\n",
       "      <td>3</td>\n",
       "    </tr>\n",
       "    <tr>\n",
       "      <th>3</th>\n",
       "      <td>Andre Drummond: 2015</td>\n",
       "      <td>81.0</td>\n",
       "      <td>32.9</td>\n",
       "      <td>16.2</td>\n",
       "      <td>52.1</td>\n",
       "      <td>0.1</td>\n",
       "      <td>33.3</td>\n",
       "      <td>14.8</td>\n",
       "      <td>0.8</td>\n",
       "      <td>1.9</td>\n",
       "      <td>1.5</td>\n",
       "      <td>1.4</td>\n",
       "      <td>12.2</td>\n",
       "      <td>54.1</td>\n",
       "      <td>0.8</td>\n",
       "      <td>25.0</td>\n",
       "      <td>6.0</td>\n",
       "      <td>0.9</td>\n",
       "      <td>83.0</td>\n",
       "      <td>C</td>\n",
       "      <td>DET</td>\n",
       "      <td>5</td>\n",
       "    </tr>\n",
       "    <tr>\n",
       "      <th>4</th>\n",
       "      <td>Andrew Bogut: 2015</td>\n",
       "      <td>70.0</td>\n",
       "      <td>20.7</td>\n",
       "      <td>5.4</td>\n",
       "      <td>62.7</td>\n",
       "      <td>0.0</td>\n",
       "      <td>100.0</td>\n",
       "      <td>7.0</td>\n",
       "      <td>2.3</td>\n",
       "      <td>1.2</td>\n",
       "      <td>0.5</td>\n",
       "      <td>1.6</td>\n",
       "      <td>3.8</td>\n",
       "      <td>65.8</td>\n",
       "      <td>0.1</td>\n",
       "      <td>30.0</td>\n",
       "      <td>2.5</td>\n",
       "      <td>0.1</td>\n",
       "      <td>84.0</td>\n",
       "      <td>C</td>\n",
       "      <td>GSW</td>\n",
       "      <td>2</td>\n",
       "    </tr>\n",
       "    <tr>\n",
       "      <th>...</th>\n",
       "      <td>...</td>\n",
       "      <td>...</td>\n",
       "      <td>...</td>\n",
       "      <td>...</td>\n",
       "      <td>...</td>\n",
       "      <td>...</td>\n",
       "      <td>...</td>\n",
       "      <td>...</td>\n",
       "      <td>...</td>\n",
       "      <td>...</td>\n",
       "      <td>...</td>\n",
       "      <td>...</td>\n",
       "      <td>...</td>\n",
       "      <td>...</td>\n",
       "      <td>...</td>\n",
       "      <td>...</td>\n",
       "      <td>...</td>\n",
       "      <td>...</td>\n",
       "      <td>...</td>\n",
       "      <td>...</td>\n",
       "      <td>...</td>\n",
       "      <td>...</td>\n",
       "    </tr>\n",
       "    <tr>\n",
       "      <th>1378</th>\n",
       "      <td>Wayne Ellington: 2020</td>\n",
       "      <td>31.0</td>\n",
       "      <td>23.2</td>\n",
       "      <td>10.7</td>\n",
       "      <td>45.8</td>\n",
       "      <td>6.4</td>\n",
       "      <td>43.1</td>\n",
       "      <td>1.8</td>\n",
       "      <td>1.5</td>\n",
       "      <td>0.7</td>\n",
       "      <td>0.4</td>\n",
       "      <td>0.2</td>\n",
       "      <td>1.1</td>\n",
       "      <td>63.6</td>\n",
       "      <td>0.7</td>\n",
       "      <td>40.0</td>\n",
       "      <td>0.0</td>\n",
       "      <td>1.9</td>\n",
       "      <td>76.0</td>\n",
       "      <td>SG</td>\n",
       "      <td>DET</td>\n",
       "      <td>1</td>\n",
       "    </tr>\n",
       "    <tr>\n",
       "      <th>1379</th>\n",
       "      <td>Wendell Carter Jr: 2020</td>\n",
       "      <td>32.0</td>\n",
       "      <td>24.7</td>\n",
       "      <td>10.9</td>\n",
       "      <td>51.2</td>\n",
       "      <td>0.7</td>\n",
       "      <td>36.4</td>\n",
       "      <td>7.8</td>\n",
       "      <td>2.2</td>\n",
       "      <td>1.5</td>\n",
       "      <td>0.6</td>\n",
       "      <td>0.8</td>\n",
       "      <td>5.9</td>\n",
       "      <td>55.9</td>\n",
       "      <td>1.2</td>\n",
       "      <td>38.5</td>\n",
       "      <td>2.5</td>\n",
       "      <td>1.0</td>\n",
       "      <td>82.0</td>\n",
       "      <td>C</td>\n",
       "      <td>ORL</td>\n",
       "      <td>2</td>\n",
       "    </tr>\n",
       "    <tr>\n",
       "      <th>1380</th>\n",
       "      <td>Wesley Matthews: 2020</td>\n",
       "      <td>37.0</td>\n",
       "      <td>20.1</td>\n",
       "      <td>4.5</td>\n",
       "      <td>35.9</td>\n",
       "      <td>3.3</td>\n",
       "      <td>34.7</td>\n",
       "      <td>1.4</td>\n",
       "      <td>1.0</td>\n",
       "      <td>0.5</td>\n",
       "      <td>0.5</td>\n",
       "      <td>0.4</td>\n",
       "      <td>0.6</td>\n",
       "      <td>50.0</td>\n",
       "      <td>0.3</td>\n",
       "      <td>20.0</td>\n",
       "      <td>0.3</td>\n",
       "      <td>1.2</td>\n",
       "      <td>76.0</td>\n",
       "      <td>SG</td>\n",
       "      <td>LAL</td>\n",
       "      <td>1</td>\n",
       "    </tr>\n",
       "    <tr>\n",
       "      <th>1381</th>\n",
       "      <td>Will Barton: 2020</td>\n",
       "      <td>41.0</td>\n",
       "      <td>30.7</td>\n",
       "      <td>12.7</td>\n",
       "      <td>43.5</td>\n",
       "      <td>4.7</td>\n",
       "      <td>37.7</td>\n",
       "      <td>4.1</td>\n",
       "      <td>3.1</td>\n",
       "      <td>1.7</td>\n",
       "      <td>0.9</td>\n",
       "      <td>0.4</td>\n",
       "      <td>5.2</td>\n",
       "      <td>50.0</td>\n",
       "      <td>1.2</td>\n",
       "      <td>41.7</td>\n",
       "      <td>0.0</td>\n",
       "      <td>6.1</td>\n",
       "      <td>78.0</td>\n",
       "      <td>SF</td>\n",
       "      <td>DEN</td>\n",
       "      <td>4</td>\n",
       "    </tr>\n",
       "    <tr>\n",
       "      <th>1382</th>\n",
       "      <td>Zach LaVine: 2020</td>\n",
       "      <td>43.0</td>\n",
       "      <td>35.3</td>\n",
       "      <td>28.1</td>\n",
       "      <td>52.0</td>\n",
       "      <td>8.1</td>\n",
       "      <td>43.7</td>\n",
       "      <td>5.0</td>\n",
       "      <td>4.9</td>\n",
       "      <td>3.8</td>\n",
       "      <td>0.9</td>\n",
       "      <td>0.5</td>\n",
       "      <td>8.4</td>\n",
       "      <td>63.1</td>\n",
       "      <td>2.8</td>\n",
       "      <td>44.6</td>\n",
       "      <td>0.4</td>\n",
       "      <td>12.8</td>\n",
       "      <td>77.0</td>\n",
       "      <td>SG</td>\n",
       "      <td>CHI</td>\n",
       "      <td>0</td>\n",
       "    </tr>\n",
       "  </tbody>\n",
       "</table>\n",
       "<p>1383 rows × 22 columns</p>\n",
       "</div>"
      ],
      "text/plain": [
       "                       Player    GP   MIN   PTS   FG%  3PA    3P%   REB  AST  \\\n",
       "0          Aaron Gordon: 2015  78.0  23.9   9.2  47.3  1.8   29.6   6.5  1.6   \n",
       "1            Al Horford: 2015  82.0  32.1  15.2  50.5  3.1   34.4   7.3  3.2   \n",
       "2          Al Jefferson: 2015  47.0  23.3  12.0  48.5  0.0    0.0   6.4  1.5   \n",
       "3        Andre Drummond: 2015  81.0  32.9  16.2  52.1  0.1   33.3  14.8  0.8   \n",
       "4          Andrew Bogut: 2015  70.0  20.7   5.4  62.7  0.0  100.0   7.0  2.3   \n",
       "...                       ...   ...   ...   ...   ...  ...    ...   ...  ...   \n",
       "1378    Wayne Ellington: 2020  31.0  23.2  10.7  45.8  6.4   43.1   1.8  1.5   \n",
       "1379  Wendell Carter Jr: 2020  32.0  24.7  10.9  51.2  0.7   36.4   7.8  2.2   \n",
       "1380    Wesley Matthews: 2020  37.0  20.1   4.5  35.9  3.3   34.7   1.4  1.0   \n",
       "1381        Will Barton: 2020  41.0  30.7  12.7  43.5  4.7   37.7   4.1  3.1   \n",
       "1382        Zach LaVine: 2020  43.0  35.3  28.1  52.0  8.1   43.7   5.0  4.9   \n",
       "\n",
       "       TO  STL  BLK  Close FGA  Close FG%  Mid FGA  Mid FG%  Post_Ups  Drives  \\\n",
       "0     0.8  0.8  0.7        4.3       60.5      1.3     31.7       0.6     2.2   \n",
       "1     1.3  0.8  1.5        5.6       64.3      4.1     44.4       3.8     2.1   \n",
       "2     0.7  0.6  0.9        6.8       51.5      4.0     43.9      11.3     0.0   \n",
       "3     1.9  1.5  1.4       12.2       54.1      0.8     25.0       6.0     0.9   \n",
       "4     1.2  0.5  1.6        3.8       65.8      0.1     30.0       2.5     0.1   \n",
       "...   ...  ...  ...        ...        ...      ...      ...       ...     ...   \n",
       "1378  0.7  0.4  0.2        1.1       63.6      0.7     40.0       0.0     1.9   \n",
       "1379  1.5  0.6  0.8        5.9       55.9      1.2     38.5       2.5     1.0   \n",
       "1380  0.5  0.5  0.4        0.6       50.0      0.3     20.0       0.3     1.2   \n",
       "1381  1.7  0.9  0.4        5.2       50.0      1.2     41.7       0.0     6.1   \n",
       "1382  3.8  0.9  0.5        8.4       63.1      2.8     44.6       0.4    12.8   \n",
       "\n",
       "      Height Pos TEAM  Class  \n",
       "0       81.0  PF  ORL      2  \n",
       "1       82.0   C  ATL      2  \n",
       "2       82.0   C  CHA      3  \n",
       "3       83.0   C  DET      5  \n",
       "4       84.0   C  GSW      2  \n",
       "...      ...  ..  ...    ...  \n",
       "1378    76.0  SG  DET      1  \n",
       "1379    82.0   C  ORL      2  \n",
       "1380    76.0  SG  LAL      1  \n",
       "1381    78.0  SF  DEN      4  \n",
       "1382    77.0  SG  CHI      0  \n",
       "\n",
       "[1383 rows x 22 columns]"
      ]
     },
     "execution_count": 25,
     "metadata": {},
     "output_type": "execute_result"
    }
   ],
   "source": [
    "df['Class'] = labels\n",
    "df"
   ]
  },
  {
   "cell_type": "code",
   "execution_count": 33,
   "metadata": {},
   "outputs": [],
   "source": [
    "#df.to_csv('results2/fin_results2.csv', index=False)"
   ]
  },
  {
   "cell_type": "code",
   "execution_count": 8,
   "metadata": {},
   "outputs": [],
   "source": [
    "df = pd.read_csv('results2/fin_results2.csv')"
   ]
  },
  {
   "cell_type": "code",
   "execution_count": 26,
   "metadata": {},
   "outputs": [
    {
     "data": {
      "text/plain": [
       "0    169\n",
       "1    429\n",
       "2    239\n",
       "3    133\n",
       "4    327\n",
       "5     86\n",
       "Name: Class, dtype: int64"
      ]
     },
     "execution_count": 26,
     "metadata": {},
     "output_type": "execute_result"
    }
   ],
   "source": [
    "df['Class'].value_counts().sort_index()"
   ]
  },
  {
   "cell_type": "code",
   "execution_count": 32,
   "metadata": {},
   "outputs": [
    {
     "data": {
      "text/plain": [
       "<AxesSubplot:title={'center':'Number of Players by Playstyle'}>"
      ]
     },
     "execution_count": 32,
     "metadata": {},
     "output_type": "execute_result"
    },
    {
     "data": {
      "image/png": "[encoded data removed]",
      "text/plain": [
       "<Figure size 432x288 with 1 Axes>"
      ]
     },
     "metadata": {},
     "output_type": "display_data"
    }
   ],
   "source": [
    "df['Class'].value_counts().sort_index().plot(kind='barh', title='Number of Players by Playstyle')"
   ]
  },
  {
   "cell_type": "markdown",
   "metadata": {},
   "source": [
    "# Plotting"
   ]
  },
  {
   "cell_type": "code",
   "execution_count": 3,
   "metadata": {},
   "outputs": [],
   "source": [
    "# RUN THIS TO USE PLOTTING FUNCTION\n",
    "\n",
    "df = pd.read_csv('results2/fin_results2.csv')\n",
    "df.Class.replace([10], [0], inplace=True)\n",
    "classes = ['Ball-Dominant Scorer', 'Role Player', 'Stretch Big', 'Traditional Big', 'Secondary Guard', \n",
    "           'High-Usage Big']\n",
    "\n",
    "df_2015 = df[df['Player'].str.contains('2015')]\n",
    "df_2016 = df[df['Player'].str.contains('2016')]\n",
    "df_2017 = df[df['Player'].str.contains('2017')]\n",
    "df_2018 = df[df['Player'].str.contains('2018')]\n",
    "df_2019 = df[df['Player'].str.contains('2019')]\n",
    "df_2020 = df[df['Player'].str.contains('2020')]\n",
    "\n",
    "df_2015.reset_index(drop=True, inplace=True)\n",
    "df_2016.reset_index(drop=True, inplace=True)\n",
    "df_2017.reset_index(drop=True, inplace=True)\n",
    "df_2018.reset_index(drop=True, inplace=True)\n",
    "df_2019.reset_index(drop=True, inplace=True)\n",
    "df_2020.reset_index(drop=True, inplace=True)"
   ]
  },
  {
   "cell_type": "markdown",
   "metadata": {},
   "source": [
    "Get data on each group (good/bad/average) for each year."
   ]
  },
  {
   "cell_type": "code",
   "execution_count": 4,
   "metadata": {},
   "outputs": [],
   "source": [
    "good_2015 = ['GSW', 'SAS', 'CLE', 'TOR', 'OKC', 'LAC', 'ATL', 'BOS']\n",
    "bad_2015 = ['PHI', 'LAL', 'BKN', 'PHX', 'MIN', 'NOP', 'NYK', 'SAC']\n",
    "\n",
    "good_2016 = ['GSW', 'SAS', 'HOU', 'BOS', 'CLE', 'LAC', 'TOR', 'UTA']\n",
    "bad_2016 = ['BKN', 'PHX', 'LAL', 'PHI', 'ORL', 'NYK', 'MIN', 'SAC']\n",
    "\n",
    "good_2017 = ['HOU', 'TOR', 'GSW', 'BOS', 'PHI', 'CLE', 'POR', 'IND']\n",
    "bad_2017 = ['PHX', 'MEM', 'DAL', 'ATL', 'ORL', 'SAC', 'CHI', 'BKN']\n",
    "\n",
    "good_2018 = ['MIL', 'TOR', 'GSW', 'DEN', 'HOU', 'POR', 'PHI','UTA']\n",
    "bad_2018 = ['NYK', 'PHX', 'CLE', 'CHI', 'ATL', 'WAS', 'NOP', 'MEM']\n",
    "\n",
    "good_2019 = ['MIL', 'TOR', 'LAL', 'LAC', 'BOS', 'DEN', 'IND', 'HOU']\n",
    "bad_2019 = ['GSW', 'MIN', 'CLE', 'DET', 'ATL', 'NYK', 'CHI', 'CHA']\n",
    "\n",
    "good_2020 = ['UTA', 'PHI', 'PHO', 'LAC', 'MIL', 'BKN', 'LAL', 'DEN']\n",
    "bad_2020 = ['MIN', 'DET', 'ORL', 'HOU', 'WAS', 'CLE', 'TOR', 'OKC']"
   ]
  },
  {
   "cell_type": "code",
   "execution_count": 5,
   "metadata": {},
   "outputs": [],
   "source": [
    "def get_good_bad_avg(df, year):\n",
    "    if year > 0:\n",
    "        # use get_teams to get good and bad teams for that year\n",
    "        good_teams, bad_teams = get_teams(year)\n",
    "        index=[0,1,2,3,4,5]\n",
    "        df = df[df['Player'].str.contains(f'{year}')]\n",
    "        top_5_df = pd.DataFrame(df.groupby('TEAM')['MIN'].nlargest()).reset_index()['level_1']\n",
    "        temp = df.merge(top_5_df, left_index=True, right_on='level_1', how='inner').reset_index(drop=True)\n",
    "        # get average number of playstyles for each type of team\n",
    "        good_df = pd.DataFrame(temp[temp['TEAM'].isin(good_teams)]['Class'].value_counts().reindex(\n",
    "                    index=index, fill_value=0).sort_index())\n",
    "        good_df['Class'] = good_df['Class'] / 8\n",
    "\n",
    "        bad_df = pd.DataFrame(temp[temp['TEAM'].isin(bad_teams)]['Class'].value_counts().reindex(\n",
    "                    index=index, fill_value=0).sort_index())\n",
    "        bad_df['Class'] = bad_df['Class'] / 8\n",
    "    \n",
    "        avg_df = pd.DataFrame(temp.drop(temp[temp['TEAM'].isin(good_teams + bad_teams)].index)['Class'].value_counts().reindex(\n",
    "                    index=index, fill_value=0).sort_index())\n",
    "        avg_df['Class'] = avg_df['Class'] / 14\n",
    "    else:\n",
    "        good_df, bad_df, avg_df = gba_all_years(df)\n",
    "        \n",
    "    return good_df, bad_df, avg_df\n",
    "\n",
    "def get_teams(year):\n",
    "    if year == 2015:\n",
    "        good_teams = good_2015\n",
    "        bad_teams = bad_2015\n",
    "    elif year == 2016:\n",
    "        good_teams = good_2016\n",
    "        bad_teams = bad_2016\n",
    "    elif year == 2017:\n",
    "        good_teams = good_2017\n",
    "        bad_teams = bad_2017\n",
    "    elif year == 2018:\n",
    "        good_teams = good_2018\n",
    "        bad_teams = bad_2018\n",
    "    elif year == 2019:\n",
    "        good_teams = good_2019\n",
    "        bad_teams = bad_2019\n",
    "    elif year == 2020:\n",
    "        good_teams = good_2020\n",
    "        bad_teams = bad_2020\n",
    "    else:\n",
    "        return \"Please enter a year between 2015 and 2020, inclusive\"\n",
    "    return good_teams, bad_teams\n",
    "\n",
    "def gba_all_years(df):\n",
    "    top_5_df = pd.DataFrame(df.groupby('TEAM')['MIN'].nlargest()).reset_index()['level_1']\n",
    "    temp = df.merge(top_5_df, left_index=True, right_on='level_1', how='inner').reset_index(drop=True)\n",
    "    good_df, bad_df, avg_df = get_good_bad_avg(temp, 2015)  \n",
    "\n",
    "    for df, year in zip([df_2016,df_2017,df_2018,df_2019,df_2020],[2016,2017,2018,2019,2020]):\n",
    "            \n",
    "        top_5_df = pd.DataFrame(df.groupby('TEAM')['MIN'].nlargest()).reset_index()['level_1']\n",
    "        temp2 = df.merge(top_5_df, left_index=True, right_on='level_1', how='inner').reset_index(drop=True)\n",
    "        \n",
    "        good_df_temp, bad_df_temp, avg_df_temp = get_good_bad_avg(temp2, year)\n",
    "        \n",
    "        good_df['Class'] += good_df_temp['Class']\n",
    "        bad_df['Class'] += bad_df_temp['Class']\n",
    "        avg_df['Class'] += avg_df_temp['Class']\n",
    "            \n",
    "    good_df['Class'] = good_df['Class'] / 6\n",
    "    bad_df['Class'] = bad_df['Class'] / 6\n",
    "    avg_df['Class'] = avg_df['Class'] / 6\n",
    "        \n",
    "    return good_df, bad_df, avg_df"
   ]
  },
  {
   "cell_type": "code",
   "execution_count": 6,
   "metadata": {},
   "outputs": [
    {
     "data": {
      "text/html": [
       "<div>\n",
       "<style scoped>\n",
       "    .dataframe tbody tr th:only-of-type {\n",
       "        vertical-align: middle;\n",
       "    }\n",
       "\n",
       "    .dataframe tbody tr th {\n",
       "        vertical-align: top;\n",
       "    }\n",
       "\n",
       "    .dataframe thead th {\n",
       "        text-align: right;\n",
       "    }\n",
       "</style>\n",
       "<table border=\"1\" class=\"dataframe\">\n",
       "  <thead>\n",
       "    <tr style=\"text-align: right;\">\n",
       "      <th></th>\n",
       "      <th>Class</th>\n",
       "    </tr>\n",
       "  </thead>\n",
       "  <tbody>\n",
       "    <tr>\n",
       "      <th>0</th>\n",
       "      <td>1.125</td>\n",
       "    </tr>\n",
       "    <tr>\n",
       "      <th>1</th>\n",
       "      <td>0.875</td>\n",
       "    </tr>\n",
       "    <tr>\n",
       "      <th>2</th>\n",
       "      <td>0.750</td>\n",
       "    </tr>\n",
       "    <tr>\n",
       "      <th>3</th>\n",
       "      <td>0.625</td>\n",
       "    </tr>\n",
       "    <tr>\n",
       "      <th>4</th>\n",
       "      <td>1.125</td>\n",
       "    </tr>\n",
       "    <tr>\n",
       "      <th>5</th>\n",
       "      <td>0.500</td>\n",
       "    </tr>\n",
       "  </tbody>\n",
       "</table>\n",
       "</div>"
      ],
      "text/plain": [
       "   Class\n",
       "0  1.125\n",
       "1  0.875\n",
       "2  0.750\n",
       "3  0.625\n",
       "4  1.125\n",
       "5  0.500"
      ]
     },
     "execution_count": 6,
     "metadata": {},
     "output_type": "execute_result"
    }
   ],
   "source": [
    "g,b,a=get_good_bad_avg(df_2015,2015)\n",
    "g"
   ]
  },
  {
   "cell_type": "code",
   "execution_count": 38,
   "metadata": {},
   "outputs": [
    {
     "data": {
      "text/html": [
       "<div>\n",
       "<style scoped>\n",
       "    .dataframe tbody tr th:only-of-type {\n",
       "        vertical-align: middle;\n",
       "    }\n",
       "\n",
       "    .dataframe tbody tr th {\n",
       "        vertical-align: top;\n",
       "    }\n",
       "\n",
       "    .dataframe thead th {\n",
       "        text-align: right;\n",
       "    }\n",
       "</style>\n",
       "<table border=\"1\" class=\"dataframe\">\n",
       "  <thead>\n",
       "    <tr style=\"text-align: right;\">\n",
       "      <th></th>\n",
       "      <th>Class</th>\n",
       "    </tr>\n",
       "  </thead>\n",
       "  <tbody>\n",
       "    <tr>\n",
       "      <th>0</th>\n",
       "      <td>0.666667</td>\n",
       "    </tr>\n",
       "    <tr>\n",
       "      <th>1</th>\n",
       "      <td>0.645833</td>\n",
       "    </tr>\n",
       "    <tr>\n",
       "      <th>2</th>\n",
       "      <td>0.937500</td>\n",
       "    </tr>\n",
       "    <tr>\n",
       "      <th>3</th>\n",
       "      <td>0.229167</td>\n",
       "    </tr>\n",
       "    <tr>\n",
       "      <th>4</th>\n",
       "      <td>1.395833</td>\n",
       "    </tr>\n",
       "    <tr>\n",
       "      <th>5</th>\n",
       "      <td>0.437500</td>\n",
       "    </tr>\n",
       "  </tbody>\n",
       "</table>\n",
       "</div>"
      ],
      "text/plain": [
       "      Class\n",
       "0  0.666667\n",
       "1  0.645833\n",
       "2  0.937500\n",
       "3  0.229167\n",
       "4  1.395833\n",
       "5  0.437500"
      ]
     },
     "execution_count": 38,
     "metadata": {},
     "output_type": "execute_result"
    }
   ],
   "source": [
    "g, b, a = gba_all_years(df)\n",
    "b"
   ]
  },
  {
   "cell_type": "code",
   "execution_count": 7,
   "metadata": {},
   "outputs": [],
   "source": [
    "# %load radar_plotting.py\n",
    "import pandas as pd\n",
    "import plotly.graph_objects as go\n",
    "\n",
    "# This function creates radar plots. Classes refers to a list that contains the names of each player class,\n",
    "# year refers to the season you want to look at and good/bad/average give you the option of which teams you want\n",
    "# shown on the radar plot\n",
    "\n",
    "def plot_radar(classes, years=[2015,2016,2017,2018,2019,2020], good=True, bad=True, average=False, semisup=True):\n",
    "        \n",
    "    model = ''\n",
    "    if semisup == True:\n",
    "        model = 'Semi-Supervised'\n",
    "    else:\n",
    "        model = 'Unsupervised'\n",
    "        \n",
    "    fig = go.Figure()\n",
    "    # if all years selected\n",
    "    if years == 0:\n",
    "        good_df, bad_df, avg_df = gba_all_years(df)\n",
    "    else:\n",
    "        # get good/bad/avg for first year selected\n",
    "        good_df, bad_df, avg_df = get_good_bad_avg(df, years[0])\n",
    "        \n",
    "        # get good/bad/avg for the rest of the years, if more than one selected \n",
    "        if len(years) > 1:\n",
    "            for year in years[1:]:\n",
    "                # get yearly stats\n",
    "                temp_df = df[df['Player'].str.contains(f'{year}')]\n",
    "                # get good/bad/avg for that year\n",
    "                temp_g, temp_b, temp_a = get_good_bad_avg(temp_df, year)\n",
    "                good_df += temp_g; bad_df += temp_b; avg_df += temp_a\n",
    "            good_df = good_df / len(years); bad_df = bad_df / len(years); avg_df = avg_df / len(years)\n",
    "\n",
    "    if good:\n",
    "        fig.add_trace(go.Scatterpolar(\n",
    "            r=good_df['Class'],\n",
    "            theta=classes,\n",
    "              fill='toself',\n",
    "              name='Good Teams'\n",
    "        ))\n",
    "    if bad:\n",
    "        fig.add_trace(go.Scatterpolar(\n",
    "            r=bad_df['Class'],\n",
    "            theta=classes,\n",
    "              fill='toself',\n",
    "              name='Bad Teams'\n",
    "        ))\n",
    "    if average:\n",
    "        fig.add_trace(go.Scatterpolar(\n",
    "            r=avg_df['Class'],\n",
    "            theta=classes,\n",
    "              fill='toself',\n",
    "              name='Average Teams'\n",
    "        ))\n",
    "            \n",
    "    fig.update_layout(\n",
    "        polar=dict(\n",
    "            radialaxis=dict(\n",
    "              visible=True\n",
    "        )),\n",
    "    showlegend=True,\n",
    "    title=f\"{years} NBA Team Composition: {model} Model\"\n",
    "    )\n",
    "    fig.show()"
   ]
  },
  {
   "cell_type": "code",
   "execution_count": 12,
   "metadata": {},
   "outputs": [
    {
     "data": {
      "application/vnd.plotly.v1+json": {
       "config": {
        "plotlyServerURL": "https://plot.ly"
       },
       "data": [
        {
         "fill": "toself",
         "name": "Good Teams",
         "r": [
          1.0416666666666667,
          0.7916666666666666,
          0.6875,
          0.20833333333333334,
          0.9791666666666666,
          0.5208333333333334
         ],
         "theta": [
          "Ball-Dominant Scorer",
          "Role Player",
          "Stretch Big",
          "Traditional Big",
          "Secondary Guard",
          "High-Usage Big"
         ],
         "type": "scatterpolar"
        },
        {
         "fill": "toself",
         "name": "Bad Teams",
         "r": [
          0.6666666666666666,
          0.6458333333333334,
          0.9375,
          0.22916666666666666,
          1.3958333333333333,
          0.4375
         ],
         "theta": [
          "Ball-Dominant Scorer",
          "Role Player",
          "Stretch Big",
          "Traditional Big",
          "Secondary Guard",
          "High-Usage Big"
         ],
         "type": "scatterpolar"
        }
       ],
       "layout": {
        "polar": {
         "radialaxis": {
          "visible": true
         }
        },
        "showlegend": true,
        "template": {
         "data": {
          "bar": [
           {
            "error_x": {
             "color": "#2a3f5f"
            },
            "error_y": {
             "color": "#2a3f5f"
            },
            "marker": {
             "line": {
              "color": "#E5ECF6",
              "width": 0.5
             }
            },
            "type": "bar"
           }
          ],
          "barpolar": [
           {
            "marker": {
             "line": {
              "color": "#E5ECF6",
              "width": 0.5
             }
            },
            "type": "barpolar"
           }
          ],
          "carpet": [
           {
            "aaxis": {
             "endlinecolor": "#2a3f5f",
             "gridcolor": "white",
             "linecolor": "white",
             "minorgridcolor": "white",
             "startlinecolor": "#2a3f5f"
            },
            "baxis": {
             "endlinecolor": "#2a3f5f",
             "gridcolor": "white",
             "linecolor": "white",
             "minorgridcolor": "white",
             "startlinecolor": "#2a3f5f"
            },
            "type": "carpet"
           }
          ],
          "choropleth": [
           {
            "colorbar": {
             "outlinewidth": 0,
             "ticks": ""
            },
            "type": "choropleth"
           }
          ],
          "contour": [
           {
            "colorbar": {
             "outlinewidth": 0,
             "ticks": ""
            },
            "colorscale": [
             [
              0,
              "#0d0887"
             ],
             [
              0.1111111111111111,
              "#46039f"
             ],
             [
              0.2222222222222222,
              "#7201a8"
             ],
             [
              0.3333333333333333,
              "#9c179e"
             ],
             [
              0.4444444444444444,
              "#bd3786"
             ],
             [
              0.5555555555555556,
              "#d8576b"
             ],
             [
              0.6666666666666666,
              "#ed7953"
             ],
             [
              0.7777777777777778,
              "#fb9f3a"
             ],
             [
              0.8888888888888888,
              "#fdca26"
             ],
             [
              1,
              "#f0f921"
             ]
            ],
            "type": "contour"
           }
          ],
          "contourcarpet": [
           {
            "colorbar": {
             "outlinewidth": 0,
             "ticks": ""
            },
            "type": "contourcarpet"
           }
          ],
          "heatmap": [
           {
            "colorbar": {
             "outlinewidth": 0,
             "ticks": ""
            },
            "colorscale": [
             [
              0,
              "#0d0887"
             ],
             [
              0.1111111111111111,
              "#46039f"
             ],
             [
              0.2222222222222222,
              "#7201a8"
             ],
             [
              0.3333333333333333,
              "#9c179e"
             ],
             [
              0.4444444444444444,
              "#bd3786"
             ],
             [
              0.5555555555555556,
              "#d8576b"
             ],
             [
              0.6666666666666666,
              "#ed7953"
             ],
             [
              0.7777777777777778,
              "#fb9f3a"
             ],
             [
              0.8888888888888888,
              "#fdca26"
             ],
             [
              1,
              "#f0f921"
             ]
            ],
            "type": "heatmap"
           }
          ],
          "heatmapgl": [
           {
            "colorbar": {
             "outlinewidth": 0,
             "ticks": ""
            },
            "colorscale": [
             [
              0,
              "#0d0887"
             ],
             [
              0.1111111111111111,
              "#46039f"
             ],
             [
              0.2222222222222222,
              "#7201a8"
             ],
             [
              0.3333333333333333,
              "#9c179e"
             ],
             [
              0.4444444444444444,
              "#bd3786"
             ],
             [
              0.5555555555555556,
              "#d8576b"
             ],
             [
              0.6666666666666666,
              "#ed7953"
             ],
             [
              0.7777777777777778,
              "#fb9f3a"
             ],
             [
              0.8888888888888888,
              "#fdca26"
             ],
             [
              1,
              "#f0f921"
             ]
            ],
            "type": "heatmapgl"
           }
          ],
          "histogram": [
           {
            "marker": {
             "colorbar": {
              "outlinewidth": 0,
              "ticks": ""
             }
            },
            "type": "histogram"
           }
          ],
          "histogram2d": [
           {
            "colorbar": {
             "outlinewidth": 0,
             "ticks": ""
            },
            "colorscale": [
             [
              0,
              "#0d0887"
             ],
             [
              0.1111111111111111,
              "#46039f"
             ],
             [
              0.2222222222222222,
              "#7201a8"
             ],
             [
              0.3333333333333333,
              "#9c179e"
             ],
             [
              0.4444444444444444,
              "#bd3786"
             ],
             [
              0.5555555555555556,
              "#d8576b"
             ],
             [
              0.6666666666666666,
              "#ed7953"
             ],
             [
              0.7777777777777778,
              "#fb9f3a"
             ],
             [
              0.8888888888888888,
              "#fdca26"
             ],
             [
              1,
              "#f0f921"
             ]
            ],
            "type": "histogram2d"
           }
          ],
          "histogram2dcontour": [
           {
            "colorbar": {
             "outlinewidth": 0,
             "ticks": ""
            },
            "colorscale": [
             [
              0,
              "#0d0887"
             ],
             [
              0.1111111111111111,
              "#46039f"
             ],
             [
              0.2222222222222222,
              "#7201a8"
             ],
             [
              0.3333333333333333,
              "#9c179e"
             ],
             [
              0.4444444444444444,
              "#bd3786"
             ],
             [
              0.5555555555555556,
              "#d8576b"
             ],
             [
              0.6666666666666666,
              "#ed7953"
             ],
             [
              0.7777777777777778,
              "#fb9f3a"
             ],
             [
              0.8888888888888888,
              "#fdca26"
             ],
             [
              1,
              "#f0f921"
             ]
            ],
            "type": "histogram2dcontour"
           }
          ],
          "mesh3d": [
           {
            "colorbar": {
             "outlinewidth": 0,
             "ticks": ""
            },
            "type": "mesh3d"
           }
          ],
          "parcoords": [
           {
            "line": {
             "colorbar": {
              "outlinewidth": 0,
              "ticks": ""
             }
            },
            "type": "parcoords"
           }
          ],
          "pie": [
           {
            "automargin": true,
            "type": "pie"
           }
          ],
          "scatter": [
           {
            "marker": {
             "colorbar": {
              "outlinewidth": 0,
              "ticks": ""
             }
            },
            "type": "scatter"
           }
          ],
          "scatter3d": [
           {
            "line": {
             "colorbar": {
              "outlinewidth": 0,
              "ticks": ""
             }
            },
            "marker": {
             "colorbar": {
              "outlinewidth": 0,
              "ticks": ""
             }
            },
            "type": "scatter3d"
           }
          ],
          "scattercarpet": [
           {
            "marker": {
             "colorbar": {
              "outlinewidth": 0,
              "ticks": ""
             }
            },
            "type": "scattercarpet"
           }
          ],
          "scattergeo": [
           {
            "marker": {
             "colorbar": {
              "outlinewidth": 0,
              "ticks": ""
             }
            },
            "type": "scattergeo"
           }
          ],
          "scattergl": [
           {
            "marker": {
             "colorbar": {
              "outlinewidth": 0,
              "ticks": ""
             }
            },
            "type": "scattergl"
           }
          ],
          "scattermapbox": [
           {
            "marker": {
             "colorbar": {
              "outlinewidth": 0,
              "ticks": ""
             }
            },
            "type": "scattermapbox"
           }
          ],
          "scatterpolar": [
           {
            "marker": {
             "colorbar": {
              "outlinewidth": 0,
              "ticks": ""
             }
            },
            "type": "scatterpolar"
           }
          ],
          "scatterpolargl": [
           {
            "marker": {
             "colorbar": {
              "outlinewidth": 0,
              "ticks": ""
             }
            },
            "type": "scatterpolargl"
           }
          ],
          "scatterternary": [
           {
            "marker": {
             "colorbar": {
              "outlinewidth": 0,
              "ticks": ""
             }
            },
            "type": "scatterternary"
           }
          ],
          "surface": [
           {
            "colorbar": {
             "outlinewidth": 0,
             "ticks": ""
            },
            "colorscale": [
             [
              0,
              "#0d0887"
             ],
             [
              0.1111111111111111,
              "#46039f"
             ],
             [
              0.2222222222222222,
              "#7201a8"
             ],
             [
              0.3333333333333333,
              "#9c179e"
             ],
             [
              0.4444444444444444,
              "#bd3786"
             ],
             [
              0.5555555555555556,
              "#d8576b"
             ],
             [
              0.6666666666666666,
              "#ed7953"
             ],
             [
              0.7777777777777778,
              "#fb9f3a"
             ],
             [
              0.8888888888888888,
              "#fdca26"
             ],
             [
              1,
              "#f0f921"
             ]
            ],
            "type": "surface"
           }
          ],
          "table": [
           {
            "cells": {
             "fill": {
              "color": "#EBF0F8"
             },
             "line": {
              "color": "white"
             }
            },
            "header": {
             "fill": {
              "color": "#C8D4E3"
             },
             "line": {
              "color": "white"
             }
            },
            "type": "table"
           }
          ]
         },
         "layout": {
          "annotationdefaults": {
           "arrowcolor": "#2a3f5f",
           "arrowhead": 0,
           "arrowwidth": 1
          },
          "coloraxis": {
           "colorbar": {
            "outlinewidth": 0,
            "ticks": ""
           }
          },
          "colorscale": {
           "diverging": [
            [
             0,
             "#8e0152"
            ],
            [
             0.1,
             "#c51b7d"
            ],
            [
             0.2,
             "#de77ae"
            ],
            [
             0.3,
             "#f1b6da"
            ],
            [
             0.4,
             "#fde0ef"
            ],
            [
             0.5,
             "#f7f7f7"
            ],
            [
             0.6,
             "#e6f5d0"
            ],
            [
             0.7,
             "#b8e186"
            ],
            [
             0.8,
             "#7fbc41"
            ],
            [
             0.9,
             "#4d9221"
            ],
            [
             1,
             "#276419"
            ]
           ],
           "sequential": [
            [
             0,
             "#0d0887"
            ],
            [
             0.1111111111111111,
             "#46039f"
            ],
            [
             0.2222222222222222,
             "#7201a8"
            ],
            [
             0.3333333333333333,
             "#9c179e"
            ],
            [
             0.4444444444444444,
             "#bd3786"
            ],
            [
             0.5555555555555556,
             "#d8576b"
            ],
            [
             0.6666666666666666,
             "#ed7953"
            ],
            [
             0.7777777777777778,
             "#fb9f3a"
            ],
            [
             0.8888888888888888,
             "#fdca26"
            ],
            [
             1,
             "#f0f921"
            ]
           ],
           "sequentialminus": [
            [
             0,
             "#0d0887"
            ],
            [
             0.1111111111111111,
             "#46039f"
            ],
            [
             0.2222222222222222,
             "#7201a8"
            ],
            [
             0.3333333333333333,
             "#9c179e"
            ],
            [
             0.4444444444444444,
             "#bd3786"
            ],
            [
             0.5555555555555556,
             "#d8576b"
            ],
            [
             0.6666666666666666,
             "#ed7953"
            ],
            [
             0.7777777777777778,
             "#fb9f3a"
            ],
            [
             0.8888888888888888,
             "#fdca26"
            ],
            [
             1,
             "#f0f921"
            ]
           ]
          },
          "colorway": [
           "#636efa",
           "#EF553B",
           "#00cc96",
           "#ab63fa",
           "#FFA15A",
           "#19d3f3",
           "#FF6692",
           "#B6E880",
           "#FF97FF",
           "#FECB52"
          ],
          "font": {
           "color": "#2a3f5f"
          },
          "geo": {
           "bgcolor": "white",
           "lakecolor": "white",
           "landcolor": "#E5ECF6",
           "showlakes": true,
           "showland": true,
           "subunitcolor": "white"
          },
          "hoverlabel": {
           "align": "left"
          },
          "hovermode": "closest",
          "mapbox": {
           "style": "light"
          },
          "paper_bgcolor": "white",
          "plot_bgcolor": "#E5ECF6",
          "polar": {
           "angularaxis": {
            "gridcolor": "white",
            "linecolor": "white",
            "ticks": ""
           },
           "bgcolor": "#E5ECF6",
           "radialaxis": {
            "gridcolor": "white",
            "linecolor": "white",
            "ticks": ""
           }
          },
          "scene": {
           "xaxis": {
            "backgroundcolor": "#E5ECF6",
            "gridcolor": "white",
            "gridwidth": 2,
            "linecolor": "white",
            "showbackground": true,
            "ticks": "",
            "zerolinecolor": "white"
           },
           "yaxis": {
            "backgroundcolor": "#E5ECF6",
            "gridcolor": "white",
            "gridwidth": 2,
            "linecolor": "white",
            "showbackground": true,
            "ticks": "",
            "zerolinecolor": "white"
           },
           "zaxis": {
            "backgroundcolor": "#E5ECF6",
            "gridcolor": "white",
            "gridwidth": 2,
            "linecolor": "white",
            "showbackground": true,
            "ticks": "",
            "zerolinecolor": "white"
           }
          },
          "shapedefaults": {
           "line": {
            "color": "#2a3f5f"
           }
          },
          "ternary": {
           "aaxis": {
            "gridcolor": "white",
            "linecolor": "white",
            "ticks": ""
           },
           "baxis": {
            "gridcolor": "white",
            "linecolor": "white",
            "ticks": ""
           },
           "bgcolor": "#E5ECF6",
           "caxis": {
            "gridcolor": "white",
            "linecolor": "white",
            "ticks": ""
           }
          },
          "title": {
           "x": 0.05
          },
          "xaxis": {
           "automargin": true,
           "gridcolor": "white",
           "linecolor": "white",
           "ticks": "",
           "title": {
            "standoff": 15
           },
           "zerolinecolor": "white",
           "zerolinewidth": 2
          },
          "yaxis": {
           "automargin": true,
           "gridcolor": "white",
           "linecolor": "white",
           "ticks": "",
           "title": {
            "standoff": 15
           },
           "zerolinecolor": "white",
           "zerolinewidth": 2
          }
         }
        },
        "title": {
         "text": "[0] NBA Team Composition: Semi-Supervised Model"
        }
       }
      },
      "text/html": [
       "<div>                            <div id=\"1263b810-1b25-4f47-b9fa-4d3e7d468d74\" class=\"plotly-graph-div\" style=\"height:525px; width:100%;\"></div>            <script type=\"text/javascript\">                require([\"plotly\"], function(Plotly) {                    window.PLOTLYENV=window.PLOTLYENV || {};                                    if (document.getElementById(\"1263b810-1b25-4f47-b9fa-4d3e7d468d74\")) {                    Plotly.newPlot(                        \"1263b810-1b25-4f47-b9fa-4d3e7d468d74\",                        [{\"fill\": \"toself\", \"name\": \"Good Teams\", \"r\": [1.0416666666666667, 0.7916666666666666, 0.6875, 0.20833333333333334, 0.9791666666666666, 0.5208333333333334], \"theta\": [\"Ball-Dominant Scorer\", \"Role Player\", \"Stretch Big\", \"Traditional Big\", \"Secondary Guard\", \"High-Usage Big\"], \"type\": \"scatterpolar\"}, {\"fill\": \"toself\", \"name\": \"Bad Teams\", \"r\": [0.6666666666666666, 0.6458333333333334, 0.9375, 0.22916666666666666, 1.3958333333333333, 0.4375], \"theta\": [\"Ball-Dominant Scorer\", \"Role Player\", \"Stretch Big\", \"Traditional Big\", \"Secondary Guard\", \"High-Usage Big\"], \"type\": \"scatterpolar\"}],                        {\"polar\": {\"radialaxis\": {\"visible\": true}}, \"showlegend\": true, \"template\": {\"data\": {\"bar\": [{\"error_x\": {\"color\": \"#2a3f5f\"}, \"error_y\": {\"color\": \"#2a3f5f\"}, \"marker\": {\"line\": {\"color\": \"#E5ECF6\", \"width\": 0.5}}, \"type\": \"bar\"}], \"barpolar\": [{\"marker\": {\"line\": {\"color\": \"#E5ECF6\", \"width\": 0.5}}, \"type\": \"barpolar\"}], \"carpet\": [{\"aaxis\": {\"endlinecolor\": \"#2a3f5f\", \"gridcolor\": \"white\", \"linecolor\": \"white\", \"minorgridcolor\": \"white\", \"startlinecolor\": \"#2a3f5f\"}, \"baxis\": {\"endlinecolor\": \"#2a3f5f\", \"gridcolor\": \"white\", \"linecolor\": \"white\", \"minorgridcolor\": \"white\", \"startlinecolor\": \"#2a3f5f\"}, \"type\": \"carpet\"}], \"choropleth\": [{\"colorbar\": {\"outlinewidth\": 0, \"ticks\": \"\"}, \"type\": \"choropleth\"}], \"contour\": [{\"colorbar\": {\"outlinewidth\": 0, \"ticks\": \"\"}, \"colorscale\": [[0.0, \"#0d0887\"], [0.1111111111111111, \"#46039f\"], [0.2222222222222222, \"#7201a8\"], [0.3333333333333333, \"#9c179e\"], [0.4444444444444444, \"#bd3786\"], [0.5555555555555556, \"#d8576b\"], [0.6666666666666666, \"#ed7953\"], [0.7777777777777778, \"#fb9f3a\"], [0.8888888888888888, \"#fdca26\"], [1.0, \"#f0f921\"]], \"type\": \"contour\"}], \"contourcarpet\": [{\"colorbar\": {\"outlinewidth\": 0, \"ticks\": \"\"}, \"type\": \"contourcarpet\"}], \"heatmap\": [{\"colorbar\": {\"outlinewidth\": 0, \"ticks\": \"\"}, \"colorscale\": [[0.0, \"#0d0887\"], [0.1111111111111111, \"#46039f\"], [0.2222222222222222, \"#7201a8\"], [0.3333333333333333, \"#9c179e\"], [0.4444444444444444, \"#bd3786\"], [0.5555555555555556, \"#d8576b\"], [0.6666666666666666, \"#ed7953\"], [0.7777777777777778, \"#fb9f3a\"], [0.8888888888888888, \"#fdca26\"], [1.0, \"#f0f921\"]], \"type\": \"heatmap\"}], \"heatmapgl\": [{\"colorbar\": {\"outlinewidth\": 0, \"ticks\": \"\"}, \"colorscale\": [[0.0, \"#0d0887\"], [0.1111111111111111, \"#46039f\"], [0.2222222222222222, \"#7201a8\"], [0.3333333333333333, \"#9c179e\"], [0.4444444444444444, \"#bd3786\"], [0.5555555555555556, \"#d8576b\"], [0.6666666666666666, \"#ed7953\"], [0.7777777777777778, \"#fb9f3a\"], [0.8888888888888888, \"#fdca26\"], [1.0, \"#f0f921\"]], \"type\": \"heatmapgl\"}], \"histogram\": [{\"marker\": {\"colorbar\": {\"outlinewidth\": 0, \"ticks\": \"\"}}, \"type\": \"histogram\"}], \"histogram2d\": [{\"colorbar\": {\"outlinewidth\": 0, \"ticks\": \"\"}, \"colorscale\": [[0.0, \"#0d0887\"], [0.1111111111111111, \"#46039f\"], [0.2222222222222222, \"#7201a8\"], [0.3333333333333333, \"#9c179e\"], [0.4444444444444444, \"#bd3786\"], [0.5555555555555556, \"#d8576b\"], [0.6666666666666666, \"#ed7953\"], [0.7777777777777778, \"#fb9f3a\"], [0.8888888888888888, \"#fdca26\"], [1.0, \"#f0f921\"]], \"type\": \"histogram2d\"}], \"histogram2dcontour\": [{\"colorbar\": {\"outlinewidth\": 0, \"ticks\": \"\"}, \"colorscale\": [[0.0, \"#0d0887\"], [0.1111111111111111, \"#46039f\"], [0.2222222222222222, \"#7201a8\"], [0.3333333333333333, \"#9c179e\"], [0.4444444444444444, \"#bd3786\"], [0.5555555555555556, \"#d8576b\"], [0.6666666666666666, \"#ed7953\"], [0.7777777777777778, \"#fb9f3a\"], [0.8888888888888888, \"#fdca26\"], [1.0, \"#f0f921\"]], \"type\": \"histogram2dcontour\"}], \"mesh3d\": [{\"colorbar\": {\"outlinewidth\": 0, \"ticks\": \"\"}, \"type\": \"mesh3d\"}], \"parcoords\": [{\"line\": {\"colorbar\": {\"outlinewidth\": 0, \"ticks\": \"\"}}, \"type\": \"parcoords\"}], \"pie\": [{\"automargin\": true, \"type\": \"pie\"}], \"scatter\": [{\"marker\": {\"colorbar\": {\"outlinewidth\": 0, \"ticks\": \"\"}}, \"type\": \"scatter\"}], \"scatter3d\": [{\"line\": {\"colorbar\": {\"outlinewidth\": 0, \"ticks\": \"\"}}, \"marker\": {\"colorbar\": {\"outlinewidth\": 0, \"ticks\": \"\"}}, \"type\": \"scatter3d\"}], \"scattercarpet\": [{\"marker\": {\"colorbar\": {\"outlinewidth\": 0, \"ticks\": \"\"}}, \"type\": \"scattercarpet\"}], \"scattergeo\": [{\"marker\": {\"colorbar\": {\"outlinewidth\": 0, \"ticks\": \"\"}}, \"type\": \"scattergeo\"}], \"scattergl\": [{\"marker\": {\"colorbar\": {\"outlinewidth\": 0, \"ticks\": \"\"}}, \"type\": \"scattergl\"}], \"scattermapbox\": [{\"marker\": {\"colorbar\": {\"outlinewidth\": 0, \"ticks\": \"\"}}, \"type\": \"scattermapbox\"}], \"scatterpolar\": [{\"marker\": {\"colorbar\": {\"outlinewidth\": 0, \"ticks\": \"\"}}, \"type\": \"scatterpolar\"}], \"scatterpolargl\": [{\"marker\": {\"colorbar\": {\"outlinewidth\": 0, \"ticks\": \"\"}}, \"type\": \"scatterpolargl\"}], \"scatterternary\": [{\"marker\": {\"colorbar\": {\"outlinewidth\": 0, \"ticks\": \"\"}}, \"type\": \"scatterternary\"}], \"surface\": [{\"colorbar\": {\"outlinewidth\": 0, \"ticks\": \"\"}, \"colorscale\": [[0.0, \"#0d0887\"], [0.1111111111111111, \"#46039f\"], [0.2222222222222222, \"#7201a8\"], [0.3333333333333333, \"#9c179e\"], [0.4444444444444444, \"#bd3786\"], [0.5555555555555556, \"#d8576b\"], [0.6666666666666666, \"#ed7953\"], [0.7777777777777778, \"#fb9f3a\"], [0.8888888888888888, \"#fdca26\"], [1.0, \"#f0f921\"]], \"type\": \"surface\"}], \"table\": [{\"cells\": {\"fill\": {\"color\": \"#EBF0F8\"}, \"line\": {\"color\": \"white\"}}, \"header\": {\"fill\": {\"color\": \"#C8D4E3\"}, \"line\": {\"color\": \"white\"}}, \"type\": \"table\"}]}, \"layout\": {\"annotationdefaults\": {\"arrowcolor\": \"#2a3f5f\", \"arrowhead\": 0, \"arrowwidth\": 1}, \"coloraxis\": {\"colorbar\": {\"outlinewidth\": 0, \"ticks\": \"\"}}, \"colorscale\": {\"diverging\": [[0, \"#8e0152\"], [0.1, \"#c51b7d\"], [0.2, \"#de77ae\"], [0.3, \"#f1b6da\"], [0.4, \"#fde0ef\"], [0.5, \"#f7f7f7\"], [0.6, \"#e6f5d0\"], [0.7, \"#b8e186\"], [0.8, \"#7fbc41\"], [0.9, \"#4d9221\"], [1, \"#276419\"]], \"sequential\": [[0.0, \"#0d0887\"], [0.1111111111111111, \"#46039f\"], [0.2222222222222222, \"#7201a8\"], [0.3333333333333333, \"#9c179e\"], [0.4444444444444444, \"#bd3786\"], [0.5555555555555556, \"#d8576b\"], [0.6666666666666666, \"#ed7953\"], [0.7777777777777778, \"#fb9f3a\"], [0.8888888888888888, \"#fdca26\"], [1.0, \"#f0f921\"]], \"sequentialminus\": [[0.0, \"#0d0887\"], [0.1111111111111111, \"#46039f\"], [0.2222222222222222, \"#7201a8\"], [0.3333333333333333, \"#9c179e\"], [0.4444444444444444, \"#bd3786\"], [0.5555555555555556, \"#d8576b\"], [0.6666666666666666, \"#ed7953\"], [0.7777777777777778, \"#fb9f3a\"], [0.8888888888888888, \"#fdca26\"], [1.0, \"#f0f921\"]]}, \"colorway\": [\"#636efa\", \"#EF553B\", \"#00cc96\", \"#ab63fa\", \"#FFA15A\", \"#19d3f3\", \"#FF6692\", \"#B6E880\", \"#FF97FF\", \"#FECB52\"], \"font\": {\"color\": \"#2a3f5f\"}, \"geo\": {\"bgcolor\": \"white\", \"lakecolor\": \"white\", \"landcolor\": \"#E5ECF6\", \"showlakes\": true, \"showland\": true, \"subunitcolor\": \"white\"}, \"hoverlabel\": {\"align\": \"left\"}, \"hovermode\": \"closest\", \"mapbox\": {\"style\": \"light\"}, \"paper_bgcolor\": \"white\", \"plot_bgcolor\": \"#E5ECF6\", \"polar\": {\"angularaxis\": {\"gridcolor\": \"white\", \"linecolor\": \"white\", \"ticks\": \"\"}, \"bgcolor\": \"#E5ECF6\", \"radialaxis\": {\"gridcolor\": \"white\", \"linecolor\": \"white\", \"ticks\": \"\"}}, \"scene\": {\"xaxis\": {\"backgroundcolor\": \"#E5ECF6\", \"gridcolor\": \"white\", \"gridwidth\": 2, \"linecolor\": \"white\", \"showbackground\": true, \"ticks\": \"\", \"zerolinecolor\": \"white\"}, \"yaxis\": {\"backgroundcolor\": \"#E5ECF6\", \"gridcolor\": \"white\", \"gridwidth\": 2, \"linecolor\": \"white\", \"showbackground\": true, \"ticks\": \"\", \"zerolinecolor\": \"white\"}, \"zaxis\": {\"backgroundcolor\": \"#E5ECF6\", \"gridcolor\": \"white\", \"gridwidth\": 2, \"linecolor\": \"white\", \"showbackground\": true, \"ticks\": \"\", \"zerolinecolor\": \"white\"}}, \"shapedefaults\": {\"line\": {\"color\": \"#2a3f5f\"}}, \"ternary\": {\"aaxis\": {\"gridcolor\": \"white\", \"linecolor\": \"white\", \"ticks\": \"\"}, \"baxis\": {\"gridcolor\": \"white\", \"linecolor\": \"white\", \"ticks\": \"\"}, \"bgcolor\": \"#E5ECF6\", \"caxis\": {\"gridcolor\": \"white\", \"linecolor\": \"white\", \"ticks\": \"\"}}, \"title\": {\"x\": 0.05}, \"xaxis\": {\"automargin\": true, \"gridcolor\": \"white\", \"linecolor\": \"white\", \"ticks\": \"\", \"title\": {\"standoff\": 15}, \"zerolinecolor\": \"white\", \"zerolinewidth\": 2}, \"yaxis\": {\"automargin\": true, \"gridcolor\": \"white\", \"linecolor\": \"white\", \"ticks\": \"\", \"title\": {\"standoff\": 15}, \"zerolinecolor\": \"white\", \"zerolinewidth\": 2}}}, \"title\": {\"text\": \"[0] NBA Team Composition: Semi-Supervised Model\"}},                        {\"responsive\": true}                    ).then(function(){\n",
       "                            \n",
       "var gd = document.getElementById('1263b810-1b25-4f47-b9fa-4d3e7d468d74');\n",
       "var x = new MutationObserver(function (mutations, observer) {{\n",
       "        var display = window.getComputedStyle(gd).display;\n",
       "        if (!display || display === 'none') {{\n",
       "            console.log([gd, 'removed!']);\n",
       "            Plotly.purge(gd);\n",
       "            observer.disconnect();\n",
       "        }}\n",
       "}});\n",
       "\n",
       "// Listen for the removal of the full notebook cells\n",
       "var notebookContainer = gd.closest('#notebook-container');\n",
       "if (notebookContainer) {{\n",
       "    x.observe(notebookContainer, {childList: true});\n",
       "}}\n",
       "\n",
       "// Listen for the clearing of the current output cell\n",
       "var outputEl = gd.closest('.output');\n",
       "if (outputEl) {{\n",
       "    x.observe(outputEl, {childList: true});\n",
       "}}\n",
       "\n",
       "                        })                };                });            </script>        </div>"
      ]
     },
     "metadata": {},
     "output_type": "display_data"
    }
   ],
   "source": [
    "plot_radar(classes, [0])"
   ]
  },
  {
   "cell_type": "code",
   "execution_count": 33,
   "metadata": {},
   "outputs": [
    {
     "data": {
      "application/vnd.plotly.v1+json": {
       "config": {
        "plotlyServerURL": "https://plot.ly"
       },
       "data": [
        {
         "fill": "toself",
         "name": "Good Teams",
         "r": [
          1.5208333333333333,
          0.7916666666666666,
          0.7083333333333334,
          0.22916666666666666,
          1.0416666666666667,
          0.6041666666666666
         ],
         "theta": [
          "Ball-Dominant Scorer",
          "Role Player",
          "Stretch Big",
          "Traditional Big",
          "Secondary Guard",
          "High-Usage Big"
         ],
         "type": "scatterpolar"
        },
        {
         "fill": "toself",
         "name": "Bad Teams",
         "r": [
          1,
          0.6458333333333334,
          1.0625,
          0.22916666666666666,
          1.4791666666666667,
          0.5833333333333334
         ],
         "theta": [
          "Ball-Dominant Scorer",
          "Role Player",
          "Stretch Big",
          "Traditional Big",
          "Secondary Guard",
          "High-Usage Big"
         ],
         "type": "scatterpolar"
        },
        {
         "fill": "toself",
         "name": "Average Teams",
         "r": [
          1.2857142857142858,
          0.5357142857142857,
          0.9166666666666666,
          0.42857142857142855,
          1.4047619047619049,
          0.4880952380952381
         ],
         "theta": [
          "Ball-Dominant Scorer",
          "Role Player",
          "Stretch Big",
          "Traditional Big",
          "Secondary Guard",
          "High-Usage Big"
         ],
         "type": "scatterpolar"
        }
       ],
       "layout": {
        "polar": {
         "radialaxis": {
          "visible": true
         }
        },
        "showlegend": true,
        "template": {
         "data": {
          "bar": [
           {
            "error_x": {
             "color": "#2a3f5f"
            },
            "error_y": {
             "color": "#2a3f5f"
            },
            "marker": {
             "line": {
              "color": "#E5ECF6",
              "width": 0.5
             }
            },
            "type": "bar"
           }
          ],
          "barpolar": [
           {
            "marker": {
             "line": {
              "color": "#E5ECF6",
              "width": 0.5
             }
            },
            "type": "barpolar"
           }
          ],
          "carpet": [
           {
            "aaxis": {
             "endlinecolor": "#2a3f5f",
             "gridcolor": "white",
             "linecolor": "white",
             "minorgridcolor": "white",
             "startlinecolor": "#2a3f5f"
            },
            "baxis": {
             "endlinecolor": "#2a3f5f",
             "gridcolor": "white",
             "linecolor": "white",
             "minorgridcolor": "white",
             "startlinecolor": "#2a3f5f"
            },
            "type": "carpet"
           }
          ],
          "choropleth": [
           {
            "colorbar": {
             "outlinewidth": 0,
             "ticks": ""
            },
            "type": "choropleth"
           }
          ],
          "contour": [
           {
            "colorbar": {
             "outlinewidth": 0,
             "ticks": ""
            },
            "colorscale": [
             [
              0,
              "#0d0887"
             ],
             [
              0.1111111111111111,
              "#46039f"
             ],
             [
              0.2222222222222222,
              "#7201a8"
             ],
             [
              0.3333333333333333,
              "#9c179e"
             ],
             [
              0.4444444444444444,
              "#bd3786"
             ],
             [
              0.5555555555555556,
              "#d8576b"
             ],
             [
              0.6666666666666666,
              "#ed7953"
             ],
             [
              0.7777777777777778,
              "#fb9f3a"
             ],
             [
              0.8888888888888888,
              "#fdca26"
             ],
             [
              1,
              "#f0f921"
             ]
            ],
            "type": "contour"
           }
          ],
          "contourcarpet": [
           {
            "colorbar": {
             "outlinewidth": 0,
             "ticks": ""
            },
            "type": "contourcarpet"
           }
          ],
          "heatmap": [
           {
            "colorbar": {
             "outlinewidth": 0,
             "ticks": ""
            },
            "colorscale": [
             [
              0,
              "#0d0887"
             ],
             [
              0.1111111111111111,
              "#46039f"
             ],
             [
              0.2222222222222222,
              "#7201a8"
             ],
             [
              0.3333333333333333,
              "#9c179e"
             ],
             [
              0.4444444444444444,
              "#bd3786"
             ],
             [
              0.5555555555555556,
              "#d8576b"
             ],
             [
              0.6666666666666666,
              "#ed7953"
             ],
             [
              0.7777777777777778,
              "#fb9f3a"
             ],
             [
              0.8888888888888888,
              "#fdca26"
             ],
             [
              1,
              "#f0f921"
             ]
            ],
            "type": "heatmap"
           }
          ],
          "heatmapgl": [
           {
            "colorbar": {
             "outlinewidth": 0,
             "ticks": ""
            },
            "colorscale": [
             [
              0,
              "#0d0887"
             ],
             [
              0.1111111111111111,
              "#46039f"
             ],
             [
              0.2222222222222222,
              "#7201a8"
             ],
             [
              0.3333333333333333,
              "#9c179e"
             ],
             [
              0.4444444444444444,
              "#bd3786"
             ],
             [
              0.5555555555555556,
              "#d8576b"
             ],
             [
              0.6666666666666666,
              "#ed7953"
             ],
             [
              0.7777777777777778,
              "#fb9f3a"
             ],
             [
              0.8888888888888888,
              "#fdca26"
             ],
             [
              1,
              "#f0f921"
             ]
            ],
            "type": "heatmapgl"
           }
          ],
          "histogram": [
           {
            "marker": {
             "colorbar": {
              "outlinewidth": 0,
              "ticks": ""
             }
            },
            "type": "histogram"
           }
          ],
          "histogram2d": [
           {
            "colorbar": {
             "outlinewidth": 0,
             "ticks": ""
            },
            "colorscale": [
             [
              0,
              "#0d0887"
             ],
             [
              0.1111111111111111,
              "#46039f"
             ],
             [
              0.2222222222222222,
              "#7201a8"
             ],
             [
              0.3333333333333333,
              "#9c179e"
             ],
             [
              0.4444444444444444,
              "#bd3786"
             ],
             [
              0.5555555555555556,
              "#d8576b"
             ],
             [
              0.6666666666666666,
              "#ed7953"
             ],
             [
              0.7777777777777778,
              "#fb9f3a"
             ],
             [
              0.8888888888888888,
              "#fdca26"
             ],
             [
              1,
              "#f0f921"
             ]
            ],
            "type": "histogram2d"
           }
          ],
          "histogram2dcontour": [
           {
            "colorbar": {
             "outlinewidth": 0,
             "ticks": ""
            },
            "colorscale": [
             [
              0,
              "#0d0887"
             ],
             [
              0.1111111111111111,
              "#46039f"
             ],
             [
              0.2222222222222222,
              "#7201a8"
             ],
             [
              0.3333333333333333,
              "#9c179e"
             ],
             [
              0.4444444444444444,
              "#bd3786"
             ],
             [
              0.5555555555555556,
              "#d8576b"
             ],
             [
              0.6666666666666666,
              "#ed7953"
             ],
             [
              0.7777777777777778,
              "#fb9f3a"
             ],
             [
              0.8888888888888888,
              "#fdca26"
             ],
             [
              1,
              "#f0f921"
             ]
            ],
            "type": "histogram2dcontour"
           }
          ],
          "mesh3d": [
           {
            "colorbar": {
             "outlinewidth": 0,
             "ticks": ""
            },
            "type": "mesh3d"
           }
          ],
          "parcoords": [
           {
            "line": {
             "colorbar": {
              "outlinewidth": 0,
              "ticks": ""
             }
            },
            "type": "parcoords"
           }
          ],
          "pie": [
           {
            "automargin": true,
            "type": "pie"
           }
          ],
          "scatter": [
           {
            "marker": {
             "colorbar": {
              "outlinewidth": 0,
              "ticks": ""
             }
            },
            "type": "scatter"
           }
          ],
          "scatter3d": [
           {
            "line": {
             "colorbar": {
              "outlinewidth": 0,
              "ticks": ""
             }
            },
            "marker": {
             "colorbar": {
              "outlinewidth": 0,
              "ticks": ""
             }
            },
            "type": "scatter3d"
           }
          ],
          "scattercarpet": [
           {
            "marker": {
             "colorbar": {
              "outlinewidth": 0,
              "ticks": ""
             }
            },
            "type": "scattercarpet"
           }
          ],
          "scattergeo": [
           {
            "marker": {
             "colorbar": {
              "outlinewidth": 0,
              "ticks": ""
             }
            },
            "type": "scattergeo"
           }
          ],
          "scattergl": [
           {
            "marker": {
             "colorbar": {
              "outlinewidth": 0,
              "ticks": ""
             }
            },
            "type": "scattergl"
           }
          ],
          "scattermapbox": [
           {
            "marker": {
             "colorbar": {
              "outlinewidth": 0,
              "ticks": ""
             }
            },
            "type": "scattermapbox"
           }
          ],
          "scatterpolar": [
           {
            "marker": {
             "colorbar": {
              "outlinewidth": 0,
              "ticks": ""
             }
            },
            "type": "scatterpolar"
           }
          ],
          "scatterpolargl": [
           {
            "marker": {
             "colorbar": {
              "outlinewidth": 0,
              "ticks": ""
             }
            },
            "type": "scatterpolargl"
           }
          ],
          "scatterternary": [
           {
            "marker": {
             "colorbar": {
              "outlinewidth": 0,
              "ticks": ""
             }
            },
            "type": "scatterternary"
           }
          ],
          "surface": [
           {
            "colorbar": {
             "outlinewidth": 0,
             "ticks": ""
            },
            "colorscale": [
             [
              0,
              "#0d0887"
             ],
             [
              0.1111111111111111,
              "#46039f"
             ],
             [
              0.2222222222222222,
              "#7201a8"
             ],
             [
              0.3333333333333333,
              "#9c179e"
             ],
             [
              0.4444444444444444,
              "#bd3786"
             ],
             [
              0.5555555555555556,
              "#d8576b"
             ],
             [
              0.6666666666666666,
              "#ed7953"
             ],
             [
              0.7777777777777778,
              "#fb9f3a"
             ],
             [
              0.8888888888888888,
              "#fdca26"
             ],
             [
              1,
              "#f0f921"
             ]
            ],
            "type": "surface"
           }
          ],
          "table": [
           {
            "cells": {
             "fill": {
              "color": "#EBF0F8"
             },
             "line": {
              "color": "white"
             }
            },
            "header": {
             "fill": {
              "color": "#C8D4E3"
             },
             "line": {
              "color": "white"
             }
            },
            "type": "table"
           }
          ]
         },
         "layout": {
          "annotationdefaults": {
           "arrowcolor": "#2a3f5f",
           "arrowhead": 0,
           "arrowwidth": 1
          },
          "coloraxis": {
           "colorbar": {
            "outlinewidth": 0,
            "ticks": ""
           }
          },
          "colorscale": {
           "diverging": [
            [
             0,
             "#8e0152"
            ],
            [
             0.1,
             "#c51b7d"
            ],
            [
             0.2,
             "#de77ae"
            ],
            [
             0.3,
             "#f1b6da"
            ],
            [
             0.4,
             "#fde0ef"
            ],
            [
             0.5,
             "#f7f7f7"
            ],
            [
             0.6,
             "#e6f5d0"
            ],
            [
             0.7,
             "#b8e186"
            ],
            [
             0.8,
             "#7fbc41"
            ],
            [
             0.9,
             "#4d9221"
            ],
            [
             1,
             "#276419"
            ]
           ],
           "sequential": [
            [
             0,
             "#0d0887"
            ],
            [
             0.1111111111111111,
             "#46039f"
            ],
            [
             0.2222222222222222,
             "#7201a8"
            ],
            [
             0.3333333333333333,
             "#9c179e"
            ],
            [
             0.4444444444444444,
             "#bd3786"
            ],
            [
             0.5555555555555556,
             "#d8576b"
            ],
            [
             0.6666666666666666,
             "#ed7953"
            ],
            [
             0.7777777777777778,
             "#fb9f3a"
            ],
            [
             0.8888888888888888,
             "#fdca26"
            ],
            [
             1,
             "#f0f921"
            ]
           ],
           "sequentialminus": [
            [
             0,
             "#0d0887"
            ],
            [
             0.1111111111111111,
             "#46039f"
            ],
            [
             0.2222222222222222,
             "#7201a8"
            ],
            [
             0.3333333333333333,
             "#9c179e"
            ],
            [
             0.4444444444444444,
             "#bd3786"
            ],
            [
             0.5555555555555556,
             "#d8576b"
            ],
            [
             0.6666666666666666,
             "#ed7953"
            ],
            [
             0.7777777777777778,
             "#fb9f3a"
            ],
            [
             0.8888888888888888,
             "#fdca26"
            ],
            [
             1,
             "#f0f921"
            ]
           ]
          },
          "colorway": [
           "#636efa",
           "#EF553B",
           "#00cc96",
           "#ab63fa",
           "#FFA15A",
           "#19d3f3",
           "#FF6692",
           "#B6E880",
           "#FF97FF",
           "#FECB52"
          ],
          "font": {
           "color": "#2a3f5f"
          },
          "geo": {
           "bgcolor": "white",
           "lakecolor": "white",
           "landcolor": "#E5ECF6",
           "showlakes": true,
           "showland": true,
           "subunitcolor": "white"
          },
          "hoverlabel": {
           "align": "left"
          },
          "hovermode": "closest",
          "mapbox": {
           "style": "light"
          },
          "paper_bgcolor": "white",
          "plot_bgcolor": "#E5ECF6",
          "polar": {
           "angularaxis": {
            "gridcolor": "white",
            "linecolor": "white",
            "ticks": ""
           },
           "bgcolor": "#E5ECF6",
           "radialaxis": {
            "gridcolor": "white",
            "linecolor": "white",
            "ticks": ""
           }
          },
          "scene": {
           "xaxis": {
            "backgroundcolor": "#E5ECF6",
            "gridcolor": "white",
            "gridwidth": 2,
            "linecolor": "white",
            "showbackground": true,
            "ticks": "",
            "zerolinecolor": "white"
           },
           "yaxis": {
            "backgroundcolor": "#E5ECF6",
            "gridcolor": "white",
            "gridwidth": 2,
            "linecolor": "white",
            "showbackground": true,
            "ticks": "",
            "zerolinecolor": "white"
           },
           "zaxis": {
            "backgroundcolor": "#E5ECF6",
            "gridcolor": "white",
            "gridwidth": 2,
            "linecolor": "white",
            "showbackground": true,
            "ticks": "",
            "zerolinecolor": "white"
           }
          },
          "shapedefaults": {
           "line": {
            "color": "#2a3f5f"
           }
          },
          "ternary": {
           "aaxis": {
            "gridcolor": "white",
            "linecolor": "white",
            "ticks": ""
           },
           "baxis": {
            "gridcolor": "white",
            "linecolor": "white",
            "ticks": ""
           },
           "bgcolor": "#E5ECF6",
           "caxis": {
            "gridcolor": "white",
            "linecolor": "white",
            "ticks": ""
           }
          },
          "title": {
           "x": 0.05
          },
          "xaxis": {
           "automargin": true,
           "gridcolor": "white",
           "linecolor": "white",
           "ticks": "",
           "title": {
            "standoff": 15
           },
           "zerolinecolor": "white",
           "zerolinewidth": 2
          },
          "yaxis": {
           "automargin": true,
           "gridcolor": "white",
           "linecolor": "white",
           "ticks": "",
           "title": {
            "standoff": 15
           },
           "zerolinecolor": "white",
           "zerolinewidth": 2
          }
         }
        },
        "title": {
         "text": "[0] NBA Team Composition: Semi-Supervised Model"
        }
       }
      },
      "text/html": [
       "<div>                            <div id=\"e47d0798-0137-4c3d-9261-c42705a1c0f0\" class=\"plotly-graph-div\" style=\"height:525px; width:100%;\"></div>            <script type=\"text/javascript\">                require([\"plotly\"], function(Plotly) {                    window.PLOTLYENV=window.PLOTLYENV || {};                                    if (document.getElementById(\"e47d0798-0137-4c3d-9261-c42705a1c0f0\")) {                    Plotly.newPlot(                        \"e47d0798-0137-4c3d-9261-c42705a1c0f0\",                        [{\"fill\": \"toself\", \"name\": \"Good Teams\", \"r\": [1.5208333333333333, 0.7916666666666666, 0.7083333333333334, 0.22916666666666666, 1.0416666666666667, 0.6041666666666666], \"theta\": [\"Ball-Dominant Scorer\", \"Role Player\", \"Stretch Big\", \"Traditional Big\", \"Secondary Guard\", \"High-Usage Big\"], \"type\": \"scatterpolar\"}, {\"fill\": \"toself\", \"name\": \"Bad Teams\", \"r\": [1.0, 0.6458333333333334, 1.0625, 0.22916666666666666, 1.4791666666666667, 0.5833333333333334], \"theta\": [\"Ball-Dominant Scorer\", \"Role Player\", \"Stretch Big\", \"Traditional Big\", \"Secondary Guard\", \"High-Usage Big\"], \"type\": \"scatterpolar\"}, {\"fill\": \"toself\", \"name\": \"Average Teams\", \"r\": [1.2857142857142858, 0.5357142857142857, 0.9166666666666666, 0.42857142857142855, 1.4047619047619049, 0.4880952380952381], \"theta\": [\"Ball-Dominant Scorer\", \"Role Player\", \"Stretch Big\", \"Traditional Big\", \"Secondary Guard\", \"High-Usage Big\"], \"type\": \"scatterpolar\"}],                        {\"polar\": {\"radialaxis\": {\"visible\": true}}, \"showlegend\": true, \"template\": {\"data\": {\"bar\": [{\"error_x\": {\"color\": \"#2a3f5f\"}, \"error_y\": {\"color\": \"#2a3f5f\"}, \"marker\": {\"line\": {\"color\": \"#E5ECF6\", \"width\": 0.5}}, \"type\": \"bar\"}], \"barpolar\": [{\"marker\": {\"line\": {\"color\": \"#E5ECF6\", \"width\": 0.5}}, \"type\": \"barpolar\"}], \"carpet\": [{\"aaxis\": {\"endlinecolor\": \"#2a3f5f\", \"gridcolor\": \"white\", \"linecolor\": \"white\", \"minorgridcolor\": \"white\", \"startlinecolor\": \"#2a3f5f\"}, \"baxis\": {\"endlinecolor\": \"#2a3f5f\", \"gridcolor\": \"white\", \"linecolor\": \"white\", \"minorgridcolor\": \"white\", \"startlinecolor\": \"#2a3f5f\"}, \"type\": \"carpet\"}], \"choropleth\": [{\"colorbar\": {\"outlinewidth\": 0, \"ticks\": \"\"}, \"type\": \"choropleth\"}], \"contour\": [{\"colorbar\": {\"outlinewidth\": 0, \"ticks\": \"\"}, \"colorscale\": [[0.0, \"#0d0887\"], [0.1111111111111111, \"#46039f\"], [0.2222222222222222, \"#7201a8\"], [0.3333333333333333, \"#9c179e\"], [0.4444444444444444, \"#bd3786\"], [0.5555555555555556, \"#d8576b\"], [0.6666666666666666, \"#ed7953\"], [0.7777777777777778, \"#fb9f3a\"], [0.8888888888888888, \"#fdca26\"], [1.0, \"#f0f921\"]], \"type\": \"contour\"}], \"contourcarpet\": [{\"colorbar\": {\"outlinewidth\": 0, \"ticks\": \"\"}, \"type\": \"contourcarpet\"}], \"heatmap\": [{\"colorbar\": {\"outlinewidth\": 0, \"ticks\": \"\"}, \"colorscale\": [[0.0, \"#0d0887\"], [0.1111111111111111, \"#46039f\"], [0.2222222222222222, \"#7201a8\"], [0.3333333333333333, \"#9c179e\"], [0.4444444444444444, \"#bd3786\"], [0.5555555555555556, \"#d8576b\"], [0.6666666666666666, \"#ed7953\"], [0.7777777777777778, \"#fb9f3a\"], [0.8888888888888888, \"#fdca26\"], [1.0, \"#f0f921\"]], \"type\": \"heatmap\"}], \"heatmapgl\": [{\"colorbar\": {\"outlinewidth\": 0, \"ticks\": \"\"}, \"colorscale\": [[0.0, \"#0d0887\"], [0.1111111111111111, \"#46039f\"], [0.2222222222222222, \"#7201a8\"], [0.3333333333333333, \"#9c179e\"], [0.4444444444444444, \"#bd3786\"], [0.5555555555555556, \"#d8576b\"], [0.6666666666666666, \"#ed7953\"], [0.7777777777777778, \"#fb9f3a\"], [0.8888888888888888, \"#fdca26\"], [1.0, \"#f0f921\"]], \"type\": \"heatmapgl\"}], \"histogram\": [{\"marker\": {\"colorbar\": {\"outlinewidth\": 0, \"ticks\": \"\"}}, \"type\": \"histogram\"}], \"histogram2d\": [{\"colorbar\": {\"outlinewidth\": 0, \"ticks\": \"\"}, \"colorscale\": [[0.0, \"#0d0887\"], [0.1111111111111111, \"#46039f\"], [0.2222222222222222, \"#7201a8\"], [0.3333333333333333, \"#9c179e\"], [0.4444444444444444, \"#bd3786\"], [0.5555555555555556, \"#d8576b\"], [0.6666666666666666, \"#ed7953\"], [0.7777777777777778, \"#fb9f3a\"], [0.8888888888888888, \"#fdca26\"], [1.0, \"#f0f921\"]], \"type\": \"histogram2d\"}], \"histogram2dcontour\": [{\"colorbar\": {\"outlinewidth\": 0, \"ticks\": \"\"}, \"colorscale\": [[0.0, \"#0d0887\"], [0.1111111111111111, \"#46039f\"], [0.2222222222222222, \"#7201a8\"], [0.3333333333333333, \"#9c179e\"], [0.4444444444444444, \"#bd3786\"], [0.5555555555555556, \"#d8576b\"], [0.6666666666666666, \"#ed7953\"], [0.7777777777777778, \"#fb9f3a\"], [0.8888888888888888, \"#fdca26\"], [1.0, \"#f0f921\"]], \"type\": \"histogram2dcontour\"}], \"mesh3d\": [{\"colorbar\": {\"outlinewidth\": 0, \"ticks\": \"\"}, \"type\": \"mesh3d\"}], \"parcoords\": [{\"line\": {\"colorbar\": {\"outlinewidth\": 0, \"ticks\": \"\"}}, \"type\": \"parcoords\"}], \"pie\": [{\"automargin\": true, \"type\": \"pie\"}], \"scatter\": [{\"marker\": {\"colorbar\": {\"outlinewidth\": 0, \"ticks\": \"\"}}, \"type\": \"scatter\"}], \"scatter3d\": [{\"line\": {\"colorbar\": {\"outlinewidth\": 0, \"ticks\": \"\"}}, \"marker\": {\"colorbar\": {\"outlinewidth\": 0, \"ticks\": \"\"}}, \"type\": \"scatter3d\"}], \"scattercarpet\": [{\"marker\": {\"colorbar\": {\"outlinewidth\": 0, \"ticks\": \"\"}}, \"type\": \"scattercarpet\"}], \"scattergeo\": [{\"marker\": {\"colorbar\": {\"outlinewidth\": 0, \"ticks\": \"\"}}, \"type\": \"scattergeo\"}], \"scattergl\": [{\"marker\": {\"colorbar\": {\"outlinewidth\": 0, \"ticks\": \"\"}}, \"type\": \"scattergl\"}], \"scattermapbox\": [{\"marker\": {\"colorbar\": {\"outlinewidth\": 0, \"ticks\": \"\"}}, \"type\": \"scattermapbox\"}], \"scatterpolar\": [{\"marker\": {\"colorbar\": {\"outlinewidth\": 0, \"ticks\": \"\"}}, \"type\": \"scatterpolar\"}], \"scatterpolargl\": [{\"marker\": {\"colorbar\": {\"outlinewidth\": 0, \"ticks\": \"\"}}, \"type\": \"scatterpolargl\"}], \"scatterternary\": [{\"marker\": {\"colorbar\": {\"outlinewidth\": 0, \"ticks\": \"\"}}, \"type\": \"scatterternary\"}], \"surface\": [{\"colorbar\": {\"outlinewidth\": 0, \"ticks\": \"\"}, \"colorscale\": [[0.0, \"#0d0887\"], [0.1111111111111111, \"#46039f\"], [0.2222222222222222, \"#7201a8\"], [0.3333333333333333, \"#9c179e\"], [0.4444444444444444, \"#bd3786\"], [0.5555555555555556, \"#d8576b\"], [0.6666666666666666, \"#ed7953\"], [0.7777777777777778, \"#fb9f3a\"], [0.8888888888888888, \"#fdca26\"], [1.0, \"#f0f921\"]], \"type\": \"surface\"}], \"table\": [{\"cells\": {\"fill\": {\"color\": \"#EBF0F8\"}, \"line\": {\"color\": \"white\"}}, \"header\": {\"fill\": {\"color\": \"#C8D4E3\"}, \"line\": {\"color\": \"white\"}}, \"type\": \"table\"}]}, \"layout\": {\"annotationdefaults\": {\"arrowcolor\": \"#2a3f5f\", \"arrowhead\": 0, \"arrowwidth\": 1}, \"coloraxis\": {\"colorbar\": {\"outlinewidth\": 0, \"ticks\": \"\"}}, \"colorscale\": {\"diverging\": [[0, \"#8e0152\"], [0.1, \"#c51b7d\"], [0.2, \"#de77ae\"], [0.3, \"#f1b6da\"], [0.4, \"#fde0ef\"], [0.5, \"#f7f7f7\"], [0.6, \"#e6f5d0\"], [0.7, \"#b8e186\"], [0.8, \"#7fbc41\"], [0.9, \"#4d9221\"], [1, \"#276419\"]], \"sequential\": [[0.0, \"#0d0887\"], [0.1111111111111111, \"#46039f\"], [0.2222222222222222, \"#7201a8\"], [0.3333333333333333, \"#9c179e\"], [0.4444444444444444, \"#bd3786\"], [0.5555555555555556, \"#d8576b\"], [0.6666666666666666, \"#ed7953\"], [0.7777777777777778, \"#fb9f3a\"], [0.8888888888888888, \"#fdca26\"], [1.0, \"#f0f921\"]], \"sequentialminus\": [[0.0, \"#0d0887\"], [0.1111111111111111, \"#46039f\"], [0.2222222222222222, \"#7201a8\"], [0.3333333333333333, \"#9c179e\"], [0.4444444444444444, \"#bd3786\"], [0.5555555555555556, \"#d8576b\"], [0.6666666666666666, \"#ed7953\"], [0.7777777777777778, \"#fb9f3a\"], [0.8888888888888888, \"#fdca26\"], [1.0, \"#f0f921\"]]}, \"colorway\": [\"#636efa\", \"#EF553B\", \"#00cc96\", \"#ab63fa\", \"#FFA15A\", \"#19d3f3\", \"#FF6692\", \"#B6E880\", \"#FF97FF\", \"#FECB52\"], \"font\": {\"color\": \"#2a3f5f\"}, \"geo\": {\"bgcolor\": \"white\", \"lakecolor\": \"white\", \"landcolor\": \"#E5ECF6\", \"showlakes\": true, \"showland\": true, \"subunitcolor\": \"white\"}, \"hoverlabel\": {\"align\": \"left\"}, \"hovermode\": \"closest\", \"mapbox\": {\"style\": \"light\"}, \"paper_bgcolor\": \"white\", \"plot_bgcolor\": \"#E5ECF6\", \"polar\": {\"angularaxis\": {\"gridcolor\": \"white\", \"linecolor\": \"white\", \"ticks\": \"\"}, \"bgcolor\": \"#E5ECF6\", \"radialaxis\": {\"gridcolor\": \"white\", \"linecolor\": \"white\", \"ticks\": \"\"}}, \"scene\": {\"xaxis\": {\"backgroundcolor\": \"#E5ECF6\", \"gridcolor\": \"white\", \"gridwidth\": 2, \"linecolor\": \"white\", \"showbackground\": true, \"ticks\": \"\", \"zerolinecolor\": \"white\"}, \"yaxis\": {\"backgroundcolor\": \"#E5ECF6\", \"gridcolor\": \"white\", \"gridwidth\": 2, \"linecolor\": \"white\", \"showbackground\": true, \"ticks\": \"\", \"zerolinecolor\": \"white\"}, \"zaxis\": {\"backgroundcolor\": \"#E5ECF6\", \"gridcolor\": \"white\", \"gridwidth\": 2, \"linecolor\": \"white\", \"showbackground\": true, \"ticks\": \"\", \"zerolinecolor\": \"white\"}}, \"shapedefaults\": {\"line\": {\"color\": \"#2a3f5f\"}}, \"ternary\": {\"aaxis\": {\"gridcolor\": \"white\", \"linecolor\": \"white\", \"ticks\": \"\"}, \"baxis\": {\"gridcolor\": \"white\", \"linecolor\": \"white\", \"ticks\": \"\"}, \"bgcolor\": \"#E5ECF6\", \"caxis\": {\"gridcolor\": \"white\", \"linecolor\": \"white\", \"ticks\": \"\"}}, \"title\": {\"x\": 0.05}, \"xaxis\": {\"automargin\": true, \"gridcolor\": \"white\", \"linecolor\": \"white\", \"ticks\": \"\", \"title\": {\"standoff\": 15}, \"zerolinecolor\": \"white\", \"zerolinewidth\": 2}, \"yaxis\": {\"automargin\": true, \"gridcolor\": \"white\", \"linecolor\": \"white\", \"ticks\": \"\", \"title\": {\"standoff\": 15}, \"zerolinecolor\": \"white\", \"zerolinewidth\": 2}}}, \"title\": {\"text\": \"[0] NBA Team Composition: Semi-Supervised Model\"}},                        {\"responsive\": true}                    ).then(function(){\n",
       "                            \n",
       "var gd = document.getElementById('e47d0798-0137-4c3d-9261-c42705a1c0f0');\n",
       "var x = new MutationObserver(function (mutations, observer) {{\n",
       "        var display = window.getComputedStyle(gd).display;\n",
       "        if (!display || display === 'none') {{\n",
       "            console.log([gd, 'removed!']);\n",
       "            Plotly.purge(gd);\n",
       "            observer.disconnect();\n",
       "        }}\n",
       "}});\n",
       "\n",
       "// Listen for the removal of the full notebook cells\n",
       "var notebookContainer = gd.closest('#notebook-container');\n",
       "if (notebookContainer) {{\n",
       "    x.observe(notebookContainer, {childList: true});\n",
       "}}\n",
       "\n",
       "// Listen for the clearing of the current output cell\n",
       "var outputEl = gd.closest('.output');\n",
       "if (outputEl) {{\n",
       "    x.observe(outputEl, {childList: true});\n",
       "}}\n",
       "\n",
       "                        })                };                });            </script>        </div>"
      ]
     },
     "metadata": {},
     "output_type": "display_data"
    }
   ],
   "source": [
    "plot_radar(classes, [0], average=True)"
   ]
  },
  {
   "cell_type": "code",
   "execution_count": 15,
   "metadata": {},
   "outputs": [
    {
     "data": {
      "application/vnd.plotly.v1+json": {
       "config": {
        "plotlyServerURL": "https://plot.ly"
       },
       "data": [
        {
         "fill": "toself",
         "name": "Good Teams",
         "r": [
          5.75,
          13.625,
          9.125,
          3.875,
          12.375,
          2.625
         ],
         "theta": [
          "Ball-Dominant Scorer",
          "Role Player",
          "Stretch Big",
          "Traditional Big",
          "Secondary Guard",
          "High-Usage Big"
         ],
         "type": "scatterpolar"
        },
        {
         "fill": "toself",
         "name": "Bad Teams",
         "r": [
          5.125,
          13.125,
          7.625,
          4.875,
          10,
          3.125
         ],
         "theta": [
          "Ball-Dominant Scorer",
          "Role Player",
          "Stretch Big",
          "Traditional Big",
          "Secondary Guard",
          "High-Usage Big"
         ],
         "type": "scatterpolar"
        }
       ],
       "layout": {
        "polar": {
         "radialaxis": {
          "visible": true
         }
        },
        "showlegend": true,
        "template": {
         "data": {
          "bar": [
           {
            "error_x": {
             "color": "#2a3f5f"
            },
            "error_y": {
             "color": "#2a3f5f"
            },
            "marker": {
             "line": {
              "color": "#E5ECF6",
              "width": 0.5
             }
            },
            "type": "bar"
           }
          ],
          "barpolar": [
           {
            "marker": {
             "line": {
              "color": "#E5ECF6",
              "width": 0.5
             }
            },
            "type": "barpolar"
           }
          ],
          "carpet": [
           {
            "aaxis": {
             "endlinecolor": "#2a3f5f",
             "gridcolor": "white",
             "linecolor": "white",
             "minorgridcolor": "white",
             "startlinecolor": "#2a3f5f"
            },
            "baxis": {
             "endlinecolor": "#2a3f5f",
             "gridcolor": "white",
             "linecolor": "white",
             "minorgridcolor": "white",
             "startlinecolor": "#2a3f5f"
            },
            "type": "carpet"
           }
          ],
          "choropleth": [
           {
            "colorbar": {
             "outlinewidth": 0,
             "ticks": ""
            },
            "type": "choropleth"
           }
          ],
          "contour": [
           {
            "colorbar": {
             "outlinewidth": 0,
             "ticks": ""
            },
            "colorscale": [
             [
              0,
              "#0d0887"
             ],
             [
              0.1111111111111111,
              "#46039f"
             ],
             [
              0.2222222222222222,
              "#7201a8"
             ],
             [
              0.3333333333333333,
              "#9c179e"
             ],
             [
              0.4444444444444444,
              "#bd3786"
             ],
             [
              0.5555555555555556,
              "#d8576b"
             ],
             [
              0.6666666666666666,
              "#ed7953"
             ],
             [
              0.7777777777777778,
              "#fb9f3a"
             ],
             [
              0.8888888888888888,
              "#fdca26"
             ],
             [
              1,
              "#f0f921"
             ]
            ],
            "type": "contour"
           }
          ],
          "contourcarpet": [
           {
            "colorbar": {
             "outlinewidth": 0,
             "ticks": ""
            },
            "type": "contourcarpet"
           }
          ],
          "heatmap": [
           {
            "colorbar": {
             "outlinewidth": 0,
             "ticks": ""
            },
            "colorscale": [
             [
              0,
              "#0d0887"
             ],
             [
              0.1111111111111111,
              "#46039f"
             ],
             [
              0.2222222222222222,
              "#7201a8"
             ],
             [
              0.3333333333333333,
              "#9c179e"
             ],
             [
              0.4444444444444444,
              "#bd3786"
             ],
             [
              0.5555555555555556,
              "#d8576b"
             ],
             [
              0.6666666666666666,
              "#ed7953"
             ],
             [
              0.7777777777777778,
              "#fb9f3a"
             ],
             [
              0.8888888888888888,
              "#fdca26"
             ],
             [
              1,
              "#f0f921"
             ]
            ],
            "type": "heatmap"
           }
          ],
          "heatmapgl": [
           {
            "colorbar": {
             "outlinewidth": 0,
             "ticks": ""
            },
            "colorscale": [
             [
              0,
              "#0d0887"
             ],
             [
              0.1111111111111111,
              "#46039f"
             ],
             [
              0.2222222222222222,
              "#7201a8"
             ],
             [
              0.3333333333333333,
              "#9c179e"
             ],
             [
              0.4444444444444444,
              "#bd3786"
             ],
             [
              0.5555555555555556,
              "#d8576b"
             ],
             [
              0.6666666666666666,
              "#ed7953"
             ],
             [
              0.7777777777777778,
              "#fb9f3a"
             ],
             [
              0.8888888888888888,
              "#fdca26"
             ],
             [
              1,
              "#f0f921"
             ]
            ],
            "type": "heatmapgl"
           }
          ],
          "histogram": [
           {
            "marker": {
             "colorbar": {
              "outlinewidth": 0,
              "ticks": ""
             }
            },
            "type": "histogram"
           }
          ],
          "histogram2d": [
           {
            "colorbar": {
             "outlinewidth": 0,
             "ticks": ""
            },
            "colorscale": [
             [
              0,
              "#0d0887"
             ],
             [
              0.1111111111111111,
              "#46039f"
             ],
             [
              0.2222222222222222,
              "#7201a8"
             ],
             [
              0.3333333333333333,
              "#9c179e"
             ],
             [
              0.4444444444444444,
              "#bd3786"
             ],
             [
              0.5555555555555556,
              "#d8576b"
             ],
             [
              0.6666666666666666,
              "#ed7953"
             ],
             [
              0.7777777777777778,
              "#fb9f3a"
             ],
             [
              0.8888888888888888,
              "#fdca26"
             ],
             [
              1,
              "#f0f921"
             ]
            ],
            "type": "histogram2d"
           }
          ],
          "histogram2dcontour": [
           {
            "colorbar": {
             "outlinewidth": 0,
             "ticks": ""
            },
            "colorscale": [
             [
              0,
              "#0d0887"
             ],
             [
              0.1111111111111111,
              "#46039f"
             ],
             [
              0.2222222222222222,
              "#7201a8"
             ],
             [
              0.3333333333333333,
              "#9c179e"
             ],
             [
              0.4444444444444444,
              "#bd3786"
             ],
             [
              0.5555555555555556,
              "#d8576b"
             ],
             [
              0.6666666666666666,
              "#ed7953"
             ],
             [
              0.7777777777777778,
              "#fb9f3a"
             ],
             [
              0.8888888888888888,
              "#fdca26"
             ],
             [
              1,
              "#f0f921"
             ]
            ],
            "type": "histogram2dcontour"
           }
          ],
          "mesh3d": [
           {
            "colorbar": {
             "outlinewidth": 0,
             "ticks": ""
            },
            "type": "mesh3d"
           }
          ],
          "parcoords": [
           {
            "line": {
             "colorbar": {
              "outlinewidth": 0,
              "ticks": ""
             }
            },
            "type": "parcoords"
           }
          ],
          "pie": [
           {
            "automargin": true,
            "type": "pie"
           }
          ],
          "scatter": [
           {
            "marker": {
             "colorbar": {
              "outlinewidth": 0,
              "ticks": ""
             }
            },
            "type": "scatter"
           }
          ],
          "scatter3d": [
           {
            "line": {
             "colorbar": {
              "outlinewidth": 0,
              "ticks": ""
             }
            },
            "marker": {
             "colorbar": {
              "outlinewidth": 0,
              "ticks": ""
             }
            },
            "type": "scatter3d"
           }
          ],
          "scattercarpet": [
           {
            "marker": {
             "colorbar": {
              "outlinewidth": 0,
              "ticks": ""
             }
            },
            "type": "scattercarpet"
           }
          ],
          "scattergeo": [
           {
            "marker": {
             "colorbar": {
              "outlinewidth": 0,
              "ticks": ""
             }
            },
            "type": "scattergeo"
           }
          ],
          "scattergl": [
           {
            "marker": {
             "colorbar": {
              "outlinewidth": 0,
              "ticks": ""
             }
            },
            "type": "scattergl"
           }
          ],
          "scattermapbox": [
           {
            "marker": {
             "colorbar": {
              "outlinewidth": 0,
              "ticks": ""
             }
            },
            "type": "scattermapbox"
           }
          ],
          "scatterpolar": [
           {
            "marker": {
             "colorbar": {
              "outlinewidth": 0,
              "ticks": ""
             }
            },
            "type": "scatterpolar"
           }
          ],
          "scatterpolargl": [
           {
            "marker": {
             "colorbar": {
              "outlinewidth": 0,
              "ticks": ""
             }
            },
            "type": "scatterpolargl"
           }
          ],
          "scatterternary": [
           {
            "marker": {
             "colorbar": {
              "outlinewidth": 0,
              "ticks": ""
             }
            },
            "type": "scatterternary"
           }
          ],
          "surface": [
           {
            "colorbar": {
             "outlinewidth": 0,
             "ticks": ""
            },
            "colorscale": [
             [
              0,
              "#0d0887"
             ],
             [
              0.1111111111111111,
              "#46039f"
             ],
             [
              0.2222222222222222,
              "#7201a8"
             ],
             [
              0.3333333333333333,
              "#9c179e"
             ],
             [
              0.4444444444444444,
              "#bd3786"
             ],
             [
              0.5555555555555556,
              "#d8576b"
             ],
             [
              0.6666666666666666,
              "#ed7953"
             ],
             [
              0.7777777777777778,
              "#fb9f3a"
             ],
             [
              0.8888888888888888,
              "#fdca26"
             ],
             [
              1,
              "#f0f921"
             ]
            ],
            "type": "surface"
           }
          ],
          "table": [
           {
            "cells": {
             "fill": {
              "color": "#EBF0F8"
             },
             "line": {
              "color": "white"
             }
            },
            "header": {
             "fill": {
              "color": "#C8D4E3"
             },
             "line": {
              "color": "white"
             }
            },
            "type": "table"
           }
          ]
         },
         "layout": {
          "annotationdefaults": {
           "arrowcolor": "#2a3f5f",
           "arrowhead": 0,
           "arrowwidth": 1
          },
          "coloraxis": {
           "colorbar": {
            "outlinewidth": 0,
            "ticks": ""
           }
          },
          "colorscale": {
           "diverging": [
            [
             0,
             "#8e0152"
            ],
            [
             0.1,
             "#c51b7d"
            ],
            [
             0.2,
             "#de77ae"
            ],
            [
             0.3,
             "#f1b6da"
            ],
            [
             0.4,
             "#fde0ef"
            ],
            [
             0.5,
             "#f7f7f7"
            ],
            [
             0.6,
             "#e6f5d0"
            ],
            [
             0.7,
             "#b8e186"
            ],
            [
             0.8,
             "#7fbc41"
            ],
            [
             0.9,
             "#4d9221"
            ],
            [
             1,
             "#276419"
            ]
           ],
           "sequential": [
            [
             0,
             "#0d0887"
            ],
            [
             0.1111111111111111,
             "#46039f"
            ],
            [
             0.2222222222222222,
             "#7201a8"
            ],
            [
             0.3333333333333333,
             "#9c179e"
            ],
            [
             0.4444444444444444,
             "#bd3786"
            ],
            [
             0.5555555555555556,
             "#d8576b"
            ],
            [
             0.6666666666666666,
             "#ed7953"
            ],
            [
             0.7777777777777778,
             "#fb9f3a"
            ],
            [
             0.8888888888888888,
             "#fdca26"
            ],
            [
             1,
             "#f0f921"
            ]
           ],
           "sequentialminus": [
            [
             0,
             "#0d0887"
            ],
            [
             0.1111111111111111,
             "#46039f"
            ],
            [
             0.2222222222222222,
             "#7201a8"
            ],
            [
             0.3333333333333333,
             "#9c179e"
            ],
            [
             0.4444444444444444,
             "#bd3786"
            ],
            [
             0.5555555555555556,
             "#d8576b"
            ],
            [
             0.6666666666666666,
             "#ed7953"
            ],
            [
             0.7777777777777778,
             "#fb9f3a"
            ],
            [
             0.8888888888888888,
             "#fdca26"
            ],
            [
             1,
             "#f0f921"
            ]
           ]
          },
          "colorway": [
           "#636efa",
           "#EF553B",
           "#00cc96",
           "#ab63fa",
           "#FFA15A",
           "#19d3f3",
           "#FF6692",
           "#B6E880",
           "#FF97FF",
           "#FECB52"
          ],
          "font": {
           "color": "#2a3f5f"
          },
          "geo": {
           "bgcolor": "white",
           "lakecolor": "white",
           "landcolor": "#E5ECF6",
           "showlakes": true,
           "showland": true,
           "subunitcolor": "white"
          },
          "hoverlabel": {
           "align": "left"
          },
          "hovermode": "closest",
          "mapbox": {
           "style": "light"
          },
          "paper_bgcolor": "white",
          "plot_bgcolor": "#E5ECF6",
          "polar": {
           "angularaxis": {
            "gridcolor": "white",
            "linecolor": "white",
            "ticks": ""
           },
           "bgcolor": "#E5ECF6",
           "radialaxis": {
            "gridcolor": "white",
            "linecolor": "white",
            "ticks": ""
           }
          },
          "scene": {
           "xaxis": {
            "backgroundcolor": "#E5ECF6",
            "gridcolor": "white",
            "gridwidth": 2,
            "linecolor": "white",
            "showbackground": true,
            "ticks": "",
            "zerolinecolor": "white"
           },
           "yaxis": {
            "backgroundcolor": "#E5ECF6",
            "gridcolor": "white",
            "gridwidth": 2,
            "linecolor": "white",
            "showbackground": true,
            "ticks": "",
            "zerolinecolor": "white"
           },
           "zaxis": {
            "backgroundcolor": "#E5ECF6",
            "gridcolor": "white",
            "gridwidth": 2,
            "linecolor": "white",
            "showbackground": true,
            "ticks": "",
            "zerolinecolor": "white"
           }
          },
          "shapedefaults": {
           "line": {
            "color": "#2a3f5f"
           }
          },
          "ternary": {
           "aaxis": {
            "gridcolor": "white",
            "linecolor": "white",
            "ticks": ""
           },
           "baxis": {
            "gridcolor": "white",
            "linecolor": "white",
            "ticks": ""
           },
           "bgcolor": "#E5ECF6",
           "caxis": {
            "gridcolor": "white",
            "linecolor": "white",
            "ticks": ""
           }
          },
          "title": {
           "x": 0.05
          },
          "xaxis": {
           "automargin": true,
           "gridcolor": "white",
           "linecolor": "white",
           "ticks": "",
           "title": {
            "standoff": 15
           },
           "zerolinecolor": "white",
           "zerolinewidth": 2
          },
          "yaxis": {
           "automargin": true,
           "gridcolor": "white",
           "linecolor": "white",
           "ticks": "",
           "title": {
            "standoff": 15
           },
           "zerolinecolor": "white",
           "zerolinewidth": 2
          }
         }
        },
        "title": {
         "text": "[2019] NBA Team Composition: Semi-Supervised Model"
        }
       }
      },
      "text/html": [
       "<div>                            <div id=\"bed6f3ff-9ae3-4afa-acaf-7316b9a6ac0e\" class=\"plotly-graph-div\" style=\"height:525px; width:100%;\"></div>            <script type=\"text/javascript\">                require([\"plotly\"], function(Plotly) {                    window.PLOTLYENV=window.PLOTLYENV || {};                                    if (document.getElementById(\"bed6f3ff-9ae3-4afa-acaf-7316b9a6ac0e\")) {                    Plotly.newPlot(                        \"bed6f3ff-9ae3-4afa-acaf-7316b9a6ac0e\",                        [{\"fill\": \"toself\", \"name\": \"Good Teams\", \"r\": [5.75, 13.625, 9.125, 3.875, 12.375, 2.625], \"theta\": [\"Ball-Dominant Scorer\", \"Role Player\", \"Stretch Big\", \"Traditional Big\", \"Secondary Guard\", \"High-Usage Big\"], \"type\": \"scatterpolar\"}, {\"fill\": \"toself\", \"name\": \"Bad Teams\", \"r\": [5.125, 13.125, 7.625, 4.875, 10.0, 3.125], \"theta\": [\"Ball-Dominant Scorer\", \"Role Player\", \"Stretch Big\", \"Traditional Big\", \"Secondary Guard\", \"High-Usage Big\"], \"type\": \"scatterpolar\"}],                        {\"polar\": {\"radialaxis\": {\"visible\": true}}, \"showlegend\": true, \"template\": {\"data\": {\"bar\": [{\"error_x\": {\"color\": \"#2a3f5f\"}, \"error_y\": {\"color\": \"#2a3f5f\"}, \"marker\": {\"line\": {\"color\": \"#E5ECF6\", \"width\": 0.5}}, \"type\": \"bar\"}], \"barpolar\": [{\"marker\": {\"line\": {\"color\": \"#E5ECF6\", \"width\": 0.5}}, \"type\": \"barpolar\"}], \"carpet\": [{\"aaxis\": {\"endlinecolor\": \"#2a3f5f\", \"gridcolor\": \"white\", \"linecolor\": \"white\", \"minorgridcolor\": \"white\", \"startlinecolor\": \"#2a3f5f\"}, \"baxis\": {\"endlinecolor\": \"#2a3f5f\", \"gridcolor\": \"white\", \"linecolor\": \"white\", \"minorgridcolor\": \"white\", \"startlinecolor\": \"#2a3f5f\"}, \"type\": \"carpet\"}], \"choropleth\": [{\"colorbar\": {\"outlinewidth\": 0, \"ticks\": \"\"}, \"type\": \"choropleth\"}], \"contour\": [{\"colorbar\": {\"outlinewidth\": 0, \"ticks\": \"\"}, \"colorscale\": [[0.0, \"#0d0887\"], [0.1111111111111111, \"#46039f\"], [0.2222222222222222, \"#7201a8\"], [0.3333333333333333, \"#9c179e\"], [0.4444444444444444, \"#bd3786\"], [0.5555555555555556, \"#d8576b\"], [0.6666666666666666, \"#ed7953\"], [0.7777777777777778, \"#fb9f3a\"], [0.8888888888888888, \"#fdca26\"], [1.0, \"#f0f921\"]], \"type\": \"contour\"}], \"contourcarpet\": [{\"colorbar\": {\"outlinewidth\": 0, \"ticks\": \"\"}, \"type\": \"contourcarpet\"}], \"heatmap\": [{\"colorbar\": {\"outlinewidth\": 0, \"ticks\": \"\"}, \"colorscale\": [[0.0, \"#0d0887\"], [0.1111111111111111, \"#46039f\"], [0.2222222222222222, \"#7201a8\"], [0.3333333333333333, \"#9c179e\"], [0.4444444444444444, \"#bd3786\"], [0.5555555555555556, \"#d8576b\"], [0.6666666666666666, \"#ed7953\"], [0.7777777777777778, \"#fb9f3a\"], [0.8888888888888888, \"#fdca26\"], [1.0, \"#f0f921\"]], \"type\": \"heatmap\"}], \"heatmapgl\": [{\"colorbar\": {\"outlinewidth\": 0, \"ticks\": \"\"}, \"colorscale\": [[0.0, \"#0d0887\"], [0.1111111111111111, \"#46039f\"], [0.2222222222222222, \"#7201a8\"], [0.3333333333333333, \"#9c179e\"], [0.4444444444444444, \"#bd3786\"], [0.5555555555555556, \"#d8576b\"], [0.6666666666666666, \"#ed7953\"], [0.7777777777777778, \"#fb9f3a\"], [0.8888888888888888, \"#fdca26\"], [1.0, \"#f0f921\"]], \"type\": \"heatmapgl\"}], \"histogram\": [{\"marker\": {\"colorbar\": {\"outlinewidth\": 0, \"ticks\": \"\"}}, \"type\": \"histogram\"}], \"histogram2d\": [{\"colorbar\": {\"outlinewidth\": 0, \"ticks\": \"\"}, \"colorscale\": [[0.0, \"#0d0887\"], [0.1111111111111111, \"#46039f\"], [0.2222222222222222, \"#7201a8\"], [0.3333333333333333, \"#9c179e\"], [0.4444444444444444, \"#bd3786\"], [0.5555555555555556, \"#d8576b\"], [0.6666666666666666, \"#ed7953\"], [0.7777777777777778, \"#fb9f3a\"], [0.8888888888888888, \"#fdca26\"], [1.0, \"#f0f921\"]], \"type\": \"histogram2d\"}], \"histogram2dcontour\": [{\"colorbar\": {\"outlinewidth\": 0, \"ticks\": \"\"}, \"colorscale\": [[0.0, \"#0d0887\"], [0.1111111111111111, \"#46039f\"], [0.2222222222222222, \"#7201a8\"], [0.3333333333333333, \"#9c179e\"], [0.4444444444444444, \"#bd3786\"], [0.5555555555555556, \"#d8576b\"], [0.6666666666666666, \"#ed7953\"], [0.7777777777777778, \"#fb9f3a\"], [0.8888888888888888, \"#fdca26\"], [1.0, \"#f0f921\"]], \"type\": \"histogram2dcontour\"}], \"mesh3d\": [{\"colorbar\": {\"outlinewidth\": 0, \"ticks\": \"\"}, \"type\": \"mesh3d\"}], \"parcoords\": [{\"line\": {\"colorbar\": {\"outlinewidth\": 0, \"ticks\": \"\"}}, \"type\": \"parcoords\"}], \"pie\": [{\"automargin\": true, \"type\": \"pie\"}], \"scatter\": [{\"marker\": {\"colorbar\": {\"outlinewidth\": 0, \"ticks\": \"\"}}, \"type\": \"scatter\"}], \"scatter3d\": [{\"line\": {\"colorbar\": {\"outlinewidth\": 0, \"ticks\": \"\"}}, \"marker\": {\"colorbar\": {\"outlinewidth\": 0, \"ticks\": \"\"}}, \"type\": \"scatter3d\"}], \"scattercarpet\": [{\"marker\": {\"colorbar\": {\"outlinewidth\": 0, \"ticks\": \"\"}}, \"type\": \"scattercarpet\"}], \"scattergeo\": [{\"marker\": {\"colorbar\": {\"outlinewidth\": 0, \"ticks\": \"\"}}, \"type\": \"scattergeo\"}], \"scattergl\": [{\"marker\": {\"colorbar\": {\"outlinewidth\": 0, \"ticks\": \"\"}}, \"type\": \"scattergl\"}], \"scattermapbox\": [{\"marker\": {\"colorbar\": {\"outlinewidth\": 0, \"ticks\": \"\"}}, \"type\": \"scattermapbox\"}], \"scatterpolar\": [{\"marker\": {\"colorbar\": {\"outlinewidth\": 0, \"ticks\": \"\"}}, \"type\": \"scatterpolar\"}], \"scatterpolargl\": [{\"marker\": {\"colorbar\": {\"outlinewidth\": 0, \"ticks\": \"\"}}, \"type\": \"scatterpolargl\"}], \"scatterternary\": [{\"marker\": {\"colorbar\": {\"outlinewidth\": 0, \"ticks\": \"\"}}, \"type\": \"scatterternary\"}], \"surface\": [{\"colorbar\": {\"outlinewidth\": 0, \"ticks\": \"\"}, \"colorscale\": [[0.0, \"#0d0887\"], [0.1111111111111111, \"#46039f\"], [0.2222222222222222, \"#7201a8\"], [0.3333333333333333, \"#9c179e\"], [0.4444444444444444, \"#bd3786\"], [0.5555555555555556, \"#d8576b\"], [0.6666666666666666, \"#ed7953\"], [0.7777777777777778, \"#fb9f3a\"], [0.8888888888888888, \"#fdca26\"], [1.0, \"#f0f921\"]], \"type\": \"surface\"}], \"table\": [{\"cells\": {\"fill\": {\"color\": \"#EBF0F8\"}, \"line\": {\"color\": \"white\"}}, \"header\": {\"fill\": {\"color\": \"#C8D4E3\"}, \"line\": {\"color\": \"white\"}}, \"type\": \"table\"}]}, \"layout\": {\"annotationdefaults\": {\"arrowcolor\": \"#2a3f5f\", \"arrowhead\": 0, \"arrowwidth\": 1}, \"coloraxis\": {\"colorbar\": {\"outlinewidth\": 0, \"ticks\": \"\"}}, \"colorscale\": {\"diverging\": [[0, \"#8e0152\"], [0.1, \"#c51b7d\"], [0.2, \"#de77ae\"], [0.3, \"#f1b6da\"], [0.4, \"#fde0ef\"], [0.5, \"#f7f7f7\"], [0.6, \"#e6f5d0\"], [0.7, \"#b8e186\"], [0.8, \"#7fbc41\"], [0.9, \"#4d9221\"], [1, \"#276419\"]], \"sequential\": [[0.0, \"#0d0887\"], [0.1111111111111111, \"#46039f\"], [0.2222222222222222, \"#7201a8\"], [0.3333333333333333, \"#9c179e\"], [0.4444444444444444, \"#bd3786\"], [0.5555555555555556, \"#d8576b\"], [0.6666666666666666, \"#ed7953\"], [0.7777777777777778, \"#fb9f3a\"], [0.8888888888888888, \"#fdca26\"], [1.0, \"#f0f921\"]], \"sequentialminus\": [[0.0, \"#0d0887\"], [0.1111111111111111, \"#46039f\"], [0.2222222222222222, \"#7201a8\"], [0.3333333333333333, \"#9c179e\"], [0.4444444444444444, \"#bd3786\"], [0.5555555555555556, \"#d8576b\"], [0.6666666666666666, \"#ed7953\"], [0.7777777777777778, \"#fb9f3a\"], [0.8888888888888888, \"#fdca26\"], [1.0, \"#f0f921\"]]}, \"colorway\": [\"#636efa\", \"#EF553B\", \"#00cc96\", \"#ab63fa\", \"#FFA15A\", \"#19d3f3\", \"#FF6692\", \"#B6E880\", \"#FF97FF\", \"#FECB52\"], \"font\": {\"color\": \"#2a3f5f\"}, \"geo\": {\"bgcolor\": \"white\", \"lakecolor\": \"white\", \"landcolor\": \"#E5ECF6\", \"showlakes\": true, \"showland\": true, \"subunitcolor\": \"white\"}, \"hoverlabel\": {\"align\": \"left\"}, \"hovermode\": \"closest\", \"mapbox\": {\"style\": \"light\"}, \"paper_bgcolor\": \"white\", \"plot_bgcolor\": \"#E5ECF6\", \"polar\": {\"angularaxis\": {\"gridcolor\": \"white\", \"linecolor\": \"white\", \"ticks\": \"\"}, \"bgcolor\": \"#E5ECF6\", \"radialaxis\": {\"gridcolor\": \"white\", \"linecolor\": \"white\", \"ticks\": \"\"}}, \"scene\": {\"xaxis\": {\"backgroundcolor\": \"#E5ECF6\", \"gridcolor\": \"white\", \"gridwidth\": 2, \"linecolor\": \"white\", \"showbackground\": true, \"ticks\": \"\", \"zerolinecolor\": \"white\"}, \"yaxis\": {\"backgroundcolor\": \"#E5ECF6\", \"gridcolor\": \"white\", \"gridwidth\": 2, \"linecolor\": \"white\", \"showbackground\": true, \"ticks\": \"\", \"zerolinecolor\": \"white\"}, \"zaxis\": {\"backgroundcolor\": \"#E5ECF6\", \"gridcolor\": \"white\", \"gridwidth\": 2, \"linecolor\": \"white\", \"showbackground\": true, \"ticks\": \"\", \"zerolinecolor\": \"white\"}}, \"shapedefaults\": {\"line\": {\"color\": \"#2a3f5f\"}}, \"ternary\": {\"aaxis\": {\"gridcolor\": \"white\", \"linecolor\": \"white\", \"ticks\": \"\"}, \"baxis\": {\"gridcolor\": \"white\", \"linecolor\": \"white\", \"ticks\": \"\"}, \"bgcolor\": \"#E5ECF6\", \"caxis\": {\"gridcolor\": \"white\", \"linecolor\": \"white\", \"ticks\": \"\"}}, \"title\": {\"x\": 0.05}, \"xaxis\": {\"automargin\": true, \"gridcolor\": \"white\", \"linecolor\": \"white\", \"ticks\": \"\", \"title\": {\"standoff\": 15}, \"zerolinecolor\": \"white\", \"zerolinewidth\": 2}, \"yaxis\": {\"automargin\": true, \"gridcolor\": \"white\", \"linecolor\": \"white\", \"ticks\": \"\", \"title\": {\"standoff\": 15}, \"zerolinecolor\": \"white\", \"zerolinewidth\": 2}}}, \"title\": {\"text\": \"[2019] NBA Team Composition: Semi-Supervised Model\"}},                        {\"responsive\": true}                    ).then(function(){\n",
       "                            \n",
       "var gd = document.getElementById('bed6f3ff-9ae3-4afa-acaf-7316b9a6ac0e');\n",
       "var x = new MutationObserver(function (mutations, observer) {{\n",
       "        var display = window.getComputedStyle(gd).display;\n",
       "        if (!display || display === 'none') {{\n",
       "            console.log([gd, 'removed!']);\n",
       "            Plotly.purge(gd);\n",
       "            observer.disconnect();\n",
       "        }}\n",
       "}});\n",
       "\n",
       "// Listen for the removal of the full notebook cells\n",
       "var notebookContainer = gd.closest('#notebook-container');\n",
       "if (notebookContainer) {{\n",
       "    x.observe(notebookContainer, {childList: true});\n",
       "}}\n",
       "\n",
       "// Listen for the clearing of the current output cell\n",
       "var outputEl = gd.closest('.output');\n",
       "if (outputEl) {{\n",
       "    x.observe(outputEl, {childList: true});\n",
       "}}\n",
       "\n",
       "                        })                };                });            </script>        </div>"
      ]
     },
     "metadata": {},
     "output_type": "display_data"
    }
   ],
   "source": [
    "plot_radar(classes, [2019])"
   ]
  },
  {
   "cell_type": "code",
   "execution_count": null,
   "metadata": {},
   "outputs": [],
   "source": []
  }
 ],
 "metadata": {
  "kernelspec": {
   "display_name": "Python 3",
   "language": "python",
   "name": "python3"
  },
  "language_info": {
   "codemirror_mode": {
    "name": "ipython",
    "version": 3
   },
   "file_extension": ".py",
   "mimetype": "text/x-python",
   "name": "python",
   "nbconvert_exporter": "python",
   "pygments_lexer": "ipython3",
   "version": "3.8.5"
  },
  "toc": {
   "base_numbering": 1,
   "nav_menu": {
    "height": "272px",
    "width": "239px"
   },
   "number_sections": true,
   "sideBar": true,
   "skip_h1_title": false,
   "title_cell": "Table of Contents",
   "title_sidebar": "Contents",
   "toc_cell": false,
   "toc_position": {},
   "toc_section_display": true,
   "toc_window_display": false
  }
 },
 "nbformat": 4,
 "nbformat_minor": 4
}
